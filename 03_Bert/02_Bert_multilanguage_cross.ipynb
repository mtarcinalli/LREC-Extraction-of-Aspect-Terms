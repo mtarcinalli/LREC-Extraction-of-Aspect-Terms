{
 "cells": [
  {
   "cell_type": "markdown",
   "id": "74551cdf-c609-4925-aa6f-1104bb26cfec",
   "metadata": {},
   "source": [
    "# All Domains"
   ]
  },
  {
   "cell_type": "code",
   "execution_count": 1,
   "id": "03ac281d-591c-4307-8684-8e440541007f",
   "metadata": {},
   "outputs": [
    {
     "name": "stderr",
     "output_type": "stream",
     "text": [
      "2021-12-22 08:03:12.669131: W tensorflow/stream_executor/platform/default/dso_loader.cc:64] Could not load dynamic library 'libcudart.so.11.0'; dlerror: libcudart.so.11.0: cannot open shared object file: No such file or directory\n",
      "2021-12-22 08:03:12.669180: I tensorflow/stream_executor/cuda/cudart_stub.cc:29] Ignore above cudart dlerror if you do not have a GPU set up on your machine.\n"
     ]
    }
   ],
   "source": [
    "import pickle\n",
    "from collections import Counter\n",
    "import re\n",
    "import ipy_table\n",
    "import nltk\n",
    "import os\n",
    "import numpy as np\n",
    "import spacy\n",
    "import random\n",
    "from spacy.pipeline import Sentencizer\n",
    "import json\n",
    "#from matplotlib import pyplot\n",
    "import pandas as pd\n",
    "import xmltodict\n",
    "from dicttoxml import dicttoxml\n",
    "from xml.dom.minidom import parseString\n",
    "\n",
    "import warnings\n",
    "warnings.filterwarnings('ignore')"
   ]
  },
  {
   "cell_type": "code",
   "execution_count": 2,
   "id": "f1f6aa2d-ff47-4b59-bb45-a75b65a77853",
   "metadata": {},
   "outputs": [
    {
     "name": "stdout",
     "output_type": "stream",
     "text": [
      "Loading functions...\n"
     ]
    }
   ],
   "source": [
    "%run ../funcoes.py"
   ]
  },
  {
   "cell_type": "code",
   "execution_count": 3,
   "id": "13e45ec0-1752-4fd1-a17d-4f9b68632d4b",
   "metadata": {},
   "outputs": [
    {
     "name": "stdout",
     "output_type": "stream",
     "text": [
      "['sentencizer', 'tok2vec', 'morphologizer', 'parser', 'attribute_ruler', 'lemmatizer', 'ner']\n"
     ]
    }
   ],
   "source": [
    "# spacy model\n",
    "nlp = spacy.load(\"pt_core_news_lg\")\n",
    "\n",
    "sentencizer = nlp.create_pipe(\"sentencizer\")\n",
    "punct = [x for x in sentencizer.punct_chars]\n",
    "punct.append('...')\n",
    "punct.append('..')\n",
    "config = {\"punct_chars\": punct}\n",
    "\n",
    "#sentencizer = Sentencizer(punct_chars=punct)\n",
    "nlp.add_pipe(\"sentencizer\", first=True, config=config)\n",
    "\n",
    "print(nlp.pipe_names)"
   ]
  },
  {
   "cell_type": "code",
   "execution_count": 4,
   "id": "110cd9c8-a748-4570-baa8-8bf53fd4eef2",
   "metadata": {},
   "outputs": [],
   "source": [
    "# vargas datasets\n",
    "with open('../data/aspects_camera.dat', \"rb\") as f: implicitCamera = pickle.load(f)\n",
    "with open('../data/aspects_livro.dat', \"rb\") as f: implicitLivro = pickle.load(f)\n",
    "with open('../data/aspects_smartphone.dat', \"rb\") as f: implicitSmartphone = pickle.load(f)\n",
    "with open('../data/aspects_hotel.dat', \"rb\") as f: implicitHotel = pickle.load(f)"
   ]
  },
  {
   "cell_type": "code",
   "execution_count": 5,
   "id": "6c50d328-e0cb-4951-a938-f9341052f6c3",
   "metadata": {},
   "outputs": [],
   "source": [
    "vargasDatasets= {\n",
    "    'camera'     : implicitCamera,\n",
    "    'livro'      : implicitLivro,\n",
    "    'smartphone' : implicitSmartphone,\n",
    "    'hotel'      : implicitHotel\n",
    "}\n",
    "datasets = [ 'camera', 'livro', 'smartphone', 'hotel' ]"
   ]
  },
  {
   "cell_type": "code",
   "execution_count": 6,
   "id": "e60c9549-2501-4d08-aec2-fa60b4f96242",
   "metadata": {},
   "outputs": [],
   "source": [
    "f = open(\"../07_Keras/data/aspectsTest.xml\",\"r\")\n",
    "xml = f.read()\n",
    "aspectsTest = xmltodict.parse(xml, process_namespaces=True)"
   ]
  },
  {
   "cell_type": "code",
   "execution_count": 7,
   "id": "5bc2724d-8733-4305-9a29-eb892e018670",
   "metadata": {},
   "outputs": [],
   "source": [
    "tag_scheme = [\n",
    "'B-asp',\n",
    "'I-asp'\n",
    "]"
   ]
  },
  {
   "cell_type": "code",
   "execution_count": 8,
   "id": "c563cd5e-e245-499a-8e11-e1d9fa9f77de",
   "metadata": {},
   "outputs": [],
   "source": [
    "training = {'sentences': [], 'tags' : []}\n",
    "validation = {'sentences': [], 'tags' :[]}"
   ]
  },
  {
   "cell_type": "markdown",
   "id": "4959cf16-a749-4775-ac3f-14a7e46fff2e",
   "metadata": {},
   "source": [
    "## Cameras"
   ]
  },
  {
   "cell_type": "code",
   "execution_count": 9,
   "id": "e58a77b8-9d28-40e7-a109-0c350b0848a4",
   "metadata": {},
   "outputs": [],
   "source": [
    "dfCameraTest = pd.read_csv('../07_Keras/data/domain_camera_IOB_test.csv', sep='\\t', quoting=3, keep_default_na=False)\n",
    "dfCameraTrain = pd.read_csv('../07_Keras/data/domain_camera_IOB_train.csv', sep='\\t', quoting=3, keep_default_na=False)\n",
    "\n",
    "contSents = 0\n",
    "for count, row in dfCameraTrain.iterrows():\n",
    "    if (row[0] != \"\" and count > 0):\n",
    "        contSents = contSents + 1\n",
    "contSents = contSents + 1\n",
    "contTrain = round(contSents * 0.9)\n",
    "\n",
    "sent = []\n",
    "tags = []\n",
    "contSents = 0\n",
    "for count, row in dfCameraTrain.iterrows():\n",
    "    if (row[0] != \"\" and count > 0):\n",
    "        if contSents < contTrain:\n",
    "            training['sentences'].append(sent)\n",
    "            training['tags'].append(tags)\n",
    "        else:\n",
    "            validation['sentences'].append(sent)\n",
    "            validation['tags'].append(tags)\n",
    "        tags = []\n",
    "        sent = []\n",
    "        contSents = contSents + 1\n",
    "    sent.append(row['Word'].lower())\n",
    "    tags.append(row['Tag'])\n",
    "validation['sentences'].append(sent)\n",
    "validation['tags'].append(tags)\n",
    "sent = []\n",
    "tags = []\n",
    "\n",
    "cameraTest = {'sentences': [], 'tags' : []}\n",
    "contSents = 0\n",
    "for count, row in dfCameraTest.iterrows():\n",
    "    if (row[0] != \"\" and count > 0):\n",
    "        cameraTest['sentences'].append(sent)\n",
    "        cameraTest['tags'].append(tags)\n",
    "        tags = []\n",
    "        sent = []\n",
    "        contSents = contSents + 1\n",
    "    sent.append(row['Word'].lower())\n",
    "    tags.append(row['Tag'])\n",
    "cameraTest['sentences'].append(sent)\n",
    "cameraTest['tags'].append(tags)"
   ]
  },
  {
   "cell_type": "markdown",
   "id": "5f7adbd5-b31b-406a-a7dd-d21d76036095",
   "metadata": {},
   "source": [
    "## Livros"
   ]
  },
  {
   "cell_type": "code",
   "execution_count": 10,
   "id": "83bd474e-099e-4f84-a7c3-5c75be5b2eb2",
   "metadata": {},
   "outputs": [],
   "source": [
    "dfLivroTest = pd.read_csv('../07_Keras/data/domain_livro_IOB_test.csv', sep='\\t', quoting=3, keep_default_na=False)\n",
    "dfLivroTrain = pd.read_csv('../07_Keras/data/domain_livro_IOB_train.csv', sep='\\t', quoting=3, keep_default_na=False)\n",
    "\n",
    "contSents = 0\n",
    "for count, row in dfLivroTrain.iterrows():\n",
    "    if (row[0] != \"\" and count > 0):\n",
    "        contSents = contSents + 1\n",
    "contSents = contSents + 1\n",
    "\n",
    "contTrain = round(contSents * 0.9)\n",
    "\n",
    "sent = []\n",
    "tags = []\n",
    "contSents = 0\n",
    "for count, row in dfLivroTrain.iterrows():\n",
    "    if (row[0] != \"\" and count > 0):\n",
    "        if contSents < contTrain:\n",
    "            training['sentences'].append(sent)\n",
    "            training['tags'].append(tags)\n",
    "        else:\n",
    "            validation['sentences'].append(sent)\n",
    "            validation['tags'].append(tags)\n",
    "\n",
    "        tags = []\n",
    "        sent = []\n",
    "        contSents = contSents + 1\n",
    "    sent.append(row['Word'].lower())\n",
    "    tags.append(row['Tag'])\n",
    "        \n",
    "validation['sentences'].append(sent)\n",
    "validation['tags'].append(tags)\n",
    "\n",
    "livroTest = {'sentences': [], 'tags' : []}\n",
    "sent = []\n",
    "tags = []\n",
    "contSents = 0\n",
    "for count, row in dfLivroTest.iterrows():\n",
    "    if (row[0] != \"\" and count > 0):\n",
    "        livroTest['sentences'].append(sent)\n",
    "        livroTest['tags'].append(tags)\n",
    "        tags = []\n",
    "        sent = []\n",
    "        contSents = contSents + 1\n",
    "    sent.append(row['Word'].lower())\n",
    "    tags.append(row['Tag'])\n",
    "livroTest['sentences'].append(sent)\n",
    "livroTest['tags'].append(tags)"
   ]
  },
  {
   "cell_type": "markdown",
   "id": "42141b5d-7165-4ea1-871a-67eee11f53e1",
   "metadata": {},
   "source": [
    "## Smartphones"
   ]
  },
  {
   "cell_type": "code",
   "execution_count": 11,
   "id": "e5342b92-f075-4a05-91d0-8da865c488af",
   "metadata": {},
   "outputs": [],
   "source": [
    "dfSmartphoneTest = pd.read_csv('../07_Keras/data/domain_smartphone_IOB_test.csv', sep='\\t', quoting=3, keep_default_na=False)\n",
    "dfSmartphoneTrain = pd.read_csv('../07_Keras/data/domain_smartphone_IOB_train.csv', sep='\\t', quoting=3, keep_default_na=False)\n",
    "\n",
    "contSents = 0\n",
    "for count, row in dfSmartphoneTrain.iterrows():\n",
    "    if (row[0] != \"\" and count > 0):\n",
    "        contSents = contSents + 1\n",
    "contSents = contSents + 1\n",
    "\n",
    "contTrain = round(contSents * 0.9)\n",
    "\n",
    "sent = []\n",
    "tags = []\n",
    "contSents = 0\n",
    "for count, row in dfSmartphoneTrain.iterrows():\n",
    "    if (row[0] != \"\" and count > 0):\n",
    "        if contSents < contTrain:\n",
    "            training['sentences'].append(sent)\n",
    "            training['tags'].append(tags)\n",
    "        else:\n",
    "            validation['sentences'].append(sent)\n",
    "            validation['tags'].append(tags)\n",
    "\n",
    "        tags = []\n",
    "        sent = []\n",
    "        contSents = contSents + 1\n",
    "    sent.append(row['Word'].lower())\n",
    "    tags.append(row['Tag'])\n",
    "        \n",
    "validation['sentences'].append(sent)\n",
    "validation['tags'].append(tags)\n",
    "\n",
    "smartphoneTest = {'sentences': [], 'tags' : []}\n",
    "sent = []\n",
    "tags = []\n",
    "contSents = 0\n",
    "for count, row in dfSmartphoneTest.iterrows():\n",
    "    if (row[0] != \"\" and count > 0):\n",
    "        smartphoneTest['sentences'].append(sent)\n",
    "        smartphoneTest['tags'].append(tags)\n",
    "        tags = []\n",
    "        sent = []\n",
    "        contSents = contSents + 1\n",
    "    sent.append(row['Word'].lower())\n",
    "    tags.append(row['Tag'])\n",
    "smartphoneTest['sentences'].append(sent)\n",
    "smartphoneTest['tags'].append(tags)"
   ]
  },
  {
   "cell_type": "markdown",
   "id": "a3703ac0-0d62-467a-80f9-d69a7f7e1b04",
   "metadata": {},
   "source": [
    "### Hotel"
   ]
  },
  {
   "cell_type": "code",
   "execution_count": 12,
   "id": "2eef736c-60d3-49a9-8fb6-f57e59b727bb",
   "metadata": {},
   "outputs": [],
   "source": [
    "dfHotelTest = pd.read_csv('../07_Keras/data/domain_hotel_IOB_test.csv', sep='\\t', quoting=3, keep_default_na=False)\n",
    "dfHotelTrain = pd.read_csv('../07_Keras/data/domain_hotel_IOB_train.csv', sep='\\t', quoting=3, keep_default_na=False)\n",
    "\n",
    "contSents = 0\n",
    "for count, row in dfHotelTrain.iterrows():\n",
    "    if (row[0] != \"\" and count > 0):\n",
    "        contSents = contSents + 1\n",
    "contSents = contSents + 1\n",
    "\n",
    "contTrain = round(contSents * 0.9)\n",
    "\n",
    "sent = []\n",
    "tags = []\n",
    "contSents = 0\n",
    "for count, row in dfHotelTrain.iterrows():\n",
    "    if (row[0] != \"\" and count > 0):\n",
    "        if contSents < contTrain:\n",
    "            training['sentences'].append(sent)\n",
    "            training['tags'].append(tags)\n",
    "        else:\n",
    "            validation['sentences'].append(sent)\n",
    "            validation['tags'].append(tags)\n",
    "\n",
    "        tags = []\n",
    "        sent = []\n",
    "        contSents = contSents + 1\n",
    "    sent.append(row['Word'].lower())\n",
    "    tags.append(row['Tag'])\n",
    "        \n",
    "validation['sentences'].append(sent)\n",
    "validation['tags'].append(tags)\n",
    "\n",
    "hotelTest = {'sentences': [], 'tags' : []}\n",
    "sent = []\n",
    "tags = []\n",
    "contSents = 0\n",
    "for count, row in dfHotelTest.iterrows():\n",
    "    if (row[0] != \"\" and count > 0):\n",
    "        hotelTest['sentences'].append(sent)\n",
    "        hotelTest['tags'].append(tags)\n",
    "        tags = []\n",
    "        sent = []\n",
    "        contSents = contSents + 1\n",
    "    sent.append(row['Word'].lower())\n",
    "    tags.append(row['Tag'])\n",
    "hotelTest['sentences'].append(sent)\n",
    "hotelTest['tags'].append(tags)"
   ]
  },
  {
   "cell_type": "code",
   "execution_count": 13,
   "id": "27f1fffc-0e71-4393-9afc-5b73c772fe5a",
   "metadata": {},
   "outputs": [
    {
     "name": "stdout",
     "output_type": "stream",
     "text": [
      "1230\n",
      "136\n",
      "81\n",
      "88\n",
      "106\n"
     ]
    }
   ],
   "source": [
    "print(len(training['sentences']))\n",
    "print(len(validation['sentences']))\n",
    "\n",
    "print(len(cameraTest['sentences']))\n",
    "print(len(livroTest['sentences']))\n",
    "print(len(smartphoneTest['sentences']))"
   ]
  },
  {
   "cell_type": "markdown",
   "id": "9c6fc118-4438-4b26-adfa-05b5d0f8e0c8",
   "metadata": {},
   "source": [
    "## Bert Multilingual"
   ]
  },
  {
   "cell_type": "code",
   "execution_count": 14,
   "id": "46a13de3-2fe5-4a01-bda6-2e5d90e28f2e",
   "metadata": {},
   "outputs": [],
   "source": [
    "transformer = 'bert-base-multilingual-uncased'"
   ]
  },
  {
   "cell_type": "code",
   "execution_count": 15,
   "id": "828a7e96-65e6-4db7-bac2-95c2640abf52",
   "metadata": {},
   "outputs": [],
   "source": [
    "# hyperparameters for network\n",
    "dropout = 0.1\n",
    "# hyperparameters for training\n",
    "training_hyperparameters = {\n",
    "    'epochs' : 40,\n",
    "    'warmup_steps' : 500,                                                   \n",
    "    'train_batch_size': 13,\n",
    "    'learning_rate': 0.0001\n",
    "}"
   ]
  },
  {
   "cell_type": "code",
   "execution_count": 16,
   "id": "db747e8c-a023-4b24-9f5d-9f28fab8b5ad",
   "metadata": {},
   "outputs": [
    {
     "name": "stdout",
     "output_type": "stream",
     "text": [
      "Device automatically set to: cpu\n"
     ]
    },
    {
     "name": "stderr",
     "output_type": "stream",
     "text": [
      "Some weights of the model checkpoint at bert-base-multilingual-uncased were not used when initializing BertModel: ['cls.predictions.transform.dense.bias', 'cls.predictions.transform.LayerNorm.bias', 'cls.predictions.transform.LayerNorm.weight', 'cls.predictions.bias', 'cls.seq_relationship.bias', 'cls.seq_relationship.weight', 'cls.predictions.transform.dense.weight', 'cls.predictions.decoder.weight']\n",
      "- This IS expected if you are initializing BertModel from the checkpoint of a model trained on another task or with another architecture (e.g. initializing a BertForSequenceClassification model from a BertForPreTraining model).\n",
      "- This IS NOT expected if you are initializing BertModel from the checkpoint of a model that you expect to be exactly identical (initializing a BertForSequenceClassification model from a BertForSequenceClassification model).\n"
     ]
    }
   ],
   "source": [
    "from NERDA.models import NERDA\n",
    "model = NERDA(\n",
    "    dataset_training = training,\n",
    "    dataset_validation = validation,\n",
    "    tag_scheme = tag_scheme, \n",
    "    tag_outside = 'O',\n",
    "    transformer = transformer,\n",
    "    dropout = dropout,\n",
    "    hyperparameters = training_hyperparameters\n",
    ")"
   ]
  },
  {
   "cell_type": "code",
   "execution_count": 17,
   "id": "804d12a1-7dc0-402e-b7b1-277625126abb",
   "metadata": {},
   "outputs": [
    {
     "name": "stdout",
     "output_type": "stream",
     "text": [
      "\n",
      " Epoch 1 / 40\n"
     ]
    },
    {
     "name": "stderr",
     "output_type": "stream",
     "text": [
      "100%|████████████████████████████████████████████████████████████████████████████████████████████████████████████████████████████████████████████████████████████████████████████| 95/95 [14:56<00:00,  9.43s/it]\n",
      "100%|████████████████████████████████████████████████████████████████████████████████████████████████████████████████████████████████████████████████████████████████████████████| 17/17 [00:34<00:00,  2.02s/it]\n"
     ]
    },
    {
     "name": "stdout",
     "output_type": "stream",
     "text": [
      "Train Loss = 0.4432393990849194 Valid Loss = 0.21418272353270473\n",
      "\n",
      " Epoch 2 / 40\n"
     ]
    },
    {
     "name": "stderr",
     "output_type": "stream",
     "text": [
      "100%|████████████████████████████████████████████████████████████████████████████████████████████████████████████████████████████████████████████████████████████████████████████| 95/95 [14:54<00:00,  9.41s/it]\n",
      "100%|████████████████████████████████████████████████████████████████████████████████████████████████████████████████████████████████████████████████████████████████████████████| 17/17 [00:32<00:00,  1.93s/it]\n"
     ]
    },
    {
     "name": "stdout",
     "output_type": "stream",
     "text": [
      "Train Loss = 0.20866538874412838 Valid Loss = 0.19055270447450526\n",
      "\n",
      " Epoch 3 / 40\n"
     ]
    },
    {
     "name": "stderr",
     "output_type": "stream",
     "text": [
      "100%|████████████████████████████████████████████████████████████████████████████████████████████████████████████████████████████████████████████████████████████████████████████| 95/95 [14:58<00:00,  9.46s/it]\n",
      "100%|████████████████████████████████████████████████████████████████████████████████████████████████████████████████████████████████████████████████████████████████████████████| 17/17 [00:33<00:00,  1.95s/it]\n"
     ]
    },
    {
     "name": "stdout",
     "output_type": "stream",
     "text": [
      "Train Loss = 0.15229285220174413 Valid Loss = 0.18663001564495704\n",
      "\n",
      " Epoch 4 / 40\n"
     ]
    },
    {
     "name": "stderr",
     "output_type": "stream",
     "text": [
      "100%|████████████████████████████████████████████████████████████████████████████████████████████████████████████████████████████████████████████████████████████████████████████| 95/95 [14:05<00:00,  8.90s/it]\n",
      "100%|████████████████████████████████████████████████████████████████████████████████████████████████████████████████████████████████████████████████████████████████████████████| 17/17 [00:19<00:00,  1.15s/it]\n"
     ]
    },
    {
     "name": "stdout",
     "output_type": "stream",
     "text": [
      "Train Loss = 0.11321197456043018 Valid Loss = 0.19108905183041797\n",
      "\n",
      " Epoch 5 / 40\n"
     ]
    },
    {
     "name": "stderr",
     "output_type": "stream",
     "text": [
      "100%|████████████████████████████████████████████████████████████████████████████████████████████████████████████████████████████████████████████████████████████████████████████| 95/95 [07:55<00:00,  5.01s/it]\n",
      "100%|████████████████████████████████████████████████████████████████████████████████████████████████████████████████████████████████████████████████████████████████████████████| 17/17 [00:17<00:00,  1.00s/it]\n"
     ]
    },
    {
     "name": "stdout",
     "output_type": "stream",
     "text": [
      "Train Loss = 0.0921421603936898 Valid Loss = 0.2293789474403157\n",
      "\n",
      " Epoch 6 / 40\n"
     ]
    },
    {
     "name": "stderr",
     "output_type": "stream",
     "text": [
      "100%|████████████████████████████████████████████████████████████████████████████████████████████████████████████████████████████████████████████████████████████████████████████| 95/95 [07:55<00:00,  5.01s/it]\n",
      "100%|████████████████████████████████████████████████████████████████████████████████████████████████████████████████████████████████████████████████████████████████████████████| 17/17 [00:17<00:00,  1.01s/it]\n"
     ]
    },
    {
     "name": "stdout",
     "output_type": "stream",
     "text": [
      "Train Loss = 0.07015759145939036 Valid Loss = 0.22420061467324987\n",
      "\n",
      " Epoch 7 / 40\n"
     ]
    },
    {
     "name": "stderr",
     "output_type": "stream",
     "text": [
      "100%|████████████████████████████████████████████████████████████████████████████████████████████████████████████████████████████████████████████████████████████████████████████| 95/95 [07:58<00:00,  5.03s/it]\n",
      "100%|████████████████████████████████████████████████████████████████████████████████████████████████████████████████████████████████████████████████████████████████████████████| 17/17 [00:19<00:00,  1.15s/it]\n"
     ]
    },
    {
     "name": "stdout",
     "output_type": "stream",
     "text": [
      "Train Loss = 0.06110083297091095 Valid Loss = 0.19389064434696646\n",
      "\n",
      " Epoch 8 / 40\n"
     ]
    },
    {
     "name": "stderr",
     "output_type": "stream",
     "text": [
      "100%|████████████████████████████████████████████████████████████████████████████████████████████████████████████████████████████████████████████████████████████████████████████| 95/95 [07:57<00:00,  5.02s/it]\n",
      "100%|████████████████████████████████████████████████████████████████████████████████████████████████████████████████████████████████████████████████████████████████████████████| 17/17 [00:19<00:00,  1.12s/it]\n"
     ]
    },
    {
     "name": "stdout",
     "output_type": "stream",
     "text": [
      "Train Loss = 0.05187257550607779 Valid Loss = 0.22172387294909535\n",
      "\n",
      " Epoch 9 / 40\n"
     ]
    },
    {
     "name": "stderr",
     "output_type": "stream",
     "text": [
      "100%|████████████████████████████████████████████████████████████████████████████████████████████████████████████████████████████████████████████████████████████████████████████| 95/95 [07:55<00:00,  5.01s/it]\n",
      "100%|████████████████████████████████████████████████████████████████████████████████████████████████████████████████████████████████████████████████████████████████████████████| 17/17 [00:17<00:00,  1.02s/it]\n"
     ]
    },
    {
     "name": "stdout",
     "output_type": "stream",
     "text": [
      "Train Loss = 0.0374735912914682 Valid Loss = 0.21110100627822034\n",
      "\n",
      " Epoch 10 / 40\n"
     ]
    },
    {
     "name": "stderr",
     "output_type": "stream",
     "text": [
      "100%|████████████████████████████████████████████████████████████████████████████████████████████████████████████████████████████████████████████████████████████████████████████| 95/95 [07:55<00:00,  5.00s/it]\n",
      "100%|████████████████████████████████████████████████████████████████████████████████████████████████████████████████████████████████████████████████████████████████████████████| 17/17 [00:19<00:00,  1.14s/it]\n"
     ]
    },
    {
     "name": "stdout",
     "output_type": "stream",
     "text": [
      "Train Loss = 0.0259559835552385 Valid Loss = 0.2565502669004833\n",
      "\n",
      " Epoch 11 / 40\n"
     ]
    },
    {
     "name": "stderr",
     "output_type": "stream",
     "text": [
      "100%|████████████████████████████████████████████████████████████████████████████████████████████████████████████████████████████████████████████████████████████████████████████| 95/95 [07:54<00:00,  4.99s/it]\n",
      "100%|████████████████████████████████████████████████████████████████████████████████████████████████████████████████████████████████████████████████████████████████████████████| 17/17 [00:17<00:00,  1.04s/it]\n"
     ]
    },
    {
     "name": "stdout",
     "output_type": "stream",
     "text": [
      "Train Loss = 0.02470308291897374 Valid Loss = 0.23875375596039436\n",
      "\n",
      " Epoch 12 / 40\n"
     ]
    },
    {
     "name": "stderr",
     "output_type": "stream",
     "text": [
      "100%|████████████████████████████████████████████████████████████████████████████████████████████████████████████████████████████████████████████████████████████████████████████| 95/95 [22:21<00:00, 14.12s/it]\n",
      "100%|████████████████████████████████████████████████████████████████████████████████████████████████████████████████████████████████████████████████████████████████████████████| 17/17 [01:01<00:00,  3.61s/it]\n"
     ]
    },
    {
     "name": "stdout",
     "output_type": "stream",
     "text": [
      "Train Loss = 0.020996586394214416 Valid Loss = 0.23262579125516555\n",
      "\n",
      " Epoch 13 / 40\n"
     ]
    },
    {
     "name": "stderr",
     "output_type": "stream",
     "text": [
      "100%|████████████████████████████████████████████████████████████████████████████████████████████████████████████████████████████████████████████████████████████████████████████| 95/95 [26:12<00:00, 16.55s/it]\n",
      "100%|████████████████████████████████████████████████████████████████████████████████████████████████████████████████████████████████████████████████████████████████████████████| 17/17 [01:05<00:00,  3.88s/it]\n"
     ]
    },
    {
     "name": "stdout",
     "output_type": "stream",
     "text": [
      "Train Loss = 0.013651739994958534 Valid Loss = 0.2669700171579333\n",
      "\n",
      " Epoch 14 / 40\n"
     ]
    },
    {
     "name": "stderr",
     "output_type": "stream",
     "text": [
      "100%|████████████████████████████████████████████████████████████████████████████████████████████████████████████████████████████████████████████████████████████████████████████| 95/95 [26:10<00:00, 16.53s/it]\n",
      "100%|████████████████████████████████████████████████████████████████████████████████████████████████████████████████████████████████████████████████████████████████████████████| 17/17 [01:02<00:00,  3.65s/it]\n"
     ]
    },
    {
     "name": "stdout",
     "output_type": "stream",
     "text": [
      "Train Loss = 0.01047260532504879 Valid Loss = 0.3301173492389567\n",
      "\n",
      " Epoch 15 / 40\n"
     ]
    },
    {
     "name": "stderr",
     "output_type": "stream",
     "text": [
      "100%|████████████████████████████████████████████████████████████████████████████████████████████████████████████████████████████████████████████████████████████████████████████| 95/95 [26:10<00:00, 16.53s/it]\n",
      "100%|████████████████████████████████████████████████████████████████████████████████████████████████████████████████████████████████████████████████████████████████████████████| 17/17 [01:03<00:00,  3.74s/it]\n"
     ]
    },
    {
     "name": "stdout",
     "output_type": "stream",
     "text": [
      "Train Loss = 0.01579797933809459 Valid Loss = 0.29920272923567715\n",
      "\n",
      " Epoch 16 / 40\n"
     ]
    },
    {
     "name": "stderr",
     "output_type": "stream",
     "text": [
      "100%|████████████████████████████████████████████████████████████████████████████████████████████████████████████████████████████████████████████████████████████████████████████| 95/95 [29:18<00:00, 18.51s/it]\n",
      "100%|████████████████████████████████████████████████████████████████████████████████████████████████████████████████████████████████████████████████████████████████████████████| 17/17 [02:03<00:00,  7.25s/it]\n"
     ]
    },
    {
     "name": "stdout",
     "output_type": "stream",
     "text": [
      "Train Loss = 0.010503062430315797 Valid Loss = 0.32636070733561234\n",
      "\n",
      " Epoch 17 / 40\n"
     ]
    },
    {
     "name": "stderr",
     "output_type": "stream",
     "text": [
      "100%|████████████████████████████████████████████████████████████████████████████████████████████████████████████████████████████████████████████████████████████████████████████| 95/95 [26:12<00:00, 16.55s/it]\n",
      "100%|████████████████████████████████████████████████████████████████████████████████████████████████████████████████████████████████████████████████████████████████████████████| 17/17 [01:01<00:00,  3.61s/it]\n"
     ]
    },
    {
     "name": "stdout",
     "output_type": "stream",
     "text": [
      "Train Loss = 0.006107698848906071 Valid Loss = 0.3431854357614237\n",
      "\n",
      " Epoch 18 / 40\n"
     ]
    },
    {
     "name": "stderr",
     "output_type": "stream",
     "text": [
      "100%|████████████████████████████████████████████████████████████████████████████████████████████████████████████████████████████████████████████████████████████████████████████| 95/95 [26:15<00:00, 16.58s/it]\n",
      "100%|████████████████████████████████████████████████████████████████████████████████████████████████████████████████████████████████████████████████████████████████████████████| 17/17 [01:02<00:00,  3.67s/it]\n"
     ]
    },
    {
     "name": "stdout",
     "output_type": "stream",
     "text": [
      "Train Loss = 0.004602498377177031 Valid Loss = 0.3395439469638993\n",
      "\n",
      " Epoch 19 / 40\n"
     ]
    },
    {
     "name": "stderr",
     "output_type": "stream",
     "text": [
      "100%|████████████████████████████████████████████████████████████████████████████████████████████████████████████████████████████████████████████████████████████████████████████| 95/95 [17:56<00:00, 11.33s/it]\n",
      "100%|████████████████████████████████████████████████████████████████████████████████████████████████████████████████████████████████████████████████████████████████████████████| 17/17 [00:33<00:00,  1.97s/it]\n"
     ]
    },
    {
     "name": "stdout",
     "output_type": "stream",
     "text": [
      "Train Loss = 0.002724541542288774 Valid Loss = 0.34519365868147683\n",
      "\n",
      " Epoch 20 / 40\n"
     ]
    },
    {
     "name": "stderr",
     "output_type": "stream",
     "text": [
      "100%|████████████████████████████████████████████████████████████████████████████████████████████████████████████████████████████████████████████████████████████████████████████| 95/95 [15:09<00:00,  9.57s/it]\n",
      "100%|████████████████████████████████████████████████████████████████████████████████████████████████████████████████████████████████████████████████████████████████████████████| 17/17 [00:32<00:00,  1.93s/it]\n"
     ]
    },
    {
     "name": "stdout",
     "output_type": "stream",
     "text": [
      "Train Loss = 0.005791105045347266 Valid Loss = 0.30509781048578377\n",
      "\n",
      " Epoch 21 / 40\n"
     ]
    },
    {
     "name": "stderr",
     "output_type": "stream",
     "text": [
      "100%|████████████████████████████████████████████████████████████████████████████████████████████████████████████████████████████████████████████████████████████████████████████| 95/95 [15:07<00:00,  9.55s/it]\n",
      "100%|████████████████████████████████████████████████████████████████████████████████████████████████████████████████████████████████████████████████████████████████████████████| 17/17 [00:32<00:00,  1.93s/it]\n"
     ]
    },
    {
     "name": "stdout",
     "output_type": "stream",
     "text": [
      "Train Loss = 0.004961797878250332 Valid Loss = 0.33524860836127224\n",
      "\n",
      " Epoch 22 / 40\n"
     ]
    },
    {
     "name": "stderr",
     "output_type": "stream",
     "text": [
      "100%|████████████████████████████████████████████████████████████████████████████████████████████████████████████████████████████████████████████████████████████████████████████| 95/95 [15:06<00:00,  9.54s/it]\n",
      "100%|████████████████████████████████████████████████████████████████████████████████████████████████████████████████████████████████████████████████████████████████████████████| 17/17 [00:32<00:00,  1.94s/it]\n"
     ]
    },
    {
     "name": "stdout",
     "output_type": "stream",
     "text": [
      "Train Loss = 0.001460157818272771 Valid Loss = 0.33836422816795464\n",
      "\n",
      " Epoch 23 / 40\n"
     ]
    },
    {
     "name": "stderr",
     "output_type": "stream",
     "text": [
      "100%|████████████████████████████████████████████████████████████████████████████████████████████████████████████████████████████████████████████████████████████████████████████| 95/95 [15:11<00:00,  9.59s/it]\n",
      "100%|████████████████████████████████████████████████████████████████████████████████████████████████████████████████████████████████████████████████████████████████████████████| 17/17 [00:33<00:00,  1.96s/it]\n"
     ]
    },
    {
     "name": "stdout",
     "output_type": "stream",
     "text": [
      "Train Loss = 0.0018342962593459035 Valid Loss = 0.3582458106033942\n",
      "\n",
      " Epoch 24 / 40\n"
     ]
    },
    {
     "name": "stderr",
     "output_type": "stream",
     "text": [
      "100%|████████████████████████████████████████████████████████████████████████████████████████████████████████████████████████████████████████████████████████████████████████████| 95/95 [28:35<00:00, 18.06s/it]\n",
      "100%|████████████████████████████████████████████████████████████████████████████████████████████████████████████████████████████████████████████████████████████████████████████| 17/17 [01:18<00:00,  4.61s/it]\n"
     ]
    },
    {
     "name": "stdout",
     "output_type": "stream",
     "text": [
      "Train Loss = 0.0011903109419539473 Valid Loss = 0.33655793263631706\n",
      "\n",
      " Epoch 25 / 40\n"
     ]
    },
    {
     "name": "stderr",
     "output_type": "stream",
     "text": [
      "100%|████████████████████████████████████████████████████████████████████████████████████████████████████████████████████████████████████████████████████████████████████████████| 95/95 [15:10<00:00,  9.58s/it]\n",
      "100%|████████████████████████████████████████████████████████████████████████████████████████████████████████████████████████████████████████████████████████████████████████████| 17/17 [00:32<00:00,  1.94s/it]\n"
     ]
    },
    {
     "name": "stdout",
     "output_type": "stream",
     "text": [
      "Train Loss = 0.0006460282319350976 Valid Loss = 0.34561216612072554\n",
      "\n",
      " Epoch 26 / 40\n"
     ]
    },
    {
     "name": "stderr",
     "output_type": "stream",
     "text": [
      "100%|████████████████████████████████████████████████████████████████████████████████████████████████████████████████████████████████████████████████████████████████████████████| 95/95 [33:15<00:00, 21.01s/it]\n",
      "100%|████████████████████████████████████████████████████████████████████████████████████████████████████████████████████████████████████████████████████████████████████████████| 17/17 [02:34<00:00,  9.11s/it]\n"
     ]
    },
    {
     "name": "stdout",
     "output_type": "stream",
     "text": [
      "Train Loss = 0.0005707019650895075 Valid Loss = 0.3566707679454018\n",
      "\n",
      " Epoch 27 / 40\n"
     ]
    },
    {
     "name": "stderr",
     "output_type": "stream",
     "text": [
      "100%|████████████████████████████████████████████████████████████████████████████████████████████████████████████████████████████████████████████████████████████████████████████| 95/95 [49:18<00:00, 31.14s/it]\n",
      "100%|████████████████████████████████████████████████████████████████████████████████████████████████████████████████████████████████████████████████████████████████████████████| 17/17 [00:42<00:00,  2.49s/it]\n"
     ]
    },
    {
     "name": "stdout",
     "output_type": "stream",
     "text": [
      "Train Loss = 0.00028708341598853863 Valid Loss = 0.3643161343301044\n",
      "\n",
      " Epoch 28 / 40\n"
     ]
    },
    {
     "name": "stderr",
     "output_type": "stream",
     "text": [
      "100%|████████████████████████████████████████████████████████████████████████████████████████████████████████████████████████████████████████████████████████████████████████████| 95/95 [16:13<00:00, 10.25s/it]\n",
      "100%|████████████████████████████████████████████████████████████████████████████████████████████████████████████████████████████████████████████████████████████████████████████| 17/17 [00:33<00:00,  1.95s/it]\n"
     ]
    },
    {
     "name": "stdout",
     "output_type": "stream",
     "text": [
      "Train Loss = 0.0008785029871145717 Valid Loss = 0.34482256805195527\n",
      "\n",
      " Epoch 29 / 40\n"
     ]
    },
    {
     "name": "stderr",
     "output_type": "stream",
     "text": [
      "100%|████████████████████████████████████████████████████████████████████████████████████████████████████████████████████████████████████████████████████████████████████████████| 95/95 [15:08<00:00,  9.56s/it]\n",
      "100%|████████████████████████████████████████████████████████████████████████████████████████████████████████████████████████████████████████████████████████████████████████████| 17/17 [00:32<00:00,  1.93s/it]\n"
     ]
    },
    {
     "name": "stdout",
     "output_type": "stream",
     "text": [
      "Train Loss = 0.0004809618143841171 Valid Loss = 0.3628420816624866\n",
      "\n",
      " Epoch 30 / 40\n"
     ]
    },
    {
     "name": "stderr",
     "output_type": "stream",
     "text": [
      "100%|████████████████████████████████████████████████████████████████████████████████████████████████████████████████████████████████████████████████████████████████████████████| 95/95 [15:07<00:00,  9.55s/it]\n",
      "100%|████████████████████████████████████████████████████████████████████████████████████████████████████████████████████████████████████████████████████████████████████████████| 17/17 [00:34<00:00,  2.05s/it]\n"
     ]
    },
    {
     "name": "stdout",
     "output_type": "stream",
     "text": [
      "Train Loss = 0.0006397882112651132 Valid Loss = 0.37424739581697125\n",
      "\n",
      " Epoch 31 / 40\n"
     ]
    },
    {
     "name": "stderr",
     "output_type": "stream",
     "text": [
      "100%|████████████████████████████████████████████████████████████████████████████████████████████████████████████████████████████████████████████████████████████████████████████| 95/95 [10:36<00:00,  6.70s/it]\n",
      "100%|████████████████████████████████████████████████████████████████████████████████████████████████████████████████████████████████████████████████████████████████████████████| 17/17 [00:17<00:00,  1.04s/it]\n"
     ]
    },
    {
     "name": "stdout",
     "output_type": "stream",
     "text": [
      "Train Loss = 0.0004281730774221758 Valid Loss = 0.37082305550575256\n",
      "\n",
      " Epoch 32 / 40\n"
     ]
    },
    {
     "name": "stderr",
     "output_type": "stream",
     "text": [
      "100%|████████████████████████████████████████████████████████████████████████████████████████████████████████████████████████████████████████████████████████████████████████████| 95/95 [07:51<00:00,  4.96s/it]\n",
      "100%|████████████████████████████████████████████████████████████████████████████████████████████████████████████████████████████████████████████████████████████████████████████| 17/17 [00:17<00:00,  1.02s/it]\n"
     ]
    },
    {
     "name": "stdout",
     "output_type": "stream",
     "text": [
      "Train Loss = 0.00018938108909136836 Valid Loss = 0.37863000964417176\n",
      "\n",
      " Epoch 33 / 40\n"
     ]
    },
    {
     "name": "stderr",
     "output_type": "stream",
     "text": [
      "100%|████████████████████████████████████████████████████████████████████████████████████████████████████████████████████████████████████████████████████████████████████████████| 95/95 [07:53<00:00,  4.99s/it]\n",
      "100%|████████████████████████████████████████████████████████████████████████████████████████████████████████████████████████████████████████████████████████████████████████████| 17/17 [00:17<00:00,  1.01s/it]\n"
     ]
    },
    {
     "name": "stdout",
     "output_type": "stream",
     "text": [
      "Train Loss = 0.0007282974255710877 Valid Loss = 0.3832048699259758\n",
      "\n",
      " Epoch 34 / 40\n"
     ]
    },
    {
     "name": "stderr",
     "output_type": "stream",
     "text": [
      "100%|████████████████████████████████████████████████████████████████████████████████████████████████████████████████████████████████████████████████████████████████████████████| 95/95 [07:54<00:00,  4.99s/it]\n",
      "100%|████████████████████████████████████████████████████████████████████████████████████████████████████████████████████████████████████████████████████████████████████████████| 17/17 [00:16<00:00,  1.00it/s]\n"
     ]
    },
    {
     "name": "stdout",
     "output_type": "stream",
     "text": [
      "Train Loss = 0.0009780437583877324 Valid Loss = 0.4192505180835724\n",
      "\n",
      " Epoch 35 / 40\n"
     ]
    },
    {
     "name": "stderr",
     "output_type": "stream",
     "text": [
      "100%|████████████████████████████████████████████████████████████████████████████████████████████████████████████████████████████████████████████████████████████████████████████| 95/95 [07:53<00:00,  4.98s/it]\n",
      "100%|████████████████████████████████████████████████████████████████████████████████████████████████████████████████████████████████████████████████████████████████████████████| 17/17 [00:17<00:00,  1.00s/it]\n"
     ]
    },
    {
     "name": "stdout",
     "output_type": "stream",
     "text": [
      "Train Loss = 0.0004825128764327689 Valid Loss = 0.4119483688298394\n",
      "\n",
      " Epoch 36 / 40\n"
     ]
    },
    {
     "name": "stderr",
     "output_type": "stream",
     "text": [
      "100%|████████████████████████████████████████████████████████████████████████████████████████████████████████████████████████████████████████████████████████████████████████████| 95/95 [07:53<00:00,  4.99s/it]\n",
      "100%|████████████████████████████████████████████████████████████████████████████████████████████████████████████████████████████████████████████████████████████████████████████| 17/17 [00:16<00:00,  1.00it/s]\n"
     ]
    },
    {
     "name": "stdout",
     "output_type": "stream",
     "text": [
      "Train Loss = 0.00037253270968090206 Valid Loss = 0.4159224633784855\n",
      "\n",
      " Epoch 37 / 40\n"
     ]
    },
    {
     "name": "stderr",
     "output_type": "stream",
     "text": [
      "100%|████████████████████████████████████████████████████████████████████████████████████████████████████████████████████████████████████████████████████████████████████████████| 95/95 [07:51<00:00,  4.96s/it]\n",
      "100%|████████████████████████████████████████████████████████████████████████████████████████████████████████████████████████████████████████████████████████████████████████████| 17/17 [00:19<00:00,  1.14s/it]\n"
     ]
    },
    {
     "name": "stdout",
     "output_type": "stream",
     "text": [
      "Train Loss = 0.0002944965524396761 Valid Loss = 0.41657058324883967\n",
      "\n",
      " Epoch 38 / 40\n"
     ]
    },
    {
     "name": "stderr",
     "output_type": "stream",
     "text": [
      "100%|████████████████████████████████████████████████████████████████████████████████████████████████████████████████████████████████████████████████████████████████████████████| 95/95 [07:51<00:00,  4.96s/it]\n",
      "100%|████████████████████████████████████████████████████████████████████████████████████████████████████████████████████████████████████████████████████████████████████████████| 17/17 [00:17<00:00,  1.03s/it]\n"
     ]
    },
    {
     "name": "stdout",
     "output_type": "stream",
     "text": [
      "Train Loss = 0.00020965659955675763 Valid Loss = 0.42024434883804884\n",
      "\n",
      " Epoch 39 / 40\n"
     ]
    },
    {
     "name": "stderr",
     "output_type": "stream",
     "text": [
      "100%|████████████████████████████████████████████████████████████████████████████████████████████████████████████████████████████████████████████████████████████████████████████| 95/95 [07:55<00:00,  5.01s/it]\n",
      "100%|████████████████████████████████████████████████████████████████████████████████████████████████████████████████████████████████████████████████████████████████████████████| 17/17 [00:17<00:00,  1.02s/it]\n"
     ]
    },
    {
     "name": "stdout",
     "output_type": "stream",
     "text": [
      "Train Loss = 0.0002420224409051068 Valid Loss = 0.42158754695864287\n",
      "\n",
      " Epoch 40 / 40\n"
     ]
    },
    {
     "name": "stderr",
     "output_type": "stream",
     "text": [
      "100%|████████████████████████████████████████████████████████████████████████████████████████████████████████████████████████████████████████████████████████████████████████████| 95/95 [07:51<00:00,  4.96s/it]\n",
      "100%|████████████████████████████████████████████████████████████████████████████████████████████████████████████████████████████████████████████████████████████████████████████| 17/17 [00:16<00:00,  1.00it/s]"
     ]
    },
    {
     "name": "stdout",
     "output_type": "stream",
     "text": [
      "Train Loss = 0.000328079792521557 Valid Loss = 0.4218040836208007\n",
      "CPU times: user 2d 19h 30min 7s, sys: 32min 27s, total: 2d 20h 2min 35s\n",
      "Wall time: 10h 54min 56s\n"
     ]
    },
    {
     "name": "stderr",
     "output_type": "stream",
     "text": [
      "\n"
     ]
    },
    {
     "data": {
      "text/plain": [
       "'Model trained successfully'"
      ]
     },
     "execution_count": 17,
     "metadata": {},
     "output_type": "execute_result"
    }
   ],
   "source": [
    "%%time\n",
    "model.train()"
   ]
  },
  {
   "cell_type": "code",
   "execution_count": null,
   "id": "0886270d-d454-4d01-92c2-4051dba2a564",
   "metadata": {},
   "outputs": [],
   "source": []
  },
  {
   "cell_type": "code",
   "execution_count": 18,
   "id": "3982d96c-cfe6-4bd4-a52f-5aa74006d485",
   "metadata": {},
   "outputs": [],
   "source": [
    "def result2aspecList(y_pred, X_test):\n",
    "    aspectsList = []\n",
    "    aspect = []\n",
    "    stopwords = nltk.corpus.stopwords.words('portuguese')\n",
    "    for sent, sent_pred in zip(X_test, y_pred):\n",
    "        #print(len(sent),len(sent_pred))\n",
    "        for token, tag in zip(sent, sent_pred):\n",
    "            if tag != 'O':\n",
    "                #print(tag, token)\n",
    "                #print(tag, token['word.lower()'])\n",
    "                if tag == 'B-asp' and aspect:\n",
    "                    auxAspect = \" \".join(aspect).lower()\n",
    "                    if (auxAspect not in stopwords and len(auxAspect) > 1):\n",
    "                        aspectsList.append(auxAspect)\n",
    "                    aspect = []\n",
    "                if token not in [',',':']:\n",
    "                    aspect.append(token.lower())\n",
    "\n",
    "    aspectsList = list(set(aspectsList))\n",
    "    aspectsList.sort()    \n",
    "    return aspectsList"
   ]
  },
  {
   "cell_type": "code",
   "execution_count": null,
   "id": "fe1ca226-346f-4c8d-9893-fb00e16c1f28",
   "metadata": {},
   "outputs": [],
   "source": []
  },
  {
   "cell_type": "markdown",
   "id": "20f18cf9-a39b-4bb7-87b1-3a178d361f64",
   "metadata": {},
   "source": [
    "### Cameras"
   ]
  },
  {
   "cell_type": "code",
   "execution_count": 19,
   "id": "a178934e-103c-45c4-8c1f-005781d41501",
   "metadata": {},
   "outputs": [],
   "source": [
    "# carregando tipos\n",
    "domain = \"camera\"\n",
    "tiposAll = pd.read_csv('../data/tipologia/categorias_iacs.csv', sep=',', quoting=0, keep_default_na=False)\n",
    "tipos = tiposAll.loc[tiposAll['domain'] == domain]"
   ]
  },
  {
   "cell_type": "code",
   "execution_count": 20,
   "id": "78581200-2995-426c-9ead-d2170d23d4e6",
   "metadata": {},
   "outputs": [
    {
     "data": {
      "text/html": [
       "<div>\n",
       "<style scoped>\n",
       "    .dataframe tbody tr th:only-of-type {\n",
       "        vertical-align: middle;\n",
       "    }\n",
       "\n",
       "    .dataframe tbody tr th {\n",
       "        vertical-align: top;\n",
       "    }\n",
       "\n",
       "    .dataframe thead th {\n",
       "        text-align: right;\n",
       "    }\n",
       "</style>\n",
       "<table border=\"1\" class=\"dataframe\">\n",
       "  <thead>\n",
       "    <tr style=\"text-align: right;\">\n",
       "      <th></th>\n",
       "      <th>Level</th>\n",
       "      <th>F1-Score</th>\n",
       "      <th>Precision</th>\n",
       "      <th>Recall</th>\n",
       "    </tr>\n",
       "  </thead>\n",
       "  <tbody>\n",
       "    <tr>\n",
       "      <th>0</th>\n",
       "      <td>B-asp</td>\n",
       "      <td>0.385417</td>\n",
       "      <td>0.359223</td>\n",
       "      <td>0.415730</td>\n",
       "    </tr>\n",
       "    <tr>\n",
       "      <th>1</th>\n",
       "      <td>I-asp</td>\n",
       "      <td>0.117647</td>\n",
       "      <td>0.153846</td>\n",
       "      <td>0.095238</td>\n",
       "    </tr>\n",
       "    <tr>\n",
       "      <th>0</th>\n",
       "      <td>AVG_MICRO</td>\n",
       "      <td>0.315385</td>\n",
       "      <td>NaN</td>\n",
       "      <td>NaN</td>\n",
       "    </tr>\n",
       "    <tr>\n",
       "      <th>0</th>\n",
       "      <td>AVG_MICRO</td>\n",
       "      <td>0.251532</td>\n",
       "      <td>NaN</td>\n",
       "      <td>NaN</td>\n",
       "    </tr>\n",
       "  </tbody>\n",
       "</table>\n",
       "</div>"
      ],
      "text/plain": [
       "       Level  F1-Score  Precision    Recall\n",
       "0      B-asp  0.385417   0.359223  0.415730\n",
       "1      I-asp  0.117647   0.153846  0.095238\n",
       "0  AVG_MICRO  0.315385        NaN       NaN\n",
       "0  AVG_MICRO  0.251532        NaN       NaN"
      ]
     },
     "execution_count": 20,
     "metadata": {},
     "output_type": "execute_result"
    }
   ],
   "source": [
    "model.evaluate_performance(cameraTest)"
   ]
  },
  {
   "cell_type": "code",
   "execution_count": 21,
   "id": "66c8032a-5b28-42e3-88bc-5e92614473eb",
   "metadata": {},
   "outputs": [],
   "source": [
    "y_pred = model.predict(cameraTest['sentences'])"
   ]
  },
  {
   "cell_type": "code",
   "execution_count": 22,
   "id": "a6ad15a4-8053-4ca6-b61b-31bd49649466",
   "metadata": {},
   "outputs": [
    {
     "data": {
      "text/plain": [
       "{'totalAspects': 104,\n",
       " 'pred': 58,\n",
       " 'tp': 50,\n",
       " 'fp': 36,\n",
       " 'fn': 54,\n",
       " 'precisao': 0.5813953488372093,\n",
       " 'precisaoLaplace': 0.5795454545454546,\n",
       " 'revocacao': 0.4807692307692308,\n",
       " 'medidaf': 0.5263157894736843,\n",
       " 'totalExplicitos': 91,\n",
       " 'explicitosOk': 21,\n",
       " 'pExplicitos': 0.23076923076923078,\n",
       " 'explicitsList': ['recursos',\n",
       "  'produto',\n",
       "  'resolução',\n",
       "  'visor',\n",
       "  'funções',\n",
       "  'fotografia',\n",
       "  'tela',\n",
       "  'câmera',\n",
       "  'praticidade',\n",
       "  'preço',\n",
       "  'investimento',\n",
       "  'menu',\n",
       "  'zoom',\n",
       "  'imagens',\n",
       "  'bateria',\n",
       "  'flash',\n",
       "  'máquina',\n",
       "  'cartão de memória',\n",
       "  'fotos',\n",
       "  'manuseio',\n",
       "  'foco'],\n",
       " 'totalImplicitos': 13,\n",
       " 'implicitosOk': 1,\n",
       " 'pImplicitos': 0.07692307692307693,\n",
       " 'implicitsList': ['compacta'],\n",
       " 'tipos': {'Qualification': {'Adjective': 4}}}"
      ]
     },
     "execution_count": 22,
     "metadata": {},
     "output_type": "execute_result"
    }
   ],
   "source": [
    "aspectsCamera = result2aspecList(y_pred, cameraTest['sentences'])\n",
    "resCamera = calculaMetricas(\n",
    "    aspectsCamera, \n",
    "    aspectsTest['datasets']['camera'], \n",
    "    tipos,\n",
    "    lemma=False, \n",
    "    output=False)\n",
    "resCamera"
   ]
  },
  {
   "cell_type": "code",
   "execution_count": 23,
   "id": "d92c606e-f3de-45f7-aaaa-63d89937b4b3",
   "metadata": {},
   "outputs": [],
   "source": [
    "xml = dicttoxml(resCamera, attr_type=False, custom_root='resultados')\n",
    "with open('../resultados/bert_multi_alldomain_'+domain+'.xml', 'w') as file:\n",
    "    dom = parseString(xml)\n",
    "    file.write(dom.toprettyxml())    "
   ]
  },
  {
   "cell_type": "markdown",
   "id": "106cf519-8722-4918-a8a5-adad84a890b1",
   "metadata": {},
   "source": [
    "## Livros"
   ]
  },
  {
   "cell_type": "code",
   "execution_count": 24,
   "id": "ed0b7ce5-5dc7-4294-9264-98a29e2861ec",
   "metadata": {},
   "outputs": [],
   "source": [
    "# carregando tipos\n",
    "domain = \"livro\"\n",
    "tiposAll = pd.read_csv('../data/tipologia/categorias_iacs.csv', sep=',', quoting=0, keep_default_na=False)\n",
    "tipos = tiposAll.loc[tiposAll['domain'] == domain]"
   ]
  },
  {
   "cell_type": "code",
   "execution_count": 25,
   "id": "4f994c97-0ce1-4471-bc0e-d32849beff6e",
   "metadata": {},
   "outputs": [
    {
     "data": {
      "text/html": [
       "<div>\n",
       "<style scoped>\n",
       "    .dataframe tbody tr th:only-of-type {\n",
       "        vertical-align: middle;\n",
       "    }\n",
       "\n",
       "    .dataframe tbody tr th {\n",
       "        vertical-align: top;\n",
       "    }\n",
       "\n",
       "    .dataframe thead th {\n",
       "        text-align: right;\n",
       "    }\n",
       "</style>\n",
       "<table border=\"1\" class=\"dataframe\">\n",
       "  <thead>\n",
       "    <tr style=\"text-align: right;\">\n",
       "      <th></th>\n",
       "      <th>Level</th>\n",
       "      <th>F1-Score</th>\n",
       "      <th>Precision</th>\n",
       "      <th>Recall</th>\n",
       "    </tr>\n",
       "  </thead>\n",
       "  <tbody>\n",
       "    <tr>\n",
       "      <th>0</th>\n",
       "      <td>B-asp</td>\n",
       "      <td>0.783133</td>\n",
       "      <td>0.8125</td>\n",
       "      <td>0.755814</td>\n",
       "    </tr>\n",
       "    <tr>\n",
       "      <th>1</th>\n",
       "      <td>I-asp</td>\n",
       "      <td>0.153846</td>\n",
       "      <td>0.5000</td>\n",
       "      <td>0.090909</td>\n",
       "    </tr>\n",
       "    <tr>\n",
       "      <th>0</th>\n",
       "      <td>AVG_MICRO</td>\n",
       "      <td>0.737430</td>\n",
       "      <td>NaN</td>\n",
       "      <td>NaN</td>\n",
       "    </tr>\n",
       "    <tr>\n",
       "      <th>0</th>\n",
       "      <td>AVG_MICRO</td>\n",
       "      <td>0.468489</td>\n",
       "      <td>NaN</td>\n",
       "      <td>NaN</td>\n",
       "    </tr>\n",
       "  </tbody>\n",
       "</table>\n",
       "</div>"
      ],
      "text/plain": [
       "       Level  F1-Score  Precision    Recall\n",
       "0      B-asp  0.783133     0.8125  0.755814\n",
       "1      I-asp  0.153846     0.5000  0.090909\n",
       "0  AVG_MICRO  0.737430        NaN       NaN\n",
       "0  AVG_MICRO  0.468489        NaN       NaN"
      ]
     },
     "execution_count": 25,
     "metadata": {},
     "output_type": "execute_result"
    }
   ],
   "source": [
    "model.evaluate_performance(livroTest)"
   ]
  },
  {
   "cell_type": "code",
   "execution_count": 26,
   "id": "80e73435-a811-49a9-9679-c5839b595a4e",
   "metadata": {},
   "outputs": [],
   "source": [
    "y_pred = model.predict(livroTest['sentences'])"
   ]
  },
  {
   "cell_type": "code",
   "execution_count": 27,
   "id": "c524d9aa-ba15-40ad-afbe-d368d6b963cf",
   "metadata": {},
   "outputs": [
    {
     "data": {
      "text/plain": [
       "{'totalAspects': 87,\n",
       " 'pred': 31,\n",
       " 'tp': 58,\n",
       " 'fp': 9,\n",
       " 'fn': 29,\n",
       " 'precisao': 0.8656716417910447,\n",
       " 'precisaoLaplace': 0.855072463768116,\n",
       " 'revocacao': 0.6666666666666666,\n",
       " 'medidaf': 0.7532467532467532,\n",
       " 'totalExplicitos': 82,\n",
       " 'explicitosOk': 22,\n",
       " 'pExplicitos': 0.2682926829268293,\n",
       " 'explicitsList': ['estilo',\n",
       "  'livro',\n",
       "  'personagem',\n",
       "  'história',\n",
       "  'palavra',\n",
       "  'começo',\n",
       "  'trama',\n",
       "  'historia',\n",
       "  'leitura',\n",
       "  'obra',\n",
       "  'final',\n",
       "  'romance',\n",
       "  'situaçoês',\n",
       "  'escritoras',\n",
       "  'crítica',\n",
       "  'escritor',\n",
       "  'protagonista',\n",
       "  'fim',\n",
       "  'narrativa',\n",
       "  'narrador',\n",
       "  'personagens',\n",
       "  'início'],\n",
       " 'totalImplicitos': 5,\n",
       " 'implicitosOk': 0,\n",
       " 'pImplicitos': 0.0,\n",
       " 'implicitsList': [],\n",
       " 'tipos': {}}"
      ]
     },
     "execution_count": 27,
     "metadata": {},
     "output_type": "execute_result"
    }
   ],
   "source": [
    "aspectsLivro = result2aspecList(y_pred, livroTest['sentences'])\n",
    "resLivro = calculaMetricas(\n",
    "    aspectsLivro, \n",
    "    aspectsTest['datasets'][domain], \n",
    "    tipos,\n",
    "    output=False)\n",
    "resLivro"
   ]
  },
  {
   "cell_type": "code",
   "execution_count": 32,
   "id": "789550ff-c49f-48fd-adae-6cc47e2d746c",
   "metadata": {},
   "outputs": [],
   "source": [
    "xml = dicttoxml(resLivro, attr_type=False, custom_root='resultados')\n",
    "with open('../resultados/bert_multi_alldomain_'+domain+'.xml', 'w') as file:\n",
    "    dom = parseString(xml)\n",
    "    file.write(dom.toprettyxml())"
   ]
  },
  {
   "cell_type": "markdown",
   "id": "6f9aa79e-3392-44b4-bf5d-16c09db2fcb7",
   "metadata": {},
   "source": [
    "## Smartphones"
   ]
  },
  {
   "cell_type": "code",
   "execution_count": 29,
   "id": "ea65414d-ebaa-462e-b977-883311134eaf",
   "metadata": {},
   "outputs": [],
   "source": [
    "# carregando tipos\n",
    "domain = \"smartphone\"\n",
    "tiposAll = pd.read_csv('../data/tipologia/categorias_iacs.csv', sep=',', quoting=0, keep_default_na=False)\n",
    "tipos = tiposAll.loc[tiposAll['domain'] == domain]"
   ]
  },
  {
   "cell_type": "code",
   "execution_count": 30,
   "id": "9f6995c6-766b-4b85-a106-0f8f065dc79d",
   "metadata": {},
   "outputs": [
    {
     "data": {
      "text/html": [
       "<div>\n",
       "<style scoped>\n",
       "    .dataframe tbody tr th:only-of-type {\n",
       "        vertical-align: middle;\n",
       "    }\n",
       "\n",
       "    .dataframe tbody tr th {\n",
       "        vertical-align: top;\n",
       "    }\n",
       "\n",
       "    .dataframe thead th {\n",
       "        text-align: right;\n",
       "    }\n",
       "</style>\n",
       "<table border=\"1\" class=\"dataframe\">\n",
       "  <thead>\n",
       "    <tr style=\"text-align: right;\">\n",
       "      <th></th>\n",
       "      <th>Level</th>\n",
       "      <th>F1-Score</th>\n",
       "      <th>Precision</th>\n",
       "      <th>Recall</th>\n",
       "    </tr>\n",
       "  </thead>\n",
       "  <tbody>\n",
       "    <tr>\n",
       "      <th>0</th>\n",
       "      <td>B-asp</td>\n",
       "      <td>0.460227</td>\n",
       "      <td>0.460227</td>\n",
       "      <td>0.460227</td>\n",
       "    </tr>\n",
       "    <tr>\n",
       "      <th>1</th>\n",
       "      <td>I-asp</td>\n",
       "      <td>0.355556</td>\n",
       "      <td>0.400000</td>\n",
       "      <td>0.320000</td>\n",
       "    </tr>\n",
       "    <tr>\n",
       "      <th>0</th>\n",
       "      <td>AVG_MICRO</td>\n",
       "      <td>0.438914</td>\n",
       "      <td>NaN</td>\n",
       "      <td>NaN</td>\n",
       "    </tr>\n",
       "    <tr>\n",
       "      <th>0</th>\n",
       "      <td>AVG_MICRO</td>\n",
       "      <td>0.407891</td>\n",
       "      <td>NaN</td>\n",
       "      <td>NaN</td>\n",
       "    </tr>\n",
       "  </tbody>\n",
       "</table>\n",
       "</div>"
      ],
      "text/plain": [
       "       Level  F1-Score  Precision    Recall\n",
       "0      B-asp  0.460227   0.460227  0.460227\n",
       "1      I-asp  0.355556   0.400000  0.320000\n",
       "0  AVG_MICRO  0.438914        NaN       NaN\n",
       "0  AVG_MICRO  0.407891        NaN       NaN"
      ]
     },
     "execution_count": 30,
     "metadata": {},
     "output_type": "execute_result"
    }
   ],
   "source": [
    "model.evaluate_performance(smartphoneTest)"
   ]
  },
  {
   "cell_type": "code",
   "execution_count": 31,
   "id": "dc06256b-08ee-4c37-b844-c744fa6c0246",
   "metadata": {},
   "outputs": [],
   "source": [
    "y_pred = model.predict(smartphoneTest['sentences'])"
   ]
  },
  {
   "cell_type": "code",
   "execution_count": 35,
   "id": "f458f4ad-07e0-4d5a-a06a-0b10a3c41aee",
   "metadata": {},
   "outputs": [
    {
     "data": {
      "text/plain": [
       "{'totalAspects': 158,\n",
       " 'pred': 78,\n",
       " 'tp': 76,\n",
       " 'fp': 41,\n",
       " 'fn': 82,\n",
       " 'precisao': 0.6495726495726496,\n",
       " 'precisaoLaplace': 0.6470588235294118,\n",
       " 'revocacao': 0.4810126582278481,\n",
       " 'medidaf': 0.5527272727272727,\n",
       " 'totalExplicitos': 134,\n",
       " 'explicitosOk': 33,\n",
       " 'pExplicitos': 0.2462686567164179,\n",
       " 'explicitsList': ['produto',\n",
       "  'funcionalidades',\n",
       "  'gps',\n",
       "  'câmera',\n",
       "  'touch',\n",
       "  'preço',\n",
       "  'sd de memória',\n",
       "  'fabricante',\n",
       "  'funções',\n",
       "  'aparelho',\n",
       "  'wi-fi',\n",
       "  'designer',\n",
       "  'visor',\n",
       "  'fotografia',\n",
       "  'tamanho',\n",
       "  'bateria',\n",
       "  'custo-benefício',\n",
       "  'celular',\n",
       "  'rádio',\n",
       "  'display',\n",
       "  'internet',\n",
       "  'smartphone',\n",
       "  'camera',\n",
       "  'volume de áudio',\n",
       "  'memoria',\n",
       "  'recursos',\n",
       "  'design',\n",
       "  'memória interna',\n",
       "  'camera digital',\n",
       "  'nokia',\n",
       "  'marca',\n",
       "  'luz de flash',\n",
       "  'fotos'],\n",
       " 'totalImplicitos': 24,\n",
       " 'implicitosOk': 4,\n",
       " 'pImplicitos': 0.16666666666666666,\n",
       " 'implicitsList': ['congela', 'trava', 'prático', 'moderno'],\n",
       " 'tipos': {'Event': {'Verb': 3}, 'Qualification': {'Adjective': 2}}}"
      ]
     },
     "execution_count": 35,
     "metadata": {},
     "output_type": "execute_result"
    }
   ],
   "source": [
    "aspectsSmartphone = result2aspecList(y_pred, smartphoneTest['sentences'])\n",
    "resSmartphone = calculaMetricas(\n",
    "    aspectsSmartphone, \n",
    "    aspectsTest['datasets'][domain], \n",
    "    tipos,\n",
    "    lemma=False, output=False)\n",
    "resSmartphone"
   ]
  },
  {
   "cell_type": "code",
   "execution_count": 36,
   "id": "5a93aec5-ec7b-48ff-b288-bd575904594d",
   "metadata": {},
   "outputs": [],
   "source": [
    "xml = dicttoxml(resSmartphone, attr_type=False, custom_root='resultados')\n",
    "with open('../resultados/bert_multi_alldomain_'+domain+'.xml', 'w') as file:\n",
    "    dom = parseString(xml)\n",
    "    file.write(dom.toprettyxml())"
   ]
  },
  {
   "cell_type": "markdown",
   "id": "70e2df78-cb93-4289-9a24-0e22c66dd998",
   "metadata": {},
   "source": [
    "## Hotel"
   ]
  },
  {
   "cell_type": "code",
   "execution_count": 37,
   "id": "bc4ed5f3-54ac-4247-aae0-96d4d62411e3",
   "metadata": {},
   "outputs": [],
   "source": [
    "# carregando tipos\n",
    "domain = \"hotel\"\n",
    "tiposAll = pd.read_csv('../data/tipologia/categorias_iacs.csv', sep=',', quoting=0, keep_default_na=False)\n",
    "tipos = tiposAll.loc[tiposAll['domain'] == domain]"
   ]
  },
  {
   "cell_type": "code",
   "execution_count": 38,
   "id": "b4c79921-62b5-48bf-bf95-b3a98dc2dcaa",
   "metadata": {},
   "outputs": [
    {
     "data": {
      "text/html": [
       "<div>\n",
       "<style scoped>\n",
       "    .dataframe tbody tr th:only-of-type {\n",
       "        vertical-align: middle;\n",
       "    }\n",
       "\n",
       "    .dataframe tbody tr th {\n",
       "        vertical-align: top;\n",
       "    }\n",
       "\n",
       "    .dataframe thead th {\n",
       "        text-align: right;\n",
       "    }\n",
       "</style>\n",
       "<table border=\"1\" class=\"dataframe\">\n",
       "  <thead>\n",
       "    <tr style=\"text-align: right;\">\n",
       "      <th></th>\n",
       "      <th>Level</th>\n",
       "      <th>F1-Score</th>\n",
       "      <th>Precision</th>\n",
       "      <th>Recall</th>\n",
       "    </tr>\n",
       "  </thead>\n",
       "  <tbody>\n",
       "    <tr>\n",
       "      <th>0</th>\n",
       "      <td>B-asp</td>\n",
       "      <td>0.765847</td>\n",
       "      <td>0.791444</td>\n",
       "      <td>0.741855</td>\n",
       "    </tr>\n",
       "    <tr>\n",
       "      <th>1</th>\n",
       "      <td>I-asp</td>\n",
       "      <td>0.380282</td>\n",
       "      <td>0.529412</td>\n",
       "      <td>0.296703</td>\n",
       "    </tr>\n",
       "    <tr>\n",
       "      <th>0</th>\n",
       "      <td>AVG_MICRO</td>\n",
       "      <td>0.706011</td>\n",
       "      <td>NaN</td>\n",
       "      <td>NaN</td>\n",
       "    </tr>\n",
       "    <tr>\n",
       "      <th>0</th>\n",
       "      <td>AVG_MICRO</td>\n",
       "      <td>0.573065</td>\n",
       "      <td>NaN</td>\n",
       "      <td>NaN</td>\n",
       "    </tr>\n",
       "  </tbody>\n",
       "</table>\n",
       "</div>"
      ],
      "text/plain": [
       "       Level  F1-Score  Precision    Recall\n",
       "0      B-asp  0.765847   0.791444  0.741855\n",
       "1      I-asp  0.380282   0.529412  0.296703\n",
       "0  AVG_MICRO  0.706011        NaN       NaN\n",
       "0  AVG_MICRO  0.573065        NaN       NaN"
      ]
     },
     "execution_count": 38,
     "metadata": {},
     "output_type": "execute_result"
    }
   ],
   "source": [
    "model.evaluate_performance(hotelTest)"
   ]
  },
  {
   "cell_type": "code",
   "execution_count": 39,
   "id": "ca8b92db-2d3b-4517-8039-618b4e916ffb",
   "metadata": {},
   "outputs": [],
   "source": [
    "y_pred = model.predict(hotelTest['sentences'])"
   ]
  },
  {
   "cell_type": "code",
   "execution_count": 40,
   "id": "4bda30cf-8e89-4d50-bc0c-727481993e06",
   "metadata": {},
   "outputs": [
    {
     "data": {
      "text/plain": [
       "{'totalAspects': 518,\n",
       " 'pred': 126,\n",
       " 'tp': 352,\n",
       " 'fp': 48,\n",
       " 'fn': 166,\n",
       " 'precisao': 0.88,\n",
       " 'precisaoLaplace': 0.8781094527363185,\n",
       " 'revocacao': 0.6795366795366795,\n",
       " 'medidaf': 0.7668845315904139,\n",
       " 'totalExplicitos': 292,\n",
       " 'explicitosOk': 35,\n",
       " 'pExplicitos': 0.11986301369863013,\n",
       " 'explicitsList': ['telefone',\n",
       "  'preço',\n",
       "  'porteiro',\n",
       "  'estacionamento',\n",
       "  'frigobar',\n",
       "  'garagem',\n",
       "  'rodoviária',\n",
       "  'serviço',\n",
       "  'estabelecimento',\n",
       "  'lojas',\n",
       "  'lavanderia',\n",
       "  'pia',\n",
       "  'shopping',\n",
       "  'recepção',\n",
       "  'piscina',\n",
       "  'conforto',\n",
       "  'elevador',\n",
       "  'aparência',\n",
       "  'aeroporto',\n",
       "  'apartamento',\n",
       "  'rua',\n",
       "  'chuveiro',\n",
       "  'gerência',\n",
       "  'portaria',\n",
       "  'limpeza',\n",
       "  'quarto',\n",
       "  'funcionários',\n",
       "  'cozinha',\n",
       "  'serviço de quarto',\n",
       "  'cidade',\n",
       "  'hotel',\n",
       "  'carpete',\n",
       "  'atendimento',\n",
       "  'instalações',\n",
       "  'localização'],\n",
       " 'totalImplicitos': 226,\n",
       " 'implicitosOk': 55,\n",
       " 'pImplicitos': 0.24336283185840707,\n",
       " 'implicitsList': ['próximo',\n",
       "  'barato',\n",
       "  'custo',\n",
       "  'sujo',\n",
       "  'telefone',\n",
       "  'cortina',\n",
       "  'estacionamento',\n",
       "  'limpo',\n",
       "  'banheiro',\n",
       "  'apartamentos',\n",
       "  'baratinho',\n",
       "  'wi-fi',\n",
       "  'atendentes',\n",
       "  'valor',\n",
       "  'proximidade',\n",
       "  'piscina',\n",
       "  'fica bem no centro',\n",
       "  'aquecedor',\n",
       "  'proximo',\n",
       "  'coberto',\n",
       "  'localizado no centro',\n",
       "  'barulho',\n",
       "  'localizaçao',\n",
       "  'sujeira',\n",
       "  'limpas',\n",
       "  'caro',\n",
       "  'barata',\n",
       "  'elevador',\n",
       "  'cheiro de mofo',\n",
       "  'ar condicionado',\n",
       "  'apartamento',\n",
       "  'janta',\n",
       "  'chuveiro',\n",
       "  'banheiros',\n",
       "  'limpos',\n",
       "  'localizado',\n",
       "  'no centro',\n",
       "  'transfer',\n",
       "  'limpeza',\n",
       "  'imundas',\n",
       "  'quarto',\n",
       "  'comida',\n",
       "  'cheirando a mofo',\n",
       "  'café',\n",
       "  'infraestrutura',\n",
       "  'cozinha',\n",
       "  'box',\n",
       "  'room-service',\n",
       "  'recepcionista',\n",
       "  'carpete',\n",
       "  'atendimento',\n",
       "  'estrutura',\n",
       "  'encontra-se estrategicamente dentro do centro financeiro',\n",
       "  'perto',\n",
       "  'localização'],\n",
       " 'tipos': {'Qualification': {'Adjective': 38,\n",
       "   'Nominal form': 1,\n",
       "   'Equivalence': 2},\n",
       "  'Feature': {'Equivalence': 29, 'Part-of': 41, 'Is-a': 9},\n",
       "  'Contextual': {'Location': 6, 'Related': 8},\n",
       "  'Event': {'Non-verbal form': 2}}}"
      ]
     },
     "execution_count": 40,
     "metadata": {},
     "output_type": "execute_result"
    }
   ],
   "source": [
    "aspectsHotel = result2aspecList(y_pred, hotelTest['sentences'])\n",
    "resHotel = calculaMetricas(\n",
    "    aspectsHotel, \n",
    "    aspectsTest['datasets'][domain], \n",
    "    tipos,\n",
    "    lemma=False, output=False)\n",
    "resHotel"
   ]
  },
  {
   "cell_type": "code",
   "execution_count": 41,
   "id": "0181a1a4-fd7a-47bd-9e22-b135a53443a7",
   "metadata": {},
   "outputs": [],
   "source": [
    "xml = dicttoxml(resHotel, attr_type=False, custom_root='resultados')\n",
    "with open('../resultados/bert_multi_alldomain_'+domain+'.xml', 'w') as file:\n",
    "    dom = parseString(xml)\n",
    "    file.write(dom.toprettyxml())"
   ]
  }
 ],
 "metadata": {
  "kernelspec": {
   "display_name": "doutorado",
   "language": "python",
   "name": "doutorado"
  },
  "language_info": {
   "codemirror_mode": {
    "name": "ipython",
    "version": 3
   },
   "file_extension": ".py",
   "mimetype": "text/x-python",
   "name": "python",
   "nbconvert_exporter": "python",
   "pygments_lexer": "ipython3",
   "version": "3.9.2"
  }
 },
 "nbformat": 4,
 "nbformat_minor": 5
}

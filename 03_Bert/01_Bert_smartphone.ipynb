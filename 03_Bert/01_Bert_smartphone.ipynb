{
 "cells": [
  {
   "cell_type": "markdown",
   "id": "edef9246-84d9-46e1-8709-be6396880fa0",
   "metadata": {},
   "source": [
    "# Smartphone"
   ]
  },
  {
   "cell_type": "code",
   "execution_count": 25,
   "id": "03ac281d-591c-4307-8684-8e440541007f",
   "metadata": {},
   "outputs": [],
   "source": [
    "import pandas as pd\n",
    "import nltk\n",
    "import xmltodict\n",
    "from dicttoxml import dicttoxml\n",
    "from xml.dom.minidom import parseString"
   ]
  },
  {
   "cell_type": "code",
   "execution_count": 26,
   "id": "935ae30a-1985-4285-b17c-16a076cba3d9",
   "metadata": {},
   "outputs": [
    {
     "name": "stdout",
     "output_type": "stream",
     "text": [
      "Loading functions...\n"
     ]
    }
   ],
   "source": [
    "%run ../funcoes.py"
   ]
  },
  {
   "cell_type": "code",
   "execution_count": 27,
   "id": "f4277618-0450-417d-8413-6a4ef7a837f6",
   "metadata": {},
   "outputs": [],
   "source": [
    "# carregando tipos\n",
    "domain = \"smartphone\"\n",
    "tiposAll = pd.read_csv('../data/tipologia/categorias_iacs.csv', sep=',', quoting=0, keep_default_na=False)\n",
    "tipos = tiposAll.loc[tiposAll['domain'] == domain]"
   ]
  },
  {
   "cell_type": "code",
   "execution_count": 4,
   "id": "e58a77b8-9d28-40e7-a109-0c350b0848a4",
   "metadata": {},
   "outputs": [],
   "source": [
    "dfTest = pd.read_csv('../07_Keras/data/domain_smartphone_IOB_test.csv', sep='\\t', quoting=3, keep_default_na=False)\n",
    "dfTrain = pd.read_csv('../07_Keras/data/domain_smartphone_IOB_train.csv', sep='\\t', quoting=3, keep_default_na=False)"
   ]
  },
  {
   "cell_type": "code",
   "execution_count": 5,
   "id": "b49147ef-6a59-45a2-b540-18c9bc0a2945",
   "metadata": {},
   "outputs": [],
   "source": [
    "f = open(\"../07_Keras/data/aspectsTest.xml\",\"r\")\n",
    "xml = f.read()\n",
    "aspectsTest = xmltodict.parse(xml, process_namespaces=True)"
   ]
  },
  {
   "cell_type": "code",
   "execution_count": 6,
   "id": "b93f5b61-f15e-47a3-a3dc-c10d6d79cf55",
   "metadata": {},
   "outputs": [],
   "source": [
    "def result2aspecList(y_pred, X_test):\n",
    "    aspectsList = []\n",
    "    aspect = []\n",
    "    stopwords = nltk.corpus.stopwords.words('portuguese')\n",
    "    for sent, sent_pred in zip(X_test, y_pred):\n",
    "        #print(len(sent),len(sent_pred))\n",
    "        for token, tag in zip(sent, sent_pred):\n",
    "            if tag != 'O':\n",
    "                #print(tag, token)\n",
    "                #print(tag, token['word.lower()'])\n",
    "                if tag == 'B-asp' and aspect:\n",
    "                    auxAspect = \" \".join(aspect).lower()\n",
    "                    if (auxAspect not in stopwords and len(auxAspect) > 1):\n",
    "                        aspectsList.append(auxAspect)\n",
    "                    aspect = []\n",
    "                if token not in [',',':']:\n",
    "                    aspect.append(token.lower())\n",
    "\n",
    "    aspectsList = list(set(aspectsList))\n",
    "    aspectsList.sort()    \n",
    "    return aspectsList"
   ]
  },
  {
   "cell_type": "code",
   "execution_count": null,
   "id": "bc1b6096-6d77-47ba-873e-b5f2c2ff4ad4",
   "metadata": {},
   "outputs": [],
   "source": []
  },
  {
   "cell_type": "code",
   "execution_count": 7,
   "id": "5bc2724d-8733-4305-9a29-eb892e018670",
   "metadata": {},
   "outputs": [],
   "source": [
    "tag_scheme = [\n",
    "'B-asp',\n",
    "'I-asp'\n",
    "]"
   ]
  },
  {
   "cell_type": "code",
   "execution_count": 8,
   "id": "e46a326d-db14-4f66-98b1-ad77bb2e5cd8",
   "metadata": {},
   "outputs": [],
   "source": [
    "contSents = 0\n",
    "for count, row in dfTrain.iterrows():\n",
    "    if (row[0] != \"\" and count > 0):\n",
    "        contSents = contSents + 1\n",
    "contSents = contSents + 1"
   ]
  },
  {
   "cell_type": "code",
   "execution_count": 9,
   "id": "7895770b-2428-46c5-8dd6-80d09dad330b",
   "metadata": {},
   "outputs": [
    {
     "name": "stdout",
     "output_type": "stream",
     "text": [
      "226\n"
     ]
    }
   ],
   "source": [
    "contTrain = round(contSents * 0.9)\n",
    "print(contTrain)"
   ]
  },
  {
   "cell_type": "code",
   "execution_count": 10,
   "id": "17ba862d-841b-46fb-97f6-258a13a2bfbd",
   "metadata": {},
   "outputs": [],
   "source": [
    "training = {'sentences': [], 'tags' : []}\n",
    "validation = {'sentences': [], 'tags' :[]}\n",
    "sent = []\n",
    "tags = []\n",
    "contSents = 0\n",
    "for count, row in dfTrain.iterrows():\n",
    "    if (row[0] != \"\" and count > 0):\n",
    "        if contSents < contTrain:\n",
    "            training['sentences'].append(sent)\n",
    "            training['tags'].append(tags)\n",
    "        else:\n",
    "            validation['sentences'].append(sent)\n",
    "            validation['tags'].append(tags)\n",
    "\n",
    "        tags = []\n",
    "        sent = []\n",
    "        contSents = contSents + 1\n",
    "    sent.append(row['Word'].lower())\n",
    "    tags.append(row['Tag'])\n",
    "        \n",
    "validation['sentences'].append(sent)\n",
    "validation['tags'].append(tags)"
   ]
  },
  {
   "cell_type": "code",
   "execution_count": 11,
   "id": "bd7458ff-2af4-4eb7-bee4-61fb38b9d41b",
   "metadata": {},
   "outputs": [
    {
     "data": {
      "text/plain": [
       "226"
      ]
     },
     "execution_count": 11,
     "metadata": {},
     "output_type": "execute_result"
    }
   ],
   "source": [
    "len(training['sentences'])"
   ]
  },
  {
   "cell_type": "code",
   "execution_count": 12,
   "id": "505ee23b-6b9b-43a4-826f-28baf595f4f8",
   "metadata": {},
   "outputs": [
    {
     "data": {
      "text/plain": [
       "25"
      ]
     },
     "execution_count": 12,
     "metadata": {},
     "output_type": "execute_result"
    }
   ],
   "source": [
    "len(validation['sentences'])"
   ]
  },
  {
   "cell_type": "code",
   "execution_count": 13,
   "id": "be45139a-6b33-4498-b9e6-b13a223806c5",
   "metadata": {},
   "outputs": [],
   "source": [
    "test = {'sentences': [], 'tags' : []}\n",
    "sent = []\n",
    "tags = []\n",
    "contSents = 0\n",
    "for count, row in dfTest.iterrows():\n",
    "    if (row[0] != \"\" and count > 0):\n",
    "        test['sentences'].append(sent)\n",
    "        test['tags'].append(tags)\n",
    "        tags = []\n",
    "        sent = []\n",
    "        contSents = contSents + 1\n",
    "    sent.append(row['Word'].lower())\n",
    "    tags.append(row['Tag'])\n",
    "test['sentences'].append(sent)\n",
    "test['tags'].append(tags)"
   ]
  },
  {
   "cell_type": "code",
   "execution_count": 14,
   "id": "854ef678-feeb-4381-94fc-047c1d9a50b5",
   "metadata": {},
   "outputs": [
    {
     "data": {
      "text/plain": [
       "106"
      ]
     },
     "execution_count": 14,
     "metadata": {},
     "output_type": "execute_result"
    }
   ],
   "source": [
    "len(test['sentences'])"
   ]
  },
  {
   "cell_type": "code",
   "execution_count": null,
   "id": "9489e16f-b6c8-46b8-977b-14c6061ad6e0",
   "metadata": {},
   "outputs": [],
   "source": []
  },
  {
   "cell_type": "code",
   "execution_count": null,
   "id": "2eef736c-60d3-49a9-8fb6-f57e59b727bb",
   "metadata": {},
   "outputs": [],
   "source": []
  },
  {
   "cell_type": "code",
   "execution_count": 15,
   "id": "46a13de3-2fe5-4a01-bda6-2e5d90e28f2e",
   "metadata": {},
   "outputs": [],
   "source": [
    "transformer = 'bert-base-multilingual-uncased'"
   ]
  },
  {
   "cell_type": "code",
   "execution_count": 16,
   "id": "828a7e96-65e6-4db7-bac2-95c2640abf52",
   "metadata": {},
   "outputs": [],
   "source": [
    "# hyperparameters for network\n",
    "dropout = 0.1\n",
    "# hyperparameters for training\n",
    "training_hyperparameters = {\n",
    "    'epochs' : 40,\n",
    "    'warmup_steps' : 500,                                                   \n",
    "    'train_batch_size': 13,\n",
    "    'learning_rate': 0.0001\n",
    "}"
   ]
  },
  {
   "cell_type": "code",
   "execution_count": 18,
   "id": "db747e8c-a023-4b24-9f5d-9f28fab8b5ad",
   "metadata": {},
   "outputs": [
    {
     "name": "stdout",
     "output_type": "stream",
     "text": [
      "Device automatically set to: cpu\n"
     ]
    },
    {
     "name": "stderr",
     "output_type": "stream",
     "text": [
      "Some weights of the model checkpoint at bert-base-multilingual-uncased were not used when initializing BertModel: ['cls.predictions.decoder.weight', 'cls.seq_relationship.bias', 'cls.predictions.bias', 'cls.predictions.transform.dense.bias', 'cls.predictions.transform.LayerNorm.bias', 'cls.seq_relationship.weight', 'cls.predictions.transform.dense.weight', 'cls.predictions.transform.LayerNorm.weight']\n",
      "- This IS expected if you are initializing BertModel from the checkpoint of a model trained on another task or with another architecture (e.g. initializing a BertForSequenceClassification model from a BertForPreTraining model).\n",
      "- This IS NOT expected if you are initializing BertModel from the checkpoint of a model that you expect to be exactly identical (initializing a BertForSequenceClassification model from a BertForSequenceClassification model).\n"
     ]
    }
   ],
   "source": [
    "from NERDA.models import NERDA\n",
    "model = NERDA(\n",
    "    dataset_training = training,\n",
    "    dataset_validation = validation,\n",
    "    tag_scheme = tag_scheme, \n",
    "    tag_outside = 'O',\n",
    "    transformer = transformer,\n",
    "    dropout = dropout,\n",
    "    hyperparameters = training_hyperparameters\n",
    ")"
   ]
  },
  {
   "cell_type": "code",
   "execution_count": 19,
   "id": "804d12a1-7dc0-402e-b7b1-277625126abb",
   "metadata": {},
   "outputs": [
    {
     "name": "stdout",
     "output_type": "stream",
     "text": [
      "\n",
      " Epoch 1 / 40\n"
     ]
    },
    {
     "name": "stderr",
     "output_type": "stream",
     "text": [
      " 50%|██████████████████████████████████████████████████████████████████████████████████████▌                                                                                      | 9/18 [01:25<01:23,  9.30s/it]/dados/usuarios/mateus/projetos/absa/16_Doutorado_Implicit/doutorado16/lib/python3.9/site-packages/NERDA/preprocessing.py:80: UserWarning: Sentence #149 length 128 exceeds max_len 128 and has been truncated\n",
      "  warnings.warn(msg)\n",
      "100%|████████████████████████████████████████████████████████████████████████████████████████████████████████████████████████████████████████████████████████████████████████████| 18/18 [02:45<00:00,  9.21s/it]\n",
      "100%|██████████████████████████████████████████████████████████████████████████████████████████████████████████████████████████████████████████████████████████████████████████████| 4/4 [00:07<00:00,  1.85s/it]\n"
     ]
    },
    {
     "name": "stdout",
     "output_type": "stream",
     "text": [
      "Train Loss = 0.944373776515325 Valid Loss = 0.45442693680524826\n",
      "\n",
      " Epoch 2 / 40\n"
     ]
    },
    {
     "name": "stderr",
     "output_type": "stream",
     "text": [
      " 50%|██████████████████████████████████████████████████████████████████████████████████████▌                                                                                      | 9/18 [01:30<01:26,  9.59s/it]/dados/usuarios/mateus/projetos/absa/16_Doutorado_Implicit/doutorado16/lib/python3.9/site-packages/NERDA/preprocessing.py:80: UserWarning: Sentence #149 length 128 exceeds max_len 128 and has been truncated\n",
      "  warnings.warn(msg)\n",
      "100%|████████████████████████████████████████████████████████████████████████████████████████████████████████████████████████████████████████████████████████████████████████████| 18/18 [02:51<00:00,  9.53s/it]\n",
      "100%|██████████████████████████████████████████████████████████████████████████████████████████████████████████████████████████████████████████████████████████████████████████████| 4/4 [00:07<00:00,  1.87s/it]\n"
     ]
    },
    {
     "name": "stdout",
     "output_type": "stream",
     "text": [
      "Train Loss = 0.4077020262678464 Valid Loss = 0.3394068256020546\n",
      "\n",
      " Epoch 3 / 40\n"
     ]
    },
    {
     "name": "stderr",
     "output_type": "stream",
     "text": [
      " 50%|██████████████████████████████████████████████████████████████████████████████████████▌                                                                                      | 9/18 [01:27<01:26,  9.58s/it]/dados/usuarios/mateus/projetos/absa/16_Doutorado_Implicit/doutorado16/lib/python3.9/site-packages/NERDA/preprocessing.py:80: UserWarning: Sentence #149 length 128 exceeds max_len 128 and has been truncated\n",
      "  warnings.warn(msg)\n",
      "100%|████████████████████████████████████████████████████████████████████████████████████████████████████████████████████████████████████████████████████████████████████████████| 18/18 [02:51<00:00,  9.51s/it]\n",
      "100%|██████████████████████████████████████████████████████████████████████████████████████████████████████████████████████████████████████████████████████████████████████████████| 4/4 [00:07<00:00,  1.86s/it]\n"
     ]
    },
    {
     "name": "stdout",
     "output_type": "stream",
     "text": [
      "Train Loss = 0.3462529604633649 Valid Loss = 0.30424964986741543\n",
      "\n",
      " Epoch 4 / 40\n"
     ]
    },
    {
     "name": "stderr",
     "output_type": "stream",
     "text": [
      " 50%|██████████████████████████████████████████████████████████████████████████████████████▌                                                                                      | 9/18 [01:29<01:26,  9.60s/it]/dados/usuarios/mateus/projetos/absa/16_Doutorado_Implicit/doutorado16/lib/python3.9/site-packages/NERDA/preprocessing.py:80: UserWarning: Sentence #149 length 128 exceeds max_len 128 and has been truncated\n",
      "  warnings.warn(msg)\n",
      "100%|████████████████████████████████████████████████████████████████████████████████████████████████████████████████████████████████████████████████████████████████████████████| 18/18 [02:50<00:00,  9.48s/it]\n",
      "100%|██████████████████████████████████████████████████████████████████████████████████████████████████████████████████████████████████████████████████████████████████████████████| 4/4 [00:07<00:00,  1.94s/it]\n"
     ]
    },
    {
     "name": "stdout",
     "output_type": "stream",
     "text": [
      "Train Loss = 0.3044420853257179 Valid Loss = 0.2801502011716366\n",
      "\n",
      " Epoch 5 / 40\n"
     ]
    },
    {
     "name": "stderr",
     "output_type": "stream",
     "text": [
      " 50%|██████████████████████████████████████████████████████████████████████████████████████▌                                                                                      | 9/18 [01:28<01:25,  9.49s/it]/dados/usuarios/mateus/projetos/absa/16_Doutorado_Implicit/doutorado16/lib/python3.9/site-packages/NERDA/preprocessing.py:80: UserWarning: Sentence #149 length 128 exceeds max_len 128 and has been truncated\n",
      "  warnings.warn(msg)\n",
      "100%|████████████████████████████████████████████████████████████████████████████████████████████████████████████████████████████████████████████████████████████████████████████| 18/18 [02:50<00:00,  9.47s/it]\n",
      "100%|██████████████████████████████████████████████████████████████████████████████████████████████████████████████████████████████████████████████████████████████████████████████| 4/4 [00:07<00:00,  1.87s/it]\n"
     ]
    },
    {
     "name": "stdout",
     "output_type": "stream",
     "text": [
      "Train Loss = 0.23927757640679678 Valid Loss = 0.24308134010061622\n",
      "\n",
      " Epoch 6 / 40\n"
     ]
    },
    {
     "name": "stderr",
     "output_type": "stream",
     "text": [
      " 50%|██████████████████████████████████████████████████████████████████████████████████████▌                                                                                      | 9/18 [01:28<01:26,  9.57s/it]/dados/usuarios/mateus/projetos/absa/16_Doutorado_Implicit/doutorado16/lib/python3.9/site-packages/NERDA/preprocessing.py:80: UserWarning: Sentence #149 length 128 exceeds max_len 128 and has been truncated\n",
      "  warnings.warn(msg)\n",
      "100%|████████████████████████████████████████████████████████████████████████████████████████████████████████████████████████████████████████████████████████████████████████████| 18/18 [02:49<00:00,  9.40s/it]\n",
      "100%|██████████████████████████████████████████████████████████████████████████████████████████████████████████████████████████████████████████████████████████████████████████████| 4/4 [00:09<00:00,  2.27s/it]\n"
     ]
    },
    {
     "name": "stdout",
     "output_type": "stream",
     "text": [
      "Train Loss = 0.18888645991683006 Valid Loss = 0.20212135498877615\n",
      "\n",
      " Epoch 7 / 40\n"
     ]
    },
    {
     "name": "stderr",
     "output_type": "stream",
     "text": [
      " 50%|██████████████████████████████████████████████████████████████████████████████████████▌                                                                                      | 9/18 [01:30<01:27,  9.76s/it]/dados/usuarios/mateus/projetos/absa/16_Doutorado_Implicit/doutorado16/lib/python3.9/site-packages/NERDA/preprocessing.py:80: UserWarning: Sentence #149 length 128 exceeds max_len 128 and has been truncated\n",
      "  warnings.warn(msg)\n",
      "100%|████████████████████████████████████████████████████████████████████████████████████████████████████████████████████████████████████████████████████████████████████████████| 18/18 [02:50<00:00,  9.49s/it]\n",
      "100%|██████████████████████████████████████████████████████████████████████████████████████████████████████████████████████████████████████████████████████████████████████████████| 4/4 [00:07<00:00,  1.81s/it]\n"
     ]
    },
    {
     "name": "stdout",
     "output_type": "stream",
     "text": [
      "Train Loss = 0.1410175926155514 Valid Loss = 0.19475659693125635\n",
      "\n",
      " Epoch 8 / 40\n"
     ]
    },
    {
     "name": "stderr",
     "output_type": "stream",
     "text": [
      " 50%|██████████████████████████████████████████████████████████████████████████████████████▌                                                                                      | 9/18 [01:28<01:25,  9.49s/it]/dados/usuarios/mateus/projetos/absa/16_Doutorado_Implicit/doutorado16/lib/python3.9/site-packages/NERDA/preprocessing.py:80: UserWarning: Sentence #149 length 128 exceeds max_len 128 and has been truncated\n",
      "  warnings.warn(msg)\n",
      "100%|████████████████████████████████████████████████████████████████████████████████████████████████████████████████████████████████████████████████████████████████████████████| 18/18 [02:50<00:00,  9.47s/it]\n",
      "100%|██████████████████████████████████████████████████████████████████████████████████████████████████████████████████████████████████████████████████████████████████████████████| 4/4 [00:07<00:00,  1.92s/it]\n"
     ]
    },
    {
     "name": "stdout",
     "output_type": "stream",
     "text": [
      "Train Loss = 0.1121311541646719 Valid Loss = 0.19225762895075604\n",
      "\n",
      " Epoch 9 / 40\n"
     ]
    },
    {
     "name": "stderr",
     "output_type": "stream",
     "text": [
      " 50%|██████████████████████████████████████████████████████████████████████████████████████▌                                                                                      | 9/18 [01:28<01:24,  9.43s/it]/dados/usuarios/mateus/projetos/absa/16_Doutorado_Implicit/doutorado16/lib/python3.9/site-packages/NERDA/preprocessing.py:80: UserWarning: Sentence #149 length 128 exceeds max_len 128 and has been truncated\n",
      "  warnings.warn(msg)\n",
      "100%|████████████████████████████████████████████████████████████████████████████████████████████████████████████████████████████████████████████████████████████████████████████| 18/18 [02:48<00:00,  9.39s/it]\n",
      "100%|██████████████████████████████████████████████████████████████████████████████████████████████████████████████████████████████████████████████████████████████████████████████| 4/4 [00:07<00:00,  1.90s/it]\n"
     ]
    },
    {
     "name": "stdout",
     "output_type": "stream",
     "text": [
      "Train Loss = 0.09188072321315606 Valid Loss = 0.20365302401478402\n",
      "\n",
      " Epoch 10 / 40\n"
     ]
    },
    {
     "name": "stderr",
     "output_type": "stream",
     "text": [
      " 50%|██████████████████████████████████████████████████████████████████████████████████████▌                                                                                      | 9/18 [01:29<01:26,  9.61s/it]/dados/usuarios/mateus/projetos/absa/16_Doutorado_Implicit/doutorado16/lib/python3.9/site-packages/NERDA/preprocessing.py:80: UserWarning: Sentence #149 length 128 exceeds max_len 128 and has been truncated\n",
      "  warnings.warn(msg)\n",
      "100%|████████████████████████████████████████████████████████████████████████████████████████████████████████████████████████████████████████████████████████████████████████████| 18/18 [02:50<00:00,  9.49s/it]\n",
      "100%|██████████████████████████████████████████████████████████████████████████████████████████████████████████████████████████████████████████████████████████████████████████████| 4/4 [00:07<00:00,  1.88s/it]\n"
     ]
    },
    {
     "name": "stdout",
     "output_type": "stream",
     "text": [
      "Train Loss = 0.07824719262619813 Valid Loss = 0.18041336992610013\n",
      "\n",
      " Epoch 11 / 40\n"
     ]
    },
    {
     "name": "stderr",
     "output_type": "stream",
     "text": [
      " 50%|██████████████████████████████████████████████████████████████████████████████████████▌                                                                                      | 9/18 [01:28<01:25,  9.51s/it]/dados/usuarios/mateus/projetos/absa/16_Doutorado_Implicit/doutorado16/lib/python3.9/site-packages/NERDA/preprocessing.py:80: UserWarning: Sentence #149 length 128 exceeds max_len 128 and has been truncated\n",
      "  warnings.warn(msg)\n",
      "100%|████████████████████████████████████████████████████████████████████████████████████████████████████████████████████████████████████████████████████████████████████████████| 18/18 [02:48<00:00,  9.38s/it]\n",
      "100%|██████████████████████████████████████████████████████████████████████████████████████████████████████████████████████████████████████████████████████████████████████████████| 4/4 [00:07<00:00,  1.88s/it]\n"
     ]
    },
    {
     "name": "stdout",
     "output_type": "stream",
     "text": [
      "Train Loss = 0.06087234471407202 Valid Loss = 0.19617435519467108\n",
      "\n",
      " Epoch 12 / 40\n"
     ]
    },
    {
     "name": "stderr",
     "output_type": "stream",
     "text": [
      " 50%|██████████████████████████████████████████████████████████████████████████████████████▌                                                                                      | 9/18 [01:30<01:27,  9.72s/it]/dados/usuarios/mateus/projetos/absa/16_Doutorado_Implicit/doutorado16/lib/python3.9/site-packages/NERDA/preprocessing.py:80: UserWarning: Sentence #149 length 128 exceeds max_len 128 and has been truncated\n",
      "  warnings.warn(msg)\n",
      "100%|████████████████████████████████████████████████████████████████████████████████████████████████████████████████████████████████████████████████████████████████████████████| 18/18 [02:50<00:00,  9.48s/it]\n",
      "100%|██████████████████████████████████████████████████████████████████████████████████████████████████████████████████████████████████████████████████████████████████████████████| 4/4 [00:07<00:00,  1.91s/it]\n"
     ]
    },
    {
     "name": "stdout",
     "output_type": "stream",
     "text": [
      "Train Loss = 0.06408640136942267 Valid Loss = 0.27562654664507136\n",
      "\n",
      " Epoch 13 / 40\n"
     ]
    },
    {
     "name": "stderr",
     "output_type": "stream",
     "text": [
      " 50%|██████████████████████████████████████████████████████████████████████████████████████▌                                                                                      | 9/18 [01:27<01:25,  9.48s/it]/dados/usuarios/mateus/projetos/absa/16_Doutorado_Implicit/doutorado16/lib/python3.9/site-packages/NERDA/preprocessing.py:80: UserWarning: Sentence #149 length 128 exceeds max_len 128 and has been truncated\n",
      "  warnings.warn(msg)\n",
      "100%|████████████████████████████████████████████████████████████████████████████████████████████████████████████████████████████████████████████████████████████████████████████| 18/18 [02:48<00:00,  9.37s/it]\n",
      "100%|██████████████████████████████████████████████████████████████████████████████████████████████████████████████████████████████████████████████████████████████████████████████| 4/4 [00:08<00:00,  2.20s/it]\n"
     ]
    },
    {
     "name": "stdout",
     "output_type": "stream",
     "text": [
      "Train Loss = 0.07145516305334038 Valid Loss = 0.2370455700220191\n",
      "\n",
      " Epoch 14 / 40\n"
     ]
    },
    {
     "name": "stderr",
     "output_type": "stream",
     "text": [
      " 50%|██████████████████████████████████████████████████████████████████████████████████████▌                                                                                      | 9/18 [01:28<01:26,  9.61s/it]/dados/usuarios/mateus/projetos/absa/16_Doutorado_Implicit/doutorado16/lib/python3.9/site-packages/NERDA/preprocessing.py:80: UserWarning: Sentence #149 length 128 exceeds max_len 128 and has been truncated\n",
      "  warnings.warn(msg)\n",
      "100%|████████████████████████████████████████████████████████████████████████████████████████████████████████████████████████████████████████████████████████████████████████████| 18/18 [02:47<00:00,  9.31s/it]\n",
      "100%|██████████████████████████████████████████████████████████████████████████████████████████████████████████████████████████████████████████████████████████████████████████████| 4/4 [00:07<00:00,  1.84s/it]\n"
     ]
    },
    {
     "name": "stdout",
     "output_type": "stream",
     "text": [
      "Train Loss = 0.05595628192855252 Valid Loss = 0.15831939325289568\n",
      "\n",
      " Epoch 15 / 40\n"
     ]
    },
    {
     "name": "stderr",
     "output_type": "stream",
     "text": [
      " 50%|██████████████████████████████████████████████████████████████████████████████████████▌                                                                                      | 9/18 [01:29<01:25,  9.52s/it]/dados/usuarios/mateus/projetos/absa/16_Doutorado_Implicit/doutorado16/lib/python3.9/site-packages/NERDA/preprocessing.py:80: UserWarning: Sentence #149 length 128 exceeds max_len 128 and has been truncated\n",
      "  warnings.warn(msg)\n",
      "100%|████████████████████████████████████████████████████████████████████████████████████████████████████████████████████████████████████████████████████████████████████████████| 18/18 [02:51<00:00,  9.53s/it]\n",
      "100%|██████████████████████████████████████████████████████████████████████████████████████████████████████████████████████████████████████████████████████████████████████████████| 4/4 [00:07<00:00,  1.86s/it]\n"
     ]
    },
    {
     "name": "stdout",
     "output_type": "stream",
     "text": [
      "Train Loss = 0.05722035653889179 Valid Loss = 0.20305450056912377\n",
      "\n",
      " Epoch 16 / 40\n"
     ]
    },
    {
     "name": "stderr",
     "output_type": "stream",
     "text": [
      " 50%|██████████████████████████████████████████████████████████████████████████████████████▌                                                                                      | 9/18 [01:27<01:25,  9.54s/it]/dados/usuarios/mateus/projetos/absa/16_Doutorado_Implicit/doutorado16/lib/python3.9/site-packages/NERDA/preprocessing.py:80: UserWarning: Sentence #149 length 128 exceeds max_len 128 and has been truncated\n",
      "  warnings.warn(msg)\n",
      "100%|████████████████████████████████████████████████████████████████████████████████████████████████████████████████████████████████████████████████████████████████████████████| 18/18 [02:47<00:00,  9.31s/it]\n",
      "100%|██████████████████████████████████████████████████████████████████████████████████████████████████████████████████████████████████████████████████████████████████████████████| 4/4 [00:07<00:00,  1.84s/it]\n"
     ]
    },
    {
     "name": "stdout",
     "output_type": "stream",
     "text": [
      "Train Loss = 0.03688678815443483 Valid Loss = 0.1701404334162362\n",
      "\n",
      " Epoch 17 / 40\n"
     ]
    },
    {
     "name": "stderr",
     "output_type": "stream",
     "text": [
      " 50%|██████████████████████████████████████████████████████████████████████████████████████▌                                                                                      | 9/18 [01:29<01:26,  9.66s/it]/dados/usuarios/mateus/projetos/absa/16_Doutorado_Implicit/doutorado16/lib/python3.9/site-packages/NERDA/preprocessing.py:80: UserWarning: Sentence #149 length 128 exceeds max_len 128 and has been truncated\n",
      "  warnings.warn(msg)\n",
      "100%|████████████████████████████████████████████████████████████████████████████████████████████████████████████████████████████████████████████████████████████████████████████| 18/18 [02:51<00:00,  9.55s/it]\n",
      "100%|██████████████████████████████████████████████████████████████████████████████████████████████████████████████████████████████████████████████████████████████████████████████| 4/4 [00:07<00:00,  1.90s/it]\n"
     ]
    },
    {
     "name": "stdout",
     "output_type": "stream",
     "text": [
      "Train Loss = 0.016210156337668497 Valid Loss = 0.188100147563091\n",
      "\n",
      " Epoch 18 / 40\n"
     ]
    },
    {
     "name": "stderr",
     "output_type": "stream",
     "text": [
      " 50%|██████████████████████████████████████████████████████████████████████████████████████▌                                                                                      | 9/18 [01:28<01:26,  9.60s/it]/dados/usuarios/mateus/projetos/absa/16_Doutorado_Implicit/doutorado16/lib/python3.9/site-packages/NERDA/preprocessing.py:80: UserWarning: Sentence #149 length 128 exceeds max_len 128 and has been truncated\n",
      "  warnings.warn(msg)\n",
      "100%|████████████████████████████████████████████████████████████████████████████████████████████████████████████████████████████████████████████████████████████████████████████| 18/18 [02:49<00:00,  9.40s/it]\n",
      "100%|██████████████████████████████████████████████████████████████████████████████████████████████████████████████████████████████████████████████████████████████████████████████| 4/4 [00:07<00:00,  1.83s/it]\n"
     ]
    },
    {
     "name": "stdout",
     "output_type": "stream",
     "text": [
      "Train Loss = 0.010064481835191449 Valid Loss = 0.1951005065566278\n",
      "\n",
      " Epoch 19 / 40\n"
     ]
    },
    {
     "name": "stderr",
     "output_type": "stream",
     "text": [
      " 50%|██████████████████████████████████████████████████████████████████████████████████████▌                                                                                      | 9/18 [01:29<01:26,  9.59s/it]/dados/usuarios/mateus/projetos/absa/16_Doutorado_Implicit/doutorado16/lib/python3.9/site-packages/NERDA/preprocessing.py:80: UserWarning: Sentence #149 length 128 exceeds max_len 128 and has been truncated\n",
      "  warnings.warn(msg)\n",
      "100%|████████████████████████████████████████████████████████████████████████████████████████████████████████████████████████████████████████████████████████████████████████████| 18/18 [02:51<00:00,  9.50s/it]\n",
      "100%|██████████████████████████████████████████████████████████████████████████████████████████████████████████████████████████████████████████████████████████████████████████████| 4/4 [00:08<00:00,  2.15s/it]\n"
     ]
    },
    {
     "name": "stdout",
     "output_type": "stream",
     "text": [
      "Train Loss = 0.003771189616398058 Valid Loss = 0.19333723184172413\n",
      "\n",
      " Epoch 20 / 40\n"
     ]
    },
    {
     "name": "stderr",
     "output_type": "stream",
     "text": [
      " 50%|██████████████████████████████████████████████████████████████████████████████████████▌                                                                                      | 9/18 [01:28<01:26,  9.61s/it]/dados/usuarios/mateus/projetos/absa/16_Doutorado_Implicit/doutorado16/lib/python3.9/site-packages/NERDA/preprocessing.py:80: UserWarning: Sentence #149 length 128 exceeds max_len 128 and has been truncated\n",
      "  warnings.warn(msg)\n",
      "100%|████████████████████████████████████████████████████████████████████████████████████████████████████████████████████████████████████████████████████████████████████████████| 18/18 [02:50<00:00,  9.48s/it]\n",
      "100%|██████████████████████████████████████████████████████████████████████████████████████████████████████████████████████████████████████████████████████████████████████████████| 4/4 [00:07<00:00,  1.89s/it]\n"
     ]
    },
    {
     "name": "stdout",
     "output_type": "stream",
     "text": [
      "Train Loss = 0.0024758873817821345 Valid Loss = 0.21453751910303254\n",
      "\n",
      " Epoch 21 / 40\n"
     ]
    },
    {
     "name": "stderr",
     "output_type": "stream",
     "text": [
      " 50%|██████████████████████████████████████████████████████████████████████████████████████▌                                                                                      | 9/18 [01:28<01:25,  9.53s/it]/dados/usuarios/mateus/projetos/absa/16_Doutorado_Implicit/doutorado16/lib/python3.9/site-packages/NERDA/preprocessing.py:80: UserWarning: Sentence #149 length 128 exceeds max_len 128 and has been truncated\n",
      "  warnings.warn(msg)\n",
      "100%|████████████████████████████████████████████████████████████████████████████████████████████████████████████████████████████████████████████████████████████████████████████| 18/18 [02:49<00:00,  9.44s/it]\n",
      "100%|██████████████████████████████████████████████████████████████████████████████████████████████████████████████████████████████████████████████████████████████████████████████| 4/4 [00:07<00:00,  1.87s/it]\n"
     ]
    },
    {
     "name": "stdout",
     "output_type": "stream",
     "text": [
      "Train Loss = 0.00146676101818836 Valid Loss = 0.21240181583743833\n",
      "\n",
      " Epoch 22 / 40\n"
     ]
    },
    {
     "name": "stderr",
     "output_type": "stream",
     "text": [
      " 50%|██████████████████████████████████████████████████████████████████████████████████████▌                                                                                      | 9/18 [01:30<01:29,  9.99s/it]/dados/usuarios/mateus/projetos/absa/16_Doutorado_Implicit/doutorado16/lib/python3.9/site-packages/NERDA/preprocessing.py:80: UserWarning: Sentence #149 length 128 exceeds max_len 128 and has been truncated\n",
      "  warnings.warn(msg)\n",
      "100%|████████████████████████████████████████████████████████████████████████████████████████████████████████████████████████████████████████████████████████████████████████████| 18/18 [02:51<00:00,  9.55s/it]\n",
      "100%|██████████████████████████████████████████████████████████████████████████████████████████████████████████████████████████████████████████████████████████████████████████████| 4/4 [00:07<00:00,  1.85s/it]\n"
     ]
    },
    {
     "name": "stdout",
     "output_type": "stream",
     "text": [
      "Train Loss = 0.0014879729084592934 Valid Loss = 0.23510376811282185\n",
      "\n",
      " Epoch 23 / 40\n"
     ]
    },
    {
     "name": "stderr",
     "output_type": "stream",
     "text": [
      " 50%|██████████████████████████████████████████████████████████████████████████████████████▌                                                                                      | 9/18 [01:28<01:25,  9.54s/it]/dados/usuarios/mateus/projetos/absa/16_Doutorado_Implicit/doutorado16/lib/python3.9/site-packages/NERDA/preprocessing.py:80: UserWarning: Sentence #149 length 128 exceeds max_len 128 and has been truncated\n",
      "  warnings.warn(msg)\n",
      "100%|████████████████████████████████████████████████████████████████████████████████████████████████████████████████████████████████████████████████████████████████████████████| 18/18 [02:49<00:00,  9.44s/it]\n",
      "100%|██████████████████████████████████████████████████████████████████████████████████████████████████████████████████████████████████████████████████████████████████████████████| 4/4 [00:07<00:00,  1.96s/it]\n"
     ]
    },
    {
     "name": "stdout",
     "output_type": "stream",
     "text": [
      "Train Loss = 0.002384742545675383 Valid Loss = 0.21845115924043057\n",
      "\n",
      " Epoch 24 / 40\n"
     ]
    },
    {
     "name": "stderr",
     "output_type": "stream",
     "text": [
      " 50%|██████████████████████████████████████████████████████████████████████████████████████▌                                                                                      | 9/18 [01:30<01:26,  9.60s/it]/dados/usuarios/mateus/projetos/absa/16_Doutorado_Implicit/doutorado16/lib/python3.9/site-packages/NERDA/preprocessing.py:80: UserWarning: Sentence #149 length 128 exceeds max_len 128 and has been truncated\n",
      "  warnings.warn(msg)\n",
      "100%|████████████████████████████████████████████████████████████████████████████████████████████████████████████████████████████████████████████████████████████████████████████| 18/18 [02:51<00:00,  9.51s/it]\n",
      "100%|██████████████████████████████████████████████████████████████████████████████████████████████████████████████████████████████████████████████████████████████████████████████| 4/4 [00:07<00:00,  1.88s/it]\n"
     ]
    },
    {
     "name": "stdout",
     "output_type": "stream",
     "text": [
      "Train Loss = 0.0008142744514366819 Valid Loss = 0.22136354531903635\n",
      "\n",
      " Epoch 25 / 40\n"
     ]
    },
    {
     "name": "stderr",
     "output_type": "stream",
     "text": [
      " 50%|██████████████████████████████████████████████████████████████████████████████████████▌                                                                                      | 9/18 [01:29<01:27,  9.68s/it]/dados/usuarios/mateus/projetos/absa/16_Doutorado_Implicit/doutorado16/lib/python3.9/site-packages/NERDA/preprocessing.py:80: UserWarning: Sentence #149 length 128 exceeds max_len 128 and has been truncated\n",
      "  warnings.warn(msg)\n",
      "100%|████████████████████████████████████████████████████████████████████████████████████████████████████████████████████████████████████████████████████████████████████████████| 18/18 [02:52<00:00,  9.59s/it]\n",
      "100%|██████████████████████████████████████████████████████████████████████████████████████████████████████████████████████████████████████████████████████████████████████████████| 4/4 [00:08<00:00,  2.03s/it]\n"
     ]
    },
    {
     "name": "stdout",
     "output_type": "stream",
     "text": [
      "Train Loss = 0.0017860334264696576 Valid Loss = 0.25498591525865777\n",
      "\n",
      " Epoch 26 / 40\n"
     ]
    },
    {
     "name": "stderr",
     "output_type": "stream",
     "text": [
      " 50%|██████████████████████████████████████████████████████████████████████████████████████▌                                                                                      | 9/18 [01:28<01:25,  9.52s/it]/dados/usuarios/mateus/projetos/absa/16_Doutorado_Implicit/doutorado16/lib/python3.9/site-packages/NERDA/preprocessing.py:80: UserWarning: Sentence #149 length 128 exceeds max_len 128 and has been truncated\n",
      "  warnings.warn(msg)\n",
      "100%|████████████████████████████████████████████████████████████████████████████████████████████████████████████████████████████████████████████████████████████████████████████| 18/18 [02:49<00:00,  9.40s/it]\n",
      "100%|██████████████████████████████████████████████████████████████████████████████████████████████████████████████████████████████████████████████████████████████████████████████| 4/4 [00:07<00:00,  1.86s/it]\n"
     ]
    },
    {
     "name": "stdout",
     "output_type": "stream",
     "text": [
      "Train Loss = 0.006845621619302417 Valid Loss = 0.1932462631521048\n",
      "\n",
      " Epoch 27 / 40\n"
     ]
    },
    {
     "name": "stderr",
     "output_type": "stream",
     "text": [
      " 50%|██████████████████████████████████████████████████████████████████████████████████████▌                                                                                      | 9/18 [01:30<01:30, 10.11s/it]/dados/usuarios/mateus/projetos/absa/16_Doutorado_Implicit/doutorado16/lib/python3.9/site-packages/NERDA/preprocessing.py:80: UserWarning: Sentence #149 length 128 exceeds max_len 128 and has been truncated\n",
      "  warnings.warn(msg)\n",
      "100%|████████████████████████████████████████████████████████████████████████████████████████████████████████████████████████████████████████████████████████████████████████████| 18/18 [02:51<00:00,  9.51s/it]\n",
      "100%|██████████████████████████████████████████████████████████████████████████████████████████████████████████████████████████████████████████████████████████████████████████████| 4/4 [00:07<00:00,  1.88s/it]\n"
     ]
    },
    {
     "name": "stdout",
     "output_type": "stream",
     "text": [
      "Train Loss = 0.01973136440372198 Valid Loss = 0.226872417551931\n",
      "\n",
      " Epoch 28 / 40\n"
     ]
    },
    {
     "name": "stderr",
     "output_type": "stream",
     "text": [
      " 50%|██████████████████████████████████████████████████████████████████████████████████████▌                                                                                      | 9/18 [01:28<01:25,  9.55s/it]/dados/usuarios/mateus/projetos/absa/16_Doutorado_Implicit/doutorado16/lib/python3.9/site-packages/NERDA/preprocessing.py:80: UserWarning: Sentence #149 length 128 exceeds max_len 128 and has been truncated\n",
      "  warnings.warn(msg)\n",
      "100%|████████████████████████████████████████████████████████████████████████████████████████████████████████████████████████████████████████████████████████████████████████████| 18/18 [02:50<00:00,  9.46s/it]\n",
      "100%|██████████████████████████████████████████████████████████████████████████████████████████████████████████████████████████████████████████████████████████████████████████████| 4/4 [00:07<00:00,  1.91s/it]\n"
     ]
    },
    {
     "name": "stdout",
     "output_type": "stream",
     "text": [
      "Train Loss = 0.018439941638563242 Valid Loss = 0.23346318352560047\n",
      "\n",
      " Epoch 29 / 40\n"
     ]
    },
    {
     "name": "stderr",
     "output_type": "stream",
     "text": [
      " 50%|██████████████████████████████████████████████████████████████████████████████████████▌                                                                                      | 9/18 [01:30<01:26,  9.64s/it]/dados/usuarios/mateus/projetos/absa/16_Doutorado_Implicit/doutorado16/lib/python3.9/site-packages/NERDA/preprocessing.py:80: UserWarning: Sentence #149 length 128 exceeds max_len 128 and has been truncated\n",
      "  warnings.warn(msg)\n",
      "100%|████████████████████████████████████████████████████████████████████████████████████████████████████████████████████████████████████████████████████████████████████████████| 18/18 [02:51<00:00,  9.52s/it]\n",
      "100%|██████████████████████████████████████████████████████████████████████████████████████████████████████████████████████████████████████████████████████████████████████████████| 4/4 [00:07<00:00,  1.89s/it]\n"
     ]
    },
    {
     "name": "stdout",
     "output_type": "stream",
     "text": [
      "Train Loss = 0.0138770893714132 Valid Loss = 0.1960965839061828\n",
      "\n",
      " Epoch 30 / 40\n"
     ]
    },
    {
     "name": "stderr",
     "output_type": "stream",
     "text": [
      " 50%|██████████████████████████████████████████████████████████████████████████████████████▌                                                                                      | 9/18 [01:28<01:25,  9.52s/it]/dados/usuarios/mateus/projetos/absa/16_Doutorado_Implicit/doutorado16/lib/python3.9/site-packages/NERDA/preprocessing.py:80: UserWarning: Sentence #149 length 128 exceeds max_len 128 and has been truncated\n",
      "  warnings.warn(msg)\n",
      "100%|████████████████████████████████████████████████████████████████████████████████████████████████████████████████████████████████████████████████████████████████████████████| 18/18 [02:52<00:00,  9.56s/it]\n",
      "100%|██████████████████████████████████████████████████████████████████████████████████████████████████████████████████████████████████████████████████████████████████████████████| 4/4 [00:07<00:00,  2.00s/it]\n"
     ]
    },
    {
     "name": "stdout",
     "output_type": "stream",
     "text": [
      "Train Loss = 0.010090166172530089 Valid Loss = 0.23932231189974118\n",
      "\n",
      " Epoch 31 / 40\n"
     ]
    },
    {
     "name": "stderr",
     "output_type": "stream",
     "text": [
      " 50%|██████████████████████████████████████████████████████████████████████████████████████▌                                                                                      | 9/18 [01:29<01:26,  9.61s/it]/dados/usuarios/mateus/projetos/absa/16_Doutorado_Implicit/doutorado16/lib/python3.9/site-packages/NERDA/preprocessing.py:80: UserWarning: Sentence #149 length 128 exceeds max_len 128 and has been truncated\n",
      "  warnings.warn(msg)\n",
      "100%|████████████████████████████████████████████████████████████████████████████████████████████████████████████████████████████████████████████████████████████████████████████| 18/18 [02:50<00:00,  9.45s/it]\n",
      "100%|██████████████████████████████████████████████████████████████████████████████████████████████████████████████████████████████████████████████████████████████████████████████| 4/4 [00:07<00:00,  1.96s/it]\n"
     ]
    },
    {
     "name": "stdout",
     "output_type": "stream",
     "text": [
      "Train Loss = 0.008095399156445637 Valid Loss = 0.24990428697128664\n",
      "\n",
      " Epoch 32 / 40\n"
     ]
    },
    {
     "name": "stderr",
     "output_type": "stream",
     "text": [
      " 50%|██████████████████████████████████████████████████████████████████████████████████████▌                                                                                      | 9/18 [01:28<01:27,  9.72s/it]/dados/usuarios/mateus/projetos/absa/16_Doutorado_Implicit/doutorado16/lib/python3.9/site-packages/NERDA/preprocessing.py:80: UserWarning: Sentence #149 length 128 exceeds max_len 128 and has been truncated\n",
      "  warnings.warn(msg)\n",
      "100%|████████████████████████████████████████████████████████████████████████████████████████████████████████████████████████████████████████████████████████████████████████████| 18/18 [02:49<00:00,  9.44s/it]\n",
      "100%|██████████████████████████████████████████████████████████████████████████████████████████████████████████████████████████████████████████████████████████████████████████████| 4/4 [00:08<00:00,  2.13s/it]\n"
     ]
    },
    {
     "name": "stdout",
     "output_type": "stream",
     "text": [
      "Train Loss = 0.00754533557079008 Valid Loss = 0.2453879445729399\n",
      "\n",
      " Epoch 33 / 40\n"
     ]
    },
    {
     "name": "stderr",
     "output_type": "stream",
     "text": [
      " 50%|██████████████████████████████████████████████████████████████████████████████████████▌                                                                                      | 9/18 [01:29<01:28,  9.87s/it]/dados/usuarios/mateus/projetos/absa/16_Doutorado_Implicit/doutorado16/lib/python3.9/site-packages/NERDA/preprocessing.py:80: UserWarning: Sentence #149 length 128 exceeds max_len 128 and has been truncated\n",
      "  warnings.warn(msg)\n",
      "100%|████████████████████████████████████████████████████████████████████████████████████████████████████████████████████████████████████████████████████████████████████████████| 18/18 [02:48<00:00,  9.39s/it]\n",
      "100%|██████████████████████████████████████████████████████████████████████████████████████████████████████████████████████████████████████████████████████████████████████████████| 4/4 [00:07<00:00,  1.85s/it]\n"
     ]
    },
    {
     "name": "stdout",
     "output_type": "stream",
     "text": [
      "Train Loss = 0.002582125619584177 Valid Loss = 0.2800372456695186\n",
      "\n",
      " Epoch 34 / 40\n"
     ]
    },
    {
     "name": "stderr",
     "output_type": "stream",
     "text": [
      " 50%|██████████████████████████████████████████████████████████████████████████████████████▌                                                                                      | 9/18 [01:29<01:25,  9.54s/it]/dados/usuarios/mateus/projetos/absa/16_Doutorado_Implicit/doutorado16/lib/python3.9/site-packages/NERDA/preprocessing.py:80: UserWarning: Sentence #149 length 128 exceeds max_len 128 and has been truncated\n",
      "  warnings.warn(msg)\n",
      "100%|████████████████████████████████████████████████████████████████████████████████████████████████████████████████████████████████████████████████████████████████████████████| 18/18 [02:50<00:00,  9.46s/it]\n",
      "100%|██████████████████████████████████████████████████████████████████████████████████████████████████████████████████████████████████████████████████████████████████████████████| 4/4 [00:08<00:00,  2.09s/it]\n"
     ]
    },
    {
     "name": "stdout",
     "output_type": "stream",
     "text": [
      "Train Loss = 0.001234650307904101 Valid Loss = 0.30292026506322145\n",
      "\n",
      " Epoch 35 / 40\n"
     ]
    },
    {
     "name": "stderr",
     "output_type": "stream",
     "text": [
      " 50%|██████████████████████████████████████████████████████████████████████████████████████▌                                                                                      | 9/18 [01:28<01:26,  9.56s/it]/dados/usuarios/mateus/projetos/absa/16_Doutorado_Implicit/doutorado16/lib/python3.9/site-packages/NERDA/preprocessing.py:80: UserWarning: Sentence #149 length 128 exceeds max_len 128 and has been truncated\n",
      "  warnings.warn(msg)\n",
      "100%|████████████████████████████████████████████████████████████████████████████████████████████████████████████████████████████████████████████████████████████████████████████| 18/18 [02:49<00:00,  9.44s/it]\n",
      "100%|██████████████████████████████████████████████████████████████████████████████████████████████████████████████████████████████████████████████████████████████████████████████| 4/4 [00:07<00:00,  1.86s/it]\n"
     ]
    },
    {
     "name": "stdout",
     "output_type": "stream",
     "text": [
      "Train Loss = 0.00042354112600959424 Valid Loss = 0.31731322670202644\n",
      "\n",
      " Epoch 36 / 40\n"
     ]
    },
    {
     "name": "stderr",
     "output_type": "stream",
     "text": [
      " 50%|██████████████████████████████████████████████████████████████████████████████████████▌                                                                                      | 9/18 [01:27<01:24,  9.37s/it]/dados/usuarios/mateus/projetos/absa/16_Doutorado_Implicit/doutorado16/lib/python3.9/site-packages/NERDA/preprocessing.py:80: UserWarning: Sentence #149 length 128 exceeds max_len 128 and has been truncated\n",
      "  warnings.warn(msg)\n",
      "100%|████████████████████████████████████████████████████████████████████████████████████████████████████████████████████████████████████████████████████████████████████████████| 18/18 [02:41<00:00,  8.97s/it]\n",
      "100%|██████████████████████████████████████████████████████████████████████████████████████████████████████████████████████████████████████████████████████████████████████████████| 4/4 [00:04<00:00,  1.10s/it]\n"
     ]
    },
    {
     "name": "stdout",
     "output_type": "stream",
     "text": [
      "Train Loss = 0.00033635048506160575 Valid Loss = 0.31722103327592777\n",
      "\n",
      " Epoch 37 / 40\n"
     ]
    },
    {
     "name": "stderr",
     "output_type": "stream",
     "text": [
      " 50%|██████████████████████████████████████████████████████████████████████████████████████▌                                                                                      | 9/18 [00:46<00:44,  4.97s/it]/dados/usuarios/mateus/projetos/absa/16_Doutorado_Implicit/doutorado16/lib/python3.9/site-packages/NERDA/preprocessing.py:80: UserWarning: Sentence #149 length 128 exceeds max_len 128 and has been truncated\n",
      "  warnings.warn(msg)\n",
      "100%|████████████████████████████████████████████████████████████████████████████████████████████████████████████████████████████████████████████████████████████████████████████| 18/18 [01:30<00:00,  5.01s/it]\n",
      "100%|██████████████████████████████████████████████████████████████████████████████████████████████████████████████████████████████████████████████████████████████████████████████| 4/4 [00:05<00:00,  1.39s/it]\n"
     ]
    },
    {
     "name": "stdout",
     "output_type": "stream",
     "text": [
      "Train Loss = 0.0004364898826073234 Valid Loss = 0.31345696049629623\n",
      "\n",
      " Epoch 38 / 40\n"
     ]
    },
    {
     "name": "stderr",
     "output_type": "stream",
     "text": [
      " 50%|██████████████████████████████████████████████████████████████████████████████████████▌                                                                                      | 9/18 [00:49<00:45,  5.09s/it]/dados/usuarios/mateus/projetos/absa/16_Doutorado_Implicit/doutorado16/lib/python3.9/site-packages/NERDA/preprocessing.py:80: UserWarning: Sentence #149 length 128 exceeds max_len 128 and has been truncated\n",
      "  warnings.warn(msg)\n",
      "100%|████████████████████████████████████████████████████████████████████████████████████████████████████████████████████████████████████████████████████████████████████████████| 18/18 [01:31<00:00,  5.10s/it]\n",
      "100%|██████████████████████████████████████████████████████████████████████████████████████████████████████████████████████████████████████████████████████████████████████████████| 4/4 [00:04<00:00,  1.06s/it]\n"
     ]
    },
    {
     "name": "stdout",
     "output_type": "stream",
     "text": [
      "Train Loss = 0.00045187467185314745 Valid Loss = 0.31118868041812675\n",
      "\n",
      " Epoch 39 / 40\n"
     ]
    },
    {
     "name": "stderr",
     "output_type": "stream",
     "text": [
      " 50%|██████████████████████████████████████████████████████████████████████████████████████▌                                                                                      | 9/18 [00:47<00:45,  5.08s/it]/dados/usuarios/mateus/projetos/absa/16_Doutorado_Implicit/doutorado16/lib/python3.9/site-packages/NERDA/preprocessing.py:80: UserWarning: Sentence #149 length 128 exceeds max_len 128 and has been truncated\n",
      "  warnings.warn(msg)\n",
      "100%|████████████████████████████████████████████████████████████████████████████████████████████████████████████████████████████████████████████████████████████████████████████| 18/18 [01:29<00:00,  4.97s/it]\n",
      "100%|██████████████████████████████████████████████████████████████████████████████████████████████████████████████████████████████████████████████████████████████████████████████| 4/4 [00:04<00:00,  1.13s/it]\n"
     ]
    },
    {
     "name": "stdout",
     "output_type": "stream",
     "text": [
      "Train Loss = 0.0002208370206062682 Valid Loss = 0.31072520289853856\n",
      "\n",
      " Epoch 40 / 40\n"
     ]
    },
    {
     "name": "stderr",
     "output_type": "stream",
     "text": [
      " 50%|██████████████████████████████████████████████████████████████████████████████████████▌                                                                                      | 9/18 [00:47<00:45,  5.06s/it]/dados/usuarios/mateus/projetos/absa/16_Doutorado_Implicit/doutorado16/lib/python3.9/site-packages/NERDA/preprocessing.py:80: UserWarning: Sentence #149 length 128 exceeds max_len 128 and has been truncated\n",
      "  warnings.warn(msg)\n",
      "100%|████████████████████████████████████████████████████████████████████████████████████████████████████████████████████████████████████████████████████████████████████████████| 18/18 [01:30<00:00,  5.05s/it]\n",
      "100%|██████████████████████████████████████████████████████████████████████████████████████████████████████████████████████████████████████████████████████████████████████████████| 4/4 [00:04<00:00,  1.08s/it]"
     ]
    },
    {
     "name": "stdout",
     "output_type": "stream",
     "text": [
      "Train Loss = 0.0007504083809585103 Valid Loss = 0.31072520289853856\n"
     ]
    },
    {
     "name": "stderr",
     "output_type": "stream",
     "text": [
      "\n"
     ]
    },
    {
     "data": {
      "text/plain": [
       "'Model trained successfully'"
      ]
     },
     "execution_count": 19,
     "metadata": {},
     "output_type": "execute_result"
    }
   ],
   "source": [
    "model.train()"
   ]
  },
  {
   "cell_type": "code",
   "execution_count": 20,
   "id": "78581200-2995-426c-9ead-d2170d23d4e6",
   "metadata": {},
   "outputs": [
    {
     "name": "stderr",
     "output_type": "stream",
     "text": [
      "/dados/usuarios/mateus/projetos/absa/16_Doutorado_Implicit/doutorado16/lib/python3.9/site-packages/NERDA/performance.py:39: UserWarning: length of observed values exceeded lengths of predicted values in 23 cases and were truncated. _Consider_ increasing max_len parameter for your model.\n",
      "  warnings.warn(f'length of observed values exceeded lengths of predicted values in {n_exceeds} cases and were truncated. _Consider_ increasing max_len parameter for your model.')\n",
      "/dados/usuarios/mateus/projetos/absa/16_Doutorado_Implicit/doutorado16/lib/python3.9/site-packages/NERDA/performance.py:39: UserWarning: length of observed values exceeded lengths of predicted values in 23 cases and were truncated. _Consider_ increasing max_len parameter for your model.\n",
      "  warnings.warn(f'length of observed values exceeded lengths of predicted values in {n_exceeds} cases and were truncated. _Consider_ increasing max_len parameter for your model.')\n",
      "/dados/usuarios/mateus/projetos/absa/16_Doutorado_Implicit/doutorado16/lib/python3.9/site-packages/NERDA/performance.py:39: UserWarning: length of observed values exceeded lengths of predicted values in 23 cases and were truncated. _Consider_ increasing max_len parameter for your model.\n",
      "  warnings.warn(f'length of observed values exceeded lengths of predicted values in {n_exceeds} cases and were truncated. _Consider_ increasing max_len parameter for your model.')\n"
     ]
    },
    {
     "data": {
      "text/html": [
       "<div>\n",
       "<style scoped>\n",
       "    .dataframe tbody tr th:only-of-type {\n",
       "        vertical-align: middle;\n",
       "    }\n",
       "\n",
       "    .dataframe tbody tr th {\n",
       "        vertical-align: top;\n",
       "    }\n",
       "\n",
       "    .dataframe thead th {\n",
       "        text-align: right;\n",
       "    }\n",
       "</style>\n",
       "<table border=\"1\" class=\"dataframe\">\n",
       "  <thead>\n",
       "    <tr style=\"text-align: right;\">\n",
       "      <th></th>\n",
       "      <th>Level</th>\n",
       "      <th>F1-Score</th>\n",
       "      <th>Precision</th>\n",
       "      <th>Recall</th>\n",
       "    </tr>\n",
       "  </thead>\n",
       "  <tbody>\n",
       "    <tr>\n",
       "      <th>0</th>\n",
       "      <td>B-asp</td>\n",
       "      <td>0.463277</td>\n",
       "      <td>0.460674</td>\n",
       "      <td>0.465909</td>\n",
       "    </tr>\n",
       "    <tr>\n",
       "      <th>1</th>\n",
       "      <td>I-asp</td>\n",
       "      <td>0.404255</td>\n",
       "      <td>0.431818</td>\n",
       "      <td>0.380000</td>\n",
       "    </tr>\n",
       "    <tr>\n",
       "      <th>0</th>\n",
       "      <td>AVG_MICRO</td>\n",
       "      <td>0.450893</td>\n",
       "      <td>NaN</td>\n",
       "      <td>NaN</td>\n",
       "    </tr>\n",
       "    <tr>\n",
       "      <th>0</th>\n",
       "      <td>AVG_MICRO</td>\n",
       "      <td>0.433766</td>\n",
       "      <td>NaN</td>\n",
       "      <td>NaN</td>\n",
       "    </tr>\n",
       "  </tbody>\n",
       "</table>\n",
       "</div>"
      ],
      "text/plain": [
       "       Level  F1-Score  Precision    Recall\n",
       "0      B-asp  0.463277   0.460674  0.465909\n",
       "1      I-asp  0.404255   0.431818  0.380000\n",
       "0  AVG_MICRO  0.450893        NaN       NaN\n",
       "0  AVG_MICRO  0.433766        NaN       NaN"
      ]
     },
     "execution_count": 20,
     "metadata": {},
     "output_type": "execute_result"
    }
   ],
   "source": [
    "model.evaluate_performance(test)"
   ]
  },
  {
   "cell_type": "code",
   "execution_count": 21,
   "id": "4f994c97-0ce1-4471-bc0e-d32849beff6e",
   "metadata": {},
   "outputs": [],
   "source": [
    "y_pred = model.predict(test['sentences'])"
   ]
  },
  {
   "cell_type": "code",
   "execution_count": 22,
   "id": "9f6995c6-766b-4b85-a106-0f8f065dc79d",
   "metadata": {},
   "outputs": [
    {
     "data": {
      "text/plain": [
       "{'totalAspects': 158,\n",
       " 'pred': 85,\n",
       " 'tp': 75,\n",
       " 'fp': 46,\n",
       " 'fn': 83,\n",
       " 'precisao': 0.6198347107438017,\n",
       " 'precisaoLaplace': 0.6178861788617886,\n",
       " 'revocacao': 0.47468354430379744,\n",
       " 'medidaf': 0.5376344086021505,\n",
       " 'totalExplicitos': 134,\n",
       " 'explicitosOk': 35,\n",
       " 'pExplicitos': 0.26119402985074625,\n",
       " 'totalImplicitos': 24,\n",
       " 'implicitosOk': 4,\n",
       " 'pImplicitos': 0.16666666666666666}"
      ]
     },
     "execution_count": 22,
     "metadata": {},
     "output_type": "execute_result"
    }
   ],
   "source": [
    "aspects = result2aspecList(y_pred, test['sentences'])\n",
    "res = calculaMetricas(aspects, aspectsTest['datasets']['smartphone'], lemma=False, output=False)\n",
    "res"
   ]
  },
  {
   "cell_type": "code",
   "execution_count": 28,
   "id": "37c2dfde-4083-4420-ae5c-8eae3f13d859",
   "metadata": {},
   "outputs": [
    {
     "data": {
      "text/plain": [
       "{'totalAspects': 158,\n",
       " 'pred': 85,\n",
       " 'tp': 75,\n",
       " 'fp': 46,\n",
       " 'fn': 83,\n",
       " 'precisao': 0.6198347107438017,\n",
       " 'precisaoLaplace': 0.6178861788617886,\n",
       " 'revocacao': 0.47468354430379744,\n",
       " 'medidaf': 0.5376344086021505,\n",
       " 'totalExplicitos': 134,\n",
       " 'explicitosOk': 35,\n",
       " 'pExplicitos': 0.26119402985074625,\n",
       " 'explicitsList': ['produto',\n",
       "  'touch',\n",
       "  'funções',\n",
       "  'menu',\n",
       "  'smartphone',\n",
       "  'wifi',\n",
       "  'recursos',\n",
       "  'gps',\n",
       "  'bateria',\n",
       "  'wi-fi',\n",
       "  'visor',\n",
       "  'fotografia',\n",
       "  'aparelho',\n",
       "  'luz de flash',\n",
       "  'botões',\n",
       "  'celular',\n",
       "  'memoria',\n",
       "  'camera digital',\n",
       "  'preço',\n",
       "  'volume de áudio',\n",
       "  'display',\n",
       "  'camera',\n",
       "  'internet',\n",
       "  'nokia',\n",
       "  'câmera',\n",
       "  'radio',\n",
       "  'funcionalidades',\n",
       "  'qualidade sonora',\n",
       "  'custo-benefício',\n",
       "  'fabricante',\n",
       "  'carregador de carro',\n",
       "  'marca',\n",
       "  'rádio',\n",
       "  'modelo',\n",
       "  'e-mail'],\n",
       " 'totalImplicitos': 24,\n",
       " 'implicitosOk': 4,\n",
       " 'pImplicitos': 0.16666666666666666,\n",
       " 'implicitsList': ['trava', 'prático', 'pequeno', 'fácil de mexer'],\n",
       " 'tipos': {'Event': {'Verb': 3}, 'Qualification': {'Adjective': 2}}}"
      ]
     },
     "execution_count": 28,
     "metadata": {},
     "output_type": "execute_result"
    }
   ],
   "source": [
    "aspects = result2aspecList(y_pred, test['sentences'])\n",
    "res = calculaMetricas(\n",
    "    aspects, \n",
    "    aspectsTest['datasets'][domain], \n",
    "    tipos,\n",
    "    lemma=False, \n",
    "    output=False\n",
    ")\n",
    "\n",
    "xml = dicttoxml(res, attr_type=False, custom_root='resultados')\n",
    "with open('../resultados/bert_multi_indomain_'+domain+'.xml', 'w') as file:\n",
    "    dom = parseString(xml)\n",
    "    file.write(dom.toprettyxml())    \n",
    "res"
   ]
  },
  {
   "cell_type": "markdown",
   "id": "8353860f-469f-4213-b25b-b4b7eab9bc95",
   "metadata": {},
   "source": [
    "## Bert Portuguese: Bertimbau"
   ]
  },
  {
   "cell_type": "code",
   "execution_count": 29,
   "id": "1560f9ae-557a-46aa-a16f-31f1c2709db4",
   "metadata": {},
   "outputs": [
    {
     "name": "stdout",
     "output_type": "stream",
     "text": [
      "Device automatically set to: cpu\n"
     ]
    },
    {
     "name": "stderr",
     "output_type": "stream",
     "text": [
      "Some weights of the model checkpoint at neuralmind/bert-base-portuguese-cased were not used when initializing BertModel: ['cls.predictions.decoder.weight', 'cls.seq_relationship.bias', 'cls.predictions.bias', 'cls.predictions.transform.dense.bias', 'cls.predictions.transform.LayerNorm.bias', 'cls.seq_relationship.weight', 'cls.predictions.transform.dense.weight', 'cls.predictions.transform.LayerNorm.weight']\n",
      "- This IS expected if you are initializing BertModel from the checkpoint of a model trained on another task or with another architecture (e.g. initializing a BertForSequenceClassification model from a BertForPreTraining model).\n",
      "- This IS NOT expected if you are initializing BertModel from the checkpoint of a model that you expect to be exactly identical (initializing a BertForSequenceClassification model from a BertForSequenceClassification model).\n"
     ]
    }
   ],
   "source": [
    "transformer = 'neuralmind/bert-base-portuguese-cased'\n",
    "\n",
    "# hyperparameters for network\n",
    "dropout = 0.1\n",
    "# hyperparameters for training\n",
    "training_hyperparameters = {\n",
    "    'epochs' : 40,\n",
    "    'warmup_steps' : 500,                                                   \n",
    "    'train_batch_size': 13,\n",
    "    'learning_rate': 0.0001\n",
    "}\n",
    "\n",
    "from NERDA.models import NERDA\n",
    "model2 = NERDA(\n",
    "    dataset_training = training,\n",
    "    dataset_validation = validation,\n",
    "    tag_scheme = tag_scheme, \n",
    "    tag_outside = 'O',\n",
    "    transformer = transformer,\n",
    "    dropout = dropout,\n",
    "    hyperparameters = training_hyperparameters\n",
    ")"
   ]
  },
  {
   "cell_type": "code",
   "execution_count": 30,
   "id": "92ee9337-c925-4459-838b-af10012dbf2d",
   "metadata": {},
   "outputs": [
    {
     "name": "stdout",
     "output_type": "stream",
     "text": [
      "\n",
      " Epoch 1 / 40\n"
     ]
    },
    {
     "name": "stderr",
     "output_type": "stream",
     "text": [
      " 50%|██████████████████████████████████████████████████████████████████████████████████████▌                                                                                      | 9/18 [02:58<01:03,  7.01s/it]/dados/usuarios/mateus/projetos/absa/16_Doutorado_Implicit/doutorado16/lib/python3.9/site-packages/NERDA/preprocessing.py:80: UserWarning: Sentence #149 length 131 exceeds max_len 128 and has been truncated\n",
      "  warnings.warn(msg)\n",
      "100%|████████████████████████████████████████████████████████████████████████████████████████████████████████████████████████████████████████████████████████████████████████████| 18/18 [03:46<00:00, 12.59s/it]\n",
      "100%|██████████████████████████████████████████████████████████████████████████████████████████████████████████████████████████████████████████████████████████████████████████████| 4/4 [00:05<00:00,  1.27s/it]\n"
     ]
    },
    {
     "name": "stdout",
     "output_type": "stream",
     "text": [
      "Train Loss = 1.0293202035956912 Valid Loss = 0.737432524561882\n",
      "\n",
      " Epoch 2 / 40\n"
     ]
    },
    {
     "name": "stderr",
     "output_type": "stream",
     "text": [
      " 50%|██████████████████████████████████████████████████████████████████████████████████████▌                                                                                      | 9/18 [00:43<00:41,  4.64s/it]/dados/usuarios/mateus/projetos/absa/16_Doutorado_Implicit/doutorado16/lib/python3.9/site-packages/NERDA/preprocessing.py:80: UserWarning: Sentence #149 length 131 exceeds max_len 128 and has been truncated\n",
      "  warnings.warn(msg)\n",
      "100%|████████████████████████████████████████████████████████████████████████████████████████████████████████████████████████████████████████████████████████████████████████████| 18/18 [01:22<00:00,  4.57s/it]\n",
      "100%|██████████████████████████████████████████████████████████████████████████████████████████████████████████████████████████████████████████████████████████████████████████████| 4/4 [00:04<00:00,  1.08s/it]\n"
     ]
    },
    {
     "name": "stdout",
     "output_type": "stream",
     "text": [
      "Train Loss = 0.5076665927966436 Valid Loss = 0.3023553416132927\n",
      "\n",
      " Epoch 3 / 40\n"
     ]
    },
    {
     "name": "stderr",
     "output_type": "stream",
     "text": [
      " 50%|██████████████████████████████████████████████████████████████████████████████████████▌                                                                                      | 9/18 [00:43<00:41,  4.59s/it]/dados/usuarios/mateus/projetos/absa/16_Doutorado_Implicit/doutorado16/lib/python3.9/site-packages/NERDA/preprocessing.py:80: UserWarning: Sentence #149 length 131 exceeds max_len 128 and has been truncated\n",
      "  warnings.warn(msg)\n",
      "100%|████████████████████████████████████████████████████████████████████████████████████████████████████████████████████████████████████████████████████████████████████████████| 18/18 [01:22<00:00,  4.57s/it]\n",
      "100%|██████████████████████████████████████████████████████████████████████████████████████████████████████████████████████████████████████████████████████████████████████████████| 4/4 [00:03<00:00,  1.02it/s]\n"
     ]
    },
    {
     "name": "stdout",
     "output_type": "stream",
     "text": [
      "Train Loss = 0.3618508411778344 Valid Loss = 0.31188876926898956\n",
      "\n",
      " Epoch 4 / 40\n"
     ]
    },
    {
     "name": "stderr",
     "output_type": "stream",
     "text": [
      " 50%|██████████████████████████████████████████████████████████████████████████████████████▌                                                                                      | 9/18 [00:42<00:41,  4.60s/it]/dados/usuarios/mateus/projetos/absa/16_Doutorado_Implicit/doutorado16/lib/python3.9/site-packages/NERDA/preprocessing.py:80: UserWarning: Sentence #149 length 131 exceeds max_len 128 and has been truncated\n",
      "  warnings.warn(msg)\n",
      "100%|████████████████████████████████████████████████████████████████████████████████████████████████████████████████████████████████████████████████████████████████████████████| 18/18 [01:22<00:00,  4.61s/it]\n",
      "100%|██████████████████████████████████████████████████████████████████████████████████████████████████████████████████████████████████████████████████████████████████████████████| 4/4 [00:04<00:00,  1.24s/it]\n"
     ]
    },
    {
     "name": "stdout",
     "output_type": "stream",
     "text": [
      "Train Loss = 0.34399791144662434 Valid Loss = 0.31199097260832787\n",
      "\n",
      " Epoch 5 / 40\n"
     ]
    },
    {
     "name": "stderr",
     "output_type": "stream",
     "text": [
      " 50%|██████████████████████████████████████████████████████████████████████████████████████▌                                                                                      | 9/18 [00:42<00:41,  4.61s/it]/dados/usuarios/mateus/projetos/absa/16_Doutorado_Implicit/doutorado16/lib/python3.9/site-packages/NERDA/preprocessing.py:80: UserWarning: Sentence #149 length 131 exceeds max_len 128 and has been truncated\n",
      "  warnings.warn(msg)\n",
      "100%|████████████████████████████████████████████████████████████████████████████████████████████████████████████████████████████████████████████████████████████████████████████| 18/18 [01:21<00:00,  4.52s/it]\n",
      "100%|██████████████████████████████████████████████████████████████████████████████████████████████████████████████████████████████████████████████████████████████████████████████| 4/4 [00:04<00:00,  1.15s/it]\n"
     ]
    },
    {
     "name": "stdout",
     "output_type": "stream",
     "text": [
      "Train Loss = 0.30328362352318233 Valid Loss = 0.2664742274209857\n",
      "\n",
      " Epoch 6 / 40\n"
     ]
    },
    {
     "name": "stderr",
     "output_type": "stream",
     "text": [
      " 50%|██████████████████████████████████████████████████████████████████████████████████████▌                                                                                      | 9/18 [00:42<00:41,  4.58s/it]/dados/usuarios/mateus/projetos/absa/16_Doutorado_Implicit/doutorado16/lib/python3.9/site-packages/NERDA/preprocessing.py:80: UserWarning: Sentence #149 length 131 exceeds max_len 128 and has been truncated\n",
      "  warnings.warn(msg)\n",
      "100%|████████████████████████████████████████████████████████████████████████████████████████████████████████████████████████████████████████████████████████████████████████████| 18/18 [01:21<00:00,  4.55s/it]\n",
      "100%|██████████████████████████████████████████████████████████████████████████████████████████████████████████████████████████████████████████████████████████████████████████████| 4/4 [00:04<00:00,  1.08s/it]\n"
     ]
    },
    {
     "name": "stdout",
     "output_type": "stream",
     "text": [
      "Train Loss = 0.24231759210427603 Valid Loss = 0.21507405245210975\n",
      "\n",
      " Epoch 7 / 40\n"
     ]
    },
    {
     "name": "stderr",
     "output_type": "stream",
     "text": [
      " 50%|██████████████████████████████████████████████████████████████████████████████████████▌                                                                                      | 9/18 [00:42<00:41,  4.63s/it]/dados/usuarios/mateus/projetos/absa/16_Doutorado_Implicit/doutorado16/lib/python3.9/site-packages/NERDA/preprocessing.py:80: UserWarning: Sentence #149 length 131 exceeds max_len 128 and has been truncated\n",
      "  warnings.warn(msg)\n",
      "100%|████████████████████████████████████████████████████████████████████████████████████████████████████████████████████████████████████████████████████████████████████████████| 18/18 [01:21<00:00,  4.53s/it]\n",
      "100%|██████████████████████████████████████████████████████████████████████████████████████████████████████████████████████████████████████████████████████████████████████████████| 4/4 [00:03<00:00,  1.00it/s]\n"
     ]
    },
    {
     "name": "stdout",
     "output_type": "stream",
     "text": [
      "Train Loss = 0.18836064346962506 Valid Loss = 0.1942410451010801\n",
      "\n",
      " Epoch 8 / 40\n"
     ]
    },
    {
     "name": "stderr",
     "output_type": "stream",
     "text": [
      " 50%|██████████████████████████████████████████████████████████████████████████████████████▌                                                                                      | 9/18 [00:47<00:53,  5.96s/it]/dados/usuarios/mateus/projetos/absa/16_Doutorado_Implicit/doutorado16/lib/python3.9/site-packages/NERDA/preprocessing.py:80: UserWarning: Sentence #149 length 131 exceeds max_len 128 and has been truncated\n",
      "  warnings.warn(msg)\n",
      "100%|████████████████████████████████████████████████████████████████████████████████████████████████████████████████████████████████████████████████████████████████████████████| 18/18 [01:43<00:00,  5.75s/it]\n",
      "100%|██████████████████████████████████████████████████████████████████████████████████████████████████████████████████████████████████████████████████████████████████████████████| 4/4 [00:05<00:00,  1.27s/it]\n"
     ]
    },
    {
     "name": "stdout",
     "output_type": "stream",
     "text": [
      "Train Loss = 0.15885658810536066 Valid Loss = 0.17566453875042498\n",
      "\n",
      " Epoch 9 / 40\n"
     ]
    },
    {
     "name": "stderr",
     "output_type": "stream",
     "text": [
      " 50%|██████████████████████████████████████████████████████████████████████████████████████▌                                                                                      | 9/18 [01:02<01:06,  7.43s/it]/dados/usuarios/mateus/projetos/absa/16_Doutorado_Implicit/doutorado16/lib/python3.9/site-packages/NERDA/preprocessing.py:80: UserWarning: Sentence #149 length 131 exceeds max_len 128 and has been truncated\n",
      "  warnings.warn(msg)\n",
      "100%|████████████████████████████████████████████████████████████████████████████████████████████████████████████████████████████████████████████████████████████████████████████| 18/18 [02:15<00:00,  7.55s/it]\n",
      "100%|██████████████████████████████████████████████████████████████████████████████████████████████████████████████████████████████████████████████████████████████████████████████| 4/4 [00:07<00:00,  1.82s/it]\n"
     ]
    },
    {
     "name": "stdout",
     "output_type": "stream",
     "text": [
      "Train Loss = 0.10971690424614483 Valid Loss = 0.15220481509459205\n",
      "\n",
      " Epoch 10 / 40\n"
     ]
    },
    {
     "name": "stderr",
     "output_type": "stream",
     "text": [
      " 50%|██████████████████████████████████████████████████████████████████████████████████████▌                                                                                      | 9/18 [00:59<00:48,  5.42s/it]/dados/usuarios/mateus/projetos/absa/16_Doutorado_Implicit/doutorado16/lib/python3.9/site-packages/NERDA/preprocessing.py:80: UserWarning: Sentence #149 length 131 exceeds max_len 128 and has been truncated\n",
      "  warnings.warn(msg)\n",
      "100%|████████████████████████████████████████████████████████████████████████████████████████████████████████████████████████████████████████████████████████████████████████████| 18/18 [01:41<00:00,  5.61s/it]\n",
      "100%|██████████████████████████████████████████████████████████████████████████████████████████████████████████████████████████████████████████████████████████████████████████████| 4/4 [00:04<00:00,  1.08s/it]\n"
     ]
    },
    {
     "name": "stdout",
     "output_type": "stream",
     "text": [
      "Train Loss = 0.07791781735916932 Valid Loss = 0.15147275212802924\n",
      "\n",
      " Epoch 11 / 40\n"
     ]
    },
    {
     "name": "stderr",
     "output_type": "stream",
     "text": [
      " 50%|██████████████████████████████████████████████████████████████████████████████████████▌                                                                                      | 9/18 [00:44<00:44,  5.00s/it]/dados/usuarios/mateus/projetos/absa/16_Doutorado_Implicit/doutorado16/lib/python3.9/site-packages/NERDA/preprocessing.py:80: UserWarning: Sentence #149 length 131 exceeds max_len 128 and has been truncated\n",
      "  warnings.warn(msg)\n",
      "100%|████████████████████████████████████████████████████████████████████████████████████████████████████████████████████████████████████████████████████████████████████████████| 18/18 [01:24<00:00,  4.70s/it]\n",
      "100%|██████████████████████████████████████████████████████████████████████████████████████████████████████████████████████████████████████████████████████████████████████████████| 4/4 [00:04<00:00,  1.07s/it]\n"
     ]
    },
    {
     "name": "stdout",
     "output_type": "stream",
     "text": [
      "Train Loss = 0.06073783172501458 Valid Loss = 0.17077776382211596\n",
      "\n",
      " Epoch 12 / 40\n"
     ]
    },
    {
     "name": "stderr",
     "output_type": "stream",
     "text": [
      " 50%|██████████████████████████████████████████████████████████████████████████████████████▌                                                                                      | 9/18 [00:45<00:44,  4.98s/it]/dados/usuarios/mateus/projetos/absa/16_Doutorado_Implicit/doutorado16/lib/python3.9/site-packages/NERDA/preprocessing.py:80: UserWarning: Sentence #149 length 131 exceeds max_len 128 and has been truncated\n",
      "  warnings.warn(msg)\n",
      "100%|████████████████████████████████████████████████████████████████████████████████████████████████████████████████████████████████████████████████████████████████████████████| 18/18 [01:26<00:00,  4.78s/it]\n",
      "100%|██████████████████████████████████████████████████████████████████████████████████████████████████████████████████████████████████████████████████████████████████████████████| 4/4 [00:04<00:00,  1.11s/it]\n"
     ]
    },
    {
     "name": "stdout",
     "output_type": "stream",
     "text": [
      "Train Loss = 0.05336807885517677 Valid Loss = 0.16579443484806689\n",
      "\n",
      " Epoch 13 / 40\n"
     ]
    },
    {
     "name": "stderr",
     "output_type": "stream",
     "text": [
      " 50%|██████████████████████████████████████████████████████████████████████████████████████▌                                                                                      | 9/18 [00:45<00:44,  4.91s/it]/dados/usuarios/mateus/projetos/absa/16_Doutorado_Implicit/doutorado16/lib/python3.9/site-packages/NERDA/preprocessing.py:80: UserWarning: Sentence #149 length 131 exceeds max_len 128 and has been truncated\n",
      "  warnings.warn(msg)\n",
      "100%|████████████████████████████████████████████████████████████████████████████████████████████████████████████████████████████████████████████████████████████████████████████| 18/18 [01:26<00:00,  4.80s/it]\n",
      "100%|██████████████████████████████████████████████████████████████████████████████████████████████████████████████████████████████████████████████████████████████████████████████| 4/4 [00:04<00:00,  1.07s/it]\n"
     ]
    },
    {
     "name": "stdout",
     "output_type": "stream",
     "text": [
      "Train Loss = 0.058874277915391654 Valid Loss = 0.16356346850807313\n",
      "\n",
      " Epoch 14 / 40\n"
     ]
    },
    {
     "name": "stderr",
     "output_type": "stream",
     "text": [
      " 50%|██████████████████████████████████████████████████████████████████████████████████████▌                                                                                      | 9/18 [00:46<00:44,  4.91s/it]/dados/usuarios/mateus/projetos/absa/16_Doutorado_Implicit/doutorado16/lib/python3.9/site-packages/NERDA/preprocessing.py:80: UserWarning: Sentence #149 length 131 exceeds max_len 128 and has been truncated\n",
      "  warnings.warn(msg)\n",
      "100%|████████████████████████████████████████████████████████████████████████████████████████████████████████████████████████████████████████████████████████████████████████████| 18/18 [01:27<00:00,  4.86s/it]\n",
      "100%|██████████████████████████████████████████████████████████████████████████████████████████████████████████████████████████████████████████████████████████████████████████████| 4/4 [00:04<00:00,  1.07s/it]\n"
     ]
    },
    {
     "name": "stdout",
     "output_type": "stream",
     "text": [
      "Train Loss = 0.03991332815753089 Valid Loss = 0.3665002171037486\n",
      "\n",
      " Epoch 15 / 40\n"
     ]
    },
    {
     "name": "stderr",
     "output_type": "stream",
     "text": [
      " 50%|██████████████████████████████████████████████████████████████████████████████████████▌                                                                                      | 9/18 [00:46<00:45,  5.07s/it]/dados/usuarios/mateus/projetos/absa/16_Doutorado_Implicit/doutorado16/lib/python3.9/site-packages/NERDA/preprocessing.py:80: UserWarning: Sentence #149 length 131 exceeds max_len 128 and has been truncated\n",
      "  warnings.warn(msg)\n",
      "100%|████████████████████████████████████████████████████████████████████████████████████████████████████████████████████████████████████████████████████████████████████████████| 18/18 [01:29<00:00,  5.00s/it]\n",
      "100%|██████████████████████████████████████████████████████████████████████████████████████████████████████████████████████████████████████████████████████████████████████████████| 4/4 [00:04<00:00,  1.09s/it]\n"
     ]
    },
    {
     "name": "stdout",
     "output_type": "stream",
     "text": [
      "Train Loss = 0.06692078901040885 Valid Loss = 0.20699158045317745\n",
      "\n",
      " Epoch 16 / 40\n"
     ]
    },
    {
     "name": "stderr",
     "output_type": "stream",
     "text": [
      " 50%|██████████████████████████████████████████████████████████████████████████████████████▌                                                                                      | 9/18 [00:48<00:46,  5.18s/it]/dados/usuarios/mateus/projetos/absa/16_Doutorado_Implicit/doutorado16/lib/python3.9/site-packages/NERDA/preprocessing.py:80: UserWarning: Sentence #149 length 131 exceeds max_len 128 and has been truncated\n",
      "  warnings.warn(msg)\n",
      "100%|████████████████████████████████████████████████████████████████████████████████████████████████████████████████████████████████████████████████████████████████████████████| 18/18 [01:32<00:00,  5.14s/it]\n",
      "100%|██████████████████████████████████████████████████████████████████████████████████████████████████████████████████████████████████████████████████████████████████████████████| 4/4 [00:04<00:00,  1.15s/it]\n"
     ]
    },
    {
     "name": "stdout",
     "output_type": "stream",
     "text": [
      "Train Loss = 0.06646789393077294 Valid Loss = 0.16446237009949982\n",
      "\n",
      " Epoch 17 / 40\n"
     ]
    },
    {
     "name": "stderr",
     "output_type": "stream",
     "text": [
      " 50%|██████████████████████████████████████████████████████████████████████████████████████▌                                                                                      | 9/18 [00:49<00:45,  5.05s/it]/dados/usuarios/mateus/projetos/absa/16_Doutorado_Implicit/doutorado16/lib/python3.9/site-packages/NERDA/preprocessing.py:80: UserWarning: Sentence #149 length 131 exceeds max_len 128 and has been truncated\n",
      "  warnings.warn(msg)\n",
      "100%|████████████████████████████████████████████████████████████████████████████████████████████████████████████████████████████████████████████████████████████████████████████| 18/18 [01:29<00:00,  4.98s/it]\n",
      "100%|██████████████████████████████████████████████████████████████████████████████████████████████████████████████████████████████████████████████████████████████████████████████| 4/4 [00:04<00:00,  1.14s/it]\n"
     ]
    },
    {
     "name": "stdout",
     "output_type": "stream",
     "text": [
      "Train Loss = 0.031438405780742563 Valid Loss = 0.16635028067685198\n",
      "\n",
      " Epoch 18 / 40\n"
     ]
    },
    {
     "name": "stderr",
     "output_type": "stream",
     "text": [
      " 50%|██████████████████████████████████████████████████████████████████████████████████████▌                                                                                      | 9/18 [00:44<00:42,  4.71s/it]/dados/usuarios/mateus/projetos/absa/16_Doutorado_Implicit/doutorado16/lib/python3.9/site-packages/NERDA/preprocessing.py:80: UserWarning: Sentence #149 length 131 exceeds max_len 128 and has been truncated\n",
      "  warnings.warn(msg)\n",
      "100%|████████████████████████████████████████████████████████████████████████████████████████████████████████████████████████████████████████████████████████████████████████████| 18/18 [01:24<00:00,  4.70s/it]\n",
      "100%|██████████████████████████████████████████████████████████████████████████████████████████████████████████████████████████████████████████████████████████████████████████████| 4/4 [00:04<00:00,  1.13s/it]\n"
     ]
    },
    {
     "name": "stdout",
     "output_type": "stream",
     "text": [
      "Train Loss = 0.014349310322561197 Valid Loss = 0.16158396429818822\n",
      "\n",
      " Epoch 19 / 40\n"
     ]
    },
    {
     "name": "stderr",
     "output_type": "stream",
     "text": [
      " 50%|██████████████████████████████████████████████████████████████████████████████████████▌                                                                                      | 9/18 [00:44<00:43,  4.78s/it]/dados/usuarios/mateus/projetos/absa/16_Doutorado_Implicit/doutorado16/lib/python3.9/site-packages/NERDA/preprocessing.py:80: UserWarning: Sentence #149 length 131 exceeds max_len 128 and has been truncated\n",
      "  warnings.warn(msg)\n",
      "100%|████████████████████████████████████████████████████████████████████████████████████████████████████████████████████████████████████████████████████████████████████████████| 18/18 [01:24<00:00,  4.70s/it]\n",
      "100%|██████████████████████████████████████████████████████████████████████████████████████████████████████████████████████████████████████████████████████████████████████████████| 4/4 [00:04<00:00,  1.02s/it]\n"
     ]
    },
    {
     "name": "stdout",
     "output_type": "stream",
     "text": [
      "Train Loss = 0.006359619301899026 Valid Loss = 0.22305935739859706\n",
      "\n",
      " Epoch 20 / 40\n"
     ]
    },
    {
     "name": "stderr",
     "output_type": "stream",
     "text": [
      " 50%|██████████████████████████████████████████████████████████████████████████████████████▌                                                                                      | 9/18 [00:43<00:42,  4.73s/it]/dados/usuarios/mateus/projetos/absa/16_Doutorado_Implicit/doutorado16/lib/python3.9/site-packages/NERDA/preprocessing.py:80: UserWarning: Sentence #149 length 131 exceeds max_len 128 and has been truncated\n",
      "  warnings.warn(msg)\n",
      "100%|████████████████████████████████████████████████████████████████████████████████████████████████████████████████████████████████████████████████████████████████████████████| 18/18 [01:25<00:00,  4.76s/it]\n",
      "100%|██████████████████████████████████████████████████████████████████████████████████████████████████████████████████████████████████████████████████████████████████████████████| 4/4 [00:04<00:00,  1.07s/it]\n"
     ]
    },
    {
     "name": "stdout",
     "output_type": "stream",
     "text": [
      "Train Loss = 0.00478043584088381 Valid Loss = 0.20713626785436645\n",
      "\n",
      " Epoch 21 / 40\n"
     ]
    },
    {
     "name": "stderr",
     "output_type": "stream",
     "text": [
      " 50%|██████████████████████████████████████████████████████████████████████████████████████▌                                                                                      | 9/18 [00:43<00:41,  4.66s/it]/dados/usuarios/mateus/projetos/absa/16_Doutorado_Implicit/doutorado16/lib/python3.9/site-packages/NERDA/preprocessing.py:80: UserWarning: Sentence #149 length 131 exceeds max_len 128 and has been truncated\n",
      "  warnings.warn(msg)\n",
      "100%|████████████████████████████████████████████████████████████████████████████████████████████████████████████████████████████████████████████████████████████████████████████| 18/18 [01:23<00:00,  4.64s/it]\n",
      "100%|██████████████████████████████████████████████████████████████████████████████████████████████████████████████████████████████████████████████████████████████████████████████| 4/4 [00:04<00:00,  1.04s/it]\n"
     ]
    },
    {
     "name": "stdout",
     "output_type": "stream",
     "text": [
      "Train Loss = 0.002287159819388762 Valid Loss = 0.22681688105512876\n",
      "\n",
      " Epoch 22 / 40\n"
     ]
    },
    {
     "name": "stderr",
     "output_type": "stream",
     "text": [
      " 50%|██████████████████████████████████████████████████████████████████████████████████████▌                                                                                      | 9/18 [00:44<00:43,  4.86s/it]/dados/usuarios/mateus/projetos/absa/16_Doutorado_Implicit/doutorado16/lib/python3.9/site-packages/NERDA/preprocessing.py:80: UserWarning: Sentence #149 length 131 exceeds max_len 128 and has been truncated\n",
      "  warnings.warn(msg)\n",
      "100%|████████████████████████████████████████████████████████████████████████████████████████████████████████████████████████████████████████████████████████████████████████████| 18/18 [01:24<00:00,  4.67s/it]\n",
      "100%|██████████████████████████████████████████████████████████████████████████████████████████████████████████████████████████████████████████████████████████████████████████████| 4/4 [00:03<00:00,  1.01it/s]\n"
     ]
    },
    {
     "name": "stdout",
     "output_type": "stream",
     "text": [
      "Train Loss = 0.001119087970841469 Valid Loss = 0.2265292752526875\n",
      "\n",
      " Epoch 23 / 40\n"
     ]
    },
    {
     "name": "stderr",
     "output_type": "stream",
     "text": [
      " 50%|██████████████████████████████████████████████████████████████████████████████████████▌                                                                                      | 9/18 [00:44<00:43,  4.80s/it]/dados/usuarios/mateus/projetos/absa/16_Doutorado_Implicit/doutorado16/lib/python3.9/site-packages/NERDA/preprocessing.py:80: UserWarning: Sentence #149 length 131 exceeds max_len 128 and has been truncated\n",
      "  warnings.warn(msg)\n",
      "100%|████████████████████████████████████████████████████████████████████████████████████████████████████████████████████████████████████████████████████████████████████████████| 18/18 [01:24<00:00,  4.69s/it]\n",
      "100%|██████████████████████████████████████████████████████████████████████████████████████████████████████████████████████████████████████████████████████████████████████████████| 4/4 [00:05<00:00,  1.40s/it]\n"
     ]
    },
    {
     "name": "stdout",
     "output_type": "stream",
     "text": [
      "Train Loss = 0.0006715119298961428 Valid Loss = 0.2365492639146396\n",
      "\n",
      " Epoch 24 / 40\n"
     ]
    },
    {
     "name": "stderr",
     "output_type": "stream",
     "text": [
      " 50%|██████████████████████████████████████████████████████████████████████████████████████▌                                                                                      | 9/18 [00:44<00:41,  4.66s/it]/dados/usuarios/mateus/projetos/absa/16_Doutorado_Implicit/doutorado16/lib/python3.9/site-packages/NERDA/preprocessing.py:80: UserWarning: Sentence #149 length 131 exceeds max_len 128 and has been truncated\n",
      "  warnings.warn(msg)\n",
      "100%|████████████████████████████████████████████████████████████████████████████████████████████████████████████████████████████████████████████████████████████████████████████| 18/18 [01:26<00:00,  4.78s/it]\n",
      "100%|██████████████████████████████████████████████████████████████████████████████████████████████████████████████████████████████████████████████████████████████████████████████| 4/4 [00:04<00:00,  1.10s/it]\n"
     ]
    },
    {
     "name": "stdout",
     "output_type": "stream",
     "text": [
      "Train Loss = 0.0008828861577462198 Valid Loss = 0.247257155699117\n",
      "\n",
      " Epoch 25 / 40\n"
     ]
    },
    {
     "name": "stderr",
     "output_type": "stream",
     "text": [
      " 50%|██████████████████████████████████████████████████████████████████████████████████████▌                                                                                      | 9/18 [00:48<00:47,  5.24s/it]/dados/usuarios/mateus/projetos/absa/16_Doutorado_Implicit/doutorado16/lib/python3.9/site-packages/NERDA/preprocessing.py:80: UserWarning: Sentence #149 length 131 exceeds max_len 128 and has been truncated\n",
      "  warnings.warn(msg)\n",
      "100%|████████████████████████████████████████████████████████████████████████████████████████████████████████████████████████████████████████████████████████████████████████████| 18/18 [01:28<00:00,  4.89s/it]\n",
      "100%|██████████████████████████████████████████████████████████████████████████████████████████████████████████████████████████████████████████████████████████████████████████████| 4/4 [00:04<00:00,  1.03s/it]\n"
     ]
    },
    {
     "name": "stdout",
     "output_type": "stream",
     "text": [
      "Train Loss = 0.010972922142375156 Valid Loss = 0.22085479857014434\n",
      "\n",
      " Epoch 26 / 40\n"
     ]
    },
    {
     "name": "stderr",
     "output_type": "stream",
     "text": [
      " 50%|██████████████████████████████████████████████████████████████████████████████████████▌                                                                                      | 9/18 [00:44<00:43,  4.86s/it]/dados/usuarios/mateus/projetos/absa/16_Doutorado_Implicit/doutorado16/lib/python3.9/site-packages/NERDA/preprocessing.py:80: UserWarning: Sentence #149 length 131 exceeds max_len 128 and has been truncated\n",
      "  warnings.warn(msg)\n",
      "100%|████████████████████████████████████████████████████████████████████████████████████████████████████████████████████████████████████████████████████████████████████████████| 18/18 [01:24<00:00,  4.67s/it]\n",
      "100%|██████████████████████████████████████████████████████████████████████████████████████████████████████████████████████████████████████████████████████████████████████████████| 4/4 [00:04<00:00,  1.00s/it]\n"
     ]
    },
    {
     "name": "stdout",
     "output_type": "stream",
     "text": [
      "Train Loss = 0.0034058740517745414 Valid Loss = 0.19561730331042781\n",
      "\n",
      " Epoch 27 / 40\n"
     ]
    },
    {
     "name": "stderr",
     "output_type": "stream",
     "text": [
      " 50%|██████████████████████████████████████████████████████████████████████████████████████▌                                                                                      | 9/18 [00:45<00:43,  4.86s/it]/dados/usuarios/mateus/projetos/absa/16_Doutorado_Implicit/doutorado16/lib/python3.9/site-packages/NERDA/preprocessing.py:80: UserWarning: Sentence #149 length 131 exceeds max_len 128 and has been truncated\n",
      "  warnings.warn(msg)\n",
      "100%|████████████████████████████████████████████████████████████████████████████████████████████████████████████████████████████████████████████████████████████████████████████| 18/18 [01:25<00:00,  4.72s/it]\n",
      "100%|██████████████████████████████████████████████████████████████████████████████████████████████████████████████████████████████████████████████████████████████████████████████| 4/4 [00:03<00:00,  1.00it/s]\n"
     ]
    },
    {
     "name": "stdout",
     "output_type": "stream",
     "text": [
      "Train Loss = 0.0029317573902921546 Valid Loss = 0.20541306563973194\n",
      "\n",
      " Epoch 28 / 40\n"
     ]
    },
    {
     "name": "stderr",
     "output_type": "stream",
     "text": [
      " 50%|██████████████████████████████████████████████████████████████████████████████████████▌                                                                                      | 9/18 [00:44<00:43,  4.82s/it]/dados/usuarios/mateus/projetos/absa/16_Doutorado_Implicit/doutorado16/lib/python3.9/site-packages/NERDA/preprocessing.py:80: UserWarning: Sentence #149 length 131 exceeds max_len 128 and has been truncated\n",
      "  warnings.warn(msg)\n",
      "100%|████████████████████████████████████████████████████████████████████████████████████████████████████████████████████████████████████████████████████████████████████████████| 18/18 [01:23<00:00,  4.64s/it]\n",
      "100%|██████████████████████████████████████████████████████████████████████████████████████████████████████████████████████████████████████████████████████████████████████████████| 4/4 [00:03<00:00,  1.05it/s]\n"
     ]
    },
    {
     "name": "stdout",
     "output_type": "stream",
     "text": [
      "Train Loss = 0.0024456603342615482 Valid Loss = 0.2315644684022118\n",
      "\n",
      " Epoch 29 / 40\n"
     ]
    },
    {
     "name": "stderr",
     "output_type": "stream",
     "text": [
      " 50%|██████████████████████████████████████████████████████████████████████████████████████▌                                                                                      | 9/18 [00:44<00:42,  4.67s/it]/dados/usuarios/mateus/projetos/absa/16_Doutorado_Implicit/doutorado16/lib/python3.9/site-packages/NERDA/preprocessing.py:80: UserWarning: Sentence #149 length 131 exceeds max_len 128 and has been truncated\n",
      "  warnings.warn(msg)\n",
      "100%|████████████████████████████████████████████████████████████████████████████████████████████████████████████████████████████████████████████████████████████████████████████| 18/18 [01:23<00:00,  4.62s/it]\n",
      "100%|██████████████████████████████████████████████████████████████████████████████████████████████████████████████████████████████████████████████████████████████████████████████| 4/4 [00:04<00:00,  1.13s/it]\n"
     ]
    },
    {
     "name": "stdout",
     "output_type": "stream",
     "text": [
      "Train Loss = 0.001838508262557702 Valid Loss = 0.18059873488527955\n",
      "\n",
      " Epoch 30 / 40\n"
     ]
    },
    {
     "name": "stderr",
     "output_type": "stream",
     "text": [
      " 50%|██████████████████████████████████████████████████████████████████████████████████████▌                                                                                      | 9/18 [00:44<00:44,  4.94s/it]/dados/usuarios/mateus/projetos/absa/16_Doutorado_Implicit/doutorado16/lib/python3.9/site-packages/NERDA/preprocessing.py:80: UserWarning: Sentence #149 length 131 exceeds max_len 128 and has been truncated\n",
      "  warnings.warn(msg)\n",
      "100%|████████████████████████████████████████████████████████████████████████████████████████████████████████████████████████████████████████████████████████████████████████████| 18/18 [01:25<00:00,  4.75s/it]\n",
      "100%|██████████████████████████████████████████████████████████████████████████████████████████████████████████████████████████████████████████████████████████████████████████████| 4/4 [00:04<00:00,  1.05s/it]\n"
     ]
    },
    {
     "name": "stdout",
     "output_type": "stream",
     "text": [
      "Train Loss = 0.004332296513085667 Valid Loss = 0.19100739240457187\n",
      "\n",
      " Epoch 31 / 40\n"
     ]
    },
    {
     "name": "stderr",
     "output_type": "stream",
     "text": [
      " 50%|██████████████████████████████████████████████████████████████████████████████████████▌                                                                                      | 9/18 [00:43<00:41,  4.62s/it]/dados/usuarios/mateus/projetos/absa/16_Doutorado_Implicit/doutorado16/lib/python3.9/site-packages/NERDA/preprocessing.py:80: UserWarning: Sentence #149 length 131 exceeds max_len 128 and has been truncated\n",
      "  warnings.warn(msg)\n",
      "100%|████████████████████████████████████████████████████████████████████████████████████████████████████████████████████████████████████████████████████████████████████████████| 18/18 [01:23<00:00,  4.62s/it]\n",
      "100%|██████████████████████████████████████████████████████████████████████████████████████████████████████████████████████████████████████████████████████████████████████████████| 4/4 [00:05<00:00,  1.30s/it]\n"
     ]
    },
    {
     "name": "stdout",
     "output_type": "stream",
     "text": [
      "Train Loss = 0.004744019663323545 Valid Loss = 0.2227948934523738\n",
      "\n",
      " Epoch 32 / 40\n"
     ]
    },
    {
     "name": "stderr",
     "output_type": "stream",
     "text": [
      " 50%|██████████████████████████████████████████████████████████████████████████████████████▌                                                                                      | 9/18 [00:43<00:42,  4.74s/it]/dados/usuarios/mateus/projetos/absa/16_Doutorado_Implicit/doutorado16/lib/python3.9/site-packages/NERDA/preprocessing.py:80: UserWarning: Sentence #149 length 131 exceeds max_len 128 and has been truncated\n",
      "  warnings.warn(msg)\n",
      "100%|████████████████████████████████████████████████████████████████████████████████████████████████████████████████████████████████████████████████████████████████████████████| 18/18 [01:23<00:00,  4.62s/it]\n",
      "100%|██████████████████████████████████████████████████████████████████████████████████████████████████████████████████████████████████████████████████████████████████████████████| 4/4 [00:04<00:00,  1.06s/it]\n"
     ]
    },
    {
     "name": "stdout",
     "output_type": "stream",
     "text": [
      "Train Loss = 0.004503447817923088 Valid Loss = 0.22402462197715067\n",
      "\n",
      " Epoch 33 / 40\n"
     ]
    },
    {
     "name": "stderr",
     "output_type": "stream",
     "text": [
      " 50%|██████████████████████████████████████████████████████████████████████████████████████▌                                                                                      | 9/18 [00:44<00:42,  4.69s/it]/dados/usuarios/mateus/projetos/absa/16_Doutorado_Implicit/doutorado16/lib/python3.9/site-packages/NERDA/preprocessing.py:80: UserWarning: Sentence #149 length 131 exceeds max_len 128 and has been truncated\n",
      "  warnings.warn(msg)\n",
      "100%|████████████████████████████████████████████████████████████████████████████████████████████████████████████████████████████████████████████████████████████████████████████| 18/18 [01:23<00:00,  4.65s/it]\n",
      "100%|██████████████████████████████████████████████████████████████████████████████████████████████████████████████████████████████████████████████████████████████████████████████| 4/4 [00:03<00:00,  1.02it/s]\n"
     ]
    },
    {
     "name": "stdout",
     "output_type": "stream",
     "text": [
      "Train Loss = 0.0006139272380904811 Valid Loss = 0.2345637272355816\n",
      "\n",
      " Epoch 34 / 40\n"
     ]
    },
    {
     "name": "stderr",
     "output_type": "stream",
     "text": [
      " 50%|██████████████████████████████████████████████████████████████████████████████████████▌                                                                                      | 9/18 [00:45<00:42,  4.72s/it]/dados/usuarios/mateus/projetos/absa/16_Doutorado_Implicit/doutorado16/lib/python3.9/site-packages/NERDA/preprocessing.py:80: UserWarning: Sentence #149 length 131 exceeds max_len 128 and has been truncated\n",
      "  warnings.warn(msg)\n",
      "100%|████████████████████████████████████████████████████████████████████████████████████████████████████████████████████████████████████████████████████████████████████████████| 18/18 [01:25<00:00,  4.73s/it]\n",
      "100%|██████████████████████████████████████████████████████████████████████████████████████████████████████████████████████████████████████████████████████████████████████████████| 4/4 [00:04<00:00,  1.03s/it]\n"
     ]
    },
    {
     "name": "stdout",
     "output_type": "stream",
     "text": [
      "Train Loss = 0.004685651100266518 Valid Loss = 0.2044543230877025\n",
      "\n",
      " Epoch 35 / 40\n"
     ]
    },
    {
     "name": "stderr",
     "output_type": "stream",
     "text": [
      " 50%|██████████████████████████████████████████████████████████████████████████████████████▌                                                                                      | 9/18 [00:43<00:41,  4.63s/it]/dados/usuarios/mateus/projetos/absa/16_Doutorado_Implicit/doutorado16/lib/python3.9/site-packages/NERDA/preprocessing.py:80: UserWarning: Sentence #149 length 131 exceeds max_len 128 and has been truncated\n",
      "  warnings.warn(msg)\n",
      "100%|████████████████████████████████████████████████████████████████████████████████████████████████████████████████████████████████████████████████████████████████████████████| 18/18 [01:23<00:00,  4.65s/it]\n",
      "100%|██████████████████████████████████████████████████████████████████████████████████████████████████████████████████████████████████████████████████████████████████████████████| 4/4 [00:04<00:00,  1.04s/it]\n"
     ]
    },
    {
     "name": "stdout",
     "output_type": "stream",
     "text": [
      "Train Loss = 0.0006490579706021688 Valid Loss = 0.2082322243222734\n",
      "\n",
      " Epoch 36 / 40\n"
     ]
    },
    {
     "name": "stderr",
     "output_type": "stream",
     "text": [
      " 50%|██████████████████████████████████████████████████████████████████████████████████████▌                                                                                      | 9/18 [00:43<00:41,  4.64s/it]/dados/usuarios/mateus/projetos/absa/16_Doutorado_Implicit/doutorado16/lib/python3.9/site-packages/NERDA/preprocessing.py:80: UserWarning: Sentence #149 length 131 exceeds max_len 128 and has been truncated\n",
      "  warnings.warn(msg)\n",
      "100%|████████████████████████████████████████████████████████████████████████████████████████████████████████████████████████████████████████████████████████████████████████████| 18/18 [01:22<00:00,  4.59s/it]\n",
      "100%|██████████████████████████████████████████████████████████████████████████████████████████████████████████████████████████████████████████████████████████████████████████████| 4/4 [00:04<00:00,  1.05s/it]\n"
     ]
    },
    {
     "name": "stdout",
     "output_type": "stream",
     "text": [
      "Train Loss = 0.00044987893327035836 Valid Loss = 0.20845417038799496\n",
      "\n",
      " Epoch 37 / 40\n"
     ]
    },
    {
     "name": "stderr",
     "output_type": "stream",
     "text": [
      " 50%|██████████████████████████████████████████████████████████████████████████████████████▌                                                                                      | 9/18 [00:46<00:47,  5.25s/it]/dados/usuarios/mateus/projetos/absa/16_Doutorado_Implicit/doutorado16/lib/python3.9/site-packages/NERDA/preprocessing.py:80: UserWarning: Sentence #149 length 131 exceeds max_len 128 and has been truncated\n",
      "  warnings.warn(msg)\n",
      "100%|████████████████████████████████████████████████████████████████████████████████████████████████████████████████████████████████████████████████████████████████████████████| 18/18 [01:30<00:00,  5.00s/it]\n",
      "100%|██████████████████████████████████████████████████████████████████████████████████████████████████████████████████████████████████████████████████████████████████████████████| 4/4 [00:04<00:00,  1.16s/it]\n"
     ]
    },
    {
     "name": "stdout",
     "output_type": "stream",
     "text": [
      "Train Loss = 0.0003849340800014842 Valid Loss = 0.21021790185659484\n",
      "\n",
      " Epoch 38 / 40\n"
     ]
    },
    {
     "name": "stderr",
     "output_type": "stream",
     "text": [
      " 50%|██████████████████████████████████████████████████████████████████████████████████████▌                                                                                      | 9/18 [00:44<00:42,  4.74s/it]/dados/usuarios/mateus/projetos/absa/16_Doutorado_Implicit/doutorado16/lib/python3.9/site-packages/NERDA/preprocessing.py:80: UserWarning: Sentence #149 length 131 exceeds max_len 128 and has been truncated\n",
      "  warnings.warn(msg)\n",
      "100%|████████████████████████████████████████████████████████████████████████████████████████████████████████████████████████████████████████████████████████████████████████████| 18/18 [01:26<00:00,  4.79s/it]\n",
      "100%|██████████████████████████████████████████████████████████████████████████████████████████████████████████████████████████████████████████████████████████████████████████████| 4/4 [00:04<00:00,  1.10s/it]\n"
     ]
    },
    {
     "name": "stdout",
     "output_type": "stream",
     "text": [
      "Train Loss = 0.0004244306619511917 Valid Loss = 0.210733464517034\n",
      "\n",
      " Epoch 39 / 40\n"
     ]
    },
    {
     "name": "stderr",
     "output_type": "stream",
     "text": [
      " 50%|██████████████████████████████████████████████████████████████████████████████████████▌                                                                                      | 9/18 [00:44<00:43,  4.85s/it]/dados/usuarios/mateus/projetos/absa/16_Doutorado_Implicit/doutorado16/lib/python3.9/site-packages/NERDA/preprocessing.py:80: UserWarning: Sentence #149 length 131 exceeds max_len 128 and has been truncated\n",
      "  warnings.warn(msg)\n",
      "100%|████████████████████████████████████████████████████████████████████████████████████████████████████████████████████████████████████████████████████████████████████████████| 18/18 [01:24<00:00,  4.72s/it]\n",
      "100%|██████████████████████████████████████████████████████████████████████████████████████████████████████████████████████████████████████████████████████████████████████████████| 4/4 [00:04<00:00,  1.15s/it]\n"
     ]
    },
    {
     "name": "stdout",
     "output_type": "stream",
     "text": [
      "Train Loss = 0.0003647147297872127 Valid Loss = 0.2109511349353852\n",
      "\n",
      " Epoch 40 / 40\n"
     ]
    },
    {
     "name": "stderr",
     "output_type": "stream",
     "text": [
      " 50%|██████████████████████████████████████████████████████████████████████████████████████▌                                                                                      | 9/18 [00:45<00:44,  4.92s/it]/dados/usuarios/mateus/projetos/absa/16_Doutorado_Implicit/doutorado16/lib/python3.9/site-packages/NERDA/preprocessing.py:80: UserWarning: Sentence #149 length 131 exceeds max_len 128 and has been truncated\n",
      "  warnings.warn(msg)\n",
      "100%|████████████████████████████████████████████████████████████████████████████████████████████████████████████████████████████████████████████████████████████████████████████| 18/18 [01:29<00:00,  4.95s/it]\n",
      "100%|██████████████████████████████████████████████████████████████████████████████████████████████████████████████████████████████████████████████████████████████████████████████| 4/4 [00:04<00:00,  1.09s/it]\n"
     ]
    },
    {
     "name": "stdout",
     "output_type": "stream",
     "text": [
      "Train Loss = 0.0005864600866011137 Valid Loss = 0.2109511349353852\n"
     ]
    },
    {
     "data": {
      "text/plain": [
       "'Model trained successfully'"
      ]
     },
     "execution_count": 30,
     "metadata": {},
     "output_type": "execute_result"
    }
   ],
   "source": [
    "model2.train()"
   ]
  },
  {
   "cell_type": "code",
   "execution_count": 31,
   "id": "bc0ee207-4c28-40cb-9d66-0f939969a7ef",
   "metadata": {},
   "outputs": [
    {
     "name": "stderr",
     "output_type": "stream",
     "text": [
      "/dados/usuarios/mateus/projetos/absa/16_Doutorado_Implicit/doutorado16/lib/python3.9/site-packages/NERDA/performance.py:39: UserWarning: length of observed values exceeded lengths of predicted values in 23 cases and were truncated. _Consider_ increasing max_len parameter for your model.\n",
      "  warnings.warn(f'length of observed values exceeded lengths of predicted values in {n_exceeds} cases and were truncated. _Consider_ increasing max_len parameter for your model.')\n",
      "/dados/usuarios/mateus/projetos/absa/16_Doutorado_Implicit/doutorado16/lib/python3.9/site-packages/NERDA/performance.py:39: UserWarning: length of observed values exceeded lengths of predicted values in 23 cases and were truncated. _Consider_ increasing max_len parameter for your model.\n",
      "  warnings.warn(f'length of observed values exceeded lengths of predicted values in {n_exceeds} cases and were truncated. _Consider_ increasing max_len parameter for your model.')\n",
      "/dados/usuarios/mateus/projetos/absa/16_Doutorado_Implicit/doutorado16/lib/python3.9/site-packages/NERDA/performance.py:39: UserWarning: length of observed values exceeded lengths of predicted values in 23 cases and were truncated. _Consider_ increasing max_len parameter for your model.\n",
      "  warnings.warn(f'length of observed values exceeded lengths of predicted values in {n_exceeds} cases and were truncated. _Consider_ increasing max_len parameter for your model.')\n"
     ]
    },
    {
     "data": {
      "text/html": [
       "<div>\n",
       "<style scoped>\n",
       "    .dataframe tbody tr th:only-of-type {\n",
       "        vertical-align: middle;\n",
       "    }\n",
       "\n",
       "    .dataframe tbody tr th {\n",
       "        vertical-align: top;\n",
       "    }\n",
       "\n",
       "    .dataframe thead th {\n",
       "        text-align: right;\n",
       "    }\n",
       "</style>\n",
       "<table border=\"1\" class=\"dataframe\">\n",
       "  <thead>\n",
       "    <tr style=\"text-align: right;\">\n",
       "      <th></th>\n",
       "      <th>Level</th>\n",
       "      <th>F1-Score</th>\n",
       "      <th>Precision</th>\n",
       "      <th>Recall</th>\n",
       "    </tr>\n",
       "  </thead>\n",
       "  <tbody>\n",
       "    <tr>\n",
       "      <th>0</th>\n",
       "      <td>B-asp</td>\n",
       "      <td>0.440111</td>\n",
       "      <td>0.431694</td>\n",
       "      <td>0.448864</td>\n",
       "    </tr>\n",
       "    <tr>\n",
       "      <th>1</th>\n",
       "      <td>I-asp</td>\n",
       "      <td>0.340000</td>\n",
       "      <td>0.340000</td>\n",
       "      <td>0.340000</td>\n",
       "    </tr>\n",
       "    <tr>\n",
       "      <th>0</th>\n",
       "      <td>AVG_MICRO</td>\n",
       "      <td>0.418301</td>\n",
       "      <td>NaN</td>\n",
       "      <td>NaN</td>\n",
       "    </tr>\n",
       "    <tr>\n",
       "      <th>0</th>\n",
       "      <td>AVG_MICRO</td>\n",
       "      <td>0.390056</td>\n",
       "      <td>NaN</td>\n",
       "      <td>NaN</td>\n",
       "    </tr>\n",
       "  </tbody>\n",
       "</table>\n",
       "</div>"
      ],
      "text/plain": [
       "       Level  F1-Score  Precision    Recall\n",
       "0      B-asp  0.440111   0.431694  0.448864\n",
       "1      I-asp  0.340000   0.340000  0.340000\n",
       "0  AVG_MICRO  0.418301        NaN       NaN\n",
       "0  AVG_MICRO  0.390056        NaN       NaN"
      ]
     },
     "execution_count": 31,
     "metadata": {},
     "output_type": "execute_result"
    }
   ],
   "source": [
    "model2.evaluate_performance(test)"
   ]
  },
  {
   "cell_type": "code",
   "execution_count": 32,
   "id": "d398ab52-0a37-4c3e-97a2-dc90bb392333",
   "metadata": {},
   "outputs": [],
   "source": [
    "y_pred = model2.predict(test['sentences'])"
   ]
  },
  {
   "cell_type": "code",
   "execution_count": 33,
   "id": "6f118d7d-496f-4672-91da-3e935b991dc7",
   "metadata": {},
   "outputs": [
    {
     "data": {
      "text/plain": [
       "{'totalAspects': 158,\n",
       " 'pred': 101,\n",
       " 'tp': 78,\n",
       " 'fp': 60,\n",
       " 'fn': 80,\n",
       " 'precisao': 0.5652173913043478,\n",
       " 'precisaoLaplace': 0.5642857142857143,\n",
       " 'revocacao': 0.4936708860759494,\n",
       " 'medidaf': 0.527027027027027,\n",
       " 'totalExplicitos': 134,\n",
       " 'explicitosOk': 34,\n",
       " 'pExplicitos': 0.2537313432835821,\n",
       " 'explicitsList': ['produto',\n",
       "  'touch',\n",
       "  'funções',\n",
       "  'menu',\n",
       "  'smartphone',\n",
       "  'recurso',\n",
       "  'desing',\n",
       "  'recursos',\n",
       "  'tamanho',\n",
       "  'gps',\n",
       "  'bateria',\n",
       "  'invetimento',\n",
       "  'visor',\n",
       "  'fotografia',\n",
       "  'aparelho',\n",
       "  'celular',\n",
       "  'memoria',\n",
       "  'camera digital',\n",
       "  'sd de memória',\n",
       "  'preço',\n",
       "  'volume de áudio',\n",
       "  'display',\n",
       "  'camera',\n",
       "  'internet',\n",
       "  'nokia',\n",
       "  'câmera',\n",
       "  'funcionalidades',\n",
       "  'custo-benefício',\n",
       "  'fabricante',\n",
       "  'carregador de carro',\n",
       "  'marca',\n",
       "  'designer',\n",
       "  'modelo',\n",
       "  'durabilidade'],\n",
       " 'totalImplicitos': 24,\n",
       " 'implicitosOk': 7,\n",
       " 'pImplicitos': 0.2916666666666667,\n",
       " 'implicitsList': ['trava',\n",
       "  'congela',\n",
       "  'prático',\n",
       "  'restarta',\n",
       "  'pequeno',\n",
       "  'lindo',\n",
       "  'fácil de mexer'],\n",
       " 'tipos': {'Event': {'Verb': 5}, 'Qualification': {'Adjective': 4}}}"
      ]
     },
     "execution_count": 33,
     "metadata": {},
     "output_type": "execute_result"
    }
   ],
   "source": [
    "aspects = result2aspecList(y_pred, test['sentences'])\n",
    "res = calculaMetricas(\n",
    "    aspects, \n",
    "    aspectsTest['datasets'][domain], \n",
    "    tipos,\n",
    "    lemma=False, \n",
    "    output=False\n",
    ")\n",
    "xml = dicttoxml(res, attr_type=False, custom_root='resultados')\n",
    "with open('../resultados/bert_bertimbau_indomain_'+domain+'.xml', 'w') as file:\n",
    "    dom = parseString(xml)\n",
    "    file.write(dom.toprettyxml())    \n",
    "res"
   ]
  },
  {
   "cell_type": "code",
   "execution_count": null,
   "id": "fdc88c06-bce4-4c53-8f60-467a62b04992",
   "metadata": {},
   "outputs": [],
   "source": []
  }
 ],
 "metadata": {
  "kernelspec": {
   "display_name": "doutorado",
   "language": "python",
   "name": "doutorado"
  },
  "language_info": {
   "codemirror_mode": {
    "name": "ipython",
    "version": 3
   },
   "file_extension": ".py",
   "mimetype": "text/x-python",
   "name": "python",
   "nbconvert_exporter": "python",
   "pygments_lexer": "ipython3",
   "version": "3.9.2"
  }
 },
 "nbformat": 4,
 "nbformat_minor": 5
}

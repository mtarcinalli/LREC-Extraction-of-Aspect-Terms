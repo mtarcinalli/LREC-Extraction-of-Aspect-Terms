{
 "cells": [
  {
   "cell_type": "markdown",
   "id": "edef9246-84d9-46e1-8709-be6396880fa0",
   "metadata": {},
   "source": [
    "# Camera"
   ]
  },
  {
   "cell_type": "code",
   "execution_count": 146,
   "id": "03ac281d-591c-4307-8684-8e440541007f",
   "metadata": {},
   "outputs": [],
   "source": [
    "import pandas as pd\n",
    "import nltk\n",
    "import xmltodict\n",
    "from dicttoxml import dicttoxml\n",
    "from xml.dom.minidom import parseString"
   ]
  },
  {
   "cell_type": "code",
   "execution_count": 140,
   "id": "935ae30a-1985-4285-b17c-16a076cba3d9",
   "metadata": {},
   "outputs": [
    {
     "name": "stdout",
     "output_type": "stream",
     "text": [
      "Loading functions...\n"
     ]
    }
   ],
   "source": [
    "%run ../funcoes.py"
   ]
  },
  {
   "cell_type": "code",
   "execution_count": 2,
   "id": "e58a77b8-9d28-40e7-a109-0c350b0848a4",
   "metadata": {},
   "outputs": [],
   "source": [
    "domain = \"camera\"\n",
    "dfCameraTest = pd.read_csv('../07_Keras/data/domain_camera_IOB_test.csv', sep='\\t', quoting=3, keep_default_na=False)\n",
    "dfCameraTrain = pd.read_csv('../07_Keras/data/domain_camera_IOB_train.csv', sep='\\t', quoting=3, keep_default_na=False)"
   ]
  },
  {
   "cell_type": "code",
   "execution_count": 129,
   "id": "2d8bf415-a0b5-4abf-a9ee-ee5b549070d1",
   "metadata": {},
   "outputs": [],
   "source": [
    "# carregando tipos\n",
    "tiposAll = pd.read_csv('../data/tipologia/categorias_iacs.csv', sep=',', quoting=0, keep_default_na=False)\n",
    "tipos = tipos.loc[tipos['domain'] == 'camera']"
   ]
  },
  {
   "cell_type": "code",
   "execution_count": 31,
   "id": "b49147ef-6a59-45a2-b540-18c9bc0a2945",
   "metadata": {},
   "outputs": [],
   "source": [
    "f = open(\"../07_Keras/data/aspectsTest.xml\",\"r\")\n",
    "xml = f.read()\n",
    "aspectsTest = xmltodict.parse(xml, process_namespaces=True)"
   ]
  },
  {
   "cell_type": "code",
   "execution_count": 20,
   "id": "b93f5b61-f15e-47a3-a3dc-c10d6d79cf55",
   "metadata": {},
   "outputs": [],
   "source": [
    "def result2aspecList(y_pred, X_test):\n",
    "    aspectsList = []\n",
    "    aspect = []\n",
    "    stopwords = nltk.corpus.stopwords.words('portuguese')\n",
    "    for sent, sent_pred in zip(X_test, y_pred):\n",
    "        #print(len(sent),len(sent_pred))\n",
    "        for token, tag in zip(sent, sent_pred):\n",
    "            if tag != 'O':\n",
    "                #print(tag, token)\n",
    "                #print(tag, token['word.lower()'])\n",
    "                if tag == 'B-asp' and aspect:\n",
    "                    auxAspect = \" \".join(aspect).lower()\n",
    "                    if (auxAspect not in stopwords and len(auxAspect) > 1):\n",
    "                        aspectsList.append(auxAspect)\n",
    "                    aspect = []\n",
    "                if token not in [',',':']:\n",
    "                    aspect.append(token.lower())\n",
    "\n",
    "    aspectsList = list(set(aspectsList))\n",
    "    aspectsList.sort()    \n",
    "    return aspectsList"
   ]
  },
  {
   "cell_type": "code",
   "execution_count": null,
   "id": "bc1b6096-6d77-47ba-873e-b5f2c2ff4ad4",
   "metadata": {},
   "outputs": [],
   "source": []
  },
  {
   "cell_type": "code",
   "execution_count": 3,
   "id": "5bc2724d-8733-4305-9a29-eb892e018670",
   "metadata": {},
   "outputs": [],
   "source": [
    "tag_scheme = [\n",
    "'B-asp',\n",
    "'I-asp'\n",
    "]"
   ]
  },
  {
   "cell_type": "code",
   "execution_count": 5,
   "id": "339f1f00-3ea3-4e09-9c83-56444731e91e",
   "metadata": {},
   "outputs": [
    {
     "name": "stdout",
     "output_type": "stream",
     "text": [
      "192\n"
     ]
    }
   ],
   "source": [
    "!cat ../07_Keras/data/domain_camera_IOB_train.csv | grep Sentence | wc -l"
   ]
  },
  {
   "cell_type": "code",
   "execution_count": 6,
   "id": "9971892e-c178-49e8-ab59-9dc6996f24a3",
   "metadata": {},
   "outputs": [
    {
     "name": "stdout",
     "output_type": "stream",
     "text": [
      "82\n"
     ]
    }
   ],
   "source": [
    "!cat ../07_Keras/data/domain_camera_IOB_test.csv | grep Sentence | wc -l"
   ]
  },
  {
   "cell_type": "code",
   "execution_count": 7,
   "id": "e46a326d-db14-4f66-98b1-ad77bb2e5cd8",
   "metadata": {},
   "outputs": [],
   "source": [
    "contSents = 0\n",
    "for count, row in dfCameraTrain.iterrows():\n",
    "    if (row[0] != \"\" and count > 0):\n",
    "        contSents = contSents + 1\n",
    "contSents = contSents + 1"
   ]
  },
  {
   "cell_type": "code",
   "execution_count": 8,
   "id": "7895770b-2428-46c5-8dd6-80d09dad330b",
   "metadata": {},
   "outputs": [
    {
     "name": "stdout",
     "output_type": "stream",
     "text": [
      "172\n"
     ]
    }
   ],
   "source": [
    "contTrain = round(contSents * 0.9)\n",
    "print(contTrain)"
   ]
  },
  {
   "cell_type": "code",
   "execution_count": 9,
   "id": "17ba862d-841b-46fb-97f6-258a13a2bfbd",
   "metadata": {},
   "outputs": [],
   "source": [
    "training = {'sentences': [], 'tags' : []}\n",
    "validation = {'sentences': [], 'tags' :[]}\n",
    "sent = []\n",
    "tags = []\n",
    "contSents = 0\n",
    "for count, row in dfCameraTrain.iterrows():\n",
    "    if (row[0] != \"\" and count > 0):\n",
    "        if contSents < contTrain:\n",
    "            training['sentences'].append(sent)\n",
    "            training['tags'].append(tags)\n",
    "        else:\n",
    "            validation['sentences'].append(sent)\n",
    "            validation['tags'].append(tags)\n",
    "\n",
    "        tags = []\n",
    "        sent = []\n",
    "        contSents = contSents + 1\n",
    "    sent.append(row['Word'].lower())\n",
    "    tags.append(row['Tag'])\n",
    "        \n",
    "validation['sentences'].append(sent)\n",
    "validation['tags'].append(tags)"
   ]
  },
  {
   "cell_type": "code",
   "execution_count": 10,
   "id": "bd7458ff-2af4-4eb7-bee4-61fb38b9d41b",
   "metadata": {},
   "outputs": [
    {
     "data": {
      "text/plain": [
       "172"
      ]
     },
     "execution_count": 10,
     "metadata": {},
     "output_type": "execute_result"
    }
   ],
   "source": [
    "len(training['sentences'])"
   ]
  },
  {
   "cell_type": "code",
   "execution_count": 11,
   "id": "505ee23b-6b9b-43a4-826f-28baf595f4f8",
   "metadata": {},
   "outputs": [
    {
     "data": {
      "text/plain": [
       "19"
      ]
     },
     "execution_count": 11,
     "metadata": {},
     "output_type": "execute_result"
    }
   ],
   "source": [
    "len(validation['sentences'])"
   ]
  },
  {
   "cell_type": "code",
   "execution_count": 12,
   "id": "be45139a-6b33-4498-b9e6-b13a223806c5",
   "metadata": {},
   "outputs": [],
   "source": [
    "test = {'sentences': [], 'tags' : []}\n",
    "sent = []\n",
    "tags = []\n",
    "contSents = 0\n",
    "for count, row in dfCameraTest.iterrows():\n",
    "    if (row[0] != \"\" and count > 0):\n",
    "        test['sentences'].append(sent)\n",
    "        test['tags'].append(tags)\n",
    "        tags = []\n",
    "        sent = []\n",
    "        contSents = contSents + 1\n",
    "    sent.append(row['Word'].lower())\n",
    "    tags.append(row['Tag'])\n",
    "test['sentences'].append(sent)\n",
    "test['tags'].append(tags)"
   ]
  },
  {
   "cell_type": "code",
   "execution_count": 13,
   "id": "854ef678-feeb-4381-94fc-047c1d9a50b5",
   "metadata": {},
   "outputs": [
    {
     "data": {
      "text/plain": [
       "81"
      ]
     },
     "execution_count": 13,
     "metadata": {},
     "output_type": "execute_result"
    }
   ],
   "source": [
    "len(test['sentences'])"
   ]
  },
  {
   "cell_type": "code",
   "execution_count": null,
   "id": "9489e16f-b6c8-46b8-977b-14c6061ad6e0",
   "metadata": {},
   "outputs": [],
   "source": []
  },
  {
   "cell_type": "markdown",
   "id": "3e963ac4-c28c-4e5b-893a-0d48cfa7b9ef",
   "metadata": {},
   "source": [
    "## Bert Multilingual"
   ]
  },
  {
   "cell_type": "code",
   "execution_count": 14,
   "id": "46a13de3-2fe5-4a01-bda6-2e5d90e28f2e",
   "metadata": {},
   "outputs": [],
   "source": [
    "transformer = 'bert-base-multilingual-uncased'"
   ]
  },
  {
   "cell_type": "code",
   "execution_count": 15,
   "id": "828a7e96-65e6-4db7-bac2-95c2640abf52",
   "metadata": {},
   "outputs": [],
   "source": [
    "# hyperparameters for network\n",
    "dropout = 0.1\n",
    "# hyperparameters for training\n",
    "training_hyperparameters = {\n",
    "    'epochs' : 40,\n",
    "    'warmup_steps' : 500,                                                   \n",
    "    'train_batch_size': 13,\n",
    "    'learning_rate': 0.0001\n",
    "}"
   ]
  },
  {
   "cell_type": "code",
   "execution_count": 16,
   "id": "db747e8c-a023-4b24-9f5d-9f28fab8b5ad",
   "metadata": {},
   "outputs": [
    {
     "name": "stderr",
     "output_type": "stream",
     "text": [
      "2021-12-20 15:26:46.337244: W tensorflow/stream_executor/platform/default/dso_loader.cc:64] Could not load dynamic library 'libcudart.so.11.0'; dlerror: libcudart.so.11.0: cannot open shared object file: No such file or directory\n",
      "2021-12-20 15:26:46.337278: I tensorflow/stream_executor/cuda/cudart_stub.cc:29] Ignore above cudart dlerror if you do not have a GPU set up on your machine.\n"
     ]
    },
    {
     "name": "stdout",
     "output_type": "stream",
     "text": [
      "Device automatically set to: cpu\n"
     ]
    },
    {
     "name": "stderr",
     "output_type": "stream",
     "text": [
      "Some weights of the model checkpoint at bert-base-multilingual-uncased were not used when initializing BertModel: ['cls.seq_relationship.weight', 'cls.seq_relationship.bias', 'cls.predictions.bias', 'cls.predictions.transform.LayerNorm.weight', 'cls.predictions.transform.LayerNorm.bias', 'cls.predictions.transform.dense.bias', 'cls.predictions.transform.dense.weight', 'cls.predictions.decoder.weight']\n",
      "- This IS expected if you are initializing BertModel from the checkpoint of a model trained on another task or with another architecture (e.g. initializing a BertForSequenceClassification model from a BertForPreTraining model).\n",
      "- This IS NOT expected if you are initializing BertModel from the checkpoint of a model that you expect to be exactly identical (initializing a BertForSequenceClassification model from a BertForSequenceClassification model).\n"
     ]
    }
   ],
   "source": [
    "from NERDA.models import NERDA\n",
    "model = NERDA(\n",
    "    dataset_training = training,\n",
    "    dataset_validation = validation,\n",
    "    tag_scheme = tag_scheme, \n",
    "    tag_outside = 'O',\n",
    "    transformer = transformer,\n",
    "    dropout = dropout,\n",
    "    hyperparameters = training_hyperparameters\n",
    ")"
   ]
  },
  {
   "cell_type": "code",
   "execution_count": 17,
   "id": "804d12a1-7dc0-402e-b7b1-277625126abb",
   "metadata": {},
   "outputs": [
    {
     "name": "stdout",
     "output_type": "stream",
     "text": [
      "\n",
      " Epoch 1 / 40\n"
     ]
    },
    {
     "name": "stderr",
     "output_type": "stream",
     "text": [
      " ... (more hidden) ...\n",
      " ... (more hidden) ...\n"
     ]
    },
    {
     "name": "stdout",
     "output_type": "stream",
     "text": [
      "Train Loss = 1.005359445299421 Valid Loss = 0.6881784399350485\n",
      "\n",
      " Epoch 2 / 40\n"
     ]
    },
    {
     "name": "stderr",
     "output_type": "stream",
     "text": [
      " ... (more hidden) ...\n",
      " ... (more hidden) ...\n"
     ]
    },
    {
     "name": "stdout",
     "output_type": "stream",
     "text": [
      "Train Loss = 0.511123100561755 Valid Loss = 0.37879177927970886\n",
      "\n",
      " Epoch 3 / 40\n"
     ]
    },
    {
     "name": "stderr",
     "output_type": "stream",
     "text": [
      " ... (more hidden) ...\n",
      " ... (more hidden) ...\n"
     ]
    },
    {
     "name": "stdout",
     "output_type": "stream",
     "text": [
      "Train Loss = 0.38949425518512726 Valid Loss = 0.35181431969006854\n",
      "\n",
      " Epoch 4 / 40\n"
     ]
    },
    {
     "name": "stderr",
     "output_type": "stream",
     "text": [
      " ... (more hidden) ...\n",
      " ... (more hidden) ...\n"
     ]
    },
    {
     "name": "stdout",
     "output_type": "stream",
     "text": [
      "Train Loss = 0.36325337418488096 Valid Loss = 0.29347806175549823\n",
      "\n",
      " Epoch 5 / 40\n"
     ]
    },
    {
     "name": "stderr",
     "output_type": "stream",
     "text": [
      " ... (more hidden) ...\n",
      " ... (more hidden) ...\n"
     ]
    },
    {
     "name": "stdout",
     "output_type": "stream",
     "text": [
      "Train Loss = 0.31628078860895975 Valid Loss = 0.24837384621302286\n",
      "\n",
      " Epoch 6 / 40\n"
     ]
    },
    {
     "name": "stderr",
     "output_type": "stream",
     "text": [
      " ... (more hidden) ...\n",
      " ... (more hidden) ...\n"
     ]
    },
    {
     "name": "stdout",
     "output_type": "stream",
     "text": [
      "Train Loss = 0.25334140339068006 Valid Loss = 0.2293281853199005\n",
      "\n",
      " Epoch 7 / 40\n"
     ]
    },
    {
     "name": "stderr",
     "output_type": "stream",
     "text": [
      " ... (more hidden) ...\n",
      " ... (more hidden) ...\n"
     ]
    },
    {
     "name": "stdout",
     "output_type": "stream",
     "text": [
      "Train Loss = 0.2039240329925503 Valid Loss = 0.23695619901021323\n",
      "\n",
      " Epoch 8 / 40\n"
     ]
    },
    {
     "name": "stderr",
     "output_type": "stream",
     "text": [
      " ... (more hidden) ...\n",
      " ... (more hidden) ...\n"
     ]
    },
    {
     "name": "stdout",
     "output_type": "stream",
     "text": [
      "Train Loss = 0.16329720882432802 Valid Loss = 0.24132610857486725\n",
      "\n",
      " Epoch 9 / 40\n"
     ]
    },
    {
     "name": "stderr",
     "output_type": "stream",
     "text": [
      " ... (more hidden) ...\n",
      " ... (more hidden) ...\n"
     ]
    },
    {
     "name": "stdout",
     "output_type": "stream",
     "text": [
      "Train Loss = 0.14379487150082632 Valid Loss = 0.26610325773557025\n",
      "\n",
      " Epoch 10 / 40\n"
     ]
    },
    {
     "name": "stderr",
     "output_type": "stream",
     "text": [
      " ... (more hidden) ...\n",
      " ... (more hidden) ...\n"
     ]
    },
    {
     "name": "stdout",
     "output_type": "stream",
     "text": [
      "Train Loss = 0.10825964771876377 Valid Loss = 0.2815118581056595\n",
      "\n",
      " Epoch 11 / 40\n"
     ]
    },
    {
     "name": "stderr",
     "output_type": "stream",
     "text": [
      " ... (more hidden) ...\n",
      " ... (more hidden) ...\n"
     ]
    },
    {
     "name": "stdout",
     "output_type": "stream",
     "text": [
      "Train Loss = 0.1000522464912917 Valid Loss = 0.24513064324855804\n",
      "\n",
      " Epoch 12 / 40\n"
     ]
    },
    {
     "name": "stderr",
     "output_type": "stream",
     "text": [
      " ... (more hidden) ...\n",
      " ... (more hidden) ...\n"
     ]
    },
    {
     "name": "stdout",
     "output_type": "stream",
     "text": [
      "Train Loss = 0.08575918588654272 Valid Loss = 0.29946371416250867\n",
      "\n",
      " Epoch 13 / 40\n"
     ]
    },
    {
     "name": "stderr",
     "output_type": "stream",
     "text": [
      " ... (more hidden) ...\n",
      " ... (more hidden) ...\n"
     ]
    },
    {
     "name": "stdout",
     "output_type": "stream",
     "text": [
      "Train Loss = 0.06309190246143512 Valid Loss = 0.3090761403242747\n",
      "\n",
      " Epoch 14 / 40\n"
     ]
    },
    {
     "name": "stderr",
     "output_type": "stream",
     "text": [
      " ... (more hidden) ...\n",
      " ... (more hidden) ...\n"
     ]
    },
    {
     "name": "stdout",
     "output_type": "stream",
     "text": [
      "Train Loss = 0.042606471405763714 Valid Loss = 0.4223298132419586\n",
      "\n",
      " Epoch 15 / 40\n"
     ]
    },
    {
     "name": "stderr",
     "output_type": "stream",
     "text": [
      " ... (more hidden) ...\n",
      " ... (more hidden) ...\n"
     ]
    },
    {
     "name": "stdout",
     "output_type": "stream",
     "text": [
      "Train Loss = 0.046677516656927764 Valid Loss = 0.3967118163903554\n",
      "\n",
      " Epoch 16 / 40\n"
     ]
    },
    {
     "name": "stderr",
     "output_type": "stream",
     "text": [
      " ... (more hidden) ...\n",
      " ... (more hidden) ...\n"
     ]
    },
    {
     "name": "stdout",
     "output_type": "stream",
     "text": [
      "Train Loss = 0.05693705852276513 Valid Loss = 0.33272136747837067\n",
      "\n",
      " Epoch 17 / 40\n"
     ]
    },
    {
     "name": "stderr",
     "output_type": "stream",
     "text": [
      " ... (more hidden) ...\n",
      " ... (more hidden) ...\n"
     ]
    },
    {
     "name": "stdout",
     "output_type": "stream",
     "text": [
      "Train Loss = 0.047599662960107834 Valid Loss = 0.3818464974562327\n",
      "\n",
      " Epoch 18 / 40\n"
     ]
    },
    {
     "name": "stderr",
     "output_type": "stream",
     "text": [
      " ... (more hidden) ...\n",
      " ... (more hidden) ...\n"
     ]
    },
    {
     "name": "stdout",
     "output_type": "stream",
     "text": [
      "Train Loss = 0.032306281833111176 Valid Loss = 0.3108460952838262\n",
      "\n",
      " Epoch 19 / 40\n"
     ]
    },
    {
     "name": "stderr",
     "output_type": "stream",
     "text": [
      " ... (more hidden) ...\n",
      " ... (more hidden) ...\n"
     ]
    },
    {
     "name": "stdout",
     "output_type": "stream",
     "text": [
      "Train Loss = 0.041408941615372896 Valid Loss = 0.4958443840344747\n",
      "\n",
      " Epoch 20 / 40\n"
     ]
    },
    {
     "name": "stderr",
     "output_type": "stream",
     "text": [
      " ... (more hidden) ...\n",
      " ... (more hidden) ...\n"
     ]
    },
    {
     "name": "stdout",
     "output_type": "stream",
     "text": [
      "Train Loss = 0.048405270158712356 Valid Loss = 0.40016530950864154\n",
      "\n",
      " Epoch 21 / 40\n"
     ]
    },
    {
     "name": "stderr",
     "output_type": "stream",
     "text": [
      " ... (more hidden) ...\n",
      " ... (more hidden) ...\n"
     ]
    },
    {
     "name": "stdout",
     "output_type": "stream",
     "text": [
      "Train Loss = 0.0310022897403022 Valid Loss = 0.4873228073120117\n",
      "\n",
      " Epoch 22 / 40\n"
     ]
    },
    {
     "name": "stderr",
     "output_type": "stream",
     "text": [
      " ... (more hidden) ...\n",
      " ... (more hidden) ...\n"
     ]
    },
    {
     "name": "stdout",
     "output_type": "stream",
     "text": [
      "Train Loss = 0.021240799450814456 Valid Loss = 0.30664825439453125\n",
      "\n",
      " Epoch 23 / 40\n"
     ]
    },
    {
     "name": "stderr",
     "output_type": "stream",
     "text": [
      " ... (more hidden) ...\n",
      " ... (more hidden) ...\n"
     ]
    },
    {
     "name": "stdout",
     "output_type": "stream",
     "text": [
      "Train Loss = 0.010666351224894502 Valid Loss = 0.39207149545351666\n",
      "\n",
      " Epoch 24 / 40\n"
     ]
    },
    {
     "name": "stderr",
     "output_type": "stream",
     "text": [
      " ... (more hidden) ...\n",
      " ... (more hidden) ...\n"
     ]
    },
    {
     "name": "stdout",
     "output_type": "stream",
     "text": [
      "Train Loss = 0.0038571059121750295 Valid Loss = 0.41380133231480914\n",
      "\n",
      " Epoch 25 / 40\n"
     ]
    },
    {
     "name": "stderr",
     "output_type": "stream",
     "text": [
      " ... (more hidden) ...\n",
      " ... (more hidden) ...\n"
     ]
    },
    {
     "name": "stdout",
     "output_type": "stream",
     "text": [
      "Train Loss = 0.005458023744202884 Valid Loss = 0.3907806873321533\n",
      "\n",
      " Epoch 26 / 40\n"
     ]
    },
    {
     "name": "stderr",
     "output_type": "stream",
     "text": [
      " ... (more hidden) ...\n",
      " ... (more hidden) ...\n"
     ]
    },
    {
     "name": "stdout",
     "output_type": "stream",
     "text": [
      "Train Loss = 0.0037612854076931918 Valid Loss = 0.40236055850982666\n",
      "\n",
      " Epoch 27 / 40\n"
     ]
    },
    {
     "name": "stderr",
     "output_type": "stream",
     "text": [
      " ... (more hidden) ...\n",
      " ... (more hidden) ...\n"
     ]
    },
    {
     "name": "stdout",
     "output_type": "stream",
     "text": [
      "Train Loss = 0.004141074160413284 Valid Loss = 0.3836655219395955\n",
      "\n",
      " Epoch 28 / 40\n"
     ]
    },
    {
     "name": "stderr",
     "output_type": "stream",
     "text": [
      " ... (more hidden) ...\n",
      " ... (more hidden) ...\n"
     ]
    },
    {
     "name": "stdout",
     "output_type": "stream",
     "text": [
      "Train Loss = 0.004536037058902106 Valid Loss = 0.36178678274154663\n",
      "\n",
      " Epoch 29 / 40\n"
     ]
    },
    {
     "name": "stderr",
     "output_type": "stream",
     "text": [
      " ... (more hidden) ...\n",
      " ... (more hidden) ...\n"
     ]
    },
    {
     "name": "stdout",
     "output_type": "stream",
     "text": [
      "Train Loss = 0.010606646271688598 Valid Loss = 0.332057664791743\n",
      "\n",
      " Epoch 30 / 40\n"
     ]
    },
    {
     "name": "stderr",
     "output_type": "stream",
     "text": [
      " ... (more hidden) ...\n",
      " ... (more hidden) ...\n"
     ]
    },
    {
     "name": "stdout",
     "output_type": "stream",
     "text": [
      "Train Loss = 0.011189984084921889 Valid Loss = 0.37353943785031635\n",
      "\n",
      " Epoch 31 / 40\n"
     ]
    },
    {
     "name": "stderr",
     "output_type": "stream",
     "text": [
      " ... (more hidden) ...\n",
      " ... (more hidden) ...\n"
     ]
    },
    {
     "name": "stdout",
     "output_type": "stream",
     "text": [
      "Train Loss = 0.0074735443590075844 Valid Loss = 0.36757392684618634\n",
      "\n",
      " Epoch 32 / 40\n"
     ]
    },
    {
     "name": "stderr",
     "output_type": "stream",
     "text": [
      " ... (more hidden) ...\n",
      " ... (more hidden) ...\n"
     ]
    },
    {
     "name": "stdout",
     "output_type": "stream",
     "text": [
      "Train Loss = 0.010801191474976284 Valid Loss = 0.42657873034477234\n",
      "\n",
      " Epoch 33 / 40\n"
     ]
    },
    {
     "name": "stderr",
     "output_type": "stream",
     "text": [
      " ... (more hidden) ...\n",
      " ... (more hidden) ...\n"
     ]
    },
    {
     "name": "stdout",
     "output_type": "stream",
     "text": [
      "Train Loss = 0.022034754870609113 Valid Loss = 0.25265983243783313\n",
      "\n",
      " Epoch 34 / 40\n"
     ]
    },
    {
     "name": "stderr",
     "output_type": "stream",
     "text": [
      " ... (more hidden) ...\n",
      " ... (more hidden) ...\n"
     ]
    },
    {
     "name": "stdout",
     "output_type": "stream",
     "text": [
      "Train Loss = 0.014861090940290264 Valid Loss = 0.4695536196231842\n",
      "\n",
      " Epoch 35 / 40\n"
     ]
    },
    {
     "name": "stderr",
     "output_type": "stream",
     "text": [
      " ... (more hidden) ...\n",
      " ... (more hidden) ...\n"
     ]
    },
    {
     "name": "stdout",
     "output_type": "stream",
     "text": [
      "Train Loss = 0.021465534751769155 Valid Loss = 0.4288867712020874\n",
      "\n",
      " Epoch 36 / 40\n"
     ]
    },
    {
     "name": "stderr",
     "output_type": "stream",
     "text": [
      " ... (more hidden) ...\n",
      " ... (more hidden) ...\n"
     ]
    },
    {
     "name": "stdout",
     "output_type": "stream",
     "text": [
      "Train Loss = 0.02361563830969057 Valid Loss = 0.3932038148244222\n",
      "\n",
      " Epoch 37 / 40\n"
     ]
    },
    {
     "name": "stderr",
     "output_type": "stream",
     "text": [
      " ... (more hidden) ...\n",
      " ... (more hidden) ...\n"
     ]
    },
    {
     "name": "stdout",
     "output_type": "stream",
     "text": [
      "Train Loss = 0.013460792503402834 Valid Loss = 0.5117823680241903\n",
      "\n",
      " Epoch 38 / 40\n"
     ]
    },
    {
     "name": "stderr",
     "output_type": "stream",
     "text": [
      " ... (more hidden) ...\n",
      " ... (more hidden) ...\n"
     ]
    },
    {
     "name": "stdout",
     "output_type": "stream",
     "text": [
      "Train Loss = 0.010011736983350212 Valid Loss = 0.4793768525123596\n",
      "\n",
      " Epoch 39 / 40\n"
     ]
    },
    {
     "name": "stderr",
     "output_type": "stream",
     "text": [
      " ... (more hidden) ...\n",
      " ... (more hidden) ...\n"
     ]
    },
    {
     "name": "stdout",
     "output_type": "stream",
     "text": [
      "Train Loss = 0.0032929643847247852 Valid Loss = 0.4793768525123596\n",
      "\n",
      " Epoch 40 / 40\n"
     ]
    },
    {
     "name": "stderr",
     "output_type": "stream",
     "text": [
      " ... (more hidden) ...\n",
      " ... (more hidden) ...\n"
     ]
    },
    {
     "name": "stdout",
     "output_type": "stream",
     "text": [
      "Train Loss = 0.0030870044055128737 Valid Loss = 0.4793768525123596\n"
     ]
    },
    {
     "data": {
      "text/plain": [
       "'Model trained successfully'"
      ]
     },
     "execution_count": 17,
     "metadata": {},
     "output_type": "execute_result"
    }
   ],
   "source": [
    "model.train()"
   ]
  },
  {
   "cell_type": "code",
   "execution_count": 18,
   "id": "78581200-2995-426c-9ead-d2170d23d4e6",
   "metadata": {},
   "outputs": [
    {
     "name": "stderr",
     "output_type": "stream",
     "text": [
      "/dados/usuarios/mateus/projetos/absa/16_Doutorado_Implicit/doutorado16/lib/python3.9/site-packages/NERDA/performance.py:39: UserWarning: length of observed values exceeded lengths of predicted values in 25 cases and were truncated. _Consider_ increasing max_len parameter for your model.\n",
      "  warnings.warn(f'length of observed values exceeded lengths of predicted values in {n_exceeds} cases and were truncated. _Consider_ increasing max_len parameter for your model.')\n",
      "/dados/usuarios/mateus/projetos/absa/16_Doutorado_Implicit/doutorado16/lib/python3.9/site-packages/NERDA/performance.py:39: UserWarning: length of observed values exceeded lengths of predicted values in 25 cases and were truncated. _Consider_ increasing max_len parameter for your model.\n",
      "  warnings.warn(f'length of observed values exceeded lengths of predicted values in {n_exceeds} cases and were truncated. _Consider_ increasing max_len parameter for your model.')\n",
      "/dados/usuarios/mateus/projetos/absa/16_Doutorado_Implicit/doutorado16/lib/python3.9/site-packages/NERDA/performance.py:39: UserWarning: length of observed values exceeded lengths of predicted values in 25 cases and were truncated. _Consider_ increasing max_len parameter for your model.\n",
      "  warnings.warn(f'length of observed values exceeded lengths of predicted values in {n_exceeds} cases and were truncated. _Consider_ increasing max_len parameter for your model.')\n"
     ]
    },
    {
     "data": {
      "text/html": [
       "<div>\n",
       "<style scoped>\n",
       "    .dataframe tbody tr th:only-of-type {\n",
       "        vertical-align: middle;\n",
       "    }\n",
       "\n",
       "    .dataframe tbody tr th {\n",
       "        vertical-align: top;\n",
       "    }\n",
       "\n",
       "    .dataframe thead th {\n",
       "        text-align: right;\n",
       "    }\n",
       "</style>\n",
       "<table border=\"1\" class=\"dataframe\">\n",
       "  <thead>\n",
       "    <tr style=\"text-align: right;\">\n",
       "      <th></th>\n",
       "      <th>Level</th>\n",
       "      <th>F1-Score</th>\n",
       "      <th>Precision</th>\n",
       "      <th>Recall</th>\n",
       "    </tr>\n",
       "  </thead>\n",
       "  <tbody>\n",
       "    <tr>\n",
       "      <th>0</th>\n",
       "      <td>B-asp</td>\n",
       "      <td>0.343137</td>\n",
       "      <td>0.304348</td>\n",
       "      <td>0.393258</td>\n",
       "    </tr>\n",
       "    <tr>\n",
       "      <th>1</th>\n",
       "      <td>I-asp</td>\n",
       "      <td>0.194444</td>\n",
       "      <td>0.233333</td>\n",
       "      <td>0.166667</td>\n",
       "    </tr>\n",
       "    <tr>\n",
       "      <th>0</th>\n",
       "      <td>AVG_MICRO</td>\n",
       "      <td>0.304348</td>\n",
       "      <td>NaN</td>\n",
       "      <td>NaN</td>\n",
       "    </tr>\n",
       "    <tr>\n",
       "      <th>0</th>\n",
       "      <td>AVG_MICRO</td>\n",
       "      <td>0.268791</td>\n",
       "      <td>NaN</td>\n",
       "      <td>NaN</td>\n",
       "    </tr>\n",
       "  </tbody>\n",
       "</table>\n",
       "</div>"
      ],
      "text/plain": [
       "       Level  F1-Score  Precision    Recall\n",
       "0      B-asp  0.343137   0.304348  0.393258\n",
       "1      I-asp  0.194444   0.233333  0.166667\n",
       "0  AVG_MICRO  0.304348        NaN       NaN\n",
       "0  AVG_MICRO  0.268791        NaN       NaN"
      ]
     },
     "execution_count": 18,
     "metadata": {},
     "output_type": "execute_result"
    }
   ],
   "source": [
    "model.evaluate_performance(test)"
   ]
  },
  {
   "cell_type": "code",
   "execution_count": null,
   "id": "4f994c97-0ce1-4471-bc0e-d32849beff6e",
   "metadata": {},
   "outputs": [],
   "source": [
    "y_pred = model.predict(test['sentences'])"
   ]
  },
  {
   "cell_type": "code",
   "execution_count": 141,
   "id": "9f6995c6-766b-4b85-a106-0f8f065dc79d",
   "metadata": {},
   "outputs": [
    {
     "data": {
      "text/plain": [
       "{'totalAspects': 104,\n",
       " 'pred': 69,\n",
       " 'tp': 55,\n",
       " 'fp': 41,\n",
       " 'fn': 49,\n",
       " 'precisao': 0.5729166666666666,\n",
       " 'precisaoLaplace': 0.5714285714285714,\n",
       " 'revocacao': 0.5288461538461539,\n",
       " 'medidaf': 0.5499999999999999,\n",
       " 'totalExplicitos': 91,\n",
       " 'explicitosOk': 25,\n",
       " 'pExplicitos': 0.27472527472527475,\n",
       " 'explicitsList': ['menu',\n",
       "  'fotografia',\n",
       "  'resolução',\n",
       "  'bateria',\n",
       "  'cartão de memória',\n",
       "  'preço',\n",
       "  'botão',\n",
       "  'máquina',\n",
       "  'câmera',\n",
       "  'manual de instruções',\n",
       "  'investimento',\n",
       "  'redução de olhos vermelhos',\n",
       "  'custo',\n",
       "  'fotos',\n",
       "  'processador',\n",
       "  'camera',\n",
       "  'manuseio',\n",
       "  'recursos',\n",
       "  'flash',\n",
       "  'zoom',\n",
       "  'imagens',\n",
       "  'lente',\n",
       "  'produto',\n",
       "  'vídeo',\n",
       "  'foco'],\n",
       " 'totalImplicitos': 13,\n",
       " 'implicitosOk': 3,\n",
       " 'pImplicitos': 0.23076923076923078,\n",
       " 'implicitsList': ['compacta', 'fácil de usar', 'facil de usar'],\n",
       " 'tipos': {'Qualification': {'Adjective': 4}, 'Event': {'Verb': 2}}}"
      ]
     },
     "execution_count": 141,
     "metadata": {},
     "output_type": "execute_result"
    }
   ],
   "source": [
    "aspectsCamera = result2aspecList(y_pred, test['sentences'])\n",
    "resCamera = calculaMetricas(\n",
    "    aspectsCamera, \n",
    "    aspectsTest['datasets']['camera'], \n",
    "    tipos,\n",
    "    lemma=False, \n",
    "    output=False\n",
    ")\n",
    "resCamera"
   ]
  },
  {
   "cell_type": "code",
   "execution_count": 148,
   "id": "f35147fc-4f3c-4711-84eb-bab27fa108ac",
   "metadata": {},
   "outputs": [],
   "source": [
    "xml = dicttoxml(resCamera, attr_type=False, custom_root='resultados')\n",
    "with open('../resultados/bert_multi_indomain_'+domain+'.xml', 'w') as file:\n",
    "    dom = parseString(xml)\n",
    "    file.write(dom.toprettyxml())    "
   ]
  },
  {
   "cell_type": "markdown",
   "id": "ced118dd-45dd-4fa8-a47a-927a26a24b22",
   "metadata": {},
   "source": [
    "## Bert Portuguese: Bertimbau"
   ]
  },
  {
   "cell_type": "code",
   "execution_count": 151,
   "id": "5ad76e50-d2be-4696-a57d-a5db8e99e0f1",
   "metadata": {},
   "outputs": [],
   "source": [
    "transformer = 'neuralmind/bert-base-portuguese-cased'"
   ]
  },
  {
   "cell_type": "code",
   "execution_count": 152,
   "id": "883943fd-4043-4730-a707-2c835e345573",
   "metadata": {},
   "outputs": [],
   "source": [
    "# hyperparameters for network\n",
    "dropout = 0.1\n",
    "# hyperparameters for training\n",
    "training_hyperparameters = {\n",
    "    'epochs' : 40,\n",
    "    'warmup_steps' : 500,                                                   \n",
    "    'train_batch_size': 13,\n",
    "    'learning_rate': 0.0001\n",
    "}"
   ]
  },
  {
   "cell_type": "code",
   "execution_count": 153,
   "id": "a70b4fee-e6a5-4f5b-a4d4-745a7bc06035",
   "metadata": {},
   "outputs": [
    {
     "name": "stdout",
     "output_type": "stream",
     "text": [
      "Device automatically set to: cpu\n"
     ]
    },
    {
     "name": "stderr",
     "output_type": "stream",
     "text": [
      "Some weights of the model checkpoint at neuralmind/bert-base-portuguese-cased were not used when initializing BertModel: ['cls.seq_relationship.weight', 'cls.seq_relationship.bias', 'cls.predictions.bias', 'cls.predictions.transform.LayerNorm.weight', 'cls.predictions.transform.LayerNorm.bias', 'cls.predictions.transform.dense.bias', 'cls.predictions.transform.dense.weight', 'cls.predictions.decoder.weight']\n",
      "- This IS expected if you are initializing BertModel from the checkpoint of a model trained on another task or with another architecture (e.g. initializing a BertForSequenceClassification model from a BertForPreTraining model).\n",
      "- This IS NOT expected if you are initializing BertModel from the checkpoint of a model that you expect to be exactly identical (initializing a BertForSequenceClassification model from a BertForSequenceClassification model).\n"
     ]
    }
   ],
   "source": [
    "from NERDA.models import NERDA\n",
    "model2 = NERDA(\n",
    "    dataset_training = training,\n",
    "    dataset_validation = validation,\n",
    "    tag_scheme = tag_scheme, \n",
    "    tag_outside = 'O',\n",
    "    transformer = transformer,\n",
    "    dropout = dropout,\n",
    "    hyperparameters = training_hyperparameters\n",
    ")"
   ]
  },
  {
   "cell_type": "code",
   "execution_count": 154,
   "id": "952e473d-8a1a-4448-bcf9-28bf94008598",
   "metadata": {},
   "outputs": [
    {
     "name": "stdout",
     "output_type": "stream",
     "text": [
      "\n",
      " Epoch 1 / 40\n"
     ]
    },
    {
     "name": "stderr",
     "output_type": "stream",
     "text": [
      "100%|████████████████████████████████████████████████████████████████████████████████████████████████████████████████████████████████████████████████████████████████████████████| 14/14 [01:02<00:00,  4.49s/it]\n",
      "100%|██████████████████████████████████████████████████████████████████████████████████████████████████████████████████████████████████████████████████████████████████████████████| 3/3 [00:03<00:00,  1.08s/it]\n"
     ]
    },
    {
     "name": "stdout",
     "output_type": "stream",
     "text": [
      "Train Loss = 1.0234091494764601 Valid Loss = 0.8536535898844401\n",
      "\n",
      " Epoch 2 / 40\n"
     ]
    },
    {
     "name": "stderr",
     "output_type": "stream",
     "text": [
      "100%|████████████████████████████████████████████████████████████████████████████████████████████████████████████████████████████████████████████████████████████████████████████| 14/14 [01:03<00:00,  4.53s/it]\n",
      "100%|██████████████████████████████████████████████████████████████████████████████████████████████████████████████████████████████████████████████████████████████████████████████| 3/3 [00:03<00:00,  1.14s/it]\n"
     ]
    },
    {
     "name": "stdout",
     "output_type": "stream",
     "text": [
      "Train Loss = 0.5410053953528404 Valid Loss = 0.3945716122786204\n",
      "\n",
      " Epoch 3 / 40\n"
     ]
    },
    {
     "name": "stderr",
     "output_type": "stream",
     "text": [
      "100%|████████████████████████████████████████████████████████████████████████████████████████████████████████████████████████████████████████████████████████████████████████████| 14/14 [01:02<00:00,  4.43s/it]\n",
      "100%|██████████████████████████████████████████████████████████████████████████████████████████████████████████████████████████████████████████████████████████████████████████████| 3/3 [00:03<00:00,  1.11s/it]\n"
     ]
    },
    {
     "name": "stdout",
     "output_type": "stream",
     "text": [
      "Train Loss = 0.42239711965833393 Valid Loss = 0.395347535610199\n",
      "\n",
      " Epoch 4 / 40\n"
     ]
    },
    {
     "name": "stderr",
     "output_type": "stream",
     "text": [
      "100%|████████████████████████████████████████████████████████████████████████████████████████████████████████████████████████████████████████████████████████████████████████████| 14/14 [01:02<00:00,  4.48s/it]\n",
      "100%|██████████████████████████████████████████████████████████████████████████████████████████████████████████████████████████████████████████████████████████████████████████████| 3/3 [00:03<00:00,  1.11s/it]\n"
     ]
    },
    {
     "name": "stdout",
     "output_type": "stream",
     "text": [
      "Train Loss = 0.4170171618461609 Valid Loss = 0.3963136672973633\n",
      "\n",
      " Epoch 5 / 40\n"
     ]
    },
    {
     "name": "stderr",
     "output_type": "stream",
     "text": [
      "100%|████████████████████████████████████████████████████████████████████████████████████████████████████████████████████████████████████████████████████████████████████████████| 14/14 [01:03<00:00,  4.53s/it]\n",
      "100%|██████████████████████████████████████████████████████████████████████████████████████████████████████████████████████████████████████████████████████████████████████████████| 3/3 [00:03<00:00,  1.12s/it]\n"
     ]
    },
    {
     "name": "stdout",
     "output_type": "stream",
     "text": [
      "Train Loss = 0.40768047102860044 Valid Loss = 0.3841511011123657\n",
      "\n",
      " Epoch 6 / 40\n"
     ]
    },
    {
     "name": "stderr",
     "output_type": "stream",
     "text": [
      "100%|████████████████████████████████████████████████████████████████████████████████████████████████████████████████████████████████████████████████████████████████████████████| 14/14 [01:02<00:00,  4.47s/it]\n",
      "100%|██████████████████████████████████████████████████████████████████████████████████████████████████████████████████████████████████████████████████████████████████████████████| 3/3 [00:03<00:00,  1.11s/it]\n"
     ]
    },
    {
     "name": "stdout",
     "output_type": "stream",
     "text": [
      "Train Loss = 0.41025661464248386 Valid Loss = 0.37946919600168866\n",
      "\n",
      " Epoch 7 / 40\n"
     ]
    },
    {
     "name": "stderr",
     "output_type": "stream",
     "text": [
      "100%|████████████████████████████████████████████████████████████████████████████████████████████████████████████████████████████████████████████████████████████████████████████| 14/14 [01:12<00:00,  5.20s/it]\n",
      "100%|██████████████████████████████████████████████████████████████████████████████████████████████████████████████████████████████████████████████████████████████████████████████| 3/3 [00:03<00:00,  1.14s/it]\n"
     ]
    },
    {
     "name": "stdout",
     "output_type": "stream",
     "text": [
      "Train Loss = 0.4003907548529761 Valid Loss = 0.37218613425890607\n",
      "\n",
      " Epoch 8 / 40\n"
     ]
    },
    {
     "name": "stderr",
     "output_type": "stream",
     "text": [
      "100%|████████████████████████████████████████████████████████████████████████████████████████████████████████████████████████████████████████████████████████████████████████████| 14/14 [01:05<00:00,  4.71s/it]\n",
      "100%|██████████████████████████████████████████████████████████████████████████████████████████████████████████████████████████████████████████████████████████████████████████████| 3/3 [00:03<00:00,  1.13s/it]\n"
     ]
    },
    {
     "name": "stdout",
     "output_type": "stream",
     "text": [
      "Train Loss = 0.4029884561896324 Valid Loss = 0.38298094272613525\n",
      "\n",
      " Epoch 9 / 40\n"
     ]
    },
    {
     "name": "stderr",
     "output_type": "stream",
     "text": [
      "100%|████████████████████████████████████████████████████████████████████████████████████████████████████████████████████████████████████████████████████████████████████████████| 14/14 [01:06<00:00,  4.76s/it]\n",
      "100%|██████████████████████████████████████████████████████████████████████████████████████████████████████████████████████████████████████████████████████████████████████████████| 3/3 [00:03<00:00,  1.11s/it]\n"
     ]
    },
    {
     "name": "stdout",
     "output_type": "stream",
     "text": [
      "Train Loss = 0.3903481385537556 Valid Loss = 0.3293553988138835\n",
      "\n",
      " Epoch 10 / 40\n"
     ]
    },
    {
     "name": "stderr",
     "output_type": "stream",
     "text": [
      "100%|████████████████████████████████████████████████████████████████████████████████████████████████████████████████████████████████████████████████████████████████████████████| 14/14 [01:15<00:00,  5.42s/it]\n",
      "100%|██████████████████████████████████████████████████████████████████████████████████████████████████████████████████████████████████████████████████████████████████████████████| 3/3 [00:03<00:00,  1.15s/it]\n"
     ]
    },
    {
     "name": "stdout",
     "output_type": "stream",
     "text": [
      "Train Loss = 0.31207601938928875 Valid Loss = 0.2674483259518941\n",
      "\n",
      " Epoch 11 / 40\n"
     ]
    },
    {
     "name": "stderr",
     "output_type": "stream",
     "text": [
      "100%|████████████████████████████████████████████████████████████████████████████████████████████████████████████████████████████████████████████████████████████████████████████| 14/14 [01:03<00:00,  4.54s/it]\n",
      "100%|██████████████████████████████████████████████████████████████████████████████████████████████████████████████████████████████████████████████████████████████████████████████| 3/3 [00:04<00:00,  1.43s/it]\n"
     ]
    },
    {
     "name": "stdout",
     "output_type": "stream",
     "text": [
      "Train Loss = 0.24429939660642827 Valid Loss = 0.23420207699139914\n",
      "\n",
      " Epoch 12 / 40\n"
     ]
    },
    {
     "name": "stderr",
     "output_type": "stream",
     "text": [
      "100%|████████████████████████████████████████████████████████████████████████████████████████████████████████████████████████████████████████████████████████████████████████████| 14/14 [01:12<00:00,  5.20s/it]\n",
      "100%|██████████████████████████████████████████████████████████████████████████████████████████████████████████████████████████████████████████████████████████████████████████████| 3/3 [00:03<00:00,  1.16s/it]\n"
     ]
    },
    {
     "name": "stdout",
     "output_type": "stream",
     "text": [
      "Train Loss = 0.1915977112283664 Valid Loss = 0.27850937843322754\n",
      "\n",
      " Epoch 13 / 40\n"
     ]
    },
    {
     "name": "stderr",
     "output_type": "stream",
     "text": [
      "100%|████████████████████████████████████████████████████████████████████████████████████████████████████████████████████████████████████████████████████████████████████████████| 14/14 [01:34<00:00,  6.75s/it]\n",
      "100%|██████████████████████████████████████████████████████████████████████████████████████████████████████████████████████████████████████████████████████████████████████████████| 3/3 [00:06<00:00,  2.24s/it]\n"
     ]
    },
    {
     "name": "stdout",
     "output_type": "stream",
     "text": [
      "Train Loss = 0.14699452969112567 Valid Loss = 0.21053828299045563\n",
      "\n",
      " Epoch 14 / 40\n"
     ]
    },
    {
     "name": "stderr",
     "output_type": "stream",
     "text": [
      "100%|████████████████████████████████████████████████████████████████████████████████████████████████████████████████████████████████████████████████████████████████████████████| 14/14 [02:01<00:00,  8.68s/it]\n",
      "100%|██████████████████████████████████████████████████████████████████████████████████████████████████████████████████████████████████████████████████████████████████████████████| 3/3 [00:05<00:00,  1.97s/it]\n"
     ]
    },
    {
     "name": "stdout",
     "output_type": "stream",
     "text": [
      "Train Loss = 0.11480430314051253 Valid Loss = 0.26902322967847186\n",
      "\n",
      " Epoch 15 / 40\n"
     ]
    },
    {
     "name": "stderr",
     "output_type": "stream",
     "text": [
      "100%|████████████████████████████████████████████████████████████████████████████████████████████████████████████████████████████████████████████████████████████████████████████| 14/14 [02:01<00:00,  8.69s/it]\n",
      "100%|██████████████████████████████████████████████████████████████████████████████████████████████████████████████████████████████████████████████████████████████████████████████| 3/3 [00:07<00:00,  2.41s/it]\n"
     ]
    },
    {
     "name": "stdout",
     "output_type": "stream",
     "text": [
      "Train Loss = 0.08282979098813874 Valid Loss = 0.28554945687452954\n",
      "\n",
      " Epoch 16 / 40\n"
     ]
    },
    {
     "name": "stderr",
     "output_type": "stream",
     "text": [
      "100%|████████████████████████████████████████████████████████████████████████████████████████████████████████████████████████████████████████████████████████████████████████████| 14/14 [02:01<00:00,  8.66s/it]\n",
      "100%|██████████████████████████████████████████████████████████████████████████████████████████████████████████████████████████████████████████████████████████████████████████████| 3/3 [00:05<00:00,  1.97s/it]\n"
     ]
    },
    {
     "name": "stdout",
     "output_type": "stream",
     "text": [
      "Train Loss = 0.06133761542982289 Valid Loss = 0.4122074643770854\n",
      "\n",
      " Epoch 17 / 40\n"
     ]
    },
    {
     "name": "stderr",
     "output_type": "stream",
     "text": [
      "100%|████████████████████████████████████████████████████████████████████████████████████████████████████████████████████████████████████████████████████████████████████████████| 14/14 [02:03<00:00,  8.81s/it]\n",
      "100%|██████████████████████████████████████████████████████████████████████████████████████████████████████████████████████████████████████████████████████████████████████████████| 3/3 [00:06<00:00,  2.31s/it]\n"
     ]
    },
    {
     "name": "stdout",
     "output_type": "stream",
     "text": [
      "Train Loss = 0.06026918718790902 Valid Loss = 0.4077184150616328\n",
      "\n",
      " Epoch 18 / 40\n"
     ]
    },
    {
     "name": "stderr",
     "output_type": "stream",
     "text": [
      "100%|████████████████████████████████████████████████████████████████████████████████████████████████████████████████████████████████████████████████████████████████████████████| 14/14 [02:02<00:00,  8.77s/it]\n",
      "100%|██████████████████████████████████████████████████████████████████████████████████████████████████████████████████████████████████████████████████████████████████████████████| 3/3 [00:05<00:00,  1.97s/it]\n"
     ]
    },
    {
     "name": "stdout",
     "output_type": "stream",
     "text": [
      "Train Loss = 0.05380463729878621 Valid Loss = 0.36698193351427716\n",
      "\n",
      " Epoch 19 / 40\n"
     ]
    },
    {
     "name": "stderr",
     "output_type": "stream",
     "text": [
      "100%|████████████████████████████████████████████████████████████████████████████████████████████████████████████████████████████████████████████████████████████████████████████| 14/14 [02:02<00:00,  8.72s/it]\n",
      "100%|██████████████████████████████████████████████████████████████████████████████████████████████████████████████████████████████████████████████████████████████████████████████| 3/3 [00:05<00:00,  1.96s/it]\n"
     ]
    },
    {
     "name": "stdout",
     "output_type": "stream",
     "text": [
      "Train Loss = 0.04781212058982679 Valid Loss = 0.21434859931468964\n",
      "\n",
      " Epoch 20 / 40\n"
     ]
    },
    {
     "name": "stderr",
     "output_type": "stream",
     "text": [
      "100%|████████████████████████████████████████████████████████████████████████████████████████████████████████████████████████████████████████████████████████████████████████████| 14/14 [02:03<00:00,  8.83s/it]\n",
      "100%|██████████████████████████████████████████████████████████████████████████████████████████████████████████████████████████████████████████████████████████████████████████████| 3/3 [00:05<00:00,  2.00s/it]\n"
     ]
    },
    {
     "name": "stdout",
     "output_type": "stream",
     "text": [
      "Train Loss = 0.021510307244690403 Valid Loss = 0.40681102871894836\n",
      "\n",
      " Epoch 21 / 40\n"
     ]
    },
    {
     "name": "stderr",
     "output_type": "stream",
     "text": [
      "100%|████████████████████████████████████████████████████████████████████████████████████████████████████████████████████████████████████████████████████████████████████████████| 14/14 [02:01<00:00,  8.70s/it]\n",
      "100%|██████████████████████████████████████████████████████████████████████████████████████████████████████████████████████████████████████████████████████████████████████████████| 3/3 [00:05<00:00,  1.95s/it]\n"
     ]
    },
    {
     "name": "stdout",
     "output_type": "stream",
     "text": [
      "Train Loss = 0.03283241499281887 Valid Loss = 0.3703536291917165\n",
      "\n",
      " Epoch 22 / 40\n"
     ]
    },
    {
     "name": "stderr",
     "output_type": "stream",
     "text": [
      "100%|████████████████████████████████████████████████████████████████████████████████████████████████████████████████████████████████████████████████████████████████████████████| 14/14 [02:01<00:00,  8.71s/it]\n",
      "100%|██████████████████████████████████████████████████████████████████████████████████████████████████████████████████████████████████████████████████████████████████████████████| 3/3 [00:07<00:00,  2.33s/it]\n"
     ]
    },
    {
     "name": "stdout",
     "output_type": "stream",
     "text": [
      "Train Loss = 0.022828456517475258 Valid Loss = 0.48842636744181317\n",
      "\n",
      " Epoch 23 / 40\n"
     ]
    },
    {
     "name": "stderr",
     "output_type": "stream",
     "text": [
      "100%|████████████████████████████████████████████████████████████████████████████████████████████████████████████████████████████████████████████████████████████████████████████| 14/14 [02:01<00:00,  8.65s/it]\n",
      "100%|██████████████████████████████████████████████████████████████████████████████████████████████████████████████████████████████████████████████████████████████████████████████| 3/3 [00:05<00:00,  1.98s/it]\n"
     ]
    },
    {
     "name": "stdout",
     "output_type": "stream",
     "text": [
      "Train Loss = 0.03667806342127733 Valid Loss = 0.38514042894045514\n",
      "\n",
      " Epoch 24 / 40\n"
     ]
    },
    {
     "name": "stderr",
     "output_type": "stream",
     "text": [
      "100%|████████████████████████████████████████████████████████████████████████████████████████████████████████████████████████████████████████████████████████████████████████████| 14/14 [02:01<00:00,  8.70s/it]\n",
      "100%|██████████████████████████████████████████████████████████████████████████████████████████████████████████████████████████████████████████████████████████████████████████████| 3/3 [00:05<00:00,  1.95s/it]\n"
     ]
    },
    {
     "name": "stdout",
     "output_type": "stream",
     "text": [
      "Train Loss = 0.022057585418224335 Valid Loss = 0.45609989762306213\n",
      "\n",
      " Epoch 25 / 40\n"
     ]
    },
    {
     "name": "stderr",
     "output_type": "stream",
     "text": [
      "100%|████████████████████████████████████████████████████████████████████████████████████████████████████████████████████████████████████████████████████████████████████████████| 14/14 [02:02<00:00,  8.77s/it]\n",
      "100%|██████████████████████████████████████████████████████████████████████████████████████████████████████████████████████████████████████████████████████████████████████████████| 3/3 [00:05<00:00,  1.96s/it]\n"
     ]
    },
    {
     "name": "stdout",
     "output_type": "stream",
     "text": [
      "Train Loss = 0.01246040132744903 Valid Loss = 0.35060816009839374\n",
      "\n",
      " Epoch 26 / 40\n"
     ]
    },
    {
     "name": "stderr",
     "output_type": "stream",
     "text": [
      "100%|████████████████████████████████████████████████████████████████████████████████████████████████████████████████████████████████████████████████████████████████████████████| 14/14 [02:01<00:00,  8.67s/it]\n",
      "100%|██████████████████████████████████████████████████████████████████████████████████████████████████████████████████████████████████████████████████████████████████████████████| 3/3 [00:05<00:00,  1.99s/it]\n"
     ]
    },
    {
     "name": "stdout",
     "output_type": "stream",
     "text": [
      "Train Loss = 0.007301160911863137 Valid Loss = 0.3289378335078557\n",
      "\n",
      " Epoch 27 / 40\n"
     ]
    },
    {
     "name": "stderr",
     "output_type": "stream",
     "text": [
      "100%|████████████████████████████████████████████████████████████████████████████████████████████████████████████████████████████████████████████████████████████████████████████| 14/14 [02:02<00:00,  8.76s/it]\n",
      "100%|██████████████████████████████████████████████████████████████████████████████████████████████████████████████████████████████████████████████████████████████████████████████| 3/3 [00:07<00:00,  2.52s/it]\n"
     ]
    },
    {
     "name": "stdout",
     "output_type": "stream",
     "text": [
      "Train Loss = 0.00320833787554875 Valid Loss = 0.49343186616897583\n",
      "\n",
      " Epoch 28 / 40\n"
     ]
    },
    {
     "name": "stderr",
     "output_type": "stream",
     "text": [
      "100%|████████████████████████████████████████████████████████████████████████████████████████████████████████████████████████████████████████████████████████████████████████████| 14/14 [02:01<00:00,  8.71s/it]\n",
      "100%|██████████████████████████████████████████████████████████████████████████████████████████████████████████████████████████████████████████████████████████████████████████████| 3/3 [00:05<00:00,  1.93s/it]\n"
     ]
    },
    {
     "name": "stdout",
     "output_type": "stream",
     "text": [
      "Train Loss = 0.0045853277510364675 Valid Loss = 0.35472267866134644\n",
      "\n",
      " Epoch 29 / 40\n"
     ]
    },
    {
     "name": "stderr",
     "output_type": "stream",
     "text": [
      "100%|████████████████████████████████████████████████████████████████████████████████████████████████████████████████████████████████████████████████████████████████████████████| 14/14 [02:01<00:00,  8.66s/it]\n",
      "100%|██████████████████████████████████████████████████████████████████████████████████████████████████████████████████████████████████████████████████████████████████████████████| 3/3 [00:06<00:00,  2.24s/it]\n"
     ]
    },
    {
     "name": "stdout",
     "output_type": "stream",
     "text": [
      "Train Loss = 0.0027209556886061493 Valid Loss = 0.2728658417860667\n",
      "\n",
      " Epoch 30 / 40\n"
     ]
    },
    {
     "name": "stderr",
     "output_type": "stream",
     "text": [
      "100%|████████████████████████████████████████████████████████████████████████████████████████████████████████████████████████████████████████████████████████████████████████████| 14/14 [02:01<00:00,  8.66s/it]\n",
      "100%|██████████████████████████████████████████████████████████████████████████████████████████████████████████████████████████████████████████████████████████████████████████████| 3/3 [00:05<00:00,  1.97s/it]\n"
     ]
    },
    {
     "name": "stdout",
     "output_type": "stream",
     "text": [
      "Train Loss = 0.0020869384191298324 Valid Loss = 0.351486141482989\n",
      "\n",
      " Epoch 31 / 40\n"
     ]
    },
    {
     "name": "stderr",
     "output_type": "stream",
     "text": [
      "100%|████████████████████████████████████████████████████████████████████████████████████████████████████████████████████████████████████████████████████████████████████████████| 14/14 [02:01<00:00,  8.65s/it]\n",
      "100%|██████████████████████████████████████████████████████████████████████████████████████████████████████████████████████████████████████████████████████████████████████████████| 3/3 [00:05<00:00,  1.97s/it]\n"
     ]
    },
    {
     "name": "stdout",
     "output_type": "stream",
     "text": [
      "Train Loss = 0.013262514883535914 Valid Loss = 0.40982601046562195\n",
      "\n",
      " Epoch 32 / 40\n"
     ]
    },
    {
     "name": "stderr",
     "output_type": "stream",
     "text": [
      "100%|████████████████████████████████████████████████████████████████████████████████████████████████████████████████████████████████████████████████████████████████████████████| 14/14 [02:02<00:00,  8.77s/it]\n",
      "100%|██████████████████████████████████████████████████████████████████████████████████████████████████████████████████████████████████████████████████████████████████████████████| 3/3 [00:05<00:00,  1.95s/it]\n"
     ]
    },
    {
     "name": "stdout",
     "output_type": "stream",
     "text": [
      "Train Loss = 0.004574273193221805 Valid Loss = 0.33633720378081006\n",
      "\n",
      " Epoch 33 / 40\n"
     ]
    },
    {
     "name": "stderr",
     "output_type": "stream",
     "text": [
      "100%|████████████████████████████████████████████████████████████████████████████████████████████████████████████████████████████████████████████████████████████████████████████| 14/14 [02:00<00:00,  8.62s/it]\n",
      "100%|██████████████████████████████████████████████████████████████████████████████████████████████████████████████████████████████████████████████████████████████████████████████| 3/3 [00:05<00:00,  1.91s/it]\n"
     ]
    },
    {
     "name": "stdout",
     "output_type": "stream",
     "text": [
      "Train Loss = 0.004809444084198081 Valid Loss = 0.44179124633471173\n",
      "\n",
      " Epoch 34 / 40\n"
     ]
    },
    {
     "name": "stderr",
     "output_type": "stream",
     "text": [
      "100%|████████████████████████████████████████████████████████████████████████████████████████████████████████████████████████████████████████████████████████████████████████████| 14/14 [02:02<00:00,  8.76s/it]\n",
      "100%|██████████████████████████████████████████████████████████████████████████████████████████████████████████████████████████████████████████████████████████████████████████████| 3/3 [00:06<00:00,  2.25s/it]\n"
     ]
    },
    {
     "name": "stdout",
     "output_type": "stream",
     "text": [
      "Train Loss = 0.0012797770967673777 Valid Loss = 0.5142755111058553\n",
      "\n",
      " Epoch 35 / 40\n"
     ]
    },
    {
     "name": "stderr",
     "output_type": "stream",
     "text": [
      "100%|████████████████████████████████████████████████████████████████████████████████████████████████████████████████████████████████████████████████████████████████████████████| 14/14 [02:01<00:00,  8.69s/it]\n",
      "100%|██████████████████████████████████████████████████████████████████████████████████████████████████████████████████████████████████████████████████████████████████████████████| 3/3 [00:05<00:00,  2.00s/it]\n"
     ]
    },
    {
     "name": "stdout",
     "output_type": "stream",
     "text": [
      "Train Loss = 0.000671814360040506 Valid Loss = 0.5244881312052408\n",
      "\n",
      " Epoch 36 / 40\n"
     ]
    },
    {
     "name": "stderr",
     "output_type": "stream",
     "text": [
      "100%|████████████████████████████████████████████████████████████████████████████████████████████████████████████████████████████████████████████████████████████████████████████| 14/14 [02:01<00:00,  8.66s/it]\n",
      "100%|██████████████████████████████████████████████████████████████████████████████████████████████████████████████████████████████████████████████████████████████████████████████| 3/3 [00:05<00:00,  1.92s/it]\n"
     ]
    },
    {
     "name": "stdout",
     "output_type": "stream",
     "text": [
      "Train Loss = 0.0004478882557512926 Valid Loss = 0.5355870723724365\n",
      "\n",
      " Epoch 37 / 40\n"
     ]
    },
    {
     "name": "stderr",
     "output_type": "stream",
     "text": [
      "100%|████████████████████████████████████████████████████████████████████████████████████████████████████████████████████████████████████████████████████████████████████████████| 14/14 [02:02<00:00,  8.72s/it]\n",
      "100%|██████████████████████████████████████████████████████████████████████████████████████████████████████████████████████████████████████████████████████████████████████████████| 3/3 [00:06<00:00,  2.02s/it]\n"
     ]
    },
    {
     "name": "stdout",
     "output_type": "stream",
     "text": [
      "Train Loss = 0.0003544410802922877 Valid Loss = 0.544294019540151\n",
      "\n",
      " Epoch 38 / 40\n"
     ]
    },
    {
     "name": "stderr",
     "output_type": "stream",
     "text": [
      "100%|████████████████████████████████████████████████████████████████████████████████████████████████████████████████████████████████████████████████████████████████████████████| 14/14 [02:02<00:00,  8.72s/it]\n",
      "100%|██████████████████████████████████████████████████████████████████████████████████████████████████████████████████████████████████████████████████████████████████████████████| 3/3 [00:05<00:00,  1.97s/it]\n"
     ]
    },
    {
     "name": "stdout",
     "output_type": "stream",
     "text": [
      "Train Loss = 0.00037117166669174494 Valid Loss = 0.5508960286776224\n",
      "\n",
      " Epoch 39 / 40\n"
     ]
    },
    {
     "name": "stderr",
     "output_type": "stream",
     "text": [
      "100%|████████████████████████████████████████████████████████████████████████████████████████████████████████████████████████████████████████████████████████████████████████████| 14/14 [02:03<00:00,  8.86s/it]\n",
      "100%|██████████████████████████████████████████████████████████████████████████████████████████████████████████████████████████████████████████████████████████████████████████████| 3/3 [00:05<00:00,  2.00s/it]\n"
     ]
    },
    {
     "name": "stdout",
     "output_type": "stream",
     "text": [
      "Train Loss = 0.0002985817929064589 Valid Loss = 0.5508960286776224\n",
      "\n",
      " Epoch 40 / 40\n"
     ]
    },
    {
     "name": "stderr",
     "output_type": "stream",
     "text": [
      "100%|████████████████████████████████████████████████████████████████████████████████████████████████████████████████████████████████████████████████████████████████████████████| 14/14 [02:03<00:00,  8.80s/it]\n",
      "100%|██████████████████████████████████████████████████████████████████████████████████████████████████████████████████████████████████████████████████████████████████████████████| 3/3 [00:05<00:00,  1.96s/it]"
     ]
    },
    {
     "name": "stdout",
     "output_type": "stream",
     "text": [
      "Train Loss = 0.0004517896013567224 Valid Loss = 0.5508960286776224\n"
     ]
    },
    {
     "name": "stderr",
     "output_type": "stream",
     "text": [
      "\n"
     ]
    },
    {
     "data": {
      "text/plain": [
       "'Model trained successfully'"
      ]
     },
     "execution_count": 154,
     "metadata": {},
     "output_type": "execute_result"
    }
   ],
   "source": [
    "model2.train()"
   ]
  },
  {
   "cell_type": "code",
   "execution_count": 155,
   "id": "c1a29151-792d-4eba-a527-7b66fe36c420",
   "metadata": {},
   "outputs": [
    {
     "name": "stderr",
     "output_type": "stream",
     "text": [
      "/dados/usuarios/mateus/projetos/absa/16_Doutorado_Implicit/doutorado16/lib/python3.9/site-packages/NERDA/performance.py:39: UserWarning: length of observed values exceeded lengths of predicted values in 25 cases and were truncated. _Consider_ increasing max_len parameter for your model.\n",
      "  warnings.warn(f'length of observed values exceeded lengths of predicted values in {n_exceeds} cases and were truncated. _Consider_ increasing max_len parameter for your model.')\n",
      "/dados/usuarios/mateus/projetos/absa/16_Doutorado_Implicit/doutorado16/lib/python3.9/site-packages/NERDA/performance.py:39: UserWarning: length of observed values exceeded lengths of predicted values in 25 cases and were truncated. _Consider_ increasing max_len parameter for your model.\n",
      "  warnings.warn(f'length of observed values exceeded lengths of predicted values in {n_exceeds} cases and were truncated. _Consider_ increasing max_len parameter for your model.')\n",
      "/dados/usuarios/mateus/projetos/absa/16_Doutorado_Implicit/doutorado16/lib/python3.9/site-packages/NERDA/performance.py:39: UserWarning: length of observed values exceeded lengths of predicted values in 25 cases and were truncated. _Consider_ increasing max_len parameter for your model.\n",
      "  warnings.warn(f'length of observed values exceeded lengths of predicted values in {n_exceeds} cases and were truncated. _Consider_ increasing max_len parameter for your model.')\n"
     ]
    },
    {
     "data": {
      "text/html": [
       "<div>\n",
       "<style scoped>\n",
       "    .dataframe tbody tr th:only-of-type {\n",
       "        vertical-align: middle;\n",
       "    }\n",
       "\n",
       "    .dataframe tbody tr th {\n",
       "        vertical-align: top;\n",
       "    }\n",
       "\n",
       "    .dataframe thead th {\n",
       "        text-align: right;\n",
       "    }\n",
       "</style>\n",
       "<table border=\"1\" class=\"dataframe\">\n",
       "  <thead>\n",
       "    <tr style=\"text-align: right;\">\n",
       "      <th></th>\n",
       "      <th>Level</th>\n",
       "      <th>F1-Score</th>\n",
       "      <th>Precision</th>\n",
       "      <th>Recall</th>\n",
       "    </tr>\n",
       "  </thead>\n",
       "  <tbody>\n",
       "    <tr>\n",
       "      <th>0</th>\n",
       "      <td>B-asp</td>\n",
       "      <td>0.414097</td>\n",
       "      <td>0.34058</td>\n",
       "      <td>0.528090</td>\n",
       "    </tr>\n",
       "    <tr>\n",
       "      <th>1</th>\n",
       "      <td>I-asp</td>\n",
       "      <td>0.189189</td>\n",
       "      <td>0.21875</td>\n",
       "      <td>0.166667</td>\n",
       "    </tr>\n",
       "    <tr>\n",
       "      <th>0</th>\n",
       "      <td>AVG_MICRO</td>\n",
       "      <td>0.358804</td>\n",
       "      <td>NaN</td>\n",
       "      <td>NaN</td>\n",
       "    </tr>\n",
       "    <tr>\n",
       "      <th>0</th>\n",
       "      <td>AVG_MICRO</td>\n",
       "      <td>0.301643</td>\n",
       "      <td>NaN</td>\n",
       "      <td>NaN</td>\n",
       "    </tr>\n",
       "  </tbody>\n",
       "</table>\n",
       "</div>"
      ],
      "text/plain": [
       "       Level  F1-Score  Precision    Recall\n",
       "0      B-asp  0.414097    0.34058  0.528090\n",
       "1      I-asp  0.189189    0.21875  0.166667\n",
       "0  AVG_MICRO  0.358804        NaN       NaN\n",
       "0  AVG_MICRO  0.301643        NaN       NaN"
      ]
     },
     "execution_count": 155,
     "metadata": {},
     "output_type": "execute_result"
    }
   ],
   "source": [
    "model2.evaluate_performance(test)"
   ]
  },
  {
   "cell_type": "code",
   "execution_count": 156,
   "id": "c845baca-2fc2-4960-87b1-d6d7a8b54ac1",
   "metadata": {},
   "outputs": [],
   "source": [
    "y_pred = model2.predict(test['sentences'])"
   ]
  },
  {
   "cell_type": "code",
   "execution_count": 157,
   "id": "29db0e8f-07b5-4555-bb78-0cf34bfa86c4",
   "metadata": {},
   "outputs": [
    {
     "data": {
      "text/plain": [
       "{'totalAspects': 104,\n",
       " 'pred': 81,\n",
       " 'tp': 63,\n",
       " 'fp': 50,\n",
       " 'fn': 41,\n",
       " 'precisao': 0.5575221238938053,\n",
       " 'precisaoLaplace': 0.5565217391304348,\n",
       " 'revocacao': 0.6057692307692307,\n",
       " 'medidaf': 0.5806451612903226,\n",
       " 'totalExplicitos': 91,\n",
       " 'explicitosOk': 29,\n",
       " 'pExplicitos': 0.31868131868131866,\n",
       " 'explicitsList': ['qualidade das fotos',\n",
       "  'câmera',\n",
       "  'camera',\n",
       "  'armazenamento',\n",
       "  'zoom',\n",
       "  'vídeo',\n",
       "  'produto',\n",
       "  'resolução',\n",
       "  'bateria',\n",
       "  'ultrazoom',\n",
       "  'investimento',\n",
       "  'custo',\n",
       "  'fotos',\n",
       "  'imagens',\n",
       "  'lente',\n",
       "  'qualidade de imagem',\n",
       "  'memória',\n",
       "  'menu',\n",
       "  'máquina',\n",
       "  'recursos',\n",
       "  'visor',\n",
       "  'flash',\n",
       "  'foco',\n",
       "  'video',\n",
       "  'fotografia',\n",
       "  'funções',\n",
       "  'preço',\n",
       "  'botão',\n",
       "  'manuseio'],\n",
       " 'totalImplicitos': 13,\n",
       " 'implicitosOk': 2,\n",
       " 'pImplicitos': 0.15384615384615385,\n",
       " 'implicitsList': ['medidas', 'compacta'],\n",
       " 'tipos': {'Feature': {'Attribute': 1}, 'Qualification': {'Adjective': 4}}}"
      ]
     },
     "execution_count": 157,
     "metadata": {},
     "output_type": "execute_result"
    }
   ],
   "source": [
    "aspectsCamera = result2aspecList(y_pred, test['sentences'])\n",
    "resCamera = calculaMetricas(\n",
    "    aspectsCamera, \n",
    "    aspectsTest['datasets']['camera'], \n",
    "    tipos,\n",
    "    lemma=False, \n",
    "    output=False\n",
    ")\n",
    "resCamera"
   ]
  },
  {
   "cell_type": "code",
   "execution_count": 158,
   "id": "9618ca77-72ba-40d5-9d2a-7f0f8a1aa4ba",
   "metadata": {},
   "outputs": [],
   "source": [
    "xml = dicttoxml(resCamera, attr_type=False, custom_root='resultados')\n",
    "with open('../resultados/bert_bertimbau_indomain_'+domain+'.xml', 'w') as file:\n",
    "    dom = parseString(xml)\n",
    "    file.write(dom.toprettyxml())    "
   ]
  },
  {
   "cell_type": "code",
   "execution_count": null,
   "id": "915b0ece-503e-45f2-992a-3fbdea82be93",
   "metadata": {},
   "outputs": [],
   "source": []
  },
  {
   "cell_type": "code",
   "execution_count": null,
   "id": "071146bc-38f2-4e3f-b000-5d1fd1ca3b2c",
   "metadata": {},
   "outputs": [],
   "source": []
  },
  {
   "cell_type": "code",
   "execution_count": null,
   "id": "1fe8ecf5-fcd5-41ea-a7fa-695b6c0063f4",
   "metadata": {},
   "outputs": [],
   "source": []
  },
  {
   "cell_type": "code",
   "execution_count": null,
   "id": "668df845-97fb-49f9-b877-689eeca95ece",
   "metadata": {},
   "outputs": [],
   "source": []
  }
 ],
 "metadata": {
  "kernelspec": {
   "display_name": "doutorado",
   "language": "python",
   "name": "doutorado"
  },
  "language_info": {
   "codemirror_mode": {
    "name": "ipython",
    "version": 3
   },
   "file_extension": ".py",
   "mimetype": "text/x-python",
   "name": "python",
   "nbconvert_exporter": "python",
   "pygments_lexer": "ipython3",
   "version": "3.9.2"
  }
 },
 "nbformat": 4,
 "nbformat_minor": 5
}

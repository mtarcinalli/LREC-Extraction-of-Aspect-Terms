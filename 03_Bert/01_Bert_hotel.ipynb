{
 "cells": [
  {
   "cell_type": "markdown",
   "id": "edef9246-84d9-46e1-8709-be6396880fa0",
   "metadata": {},
   "source": [
    "# Hotel"
   ]
  },
  {
   "cell_type": "code",
   "execution_count": 33,
   "id": "03ac281d-591c-4307-8684-8e440541007f",
   "metadata": {},
   "outputs": [],
   "source": [
    "import pandas as pd\n",
    "import nltk\n",
    "import xmltodict\n",
    "from dicttoxml import dicttoxml\n",
    "from xml.dom.minidom import parseString\n",
    "\n",
    "import warnings\n",
    "warnings.filterwarnings('ignore')"
   ]
  },
  {
   "cell_type": "code",
   "execution_count": 22,
   "id": "935ae30a-1985-4285-b17c-16a076cba3d9",
   "metadata": {},
   "outputs": [
    {
     "name": "stdout",
     "output_type": "stream",
     "text": [
      "Loading functions...\n"
     ]
    }
   ],
   "source": [
    "%run ../funcoes.py"
   ]
  },
  {
   "cell_type": "code",
   "execution_count": 23,
   "id": "e58a77b8-9d28-40e7-a109-0c350b0848a4",
   "metadata": {},
   "outputs": [],
   "source": [
    "domain = \"hotel\"\n",
    "dfTest = pd.read_csv('../07_Keras/data/domain_hotel_IOB_test.csv', sep='\\t', quoting=3, keep_default_na=False)\n",
    "dfTrain = pd.read_csv('../07_Keras/data/domain_hotel_IOB_train.csv', sep='\\t', quoting=3, keep_default_na=False)"
   ]
  },
  {
   "cell_type": "code",
   "execution_count": 26,
   "id": "c80e0f7d-6fa4-4bc3-9d13-a0da585c881b",
   "metadata": {},
   "outputs": [],
   "source": [
    "# carregando tipos\n",
    "tiposAll = pd.read_csv('../data/tipologia/categorias_iacs.csv', sep=',', quoting=0, keep_default_na=False)\n",
    "tipos = tiposAll.loc[tiposAll['domain'] == domain]"
   ]
  },
  {
   "cell_type": "code",
   "execution_count": 4,
   "id": "b49147ef-6a59-45a2-b540-18c9bc0a2945",
   "metadata": {},
   "outputs": [],
   "source": [
    "f = open(\"../07_Keras/data/aspectsTest.xml\",\"r\")\n",
    "xml = f.read()\n",
    "aspectsTest = xmltodict.parse(xml, process_namespaces=True)"
   ]
  },
  {
   "cell_type": "code",
   "execution_count": 5,
   "id": "b93f5b61-f15e-47a3-a3dc-c10d6d79cf55",
   "metadata": {},
   "outputs": [],
   "source": [
    "def result2aspecList(y_pred, X_test):\n",
    "    aspectsList = []\n",
    "    aspect = []\n",
    "    stopwords = nltk.corpus.stopwords.words('portuguese')\n",
    "    for sent, sent_pred in zip(X_test, y_pred):\n",
    "        #print(len(sent),len(sent_pred))\n",
    "        for token, tag in zip(sent, sent_pred):\n",
    "            if tag != 'O':\n",
    "                #print(tag, token)\n",
    "                #print(tag, token['word.lower()'])\n",
    "                if tag == 'B-asp' and aspect:\n",
    "                    auxAspect = \" \".join(aspect).lower()\n",
    "                    if (auxAspect not in stopwords and len(auxAspect) > 1):\n",
    "                        aspectsList.append(auxAspect)\n",
    "                    aspect = []\n",
    "                if token not in [',',':']:\n",
    "                    aspect.append(token.lower())\n",
    "\n",
    "    aspectsList = list(set(aspectsList))\n",
    "    aspectsList.sort()    \n",
    "    return aspectsList"
   ]
  },
  {
   "cell_type": "code",
   "execution_count": null,
   "id": "bc1b6096-6d77-47ba-873e-b5f2c2ff4ad4",
   "metadata": {},
   "outputs": [],
   "source": []
  },
  {
   "cell_type": "code",
   "execution_count": 6,
   "id": "5bc2724d-8733-4305-9a29-eb892e018670",
   "metadata": {},
   "outputs": [],
   "source": [
    "tag_scheme = [\n",
    "'B-asp',\n",
    "'I-asp'\n",
    "]"
   ]
  },
  {
   "cell_type": "code",
   "execution_count": 7,
   "id": "e46a326d-db14-4f66-98b1-ad77bb2e5cd8",
   "metadata": {},
   "outputs": [],
   "source": [
    "contSents = 0\n",
    "for count, row in dfTrain.iterrows():\n",
    "    if (row[0] != \"\" and count > 0):\n",
    "        contSents = contSents + 1\n",
    "contSents = contSents + 1"
   ]
  },
  {
   "cell_type": "code",
   "execution_count": 8,
   "id": "7895770b-2428-46c5-8dd6-80d09dad330b",
   "metadata": {},
   "outputs": [
    {
     "name": "stdout",
     "output_type": "stream",
     "text": [
      "614\n"
     ]
    }
   ],
   "source": [
    "contTrain = round(contSents * 0.9)\n",
    "print(contTrain)"
   ]
  },
  {
   "cell_type": "code",
   "execution_count": 9,
   "id": "17ba862d-841b-46fb-97f6-258a13a2bfbd",
   "metadata": {},
   "outputs": [],
   "source": [
    "training = {'sentences': [], 'tags' : []}\n",
    "validation = {'sentences': [], 'tags' :[]}\n",
    "sent = []\n",
    "tags = []\n",
    "contSents = 0\n",
    "for count, row in dfTrain.iterrows():\n",
    "    if (row[0] != \"\" and count > 0):\n",
    "        if contSents < contTrain:\n",
    "            training['sentences'].append(sent)\n",
    "            training['tags'].append(tags)\n",
    "        else:\n",
    "            validation['sentences'].append(sent)\n",
    "            validation['tags'].append(tags)\n",
    "\n",
    "        tags = []\n",
    "        sent = []\n",
    "        contSents = contSents + 1\n",
    "    sent.append(row['Word'].lower())\n",
    "    tags.append(row['Tag'])\n",
    "        \n",
    "validation['sentences'].append(sent)\n",
    "validation['tags'].append(tags)"
   ]
  },
  {
   "cell_type": "code",
   "execution_count": 10,
   "id": "bd7458ff-2af4-4eb7-bee4-61fb38b9d41b",
   "metadata": {},
   "outputs": [
    {
     "data": {
      "text/plain": [
       "614"
      ]
     },
     "execution_count": 10,
     "metadata": {},
     "output_type": "execute_result"
    }
   ],
   "source": [
    "len(training['sentences'])"
   ]
  },
  {
   "cell_type": "code",
   "execution_count": 11,
   "id": "505ee23b-6b9b-43a4-826f-28baf595f4f8",
   "metadata": {},
   "outputs": [
    {
     "data": {
      "text/plain": [
       "68"
      ]
     },
     "execution_count": 11,
     "metadata": {},
     "output_type": "execute_result"
    }
   ],
   "source": [
    "len(validation['sentences'])"
   ]
  },
  {
   "cell_type": "code",
   "execution_count": 12,
   "id": "be45139a-6b33-4498-b9e6-b13a223806c5",
   "metadata": {},
   "outputs": [],
   "source": [
    "test = {'sentences': [], 'tags' : []}\n",
    "sent = []\n",
    "tags = []\n",
    "contSents = 0\n",
    "for count, row in dfTest.iterrows():\n",
    "    if (row[0] != \"\" and count > 0):\n",
    "        test['sentences'].append(sent)\n",
    "        test['tags'].append(tags)\n",
    "        tags = []\n",
    "        sent = []\n",
    "        contSents = contSents + 1\n",
    "    sent.append(row['Word'].lower())\n",
    "    tags.append(row['Tag'])\n",
    "test['sentences'].append(sent)\n",
    "test['tags'].append(tags)"
   ]
  },
  {
   "cell_type": "code",
   "execution_count": 13,
   "id": "854ef678-feeb-4381-94fc-047c1d9a50b5",
   "metadata": {},
   "outputs": [
    {
     "data": {
      "text/plain": [
       "292"
      ]
     },
     "execution_count": 13,
     "metadata": {},
     "output_type": "execute_result"
    }
   ],
   "source": [
    "len(test['sentences'])"
   ]
  },
  {
   "cell_type": "code",
   "execution_count": null,
   "id": "9489e16f-b6c8-46b8-977b-14c6061ad6e0",
   "metadata": {},
   "outputs": [],
   "source": []
  },
  {
   "cell_type": "code",
   "execution_count": null,
   "id": "2eef736c-60d3-49a9-8fb6-f57e59b727bb",
   "metadata": {},
   "outputs": [],
   "source": []
  },
  {
   "cell_type": "code",
   "execution_count": 14,
   "id": "46a13de3-2fe5-4a01-bda6-2e5d90e28f2e",
   "metadata": {},
   "outputs": [],
   "source": [
    "transformer = 'bert-base-multilingual-uncased'"
   ]
  },
  {
   "cell_type": "code",
   "execution_count": 15,
   "id": "828a7e96-65e6-4db7-bac2-95c2640abf52",
   "metadata": {},
   "outputs": [],
   "source": [
    "# hyperparameters for network\n",
    "dropout = 0.1\n",
    "# hyperparameters for training\n",
    "training_hyperparameters = {\n",
    "    'epochs' : 40,\n",
    "    'warmup_steps' : 500,                                                   \n",
    "    'train_batch_size': 13,\n",
    "    'learning_rate': 0.0001\n",
    "}"
   ]
  },
  {
   "cell_type": "code",
   "execution_count": 16,
   "id": "db747e8c-a023-4b24-9f5d-9f28fab8b5ad",
   "metadata": {},
   "outputs": [
    {
     "name": "stderr",
     "output_type": "stream",
     "text": [
      "2021-12-21 09:00:39.871388: W tensorflow/stream_executor/platform/default/dso_loader.cc:64] Could not load dynamic library 'libcudart.so.11.0'; dlerror: libcudart.so.11.0: cannot open shared object file: No such file or directory\n",
      "2021-12-21 09:00:39.871437: I tensorflow/stream_executor/cuda/cudart_stub.cc:29] Ignore above cudart dlerror if you do not have a GPU set up on your machine.\n"
     ]
    },
    {
     "name": "stdout",
     "output_type": "stream",
     "text": [
      "Device automatically set to: cpu\n"
     ]
    },
    {
     "name": "stderr",
     "output_type": "stream",
     "text": [
      "Some weights of the model checkpoint at bert-base-multilingual-uncased were not used when initializing BertModel: ['cls.predictions.decoder.weight', 'cls.predictions.transform.dense.bias', 'cls.seq_relationship.bias', 'cls.predictions.bias', 'cls.predictions.transform.LayerNorm.bias', 'cls.seq_relationship.weight', 'cls.predictions.transform.dense.weight', 'cls.predictions.transform.LayerNorm.weight']\n",
      "- This IS expected if you are initializing BertModel from the checkpoint of a model trained on another task or with another architecture (e.g. initializing a BertForSequenceClassification model from a BertForPreTraining model).\n",
      "- This IS NOT expected if you are initializing BertModel from the checkpoint of a model that you expect to be exactly identical (initializing a BertForSequenceClassification model from a BertForSequenceClassification model).\n"
     ]
    }
   ],
   "source": [
    "from NERDA.models import NERDA\n",
    "model = NERDA(\n",
    "    dataset_training = training,\n",
    "    dataset_validation = validation,\n",
    "    tag_scheme = tag_scheme, \n",
    "    tag_outside = 'O',\n",
    "    transformer = transformer,\n",
    "    dropout = dropout,\n",
    "    hyperparameters = training_hyperparameters\n",
    ")"
   ]
  },
  {
   "cell_type": "code",
   "execution_count": 17,
   "id": "804d12a1-7dc0-402e-b7b1-277625126abb",
   "metadata": {},
   "outputs": [
    {
     "name": "stdout",
     "output_type": "stream",
     "text": [
      "\n",
      " Epoch 1 / 40\n"
     ]
    },
    {
     "name": "stderr",
     "output_type": "stream",
     "text": [
      "100%|████████████████████████████████████████████████████████████████████████████████████████████████████████████████████████████████████████████████████████████████████████████| 48/48 [06:43<00:00,  8.41s/it]\n",
      " 44%|█████████████████████████████████████████████████████████████████████████████▎                                                                                                | 4/9 [00:08<00:10,  2.13s/it]/dados/usuarios/mateus/projetos/absa/16_Doutorado_Implicit/doutorado16/lib/python3.9/site-packages/NERDA/preprocessing.py:80: UserWarning: Sentence #48 length 196 exceeds max_len 128 and has been truncated\n",
      "  warnings.warn(msg)\n",
      "100%|██████████████████████████████████████████████████████████████████████████████████████████████████████████████████████████████████████████████████████████████████████████████| 9/9 [00:17<00:00,  1.94s/it]\n"
     ]
    },
    {
     "name": "stdout",
     "output_type": "stream",
     "text": [
      "Train Loss = 0.5945828889186183 Valid Loss = 0.3404291868209839\n",
      "\n",
      " Epoch 2 / 40\n"
     ]
    },
    {
     "name": "stderr",
     "output_type": "stream",
     "text": [
      "100%|████████████████████████████████████████████████████████████████████████████████████████████████████████████████████████████████████████████████████████████████████████████| 48/48 [07:44<00:00,  9.68s/it]\n",
      " 44%|█████████████████████████████████████████████████████████████████████████████▎                                                                                                | 4/9 [00:08<00:10,  2.09s/it]/dados/usuarios/mateus/projetos/absa/16_Doutorado_Implicit/doutorado16/lib/python3.9/site-packages/NERDA/preprocessing.py:80: UserWarning: Sentence #48 length 196 exceeds max_len 128 and has been truncated\n",
      "  warnings.warn(msg)\n",
      "100%|██████████████████████████████████████████████████████████████████████████████████████████████████████████████████████████████████████████████████████████████████████████████| 9/9 [00:17<00:00,  1.91s/it]\n"
     ]
    },
    {
     "name": "stdout",
     "output_type": "stream",
     "text": [
      "Train Loss = 0.2811326247950395 Valid Loss = 0.20301101273960537\n",
      "\n",
      " Epoch 3 / 40\n"
     ]
    },
    {
     "name": "stderr",
     "output_type": "stream",
     "text": [
      "100%|████████████████████████████████████████████████████████████████████████████████████████████████████████████████████████████████████████████████████████████████████████████| 48/48 [07:41<00:00,  9.62s/it]\n",
      " 44%|█████████████████████████████████████████████████████████████████████████████▎                                                                                                | 4/9 [00:08<00:10,  2.12s/it]/dados/usuarios/mateus/projetos/absa/16_Doutorado_Implicit/doutorado16/lib/python3.9/site-packages/NERDA/preprocessing.py:80: UserWarning: Sentence #48 length 196 exceeds max_len 128 and has been truncated\n",
      "  warnings.warn(msg)\n",
      "100%|██████████████████████████████████████████████████████████████████████████████████████████████████████████████████████████████████████████████████████████████████████████████| 9/9 [00:17<00:00,  1.94s/it]\n"
     ]
    },
    {
     "name": "stdout",
     "output_type": "stream",
     "text": [
      "Train Loss = 0.18565055301102498 Valid Loss = 0.16722406281365287\n",
      "\n",
      " Epoch 4 / 40\n"
     ]
    },
    {
     "name": "stderr",
     "output_type": "stream",
     "text": [
      "100%|████████████████████████████████████████████████████████████████████████████████████████████████████████████████████████████████████████████████████████████████████████████| 48/48 [07:37<00:00,  9.53s/it]\n",
      " 44%|█████████████████████████████████████████████████████████████████████████████▎                                                                                                | 4/9 [00:08<00:10,  2.06s/it]/dados/usuarios/mateus/projetos/absa/16_Doutorado_Implicit/doutorado16/lib/python3.9/site-packages/NERDA/preprocessing.py:80: UserWarning: Sentence #48 length 196 exceeds max_len 128 and has been truncated\n",
      "  warnings.warn(msg)\n",
      "100%|██████████████████████████████████████████████████████████████████████████████████████████████████████████████████████████████████████████████████████████████████████████████| 9/9 [00:17<00:00,  1.93s/it]\n"
     ]
    },
    {
     "name": "stdout",
     "output_type": "stream",
     "text": [
      "Train Loss = 0.13074688139992455 Valid Loss = 0.2027267970972591\n",
      "\n",
      " Epoch 5 / 40\n"
     ]
    },
    {
     "name": "stderr",
     "output_type": "stream",
     "text": [
      "100%|████████████████████████████████████████████████████████████████████████████████████████████████████████████████████████████████████████████████████████████████████████████| 48/48 [07:37<00:00,  9.52s/it]\n",
      " 44%|█████████████████████████████████████████████████████████████████████████████▎                                                                                                | 4/9 [00:08<00:10,  2.06s/it]/dados/usuarios/mateus/projetos/absa/16_Doutorado_Implicit/doutorado16/lib/python3.9/site-packages/NERDA/preprocessing.py:80: UserWarning: Sentence #48 length 196 exceeds max_len 128 and has been truncated\n",
      "  warnings.warn(msg)\n",
      "100%|██████████████████████████████████████████████████████████████████████████████████████████████████████████████████████████████████████████████████████████████████████████████| 9/9 [00:17<00:00,  1.95s/it]\n"
     ]
    },
    {
     "name": "stdout",
     "output_type": "stream",
     "text": [
      "Train Loss = 0.09313981774418305 Valid Loss = 0.18439875460333294\n",
      "\n",
      " Epoch 6 / 40\n"
     ]
    },
    {
     "name": "stderr",
     "output_type": "stream",
     "text": [
      "100%|████████████████████████████████████████████████████████████████████████████████████████████████████████████████████████████████████████████████████████████████████████████| 48/48 [07:31<00:00,  9.40s/it]\n",
      " 44%|█████████████████████████████████████████████████████████████████████████████▎                                                                                                | 4/9 [00:08<00:10,  2.07s/it]/dados/usuarios/mateus/projetos/absa/16_Doutorado_Implicit/doutorado16/lib/python3.9/site-packages/NERDA/preprocessing.py:80: UserWarning: Sentence #48 length 196 exceeds max_len 128 and has been truncated\n",
      "  warnings.warn(msg)\n",
      "100%|██████████████████████████████████████████████████████████████████████████████████████████████████████████████████████████████████████████████████████████████████████████████| 9/9 [00:17<00:00,  1.91s/it]\n"
     ]
    },
    {
     "name": "stdout",
     "output_type": "stream",
     "text": [
      "Train Loss = 0.07492921284089486 Valid Loss = 0.20552831184532908\n",
      "\n",
      " Epoch 7 / 40\n"
     ]
    },
    {
     "name": "stderr",
     "output_type": "stream",
     "text": [
      "100%|████████████████████████████████████████████████████████████████████████████████████████████████████████████████████████████████████████████████████████████████████████████| 48/48 [07:37<00:00,  9.52s/it]\n",
      " 44%|█████████████████████████████████████████████████████████████████████████████▎                                                                                                | 4/9 [00:08<00:10,  2.01s/it]/dados/usuarios/mateus/projetos/absa/16_Doutorado_Implicit/doutorado16/lib/python3.9/site-packages/NERDA/preprocessing.py:80: UserWarning: Sentence #48 length 196 exceeds max_len 128 and has been truncated\n",
      "  warnings.warn(msg)\n",
      "100%|██████████████████████████████████████████████████████████████████████████████████████████████████████████████████████████████████████████████████████████████████████████████| 9/9 [00:17<00:00,  1.92s/it]\n"
     ]
    },
    {
     "name": "stdout",
     "output_type": "stream",
     "text": [
      "Train Loss = 0.06332011817236587 Valid Loss = 0.20545482221576902\n",
      "\n",
      " Epoch 8 / 40\n"
     ]
    },
    {
     "name": "stderr",
     "output_type": "stream",
     "text": [
      "100%|████████████████████████████████████████████████████████████████████████████████████████████████████████████████████████████████████████████████████████████████████████████| 48/48 [07:31<00:00,  9.41s/it]\n",
      " 44%|█████████████████████████████████████████████████████████████████████████████▎                                                                                                | 4/9 [00:08<00:10,  2.04s/it]/dados/usuarios/mateus/projetos/absa/16_Doutorado_Implicit/doutorado16/lib/python3.9/site-packages/NERDA/preprocessing.py:80: UserWarning: Sentence #48 length 196 exceeds max_len 128 and has been truncated\n",
      "  warnings.warn(msg)\n",
      "100%|██████████████████████████████████████████████████████████████████████████████████████████████████████████████████████████████████████████████████████████████████████████████| 9/9 [00:17<00:00,  1.96s/it]\n"
     ]
    },
    {
     "name": "stdout",
     "output_type": "stream",
     "text": [
      "Train Loss = 0.05269414119538851 Valid Loss = 0.23946371529665259\n",
      "\n",
      " Epoch 9 / 40\n"
     ]
    },
    {
     "name": "stderr",
     "output_type": "stream",
     "text": [
      "100%|████████████████████████████████████████████████████████████████████████████████████████████████████████████████████████████████████████████████████████████████████████████| 48/48 [07:47<00:00,  9.74s/it]\n",
      " 44%|█████████████████████████████████████████████████████████████████████████████▎                                                                                                | 4/9 [00:08<00:10,  2.03s/it]/dados/usuarios/mateus/projetos/absa/16_Doutorado_Implicit/doutorado16/lib/python3.9/site-packages/NERDA/preprocessing.py:80: UserWarning: Sentence #48 length 196 exceeds max_len 128 and has been truncated\n",
      "  warnings.warn(msg)\n",
      "100%|██████████████████████████████████████████████████████████████████████████████████████████████████████████████████████████████████████████████████████████████████████████████| 9/9 [00:18<00:00,  2.01s/it]\n"
     ]
    },
    {
     "name": "stdout",
     "output_type": "stream",
     "text": [
      "Train Loss = 0.04854000881217265 Valid Loss = 0.22724109225802952\n",
      "\n",
      " Epoch 10 / 40\n"
     ]
    },
    {
     "name": "stderr",
     "output_type": "stream",
     "text": [
      "100%|████████████████████████████████████████████████████████████████████████████████████████████████████████████████████████████████████████████████████████████████████████████| 48/48 [07:35<00:00,  9.50s/it]\n",
      " 44%|█████████████████████████████████████████████████████████████████████████████▎                                                                                                | 4/9 [00:08<00:10,  2.03s/it]/dados/usuarios/mateus/projetos/absa/16_Doutorado_Implicit/doutorado16/lib/python3.9/site-packages/NERDA/preprocessing.py:80: UserWarning: Sentence #48 length 196 exceeds max_len 128 and has been truncated\n",
      "  warnings.warn(msg)\n",
      "100%|██████████████████████████████████████████████████████████████████████████████████████████████████████████████████████████████████████████████████████████████████████████████| 9/9 [00:17<00:00,  1.91s/it]\n"
     ]
    },
    {
     "name": "stdout",
     "output_type": "stream",
     "text": [
      "Train Loss = 0.04402271308208583 Valid Loss = 0.2580462056729529\n",
      "\n",
      " Epoch 11 / 40\n"
     ]
    },
    {
     "name": "stderr",
     "output_type": "stream",
     "text": [
      "100%|████████████████████████████████████████████████████████████████████████████████████████████████████████████████████████████████████████████████████████████████████████████| 48/48 [07:31<00:00,  9.40s/it]\n",
      " 44%|█████████████████████████████████████████████████████████████████████████████▎                                                                                                | 4/9 [00:08<00:10,  2.06s/it]/dados/usuarios/mateus/projetos/absa/16_Doutorado_Implicit/doutorado16/lib/python3.9/site-packages/NERDA/preprocessing.py:80: UserWarning: Sentence #48 length 196 exceeds max_len 128 and has been truncated\n",
      "  warnings.warn(msg)\n",
      "100%|██████████████████████████████████████████████████████████████████████████████████████████████████████████████████████████████████████████████████████████████████████████████| 9/9 [00:17<00:00,  1.92s/it]\n"
     ]
    },
    {
     "name": "stdout",
     "output_type": "stream",
     "text": [
      "Train Loss = 0.050861082675207094 Valid Loss = 0.22989127702183193\n",
      "\n",
      " Epoch 12 / 40\n"
     ]
    },
    {
     "name": "stderr",
     "output_type": "stream",
     "text": [
      "100%|████████████████████████████████████████████████████████████████████████████████████████████████████████████████████████████████████████████████████████████████████████████| 48/48 [07:32<00:00,  9.43s/it]\n",
      " 44%|█████████████████████████████████████████████████████████████████████████████▎                                                                                                | 4/9 [00:09<00:11,  2.25s/it]/dados/usuarios/mateus/projetos/absa/16_Doutorado_Implicit/doutorado16/lib/python3.9/site-packages/NERDA/preprocessing.py:80: UserWarning: Sentence #48 length 196 exceeds max_len 128 and has been truncated\n",
      "  warnings.warn(msg)\n",
      "100%|██████████████████████████████████████████████████████████████████████████████████████████████████████████████████████████████████████████████████████████████████████████████| 9/9 [00:18<00:00,  2.06s/it]\n"
     ]
    },
    {
     "name": "stdout",
     "output_type": "stream",
     "text": [
      "Train Loss = 0.046408506192771405 Valid Loss = 0.2393690687086847\n",
      "\n",
      " Epoch 13 / 40\n"
     ]
    },
    {
     "name": "stderr",
     "output_type": "stream",
     "text": [
      "100%|████████████████████████████████████████████████████████████████████████████████████████████████████████████████████████████████████████████████████████████████████████████| 48/48 [07:34<00:00,  9.46s/it]\n",
      " 44%|█████████████████████████████████████████████████████████████████████████████▎                                                                                                | 4/9 [00:08<00:10,  2.01s/it]/dados/usuarios/mateus/projetos/absa/16_Doutorado_Implicit/doutorado16/lib/python3.9/site-packages/NERDA/preprocessing.py:80: UserWarning: Sentence #48 length 196 exceeds max_len 128 and has been truncated\n",
      "  warnings.warn(msg)\n",
      "100%|██████████████████████████████████████████████████████████████████████████████████████████████████████████████████████████████████████████████████████████████████████████████| 9/9 [00:16<00:00,  1.88s/it]\n"
     ]
    },
    {
     "name": "stdout",
     "output_type": "stream",
     "text": [
      "Train Loss = 0.02267821706967273 Valid Loss = 0.25092807246579063\n",
      "\n",
      " Epoch 14 / 40\n"
     ]
    },
    {
     "name": "stderr",
     "output_type": "stream",
     "text": [
      "100%|████████████████████████████████████████████████████████████████████████████████████████████████████████████████████████████████████████████████████████████████████████████| 48/48 [07:34<00:00,  9.47s/it]\n",
      " 44%|█████████████████████████████████████████████████████████████████████████████▎                                                                                                | 4/9 [00:08<00:10,  2.03s/it]/dados/usuarios/mateus/projetos/absa/16_Doutorado_Implicit/doutorado16/lib/python3.9/site-packages/NERDA/preprocessing.py:80: UserWarning: Sentence #48 length 196 exceeds max_len 128 and has been truncated\n",
      "  warnings.warn(msg)\n",
      "100%|██████████████████████████████████████████████████████████████████████████████████████████████████████████████████████████████████████████████████████████████████████████████| 9/9 [00:17<00:00,  1.91s/it]\n"
     ]
    },
    {
     "name": "stdout",
     "output_type": "stream",
     "text": [
      "Train Loss = 0.014273376121006246 Valid Loss = 0.2970518478088909\n",
      "\n",
      " Epoch 15 / 40\n"
     ]
    },
    {
     "name": "stderr",
     "output_type": "stream",
     "text": [
      "100%|████████████████████████████████████████████████████████████████████████████████████████████████████████████████████████████████████████████████████████████████████████████| 48/48 [07:20<00:00,  9.18s/it]\n",
      " 44%|█████████████████████████████████████████████████████████████████████████████▎                                                                                                | 4/9 [00:04<00:05,  1.09s/it]/dados/usuarios/mateus/projetos/absa/16_Doutorado_Implicit/doutorado16/lib/python3.9/site-packages/NERDA/preprocessing.py:80: UserWarning: Sentence #48 length 196 exceeds max_len 128 and has been truncated\n",
      "  warnings.warn(msg)\n",
      "100%|██████████████████████████████████████████████████████████████████████████████████████████████████████████████████████████████████████████████████████████████████████████████| 9/9 [00:09<00:00,  1.02s/it]\n"
     ]
    },
    {
     "name": "stdout",
     "output_type": "stream",
     "text": [
      "Train Loss = 0.006560463350979262 Valid Loss = 0.3282245480351978\n",
      "\n",
      " Epoch 16 / 40\n"
     ]
    },
    {
     "name": "stderr",
     "output_type": "stream",
     "text": [
      "100%|████████████████████████████████████████████████████████████████████████████████████████████████████████████████████████████████████████████████████████████████████████████| 48/48 [03:59<00:00,  4.98s/it]\n",
      " 44%|█████████████████████████████████████████████████████████████████████████████▎                                                                                                | 4/9 [00:04<00:05,  1.09s/it]/dados/usuarios/mateus/projetos/absa/16_Doutorado_Implicit/doutorado16/lib/python3.9/site-packages/NERDA/preprocessing.py:80: UserWarning: Sentence #48 length 196 exceeds max_len 128 and has been truncated\n",
      "  warnings.warn(msg)\n",
      "100%|██████████████████████████████████████████████████████████████████████████████████████████████████████████████████████████████████████████████████████████████████████████████| 9/9 [00:09<00:00,  1.01s/it]\n"
     ]
    },
    {
     "name": "stdout",
     "output_type": "stream",
     "text": [
      "Train Loss = 0.005766700066790993 Valid Loss = 0.315521486931377\n",
      "\n",
      " Epoch 17 / 40\n"
     ]
    },
    {
     "name": "stderr",
     "output_type": "stream",
     "text": [
      "100%|████████████████████████████████████████████████████████████████████████████████████████████████████████████████████████████████████████████████████████████████████████████| 48/48 [03:57<00:00,  4.94s/it]\n",
      " 44%|█████████████████████████████████████████████████████████████████████████████▎                                                                                                | 4/9 [00:04<00:05,  1.10s/it]/dados/usuarios/mateus/projetos/absa/16_Doutorado_Implicit/doutorado16/lib/python3.9/site-packages/NERDA/preprocessing.py:80: UserWarning: Sentence #48 length 196 exceeds max_len 128 and has been truncated\n",
      "  warnings.warn(msg)\n",
      "100%|██████████████████████████████████████████████████████████████████████████████████████████████████████████████████████████████████████████████████████████████████████████████| 9/9 [00:09<00:00,  1.02s/it]\n"
     ]
    },
    {
     "name": "stdout",
     "output_type": "stream",
     "text": [
      "Train Loss = 0.006634578532612068 Valid Loss = 0.3295378072394265\n",
      "\n",
      " Epoch 18 / 40\n"
     ]
    },
    {
     "name": "stderr",
     "output_type": "stream",
     "text": [
      "100%|████████████████████████████████████████████████████████████████████████████████████████████████████████████████████████████████████████████████████████████████████████████| 48/48 [03:55<00:00,  4.91s/it]\n",
      " 44%|█████████████████████████████████████████████████████████████████████████████▎                                                                                                | 4/9 [00:04<00:05,  1.08s/it]/dados/usuarios/mateus/projetos/absa/16_Doutorado_Implicit/doutorado16/lib/python3.9/site-packages/NERDA/preprocessing.py:80: UserWarning: Sentence #48 length 196 exceeds max_len 128 and has been truncated\n",
      "  warnings.warn(msg)\n",
      "100%|██████████████████████████████████████████████████████████████████████████████████████████████████████████████████████████████████████████████████████████████████████████████| 9/9 [00:09<00:00,  1.03s/it]\n"
     ]
    },
    {
     "name": "stdout",
     "output_type": "stream",
     "text": [
      "Train Loss = 0.004420684198521485 Valid Loss = 0.31221142245663536\n",
      "\n",
      " Epoch 19 / 40\n"
     ]
    },
    {
     "name": "stderr",
     "output_type": "stream",
     "text": [
      "100%|████████████████████████████████████████████████████████████████████████████████████████████████████████████████████████████████████████████████████████████████████████████| 48/48 [03:54<00:00,  4.88s/it]\n",
      " 44%|█████████████████████████████████████████████████████████████████████████████▎                                                                                                | 4/9 [00:04<00:05,  1.10s/it]/dados/usuarios/mateus/projetos/absa/16_Doutorado_Implicit/doutorado16/lib/python3.9/site-packages/NERDA/preprocessing.py:80: UserWarning: Sentence #48 length 196 exceeds max_len 128 and has been truncated\n",
      "  warnings.warn(msg)\n",
      "100%|██████████████████████████████████████████████████████████████████████████████████████████████████████████████████████████████████████████████████████████████████████████████| 9/9 [00:09<00:00,  1.04s/it]\n"
     ]
    },
    {
     "name": "stdout",
     "output_type": "stream",
     "text": [
      "Train Loss = 0.002947711507507241 Valid Loss = 0.3285724851820204\n",
      "\n",
      " Epoch 20 / 40\n"
     ]
    },
    {
     "name": "stderr",
     "output_type": "stream",
     "text": [
      "100%|████████████████████████████████████████████████████████████████████████████████████████████████████████████████████████████████████████████████████████████████████████████| 48/48 [03:56<00:00,  4.93s/it]\n",
      " 44%|█████████████████████████████████████████████████████████████████████████████▎                                                                                                | 4/9 [00:04<00:05,  1.10s/it]/dados/usuarios/mateus/projetos/absa/16_Doutorado_Implicit/doutorado16/lib/python3.9/site-packages/NERDA/preprocessing.py:80: UserWarning: Sentence #48 length 196 exceeds max_len 128 and has been truncated\n",
      "  warnings.warn(msg)\n",
      "100%|██████████████████████████████████████████████████████████████████████████████████████████████████████████████████████████████████████████████████████████████████████████████| 9/9 [00:09<00:00,  1.02s/it]\n"
     ]
    },
    {
     "name": "stdout",
     "output_type": "stream",
     "text": [
      "Train Loss = 0.005386555884191087 Valid Loss = 0.322101891040802\n",
      "\n",
      " Epoch 21 / 40\n"
     ]
    },
    {
     "name": "stderr",
     "output_type": "stream",
     "text": [
      "100%|████████████████████████████████████████████████████████████████████████████████████████████████████████████████████████████████████████████████████████████████████████████| 48/48 [03:56<00:00,  4.92s/it]\n",
      " 44%|█████████████████████████████████████████████████████████████████████████████▎                                                                                                | 4/9 [00:04<00:05,  1.13s/it]/dados/usuarios/mateus/projetos/absa/16_Doutorado_Implicit/doutorado16/lib/python3.9/site-packages/NERDA/preprocessing.py:80: UserWarning: Sentence #48 length 196 exceeds max_len 128 and has been truncated\n",
      "  warnings.warn(msg)\n",
      "100%|██████████████████████████████████████████████████████████████████████████████████████████████████████████████████████████████████████████████████████████████████████████████| 9/9 [00:09<00:00,  1.04s/it]\n"
     ]
    },
    {
     "name": "stdout",
     "output_type": "stream",
     "text": [
      "Train Loss = 0.0026578488697547678 Valid Loss = 0.3583676152759128\n",
      "\n",
      " Epoch 22 / 40\n"
     ]
    },
    {
     "name": "stderr",
     "output_type": "stream",
     "text": [
      "100%|████████████████████████████████████████████████████████████████████████████████████████████████████████████████████████████████████████████████████████████████████████████| 48/48 [03:57<00:00,  4.94s/it]\n",
      " 44%|█████████████████████████████████████████████████████████████████████████████▎                                                                                                | 4/9 [00:04<00:05,  1.09s/it]/dados/usuarios/mateus/projetos/absa/16_Doutorado_Implicit/doutorado16/lib/python3.9/site-packages/NERDA/preprocessing.py:80: UserWarning: Sentence #48 length 196 exceeds max_len 128 and has been truncated\n",
      "  warnings.warn(msg)\n",
      "100%|██████████████████████████████████████████████████████████████████████████████████████████████████████████████████████████████████████████████████████████████████████████████| 9/9 [00:09<00:00,  1.04s/it]\n"
     ]
    },
    {
     "name": "stdout",
     "output_type": "stream",
     "text": [
      "Train Loss = 0.004658691283111693 Valid Loss = 0.3105765829483668\n",
      "\n",
      " Epoch 23 / 40\n"
     ]
    },
    {
     "name": "stderr",
     "output_type": "stream",
     "text": [
      "100%|████████████████████████████████████████████████████████████████████████████████████████████████████████████████████████████████████████████████████████████████████████████| 48/48 [03:56<00:00,  4.93s/it]\n",
      " 44%|█████████████████████████████████████████████████████████████████████████████▎                                                                                                | 4/9 [00:04<00:05,  1.12s/it]/dados/usuarios/mateus/projetos/absa/16_Doutorado_Implicit/doutorado16/lib/python3.9/site-packages/NERDA/preprocessing.py:80: UserWarning: Sentence #48 length 196 exceeds max_len 128 and has been truncated\n",
      "  warnings.warn(msg)\n",
      "100%|██████████████████████████████████████████████████████████████████████████████████████████████████████████████████████████████████████████████████████████████████████████████| 9/9 [00:09<00:00,  1.01s/it]\n"
     ]
    },
    {
     "name": "stdout",
     "output_type": "stream",
     "text": [
      "Train Loss = 0.0043154332299006155 Valid Loss = 0.3184133975042237\n",
      "\n",
      " Epoch 24 / 40\n"
     ]
    },
    {
     "name": "stderr",
     "output_type": "stream",
     "text": [
      "100%|████████████████████████████████████████████████████████████████████████████████████████████████████████████████████████████████████████████████████████████████████████████| 48/48 [03:56<00:00,  4.92s/it]\n",
      " 44%|█████████████████████████████████████████████████████████████████████████████▎                                                                                                | 4/9 [00:04<00:05,  1.12s/it]/dados/usuarios/mateus/projetos/absa/16_Doutorado_Implicit/doutorado16/lib/python3.9/site-packages/NERDA/preprocessing.py:80: UserWarning: Sentence #48 length 196 exceeds max_len 128 and has been truncated\n",
      "  warnings.warn(msg)\n",
      "100%|██████████████████████████████████████████████████████████████████████████████████████████████████████████████████████████████████████████████████████████████████████████████| 9/9 [00:09<00:00,  1.02s/it]\n"
     ]
    },
    {
     "name": "stdout",
     "output_type": "stream",
     "text": [
      "Train Loss = 0.003424918697874091 Valid Loss = 0.3261159459749858\n",
      "\n",
      " Epoch 25 / 40\n"
     ]
    },
    {
     "name": "stderr",
     "output_type": "stream",
     "text": [
      "100%|████████████████████████████████████████████████████████████████████████████████████████████████████████████████████████████████████████████████████████████████████████████| 48/48 [03:52<00:00,  4.85s/it]\n",
      " 44%|█████████████████████████████████████████████████████████████████████████████▎                                                                                                | 4/9 [00:04<00:05,  1.13s/it]/dados/usuarios/mateus/projetos/absa/16_Doutorado_Implicit/doutorado16/lib/python3.9/site-packages/NERDA/preprocessing.py:80: UserWarning: Sentence #48 length 196 exceeds max_len 128 and has been truncated\n",
      "  warnings.warn(msg)\n",
      "100%|██████████████████████████████████████████████████████████████████████████████████████████████████████████████████████████████████████████████████████████████████████████████| 9/9 [00:09<00:00,  1.03s/it]\n"
     ]
    },
    {
     "name": "stdout",
     "output_type": "stream",
     "text": [
      "Train Loss = 0.00225899810387394 Valid Loss = 0.3266046916445096\n",
      "\n",
      " Epoch 26 / 40\n"
     ]
    },
    {
     "name": "stderr",
     "output_type": "stream",
     "text": [
      "100%|████████████████████████████████████████████████████████████████████████████████████████████████████████████████████████████████████████████████████████████████████████████| 48/48 [03:55<00:00,  4.90s/it]\n",
      " 44%|█████████████████████████████████████████████████████████████████████████████▎                                                                                                | 4/9 [00:04<00:05,  1.09s/it]/dados/usuarios/mateus/projetos/absa/16_Doutorado_Implicit/doutorado16/lib/python3.9/site-packages/NERDA/preprocessing.py:80: UserWarning: Sentence #48 length 196 exceeds max_len 128 and has been truncated\n",
      "  warnings.warn(msg)\n",
      "100%|██████████████████████████████████████████████████████████████████████████████████████████████████████████████████████████████████████████████████████████████████████████████| 9/9 [00:09<00:00,  1.01s/it]\n"
     ]
    },
    {
     "name": "stdout",
     "output_type": "stream",
     "text": [
      "Train Loss = 0.001247549907626914 Valid Loss = 0.3567517689532704\n",
      "\n",
      " Epoch 27 / 40\n"
     ]
    },
    {
     "name": "stderr",
     "output_type": "stream",
     "text": [
      "100%|████████████████████████████████████████████████████████████████████████████████████████████████████████████████████████████████████████████████████████████████████████████| 48/48 [04:36<00:00,  5.76s/it]\n",
      " 44%|█████████████████████████████████████████████████████████████████████████████▎                                                                                                | 4/9 [00:08<00:10,  2.05s/it]/dados/usuarios/mateus/projetos/absa/16_Doutorado_Implicit/doutorado16/lib/python3.9/site-packages/NERDA/preprocessing.py:80: UserWarning: Sentence #48 length 196 exceeds max_len 128 and has been truncated\n",
      "  warnings.warn(msg)\n",
      "100%|██████████████████████████████████████████████████████████████████████████████████████████████████████████████████████████████████████████████████████████████████████████████| 9/9 [00:18<00:00,  2.02s/it]\n"
     ]
    },
    {
     "name": "stdout",
     "output_type": "stream",
     "text": [
      "Train Loss = 0.0007677831821032063 Valid Loss = 0.3588717298375236\n",
      "\n",
      " Epoch 28 / 40\n"
     ]
    },
    {
     "name": "stderr",
     "output_type": "stream",
     "text": [
      "100%|████████████████████████████████████████████████████████████████████████████████████████████████████████████████████████████████████████████████████████████████████████████| 48/48 [07:34<00:00,  9.48s/it]\n",
      " 44%|█████████████████████████████████████████████████████████████████████████████▎                                                                                                | 4/9 [00:10<00:11,  2.37s/it]/dados/usuarios/mateus/projetos/absa/16_Doutorado_Implicit/doutorado16/lib/python3.9/site-packages/NERDA/preprocessing.py:80: UserWarning: Sentence #48 length 196 exceeds max_len 128 and has been truncated\n",
      "  warnings.warn(msg)\n",
      "100%|██████████████████████████████████████████████████████████████████████████████████████████████████████████████████████████████████████████████████████████████████████████████| 9/9 [00:19<00:00,  2.12s/it]\n"
     ]
    },
    {
     "name": "stdout",
     "output_type": "stream",
     "text": [
      "Train Loss = 0.0006297066627970102 Valid Loss = 0.3725374970171187\n",
      "\n",
      " Epoch 29 / 40\n"
     ]
    },
    {
     "name": "stderr",
     "output_type": "stream",
     "text": [
      "100%|████████████████████████████████████████████████████████████████████████████████████████████████████████████████████████████████████████████████████████████████████████████| 48/48 [07:34<00:00,  9.46s/it]\n",
      " 44%|█████████████████████████████████████████████████████████████████████████████▎                                                                                                | 4/9 [00:08<00:10,  2.01s/it]/dados/usuarios/mateus/projetos/absa/16_Doutorado_Implicit/doutorado16/lib/python3.9/site-packages/NERDA/preprocessing.py:80: UserWarning: Sentence #48 length 196 exceeds max_len 128 and has been truncated\n",
      "  warnings.warn(msg)\n",
      "100%|██████████████████████████████████████████████████████████████████████████████████████████████████████████████████████████████████████████████████████████████████████████████| 9/9 [00:17<00:00,  1.93s/it]\n"
     ]
    },
    {
     "name": "stdout",
     "output_type": "stream",
     "text": [
      "Train Loss = 0.000585058414571904 Valid Loss = 0.3743823915719986\n",
      "\n",
      " Epoch 30 / 40\n"
     ]
    },
    {
     "name": "stderr",
     "output_type": "stream",
     "text": [
      "100%|████████████████████████████████████████████████████████████████████████████████████████████████████████████████████████████████████████████████████████████████████████████| 48/48 [07:38<00:00,  9.54s/it]\n",
      " 44%|█████████████████████████████████████████████████████████████████████████████▎                                                                                                | 4/9 [00:08<00:10,  2.02s/it]/dados/usuarios/mateus/projetos/absa/16_Doutorado_Implicit/doutorado16/lib/python3.9/site-packages/NERDA/preprocessing.py:80: UserWarning: Sentence #48 length 196 exceeds max_len 128 and has been truncated\n",
      "  warnings.warn(msg)\n",
      "100%|██████████████████████████████████████████████████████████████████████████████████████████████████████████████████████████████████████████████████████████████████████████████| 9/9 [00:16<00:00,  1.89s/it]\n"
     ]
    },
    {
     "name": "stdout",
     "output_type": "stream",
     "text": [
      "Train Loss = 0.0015026800144066026 Valid Loss = 0.35293011946810615\n",
      "\n",
      " Epoch 31 / 40\n"
     ]
    },
    {
     "name": "stderr",
     "output_type": "stream",
     "text": [
      "100%|████████████████████████████████████████████████████████████████████████████████████████████████████████████████████████████████████████████████████████████████████████████| 48/48 [07:34<00:00,  9.46s/it]\n",
      " 44%|█████████████████████████████████████████████████████████████████████████████▎                                                                                                | 4/9 [00:08<00:10,  2.03s/it]/dados/usuarios/mateus/projetos/absa/16_Doutorado_Implicit/doutorado16/lib/python3.9/site-packages/NERDA/preprocessing.py:80: UserWarning: Sentence #48 length 196 exceeds max_len 128 and has been truncated\n",
      "  warnings.warn(msg)\n",
      "100%|██████████████████████████████████████████████████████████████████████████████████████████████████████████████████████████████████████████████████████████████████████████████| 9/9 [00:17<00:00,  1.95s/it]\n"
     ]
    },
    {
     "name": "stdout",
     "output_type": "stream",
     "text": [
      "Train Loss = 0.0009405446493625883 Valid Loss = 0.3351969164278772\n",
      "\n",
      " Epoch 32 / 40\n"
     ]
    },
    {
     "name": "stderr",
     "output_type": "stream",
     "text": [
      "100%|████████████████████████████████████████████████████████████████████████████████████████████████████████████████████████████████████████████████████████████████████████████| 48/48 [07:35<00:00,  9.49s/it]\n",
      " 44%|█████████████████████████████████████████████████████████████████████████████▎                                                                                                | 4/9 [00:08<00:10,  2.06s/it]/dados/usuarios/mateus/projetos/absa/16_Doutorado_Implicit/doutorado16/lib/python3.9/site-packages/NERDA/preprocessing.py:80: UserWarning: Sentence #48 length 196 exceeds max_len 128 and has been truncated\n",
      "  warnings.warn(msg)\n",
      "100%|██████████████████████████████████████████████████████████████████████████████████████████████████████████████████████████████████████████████████████████████████████████████| 9/9 [00:17<00:00,  1.91s/it]\n"
     ]
    },
    {
     "name": "stdout",
     "output_type": "stream",
     "text": [
      "Train Loss = 0.0005405946738695396 Valid Loss = 0.3470697088374032\n",
      "\n",
      " Epoch 33 / 40\n"
     ]
    },
    {
     "name": "stderr",
     "output_type": "stream",
     "text": [
      "100%|████████████████████████████████████████████████████████████████████████████████████████████████████████████████████████████████████████████████████████████████████████████| 48/48 [07:33<00:00,  9.45s/it]\n",
      " 44%|█████████████████████████████████████████████████████████████████████████████▎                                                                                                | 4/9 [00:08<00:10,  2.01s/it]/dados/usuarios/mateus/projetos/absa/16_Doutorado_Implicit/doutorado16/lib/python3.9/site-packages/NERDA/preprocessing.py:80: UserWarning: Sentence #48 length 196 exceeds max_len 128 and has been truncated\n",
      "  warnings.warn(msg)\n",
      "100%|██████████████████████████████████████████████████████████████████████████████████████████████████████████████████████████████████████████████████████████████████████████████| 9/9 [00:16<00:00,  1.88s/it]\n"
     ]
    },
    {
     "name": "stdout",
     "output_type": "stream",
     "text": [
      "Train Loss = 0.00040731891848129936 Valid Loss = 0.3530246739586194\n",
      "\n",
      " Epoch 34 / 40\n"
     ]
    },
    {
     "name": "stderr",
     "output_type": "stream",
     "text": [
      "100%|████████████████████████████████████████████████████████████████████████████████████████████████████████████████████████████████████████████████████████████████████████████| 48/48 [07:37<00:00,  9.53s/it]\n",
      " 44%|█████████████████████████████████████████████████████████████████████████████▎                                                                                                | 4/9 [00:08<00:10,  2.04s/it]/dados/usuarios/mateus/projetos/absa/16_Doutorado_Implicit/doutorado16/lib/python3.9/site-packages/NERDA/preprocessing.py:80: UserWarning: Sentence #48 length 196 exceeds max_len 128 and has been truncated\n",
      "  warnings.warn(msg)\n",
      "100%|██████████████████████████████████████████████████████████████████████████████████████████████████████████████████████████████████████████████████████████████████████████████| 9/9 [00:17<00:00,  1.90s/it]\n"
     ]
    },
    {
     "name": "stdout",
     "output_type": "stream",
     "text": [
      "Train Loss = 0.0011563316775209387 Valid Loss = 0.35965486781464684\n",
      "\n",
      " Epoch 35 / 40\n"
     ]
    },
    {
     "name": "stderr",
     "output_type": "stream",
     "text": [
      "100%|████████████████████████████████████████████████████████████████████████████████████████████████████████████████████████████████████████████████████████████████████████████| 48/48 [07:34<00:00,  9.46s/it]\n",
      " 44%|█████████████████████████████████████████████████████████████████████████████▎                                                                                                | 4/9 [00:09<00:11,  2.39s/it]/dados/usuarios/mateus/projetos/absa/16_Doutorado_Implicit/doutorado16/lib/python3.9/site-packages/NERDA/preprocessing.py:80: UserWarning: Sentence #48 length 196 exceeds max_len 128 and has been truncated\n",
      "  warnings.warn(msg)\n",
      "100%|██████████████████████████████████████████████████████████████████████████████████████████████████████████████████████████████████████████████████████████████████████████████| 9/9 [00:18<00:00,  2.04s/it]\n"
     ]
    },
    {
     "name": "stdout",
     "output_type": "stream",
     "text": [
      "Train Loss = 0.0005050356961267729 Valid Loss = 0.36204033179415596\n",
      "\n",
      " Epoch 36 / 40\n"
     ]
    },
    {
     "name": "stderr",
     "output_type": "stream",
     "text": [
      "100%|████████████████████████████████████████████████████████████████████████████████████████████████████████████████████████████████████████████████████████████████████████████| 48/48 [07:33<00:00,  9.44s/it]\n",
      " 44%|█████████████████████████████████████████████████████████████████████████████▎                                                                                                | 4/9 [00:08<00:09,  2.00s/it]/dados/usuarios/mateus/projetos/absa/16_Doutorado_Implicit/doutorado16/lib/python3.9/site-packages/NERDA/preprocessing.py:80: UserWarning: Sentence #48 length 196 exceeds max_len 128 and has been truncated\n",
      "  warnings.warn(msg)\n",
      "100%|██████████████████████████████████████████████████████████████████████████████████████████████████████████████████████████████████████████████████████████████████████████████| 9/9 [00:18<00:00,  2.00s/it]\n"
     ]
    },
    {
     "name": "stdout",
     "output_type": "stream",
     "text": [
      "Train Loss = 0.00040540935598680033 Valid Loss = 0.37251803030570346\n",
      "\n",
      " Epoch 37 / 40\n"
     ]
    },
    {
     "name": "stderr",
     "output_type": "stream",
     "text": [
      "100%|████████████████████████████████████████████████████████████████████████████████████████████████████████████████████████████████████████████████████████████████████████████| 48/48 [07:34<00:00,  9.47s/it]\n",
      " 44%|█████████████████████████████████████████████████████████████████████████████▎                                                                                                | 4/9 [00:08<00:10,  2.02s/it]/dados/usuarios/mateus/projetos/absa/16_Doutorado_Implicit/doutorado16/lib/python3.9/site-packages/NERDA/preprocessing.py:80: UserWarning: Sentence #48 length 196 exceeds max_len 128 and has been truncated\n",
      "  warnings.warn(msg)\n",
      "100%|██████████████████████████████████████████████████████████████████████████████████████████████████████████████████████████████████████████████████████████████████████████████| 9/9 [00:18<00:00,  2.05s/it]\n"
     ]
    },
    {
     "name": "stdout",
     "output_type": "stream",
     "text": [
      "Train Loss = 0.00047089886750958004 Valid Loss = 0.3750818346937497\n",
      "\n",
      " Epoch 38 / 40\n"
     ]
    },
    {
     "name": "stderr",
     "output_type": "stream",
     "text": [
      "100%|████████████████████████████████████████████████████████████████████████████████████████████████████████████████████████████████████████████████████████████████████████████| 48/48 [07:34<00:00,  9.47s/it]\n",
      " 44%|█████████████████████████████████████████████████████████████████████████████▎                                                                                                | 4/9 [00:08<00:10,  2.11s/it]/dados/usuarios/mateus/projetos/absa/16_Doutorado_Implicit/doutorado16/lib/python3.9/site-packages/NERDA/preprocessing.py:80: UserWarning: Sentence #48 length 196 exceeds max_len 128 and has been truncated\n",
      "  warnings.warn(msg)\n",
      "100%|██████████████████████████████████████████████████████████████████████████████████████████████████████████████████████████████████████████████████████████████████████████████| 9/9 [00:19<00:00,  2.16s/it]\n"
     ]
    },
    {
     "name": "stdout",
     "output_type": "stream",
     "text": [
      "Train Loss = 0.00036451558836840076 Valid Loss = 0.37615788645214504\n",
      "\n",
      " Epoch 39 / 40\n"
     ]
    },
    {
     "name": "stderr",
     "output_type": "stream",
     "text": [
      "100%|████████████████████████████████████████████████████████████████████████████████████████████████████████████████████████████████████████████████████████████████████████████| 48/48 [07:35<00:00,  9.49s/it]\n",
      " 44%|█████████████████████████████████████████████████████████████████████████████▎                                                                                                | 4/9 [00:08<00:10,  2.05s/it]/dados/usuarios/mateus/projetos/absa/16_Doutorado_Implicit/doutorado16/lib/python3.9/site-packages/NERDA/preprocessing.py:80: UserWarning: Sentence #48 length 196 exceeds max_len 128 and has been truncated\n",
      "  warnings.warn(msg)\n",
      "100%|██████████████████████████████████████████████████████████████████████████████████████████████████████████████████████████████████████████████████████████████████████████████| 9/9 [00:17<00:00,  1.92s/it]\n"
     ]
    },
    {
     "name": "stdout",
     "output_type": "stream",
     "text": [
      "Train Loss = 0.0004222291878098379 Valid Loss = 0.376625152097808\n",
      "\n",
      " Epoch 40 / 40\n"
     ]
    },
    {
     "name": "stderr",
     "output_type": "stream",
     "text": [
      "100%|████████████████████████████████████████████████████████████████████████████████████████████████████████████████████████████████████████████████████████████████████████████| 48/48 [07:36<00:00,  9.50s/it]\n",
      " 44%|█████████████████████████████████████████████████████████████████████████████▎                                                                                                | 4/9 [00:08<00:10,  2.04s/it]/dados/usuarios/mateus/projetos/absa/16_Doutorado_Implicit/doutorado16/lib/python3.9/site-packages/NERDA/preprocessing.py:80: UserWarning: Sentence #48 length 196 exceeds max_len 128 and has been truncated\n",
      "  warnings.warn(msg)\n",
      "100%|██████████████████████████████████████████████████████████████████████████████████████████████████████████████████████████████████████████████████████████████████████████████| 9/9 [00:17<00:00,  1.93s/it]"
     ]
    },
    {
     "name": "stdout",
     "output_type": "stream",
     "text": [
      "Train Loss = 0.0005649104083052711 Valid Loss = 0.3766310645474328\n"
     ]
    },
    {
     "name": "stderr",
     "output_type": "stream",
     "text": [
      "\n"
     ]
    },
    {
     "data": {
      "text/plain": [
       "'Model trained successfully'"
      ]
     },
     "execution_count": 17,
     "metadata": {},
     "output_type": "execute_result"
    }
   ],
   "source": [
    "model.train()"
   ]
  },
  {
   "cell_type": "code",
   "execution_count": 18,
   "id": "78581200-2995-426c-9ead-d2170d23d4e6",
   "metadata": {},
   "outputs": [
    {
     "name": "stderr",
     "output_type": "stream",
     "text": [
      "/dados/usuarios/mateus/projetos/absa/16_Doutorado_Implicit/doutorado16/lib/python3.9/site-packages/NERDA/preprocessing.py:80: UserWarning: Sentence #214 length 145 exceeds max_len 128 and has been truncated\n",
      "  warnings.warn(msg)\n",
      "/dados/usuarios/mateus/projetos/absa/16_Doutorado_Implicit/doutorado16/lib/python3.9/site-packages/NERDA/performance.py:39: UserWarning: length of observed values exceeded lengths of predicted values in 1 cases and were truncated. _Consider_ increasing max_len parameter for your model.\n",
      "  warnings.warn(f'length of observed values exceeded lengths of predicted values in {n_exceeds} cases and were truncated. _Consider_ increasing max_len parameter for your model.')\n",
      "/dados/usuarios/mateus/projetos/absa/16_Doutorado_Implicit/doutorado16/lib/python3.9/site-packages/NERDA/performance.py:39: UserWarning: length of observed values exceeded lengths of predicted values in 1 cases and were truncated. _Consider_ increasing max_len parameter for your model.\n",
      "  warnings.warn(f'length of observed values exceeded lengths of predicted values in {n_exceeds} cases and were truncated. _Consider_ increasing max_len parameter for your model.')\n",
      "/dados/usuarios/mateus/projetos/absa/16_Doutorado_Implicit/doutorado16/lib/python3.9/site-packages/NERDA/performance.py:39: UserWarning: length of observed values exceeded lengths of predicted values in 1 cases and were truncated. _Consider_ increasing max_len parameter for your model.\n",
      "  warnings.warn(f'length of observed values exceeded lengths of predicted values in {n_exceeds} cases and were truncated. _Consider_ increasing max_len parameter for your model.')\n"
     ]
    },
    {
     "data": {
      "text/html": [
       "<div>\n",
       "<style scoped>\n",
       "    .dataframe tbody tr th:only-of-type {\n",
       "        vertical-align: middle;\n",
       "    }\n",
       "\n",
       "    .dataframe tbody tr th {\n",
       "        vertical-align: top;\n",
       "    }\n",
       "\n",
       "    .dataframe thead th {\n",
       "        text-align: right;\n",
       "    }\n",
       "</style>\n",
       "<table border=\"1\" class=\"dataframe\">\n",
       "  <thead>\n",
       "    <tr style=\"text-align: right;\">\n",
       "      <th></th>\n",
       "      <th>Level</th>\n",
       "      <th>F1-Score</th>\n",
       "      <th>Precision</th>\n",
       "      <th>Recall</th>\n",
       "    </tr>\n",
       "  </thead>\n",
       "  <tbody>\n",
       "    <tr>\n",
       "      <th>0</th>\n",
       "      <td>B-asp</td>\n",
       "      <td>0.779319</td>\n",
       "      <td>0.784264</td>\n",
       "      <td>0.774436</td>\n",
       "    </tr>\n",
       "    <tr>\n",
       "      <th>1</th>\n",
       "      <td>I-asp</td>\n",
       "      <td>0.403101</td>\n",
       "      <td>0.684211</td>\n",
       "      <td>0.285714</td>\n",
       "    </tr>\n",
       "    <tr>\n",
       "      <th>0</th>\n",
       "      <td>AVG_MICRO</td>\n",
       "      <td>0.726681</td>\n",
       "      <td>NaN</td>\n",
       "      <td>NaN</td>\n",
       "    </tr>\n",
       "    <tr>\n",
       "      <th>0</th>\n",
       "      <td>AVG_MICRO</td>\n",
       "      <td>0.591210</td>\n",
       "      <td>NaN</td>\n",
       "      <td>NaN</td>\n",
       "    </tr>\n",
       "  </tbody>\n",
       "</table>\n",
       "</div>"
      ],
      "text/plain": [
       "       Level  F1-Score  Precision    Recall\n",
       "0      B-asp  0.779319   0.784264  0.774436\n",
       "1      I-asp  0.403101   0.684211  0.285714\n",
       "0  AVG_MICRO  0.726681        NaN       NaN\n",
       "0  AVG_MICRO  0.591210        NaN       NaN"
      ]
     },
     "execution_count": 18,
     "metadata": {},
     "output_type": "execute_result"
    }
   ],
   "source": [
    "model.evaluate_performance(test)"
   ]
  },
  {
   "cell_type": "code",
   "execution_count": 19,
   "id": "4f994c97-0ce1-4471-bc0e-d32849beff6e",
   "metadata": {},
   "outputs": [
    {
     "name": "stderr",
     "output_type": "stream",
     "text": [
      "/dados/usuarios/mateus/projetos/absa/16_Doutorado_Implicit/doutorado16/lib/python3.9/site-packages/NERDA/preprocessing.py:80: UserWarning: Sentence #214 length 145 exceeds max_len 128 and has been truncated\n",
      "  warnings.warn(msg)\n"
     ]
    }
   ],
   "source": [
    "y_pred = model.predict(test['sentences'])"
   ]
  },
  {
   "cell_type": "code",
   "execution_count": 32,
   "id": "37c2dfde-4083-4420-ae5c-8eae3f13d859",
   "metadata": {},
   "outputs": [],
   "source": [
    "aspects = result2aspecList(y_pred, test['sentences'])\n",
    "res = calculaMetricas(\n",
    "    aspects, \n",
    "    aspectsTest['datasets'][domain], \n",
    "    tipos,\n",
    "    lemma=False, \n",
    "    output=False\n",
    ")\n",
    "res\n",
    "\n",
    "xml = dicttoxml(res, attr_type=False, custom_root='resultados')\n",
    "with open('../resultados/bert_multi_indomain_'+domain+'.xml', 'w') as file:\n",
    "    dom = parseString(xml)\n",
    "    file.write(dom.toprettyxml())    "
   ]
  },
  {
   "cell_type": "markdown",
   "id": "9c475e42-d069-4c31-9069-059793eae905",
   "metadata": {},
   "source": [
    "## Bert Portuguese: Bertimbau"
   ]
  },
  {
   "cell_type": "code",
   "execution_count": 34,
   "id": "8973ec0e-ee14-4bb5-884b-785d7814f0be",
   "metadata": {},
   "outputs": [
    {
     "name": "stdout",
     "output_type": "stream",
     "text": [
      "Device automatically set to: cpu\n"
     ]
    },
    {
     "name": "stderr",
     "output_type": "stream",
     "text": [
      "Some weights of the model checkpoint at neuralmind/bert-base-portuguese-cased were not used when initializing BertModel: ['cls.predictions.decoder.weight', 'cls.predictions.transform.dense.bias', 'cls.seq_relationship.bias', 'cls.predictions.bias', 'cls.predictions.transform.LayerNorm.bias', 'cls.seq_relationship.weight', 'cls.predictions.transform.dense.weight', 'cls.predictions.transform.LayerNorm.weight']\n",
      "- This IS expected if you are initializing BertModel from the checkpoint of a model trained on another task or with another architecture (e.g. initializing a BertForSequenceClassification model from a BertForPreTraining model).\n",
      "- This IS NOT expected if you are initializing BertModel from the checkpoint of a model that you expect to be exactly identical (initializing a BertForSequenceClassification model from a BertForSequenceClassification model).\n"
     ]
    }
   ],
   "source": [
    "transformer = 'neuralmind/bert-base-portuguese-cased'\n",
    "\n",
    "# hyperparameters for network\n",
    "dropout = 0.1\n",
    "# hyperparameters for training\n",
    "training_hyperparameters = {\n",
    "    'epochs' : 40,\n",
    "    'warmup_steps' : 500,                                                   \n",
    "    'train_batch_size': 13,\n",
    "    'learning_rate': 0.0001\n",
    "}\n",
    "\n",
    "from NERDA.models import NERDA\n",
    "model2 = NERDA(\n",
    "    dataset_training = training,\n",
    "    dataset_validation = validation,\n",
    "    tag_scheme = tag_scheme, \n",
    "    tag_outside = 'O',\n",
    "    transformer = transformer,\n",
    "    dropout = dropout,\n",
    "    hyperparameters = training_hyperparameters\n",
    ")"
   ]
  },
  {
   "cell_type": "code",
   "execution_count": 35,
   "id": "f90446ae-8676-466d-8dd9-bae0f742ffba",
   "metadata": {},
   "outputs": [
    {
     "name": "stdout",
     "output_type": "stream",
     "text": [
      "\n",
      " Epoch 1 / 40\n"
     ]
    },
    {
     "name": "stderr",
     "output_type": "stream",
     "text": [
      "100%|████████████████████████████████████████████████████████████████████████████████████████████████████████████████████████████████████████████████████████████████████████████| 48/48 [10:18<00:00, 12.90s/it]\n",
      "100%|██████████████████████████████████████████████████████████████████████████████████████████████████████████████████████████████████████████████████████████████████████████████| 9/9 [00:36<00:00,  4.03s/it]\n"
     ]
    },
    {
     "name": "stdout",
     "output_type": "stream",
     "text": [
      "Train Loss = 0.6487443366398414 Valid Loss = 0.35070474445819855\n",
      "\n",
      " Epoch 2 / 40\n"
     ]
    },
    {
     "name": "stderr",
     "output_type": "stream",
     "text": [
      "100%|████████████████████████████████████████████████████████████████████████████████████████████████████████████████████████████████████████████████████████████████████████████| 48/48 [12:38<00:00, 15.80s/it]\n",
      "100%|██████████████████████████████████████████████████████████████████████████████████████████████████████████████████████████████████████████████████████████████████████████████| 9/9 [00:32<00:00,  3.63s/it]\n"
     ]
    },
    {
     "name": "stdout",
     "output_type": "stream",
     "text": [
      "Train Loss = 0.3573871972039342 Valid Loss = 0.3462982773780823\n",
      "\n",
      " Epoch 3 / 40\n"
     ]
    },
    {
     "name": "stderr",
     "output_type": "stream",
     "text": [
      "100%|████████████████████████████████████████████████████████████████████████████████████████████████████████████████████████████████████████████████████████████████████████████| 48/48 [12:28<00:00, 15.59s/it]\n",
      "100%|██████████████████████████████████████████████████████████████████████████████████████████████████████████████████████████████████████████████████████████████████████████████| 9/9 [00:33<00:00,  3.76s/it]\n"
     ]
    },
    {
     "name": "stdout",
     "output_type": "stream",
     "text": [
      "Train Loss = 0.27456206316128373 Valid Loss = 0.21676923748519686\n",
      "\n",
      " Epoch 4 / 40\n"
     ]
    },
    {
     "name": "stderr",
     "output_type": "stream",
     "text": [
      "100%|████████████████████████████████████████████████████████████████████████████████████████████████████████████████████████████████████████████████████████████████████████████| 48/48 [12:34<00:00, 15.72s/it]\n",
      "100%|██████████████████████████████████████████████████████████████████████████████████████████████████████████████████████████████████████████████████████████████████████████████| 9/9 [00:31<00:00,  3.52s/it]\n"
     ]
    },
    {
     "name": "stdout",
     "output_type": "stream",
     "text": [
      "Train Loss = 0.17977994858908156 Valid Loss = 0.21600034253464806\n",
      "\n",
      " Epoch 5 / 40\n"
     ]
    },
    {
     "name": "stderr",
     "output_type": "stream",
     "text": [
      "100%|████████████████████████████████████████████████████████████████████████████████████████████████████████████████████████████████████████████████████████████████████████████| 48/48 [12:34<00:00, 15.71s/it]\n",
      "100%|██████████████████████████████████████████████████████████████████████████████████████████████████████████████████████████████████████████████████████████████████████████████| 9/9 [00:34<00:00,  3.80s/it]\n"
     ]
    },
    {
     "name": "stdout",
     "output_type": "stream",
     "text": [
      "Train Loss = 0.12744591645120332 Valid Loss = 0.2116678481300672\n",
      "\n",
      " Epoch 6 / 40\n"
     ]
    },
    {
     "name": "stderr",
     "output_type": "stream",
     "text": [
      "100%|████████████████████████████████████████████████████████████████████████████████████████████████████████████████████████████████████████████████████████████████████████████| 48/48 [12:34<00:00, 15.73s/it]\n",
      "100%|██████████████████████████████████████████████████████████████████████████████████████████████████████████████████████████████████████████████████████████████████████████████| 9/9 [00:34<00:00,  3.81s/it]\n"
     ]
    },
    {
     "name": "stdout",
     "output_type": "stream",
     "text": [
      "Train Loss = 0.09708925094067429 Valid Loss = 0.16451300287412274\n",
      "\n",
      " Epoch 7 / 40\n"
     ]
    },
    {
     "name": "stderr",
     "output_type": "stream",
     "text": [
      "100%|████████████████████████████████████████████████████████████████████████████████████████████████████████████████████████████████████████████████████████████████████████████| 48/48 [12:31<00:00, 15.65s/it]\n",
      "100%|██████████████████████████████████████████████████████████████████████████████████████████████████████████████████████████████████████████████████████████████████████████████| 9/9 [00:33<00:00,  3.69s/it]\n"
     ]
    },
    {
     "name": "stdout",
     "output_type": "stream",
     "text": [
      "Train Loss = 0.0868856804833437 Valid Loss = 0.1635626026739677\n",
      "\n",
      " Epoch 8 / 40\n"
     ]
    },
    {
     "name": "stderr",
     "output_type": "stream",
     "text": [
      "100%|████████████████████████████████████████████████████████████████████████████████████████████████████████████████████████████████████████████████████████████████████████████| 48/48 [12:42<00:00, 15.88s/it]\n",
      "100%|██████████████████████████████████████████████████████████████████████████████████████████████████████████████████████████████████████████████████████████████████████████████| 9/9 [00:33<00:00,  3.70s/it]\n"
     ]
    },
    {
     "name": "stdout",
     "output_type": "stream",
     "text": [
      "Train Loss = 0.06990805523916303 Valid Loss = 0.2164882876806789\n",
      "\n",
      " Epoch 9 / 40\n"
     ]
    },
    {
     "name": "stderr",
     "output_type": "stream",
     "text": [
      "100%|████████████████████████████████████████████████████████████████████████████████████████████████████████████████████████████████████████████████████████████████████████████| 48/48 [12:05<00:00, 15.12s/it]\n",
      "100%|██████████████████████████████████████████████████████████████████████████████████████████████████████████████████████████████████████████████████████████████████████████████| 9/9 [00:33<00:00,  3.76s/it]\n"
     ]
    },
    {
     "name": "stdout",
     "output_type": "stream",
     "text": [
      "Train Loss = 0.061044307406215616 Valid Loss = 0.17065521722866428\n",
      "\n",
      " Epoch 10 / 40\n"
     ]
    },
    {
     "name": "stderr",
     "output_type": "stream",
     "text": [
      "100%|████████████████████████████████████████████████████████████████████████████████████████████████████████████████████████████████████████████████████████████████████████████| 48/48 [13:57<00:00, 17.44s/it]\n",
      "100%|██████████████████████████████████████████████████████████████████████████████████████████████████████████████████████████████████████████████████████████████████████████████| 9/9 [00:33<00:00,  3.72s/it]\n"
     ]
    },
    {
     "name": "stdout",
     "output_type": "stream",
     "text": [
      "Train Loss = 0.0456816019238128 Valid Loss = 0.2274691861950689\n",
      "\n",
      " Epoch 11 / 40\n"
     ]
    },
    {
     "name": "stderr",
     "output_type": "stream",
     "text": [
      "100%|████████████████████████████████████████████████████████████████████████████████████████████████████████████████████████████████████████████████████████████████████████████| 48/48 [14:46<00:00, 18.47s/it]\n",
      "100%|██████████████████████████████████████████████████████████████████████████████████████████████████████████████████████████████████████████████████████████████████████████████| 9/9 [00:33<00:00,  3.68s/it]\n"
     ]
    },
    {
     "name": "stdout",
     "output_type": "stream",
     "text": [
      "Train Loss = 0.02709699678234756 Valid Loss = 0.2544712668491734\n",
      "\n",
      " Epoch 12 / 40\n"
     ]
    },
    {
     "name": "stderr",
     "output_type": "stream",
     "text": [
      "100%|████████████████████████████████████████████████████████████████████████████████████████████████████████████████████████████████████████████████████████████████████████████| 48/48 [12:37<00:00, 15.78s/it]\n",
      "100%|██████████████████████████████████████████████████████████████████████████████████████████████████████████████████████████████████████████████████████████████████████████████| 9/9 [00:33<00:00,  3.70s/it]\n"
     ]
    },
    {
     "name": "stdout",
     "output_type": "stream",
     "text": [
      "Train Loss = 0.017237945246961317 Valid Loss = 0.3542650540669759\n",
      "\n",
      " Epoch 13 / 40\n"
     ]
    },
    {
     "name": "stderr",
     "output_type": "stream",
     "text": [
      "100%|████████████████████████████████████████████████████████████████████████████████████████████████████████████████████████████████████████████████████████████████████████████| 48/48 [12:31<00:00, 15.67s/it]\n",
      "100%|██████████████████████████████████████████████████████████████████████████████████████████████████████████████████████████████████████████████████████████████████████████████| 9/9 [00:33<00:00,  3.67s/it]\n"
     ]
    },
    {
     "name": "stdout",
     "output_type": "stream",
     "text": [
      "Train Loss = 0.020781236889888532 Valid Loss = 0.29124202496475643\n",
      "\n",
      " Epoch 14 / 40\n"
     ]
    },
    {
     "name": "stderr",
     "output_type": "stream",
     "text": [
      "100%|████████████████████████████████████████████████████████████████████████████████████████████████████████████████████████████████████████████████████████████████████████████| 48/48 [12:40<00:00, 15.85s/it]\n",
      "100%|██████████████████████████████████████████████████████████████████████████████████████████████████████████████████████████████████████████████████████████████████████████████| 9/9 [00:32<00:00,  3.63s/it]\n"
     ]
    },
    {
     "name": "stdout",
     "output_type": "stream",
     "text": [
      "Train Loss = 0.016684131278452696 Valid Loss = 0.2721062543439782\n",
      "\n",
      " Epoch 15 / 40\n"
     ]
    },
    {
     "name": "stderr",
     "output_type": "stream",
     "text": [
      "100%|████████████████████████████████████████████████████████████████████████████████████████████████████████████████████████████████████████████████████████████████████████████| 48/48 [12:12<00:00, 15.27s/it]\n",
      "100%|██████████████████████████████████████████████████████████████████████████████████████████████████████████████████████████████████████████████████████████████████████████████| 9/9 [00:17<00:00,  1.91s/it]\n"
     ]
    },
    {
     "name": "stdout",
     "output_type": "stream",
     "text": [
      "Train Loss = 0.011571488830668386 Valid Loss = 0.2624003023116125\n",
      "\n",
      " Epoch 16 / 40\n"
     ]
    },
    {
     "name": "stderr",
     "output_type": "stream",
     "text": [
      "100%|████████████████████████████████████████████████████████████████████████████████████████████████████████████████████████████████████████████████████████████████████████████| 48/48 [07:11<00:00,  8.99s/it]\n",
      "100%|██████████████████████████████████████████████████████████████████████████████████████████████████████████████████████████████████████████████████████████████████████████████| 9/9 [00:17<00:00,  1.91s/it]\n"
     ]
    },
    {
     "name": "stdout",
     "output_type": "stream",
     "text": [
      "Train Loss = 0.0039865800129822064 Valid Loss = 0.32407301312519443\n",
      "\n",
      " Epoch 17 / 40\n"
     ]
    },
    {
     "name": "stderr",
     "output_type": "stream",
     "text": [
      "100%|████████████████████████████████████████████████████████████████████████████████████████████████████████████████████████████████████████████████████████████████████████████| 48/48 [07:11<00:00,  8.99s/it]\n",
      "100%|██████████████████████████████████████████████████████████████████████████████████████████████████████████████████████████████████████████████████████████████████████████████| 9/9 [00:17<00:00,  1.89s/it]\n"
     ]
    },
    {
     "name": "stdout",
     "output_type": "stream",
     "text": [
      "Train Loss = 0.00629896881946479 Valid Loss = 0.2730877846479416\n",
      "\n",
      " Epoch 18 / 40\n"
     ]
    },
    {
     "name": "stderr",
     "output_type": "stream",
     "text": [
      "100%|████████████████████████████████████████████████████████████████████████████████████████████████████████████████████████████████████████████████████████████████████████████| 48/48 [07:11<00:00,  8.98s/it]\n",
      "100%|██████████████████████████████████████████████████████████████████████████████████████████████████████████████████████████████████████████████████████████████████████████████| 9/9 [00:17<00:00,  1.89s/it]\n"
     ]
    },
    {
     "name": "stdout",
     "output_type": "stream",
     "text": [
      "Train Loss = 0.003611941609051428 Valid Loss = 0.3034653502206008\n",
      "\n",
      " Epoch 19 / 40\n"
     ]
    },
    {
     "name": "stderr",
     "output_type": "stream",
     "text": [
      "100%|████████████████████████████████████████████████████████████████████████████████████████████████████████████████████████████████████████████████████████████████████████████| 48/48 [07:12<00:00,  9.01s/it]\n",
      "100%|██████████████████████████████████████████████████████████████████████████████████████████████████████████████████████████████████████████████████████████████████████████████| 9/9 [00:17<00:00,  1.91s/it]\n"
     ]
    },
    {
     "name": "stdout",
     "output_type": "stream",
     "text": [
      "Train Loss = 0.006465472943091299 Valid Loss = 0.2921907955573665\n",
      "\n",
      " Epoch 20 / 40\n"
     ]
    },
    {
     "name": "stderr",
     "output_type": "stream",
     "text": [
      "100%|████████████████████████████████████████████████████████████████████████████████████████████████████████████████████████████████████████████████████████████████████████████| 48/48 [07:10<00:00,  8.98s/it]\n",
      "100%|██████████████████████████████████████████████████████████████████████████████████████████████████████████████████████████████████████████████████████████████████████████████| 9/9 [00:17<00:00,  1.91s/it]\n"
     ]
    },
    {
     "name": "stdout",
     "output_type": "stream",
     "text": [
      "Train Loss = 0.003579445296357638 Valid Loss = 0.29504378357281286\n",
      "\n",
      " Epoch 21 / 40\n"
     ]
    },
    {
     "name": "stderr",
     "output_type": "stream",
     "text": [
      "100%|████████████████████████████████████████████████████████████████████████████████████████████████████████████████████████████████████████████████████████████████████████████| 48/48 [07:12<00:00,  9.01s/it]\n",
      "100%|██████████████████████████████████████████████████████████████████████████████████████████████████████████████████████████████████████████████████████████████████████████████| 9/9 [00:17<00:00,  1.95s/it]\n"
     ]
    },
    {
     "name": "stdout",
     "output_type": "stream",
     "text": [
      "Train Loss = 0.0013267031824094981 Valid Loss = 0.32173154409974813\n",
      "\n",
      " Epoch 22 / 40\n"
     ]
    },
    {
     "name": "stderr",
     "output_type": "stream",
     "text": [
      "100%|████████████████████████████████████████████████████████████████████████████████████████████████████████████████████████████████████████████████████████████████████████████| 48/48 [07:11<00:00,  8.98s/it]\n",
      "100%|██████████████████████████████████████████████████████████████████████████████████████████████████████████████████████████████████████████████████████████████████████████████| 9/9 [00:17<00:00,  1.91s/it]\n"
     ]
    },
    {
     "name": "stdout",
     "output_type": "stream",
     "text": [
      "Train Loss = 0.00252914637652187 Valid Loss = 0.31655819108709693\n",
      "\n",
      " Epoch 23 / 40\n"
     ]
    },
    {
     "name": "stderr",
     "output_type": "stream",
     "text": [
      "100%|████████████████████████████████████████████████████████████████████████████████████████████████████████████████████████████████████████████████████████████████████████████| 48/48 [07:11<00:00,  8.98s/it]\n",
      "100%|██████████████████████████████████████████████████████████████████████████████████████████████████████████████████████████████████████████████████████████████████████████████| 9/9 [00:17<00:00,  1.90s/it]\n"
     ]
    },
    {
     "name": "stdout",
     "output_type": "stream",
     "text": [
      "Train Loss = 0.0010319372875831807 Valid Loss = 0.3180159835351838\n",
      "\n",
      " Epoch 24 / 40\n"
     ]
    },
    {
     "name": "stderr",
     "output_type": "stream",
     "text": [
      "100%|████████████████████████████████████████████████████████████████████████████████████████████████████████████████████████████████████████████████████████████████████████████| 48/48 [07:11<00:00,  8.98s/it]\n",
      "100%|██████████████████████████████████████████████████████████████████████████████████████████████████████████████████████████████████████████████████████████████████████████████| 9/9 [00:17<00:00,  1.90s/it]\n"
     ]
    },
    {
     "name": "stdout",
     "output_type": "stream",
     "text": [
      "Train Loss = 0.0013496123142431316 Valid Loss = 0.3289982906232278\n",
      "\n",
      " Epoch 25 / 40\n"
     ]
    },
    {
     "name": "stderr",
     "output_type": "stream",
     "text": [
      "100%|████████████████████████████████████████████████████████████████████████████████████████████████████████████████████████████████████████████████████████████████████████████| 48/48 [07:10<00:00,  8.97s/it]\n",
      "100%|██████████████████████████████████████████████████████████████████████████████████████████████████████████████████████████████████████████████████████████████████████████████| 9/9 [00:17<00:00,  1.93s/it]\n"
     ]
    },
    {
     "name": "stdout",
     "output_type": "stream",
     "text": [
      "Train Loss = 0.0011650271812868596 Valid Loss = 0.339881116386904\n",
      "\n",
      " Epoch 26 / 40\n"
     ]
    },
    {
     "name": "stderr",
     "output_type": "stream",
     "text": [
      "100%|████████████████████████████████████████████████████████████████████████████████████████████████████████████████████████████████████████████████████████████████████████████| 48/48 [07:12<00:00,  9.01s/it]\n",
      "100%|██████████████████████████████████████████████████████████████████████████████████████████████████████████████████████████████████████████████████████████████████████████████| 9/9 [00:17<00:00,  1.94s/it]\n"
     ]
    },
    {
     "name": "stdout",
     "output_type": "stream",
     "text": [
      "Train Loss = 0.0006455276400932538 Valid Loss = 0.34975404951546807\n",
      "\n",
      " Epoch 27 / 40\n"
     ]
    },
    {
     "name": "stderr",
     "output_type": "stream",
     "text": [
      "100%|████████████████████████████████████████████████████████████████████████████████████████████████████████████████████████████████████████████████████████████████████████████| 48/48 [21:29<00:00, 26.86s/it]\n",
      "100%|██████████████████████████████████████████████████████████████████████████████████████████████████████████████████████████████████████████████████████████████████████████████| 9/9 [00:22<00:00,  2.55s/it]\n"
     ]
    },
    {
     "name": "stdout",
     "output_type": "stream",
     "text": [
      "Train Loss = 0.0006332194366223121 Valid Loss = 0.354897536641349\n",
      "\n",
      " Epoch 28 / 40\n"
     ]
    },
    {
     "name": "stderr",
     "output_type": "stream",
     "text": [
      "100%|████████████████████████████████████████████████████████████████████████████████████████████████████████████████████████████████████████████████████████████████████████████| 48/48 [07:12<00:00,  9.00s/it]\n",
      "100%|██████████████████████████████████████████████████████████████████████████████████████████████████████████████████████████████████████████████████████████████████████████████| 9/9 [00:17<00:00,  1.90s/it]\n"
     ]
    },
    {
     "name": "stdout",
     "output_type": "stream",
     "text": [
      "Train Loss = 0.0010066503376341036 Valid Loss = 0.3529100030557149\n",
      "\n",
      " Epoch 29 / 40\n"
     ]
    },
    {
     "name": "stderr",
     "output_type": "stream",
     "text": [
      "100%|████████████████████████████████████████████████████████████████████████████████████████████████████████████████████████████████████████████████████████████████████████████| 48/48 [07:12<00:00,  9.01s/it]\n",
      "100%|██████████████████████████████████████████████████████████████████████████████████████████████████████████████████████████████████████████████████████████████████████████████| 9/9 [00:16<00:00,  1.86s/it]\n"
     ]
    },
    {
     "name": "stdout",
     "output_type": "stream",
     "text": [
      "Train Loss = 0.0015006850709748203 Valid Loss = 0.3398600423485429\n",
      "\n",
      " Epoch 30 / 40\n"
     ]
    },
    {
     "name": "stderr",
     "output_type": "stream",
     "text": [
      "100%|████████████████████████████████████████████████████████████████████████████████████████████████████████████████████████████████████████████████████████████████████████████| 48/48 [07:10<00:00,  8.98s/it]\n",
      "100%|██████████████████████████████████████████████████████████████████████████████████████████████████████████████████████████████████████████████████████████████████████████████| 9/9 [00:17<00:00,  1.91s/it]\n"
     ]
    },
    {
     "name": "stdout",
     "output_type": "stream",
     "text": [
      "Train Loss = 0.0007570695671953823 Valid Loss = 0.31743450187301886\n",
      "\n",
      " Epoch 31 / 40\n"
     ]
    },
    {
     "name": "stderr",
     "output_type": "stream",
     "text": [
      "100%|████████████████████████████████████████████████████████████████████████████████████████████████████████████████████████████████████████████████████████████████████████████| 48/48 [21:52<00:00, 27.34s/it]\n",
      "100%|██████████████████████████████████████████████████████████████████████████████████████████████████████████████████████████████████████████████████████████████████████████████| 9/9 [01:22<00:00,  9.20s/it]\n"
     ]
    },
    {
     "name": "stdout",
     "output_type": "stream",
     "text": [
      "Train Loss = 0.0007504287934049595 Valid Loss = 0.31857743355471435\n",
      "\n",
      " Epoch 32 / 40\n"
     ]
    },
    {
     "name": "stderr",
     "output_type": "stream",
     "text": [
      "100%|████████████████████████████████████████████████████████████████████████████████████████████████████████████████████████████████████████████████████████████████████████████| 48/48 [34:14<00:00, 42.81s/it]\n",
      "100%|██████████████████████████████████████████████████████████████████████████████████████████████████████████████████████████████████████████████████████████████████████████████| 9/9 [01:22<00:00,  9.12s/it]\n"
     ]
    },
    {
     "name": "stdout",
     "output_type": "stream",
     "text": [
      "Train Loss = 0.001033681751853995 Valid Loss = 0.30165491181671517\n",
      "\n",
      " Epoch 33 / 40\n"
     ]
    },
    {
     "name": "stderr",
     "output_type": "stream",
     "text": [
      "100%|████████████████████████████████████████████████████████████████████████████████████████████████████████████████████████████████████████████████████████████████████████████| 48/48 [17:30<00:00, 21.88s/it]\n",
      "100%|██████████████████████████████████████████████████████████████████████████████████████████████████████████████████████████████████████████████████████████████████████████████| 9/9 [00:25<00:00,  2.89s/it]\n"
     ]
    },
    {
     "name": "stdout",
     "output_type": "stream",
     "text": [
      "Train Loss = 0.0011534270846217016 Valid Loss = 0.32483440276054254\n",
      "\n",
      " Epoch 34 / 40\n"
     ]
    },
    {
     "name": "stderr",
     "output_type": "stream",
     "text": [
      "100%|████████████████████████████████████████████████████████████████████████████████████████████████████████████████████████████████████████████████████████████████████████████| 48/48 [08:35<00:00, 10.75s/it]\n",
      "100%|██████████████████████████████████████████████████████████████████████████████████████████████████████████████████████████████████████████████████████████████████████████████| 9/9 [00:17<00:00,  1.92s/it]\n"
     ]
    },
    {
     "name": "stdout",
     "output_type": "stream",
     "text": [
      "Train Loss = 0.000528936882801645 Valid Loss = 0.3270305854643488\n",
      "\n",
      " Epoch 35 / 40\n"
     ]
    },
    {
     "name": "stderr",
     "output_type": "stream",
     "text": [
      "100%|████████████████████████████████████████████████████████████████████████████████████████████████████████████████████████████████████████████████████████████████████████████| 48/48 [07:10<00:00,  8.97s/it]\n",
      "100%|██████████████████████████████████████████████████████████████████████████████████████████████████████████████████████████████████████████████████████████████████████████████| 9/9 [00:17<00:00,  1.92s/it]\n"
     ]
    },
    {
     "name": "stdout",
     "output_type": "stream",
     "text": [
      "Train Loss = 0.000534410799749215 Valid Loss = 0.33055435810496825\n",
      "\n",
      " Epoch 36 / 40\n"
     ]
    },
    {
     "name": "stderr",
     "output_type": "stream",
     "text": [
      "100%|████████████████████████████████████████████████████████████████████████████████████████████████████████████████████████████████████████████████████████████████████████████| 48/48 [07:08<00:00,  8.93s/it]\n",
      "100%|██████████████████████████████████████████████████████████████████████████████████████████████████████████████████████████████████████████████████████████████████████████████| 9/9 [00:17<00:00,  1.92s/it]\n"
     ]
    },
    {
     "name": "stdout",
     "output_type": "stream",
     "text": [
      "Train Loss = 0.0004941792750893607 Valid Loss = 0.33332853756857933\n",
      "\n",
      " Epoch 37 / 40\n"
     ]
    },
    {
     "name": "stderr",
     "output_type": "stream",
     "text": [
      "100%|████████████████████████████████████████████████████████████████████████████████████████████████████████████████████████████████████████████████████████████████████████████| 48/48 [07:13<00:00,  9.02s/it]\n",
      "100%|██████████████████████████████████████████████████████████████████████████████████████████████████████████████████████████████████████████████████████████████████████████████| 9/9 [00:17<00:00,  1.94s/it]\n"
     ]
    },
    {
     "name": "stdout",
     "output_type": "stream",
     "text": [
      "Train Loss = 0.0005038618052518965 Valid Loss = 0.33454886879513246\n",
      "\n",
      " Epoch 38 / 40\n"
     ]
    },
    {
     "name": "stderr",
     "output_type": "stream",
     "text": [
      "100%|████████████████████████████████████████████████████████████████████████████████████████████████████████████████████████████████████████████████████████████████████████████| 48/48 [07:09<00:00,  8.96s/it]\n",
      "100%|██████████████████████████████████████████████████████████████████████████████████████████████████████████████████████████████████████████████████████████████████████████████| 9/9 [00:16<00:00,  1.87s/it]\n"
     ]
    },
    {
     "name": "stdout",
     "output_type": "stream",
     "text": [
      "Train Loss = 0.0006243361737385081 Valid Loss = 0.33565039075134945\n",
      "\n",
      " Epoch 39 / 40\n"
     ]
    },
    {
     "name": "stderr",
     "output_type": "stream",
     "text": [
      "100%|████████████████████████████████████████████████████████████████████████████████████████████████████████████████████████████████████████████████████████████████████████████| 48/48 [07:12<00:00,  9.01s/it]\n",
      "100%|██████████████████████████████████████████████████████████████████████████████████████████████████████████████████████████████████████████████████████████████████████████████| 9/9 [00:17<00:00,  1.90s/it]\n"
     ]
    },
    {
     "name": "stdout",
     "output_type": "stream",
     "text": [
      "Train Loss = 0.0005059979390959294 Valid Loss = 0.33618653493209016\n",
      "\n",
      " Epoch 40 / 40\n"
     ]
    },
    {
     "name": "stderr",
     "output_type": "stream",
     "text": [
      "100%|████████████████████████████████████████████████████████████████████████████████████████████████████████████████████████████████████████████████████████████████████████████| 48/48 [07:09<00:00,  8.95s/it]\n",
      "100%|██████████████████████████████████████████████████████████████████████████████████████████████████████████████████████████████████████████████████████████████████████████████| 9/9 [00:17<00:00,  1.89s/it]\n"
     ]
    },
    {
     "name": "stdout",
     "output_type": "stream",
     "text": [
      "Train Loss = 0.0006784177727089021 Valid Loss = 0.33624322005198337\n"
     ]
    },
    {
     "data": {
      "text/plain": [
       "'Model trained successfully'"
      ]
     },
     "execution_count": 35,
     "metadata": {},
     "output_type": "execute_result"
    }
   ],
   "source": [
    "model2.train()"
   ]
  },
  {
   "cell_type": "code",
   "execution_count": 36,
   "id": "b7b17f41-7c5c-48f8-af82-88fdd436a298",
   "metadata": {},
   "outputs": [
    {
     "data": {
      "text/html": [
       "<div>\n",
       "<style scoped>\n",
       "    .dataframe tbody tr th:only-of-type {\n",
       "        vertical-align: middle;\n",
       "    }\n",
       "\n",
       "    .dataframe tbody tr th {\n",
       "        vertical-align: top;\n",
       "    }\n",
       "\n",
       "    .dataframe thead th {\n",
       "        text-align: right;\n",
       "    }\n",
       "</style>\n",
       "<table border=\"1\" class=\"dataframe\">\n",
       "  <thead>\n",
       "    <tr style=\"text-align: right;\">\n",
       "      <th></th>\n",
       "      <th>Level</th>\n",
       "      <th>F1-Score</th>\n",
       "      <th>Precision</th>\n",
       "      <th>Recall</th>\n",
       "    </tr>\n",
       "  </thead>\n",
       "  <tbody>\n",
       "    <tr>\n",
       "      <th>0</th>\n",
       "      <td>B-asp</td>\n",
       "      <td>0.771429</td>\n",
       "      <td>0.800539</td>\n",
       "      <td>0.744361</td>\n",
       "    </tr>\n",
       "    <tr>\n",
       "      <th>1</th>\n",
       "      <td>I-asp</td>\n",
       "      <td>0.436620</td>\n",
       "      <td>0.607843</td>\n",
       "      <td>0.340659</td>\n",
       "    </tr>\n",
       "    <tr>\n",
       "      <th>0</th>\n",
       "      <td>AVG_MICRO</td>\n",
       "      <td>0.719298</td>\n",
       "      <td>NaN</td>\n",
       "      <td>NaN</td>\n",
       "    </tr>\n",
       "    <tr>\n",
       "      <th>0</th>\n",
       "      <td>AVG_MICRO</td>\n",
       "      <td>0.604024</td>\n",
       "      <td>NaN</td>\n",
       "      <td>NaN</td>\n",
       "    </tr>\n",
       "  </tbody>\n",
       "</table>\n",
       "</div>"
      ],
      "text/plain": [
       "       Level  F1-Score  Precision    Recall\n",
       "0      B-asp  0.771429   0.800539  0.744361\n",
       "1      I-asp  0.436620   0.607843  0.340659\n",
       "0  AVG_MICRO  0.719298        NaN       NaN\n",
       "0  AVG_MICRO  0.604024        NaN       NaN"
      ]
     },
     "execution_count": 36,
     "metadata": {},
     "output_type": "execute_result"
    }
   ],
   "source": [
    "model2.evaluate_performance(test)"
   ]
  },
  {
   "cell_type": "code",
   "execution_count": 37,
   "id": "ea9a6052-55aa-4f1a-854d-0fa4c350f50c",
   "metadata": {},
   "outputs": [],
   "source": [
    "y_pred = model2.predict(test['sentences'])"
   ]
  },
  {
   "cell_type": "code",
   "execution_count": 38,
   "id": "c6014647-7c98-44dd-88fc-e0bf04912e99",
   "metadata": {},
   "outputs": [
    {
     "data": {
      "text/plain": [
       "{'totalAspects': 518,\n",
       " 'pred': 122,\n",
       " 'tp': 361,\n",
       " 'fp': 41,\n",
       " 'fn': 157,\n",
       " 'precisao': 0.8980099502487562,\n",
       " 'precisaoLaplace': 0.8960396039603961,\n",
       " 'revocacao': 0.696911196911197,\n",
       " 'medidaf': 0.7847826086956523,\n",
       " 'totalExplicitos': 292,\n",
       " 'explicitosOk': 36,\n",
       " 'pExplicitos': 0.1232876712328767,\n",
       " 'explicitsList': ['conforto',\n",
       "  'localização',\n",
       "  'carpete',\n",
       "  'portaria',\n",
       "  'piscina',\n",
       "  'limpeza',\n",
       "  'chuveiro',\n",
       "  'elevador',\n",
       "  'frigobar',\n",
       "  'aeroporto',\n",
       "  'funcionários',\n",
       "  'porteiro',\n",
       "  'cozinha',\n",
       "  'shopping',\n",
       "  'cidade',\n",
       "  'funcionário',\n",
       "  'garagem',\n",
       "  'aparência',\n",
       "  'rodoviária',\n",
       "  'estacionamento',\n",
       "  'serviço',\n",
       "  'rua',\n",
       "  'hotel',\n",
       "  'telefone',\n",
       "  'pia',\n",
       "  'padrão',\n",
       "  'recepção',\n",
       "  'atendimento',\n",
       "  'instalações',\n",
       "  'preço',\n",
       "  'quarto',\n",
       "  'tv',\n",
       "  'lavanderia',\n",
       "  'estabelecimento',\n",
       "  'apartamento',\n",
       "  'lojas'],\n",
       " 'totalImplicitos': 226,\n",
       " 'implicitosOk': 57,\n",
       " 'pImplicitos': 0.252212389380531,\n",
       " 'implicitsList': ['cheiro',\n",
       "  'no centro',\n",
       "  'valor',\n",
       "  'banheiros',\n",
       "  'limpas',\n",
       "  'sujeira',\n",
       "  'localização',\n",
       "  'carpete',\n",
       "  'ar condicionado',\n",
       "  'aquecedor',\n",
       "  'piscina',\n",
       "  'box',\n",
       "  'limpeza',\n",
       "  'silencio',\n",
       "  'atendentes',\n",
       "  'localizaçao',\n",
       "  'cheiro de mofo',\n",
       "  'estrutura',\n",
       "  'chuveiro',\n",
       "  'limpo',\n",
       "  'sujo',\n",
       "  'elevador',\n",
       "  'apartamentos',\n",
       "  'cozinha',\n",
       "  'barato',\n",
       "  'localizado',\n",
       "  'baratinho',\n",
       "  'cobertores',\n",
       "  'perto',\n",
       "  'custo',\n",
       "  'imunda',\n",
       "  'sujos',\n",
       "  'barulho',\n",
       "  'café',\n",
       "  'próximo',\n",
       "  'estacionamento',\n",
       "  'coberto',\n",
       "  'imundas',\n",
       "  'telefone',\n",
       "  'banheiro',\n",
       "  'bem no centro',\n",
       "  'atendimento',\n",
       "  'manchada',\n",
       "  'recepcionistas',\n",
       "  'quarto',\n",
       "  'proximidade',\n",
       "  'limpos',\n",
       "  'roupa de cama',\n",
       "  'transfer',\n",
       "  'comida',\n",
       "  'proximo',\n",
       "  'recepcionista',\n",
       "  'wi-fi',\n",
       "  'encontra-se estrategicamente dentro do centro financeiro',\n",
       "  'localizado no centro',\n",
       "  'cheirando a mofo',\n",
       "  'apartamento'],\n",
       " 'tipos': {'Contextual': {'Related': 11, 'Location': 8},\n",
       "  'Feature': {'Equivalence': 29, 'Part-of': 40, 'Is-a': 8},\n",
       "  'Qualification': {'Adjective': 38, 'Equivalence': 2, 'Nominal form': 1},\n",
       "  'Event': {'Non-verbal form': 2}}}"
      ]
     },
     "execution_count": 38,
     "metadata": {},
     "output_type": "execute_result"
    }
   ],
   "source": [
    "aspects = result2aspecList(y_pred, test['sentences'])\n",
    "res = calculaMetricas(\n",
    "    aspects, \n",
    "    aspectsTest['datasets'][domain], \n",
    "    tipos,\n",
    "    lemma=False, \n",
    "    output=False\n",
    ")\n",
    "xml = dicttoxml(res, attr_type=False, custom_root='resultados')\n",
    "with open('../resultados/bert_bertimbau_indomain_'+domain+'.xml', 'w') as file:\n",
    "    dom = parseString(xml)\n",
    "    file.write(dom.toprettyxml())    \n",
    "res"
   ]
  },
  {
   "cell_type": "code",
   "execution_count": null,
   "id": "11881c9a-ad00-4a8b-8202-c1a13b4d9078",
   "metadata": {},
   "outputs": [],
   "source": []
  }
 ],
 "metadata": {
  "kernelspec": {
   "display_name": "doutorado",
   "language": "python",
   "name": "doutorado"
  },
  "language_info": {
   "codemirror_mode": {
    "name": "ipython",
    "version": 3
   },
   "file_extension": ".py",
   "mimetype": "text/x-python",
   "name": "python",
   "nbconvert_exporter": "python",
   "pygments_lexer": "ipython3",
   "version": "3.9.2"
  }
 },
 "nbformat": 4,
 "nbformat_minor": 5
}

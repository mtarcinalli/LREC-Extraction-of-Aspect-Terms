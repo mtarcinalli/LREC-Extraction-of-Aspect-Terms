{
 "cells": [
  {
   "cell_type": "markdown",
   "id": "74551cdf-c609-4925-aa6f-1104bb26cfec",
   "metadata": {},
   "source": [
    "# All Domains"
   ]
  },
  {
   "cell_type": "code",
   "execution_count": 1,
   "id": "03ac281d-591c-4307-8684-8e440541007f",
   "metadata": {},
   "outputs": [
    {
     "name": "stderr",
     "output_type": "stream",
     "text": [
      "2021-12-23 20:44:28.186403: W tensorflow/stream_executor/platform/default/dso_loader.cc:64] Could not load dynamic library 'libcudart.so.11.0'; dlerror: libcudart.so.11.0: cannot open shared object file: No such file or directory\n",
      "2021-12-23 20:44:28.186442: I tensorflow/stream_executor/cuda/cudart_stub.cc:29] Ignore above cudart dlerror if you do not have a GPU set up on your machine.\n"
     ]
    }
   ],
   "source": [
    "import pickle\n",
    "from collections import Counter\n",
    "import re\n",
    "import ipy_table\n",
    "import nltk\n",
    "import os\n",
    "import numpy as np\n",
    "import spacy\n",
    "import random\n",
    "from spacy.pipeline import Sentencizer\n",
    "import json\n",
    "#from matplotlib import pyplot\n",
    "import pandas as pd\n",
    "import xmltodict\n",
    "from dicttoxml import dicttoxml\n",
    "from xml.dom.minidom import parseString\n",
    "\n",
    "import warnings\n",
    "warnings.filterwarnings('ignore')"
   ]
  },
  {
   "cell_type": "code",
   "execution_count": 2,
   "id": "f1f6aa2d-ff47-4b59-bb45-a75b65a77853",
   "metadata": {},
   "outputs": [
    {
     "name": "stdout",
     "output_type": "stream",
     "text": [
      "Loading functions...\n"
     ]
    }
   ],
   "source": [
    "%run ../funcoes.py"
   ]
  },
  {
   "cell_type": "code",
   "execution_count": 3,
   "id": "13e45ec0-1752-4fd1-a17d-4f9b68632d4b",
   "metadata": {},
   "outputs": [
    {
     "name": "stdout",
     "output_type": "stream",
     "text": [
      "['sentencizer', 'tok2vec', 'morphologizer', 'parser', 'attribute_ruler', 'lemmatizer', 'ner']\n"
     ]
    }
   ],
   "source": [
    "# spacy model\n",
    "nlp = spacy.load(\"pt_core_news_lg\")\n",
    "\n",
    "sentencizer = nlp.create_pipe(\"sentencizer\")\n",
    "punct = [x for x in sentencizer.punct_chars]\n",
    "punct.append('...')\n",
    "punct.append('..')\n",
    "config = {\"punct_chars\": punct}\n",
    "\n",
    "#sentencizer = Sentencizer(punct_chars=punct)\n",
    "nlp.add_pipe(\"sentencizer\", first=True, config=config)\n",
    "\n",
    "print(nlp.pipe_names)"
   ]
  },
  {
   "cell_type": "code",
   "execution_count": 4,
   "id": "110cd9c8-a748-4570-baa8-8bf53fd4eef2",
   "metadata": {},
   "outputs": [],
   "source": [
    "# vargas datasets\n",
    "with open('../data/aspects_camera.dat', \"rb\") as f: implicitCamera = pickle.load(f)\n",
    "with open('../data/aspects_livro.dat', \"rb\") as f: implicitLivro = pickle.load(f)\n",
    "with open('../data/aspects_smartphone.dat', \"rb\") as f: implicitSmartphone = pickle.load(f)\n",
    "with open('../data/aspects_hotel.dat', \"rb\") as f: implicitHotel = pickle.load(f)"
   ]
  },
  {
   "cell_type": "code",
   "execution_count": 5,
   "id": "6c50d328-e0cb-4951-a938-f9341052f6c3",
   "metadata": {},
   "outputs": [],
   "source": [
    "vargasDatasets= {\n",
    "    'camera'     : implicitCamera,\n",
    "    'livro'      : implicitLivro,\n",
    "    'smartphone' : implicitSmartphone,\n",
    "    'hotel'      : implicitHotel\n",
    "}\n",
    "datasets = [ 'camera', 'livro', 'smartphone', 'hotel' ]"
   ]
  },
  {
   "cell_type": "code",
   "execution_count": 6,
   "id": "e60c9549-2501-4d08-aec2-fa60b4f96242",
   "metadata": {},
   "outputs": [],
   "source": [
    "f = open(\"../07_Keras/data/aspectsTest.xml\",\"r\")\n",
    "xml = f.read()\n",
    "aspectsTest = xmltodict.parse(xml, process_namespaces=True)"
   ]
  },
  {
   "cell_type": "code",
   "execution_count": 7,
   "id": "5bc2724d-8733-4305-9a29-eb892e018670",
   "metadata": {},
   "outputs": [],
   "source": [
    "tag_scheme = [\n",
    "'B-asp',\n",
    "'I-asp'\n",
    "]"
   ]
  },
  {
   "cell_type": "code",
   "execution_count": 8,
   "id": "c563cd5e-e245-499a-8e11-e1d9fa9f77de",
   "metadata": {},
   "outputs": [],
   "source": [
    "training = {'sentences': [], 'tags' : []}\n",
    "validation = {'sentences': [], 'tags' :[]}"
   ]
  },
  {
   "cell_type": "markdown",
   "id": "4959cf16-a749-4775-ac3f-14a7e46fff2e",
   "metadata": {},
   "source": [
    "## Cameras"
   ]
  },
  {
   "cell_type": "code",
   "execution_count": 9,
   "id": "e58a77b8-9d28-40e7-a109-0c350b0848a4",
   "metadata": {},
   "outputs": [],
   "source": [
    "dfCameraTest = pd.read_csv('../07_Keras/data/domain_camera_IOB_test.csv', sep='\\t', quoting=3, keep_default_na=False)\n",
    "dfCameraTrain = pd.read_csv('../07_Keras/data/domain_camera_IOB_train.csv', sep='\\t', quoting=3, keep_default_na=False)\n",
    "\n",
    "contSents = 0\n",
    "for count, row in dfCameraTrain.iterrows():\n",
    "    if (row[0] != \"\" and count > 0):\n",
    "        contSents = contSents + 1\n",
    "contSents = contSents + 1\n",
    "contTrain = round(contSents * 0.9)\n",
    "\n",
    "sent = []\n",
    "tags = []\n",
    "contSents = 0\n",
    "for count, row in dfCameraTrain.iterrows():\n",
    "    if (row[0] != \"\" and count > 0):\n",
    "        if contSents < contTrain:\n",
    "            training['sentences'].append(sent)\n",
    "            training['tags'].append(tags)\n",
    "        else:\n",
    "            validation['sentences'].append(sent)\n",
    "            validation['tags'].append(tags)\n",
    "        tags = []\n",
    "        sent = []\n",
    "        contSents = contSents + 1\n",
    "    sent.append(row['Word'].lower())\n",
    "    tags.append(row['Tag'])\n",
    "validation['sentences'].append(sent)\n",
    "validation['tags'].append(tags)\n",
    "sent = []\n",
    "tags = []\n",
    "\n",
    "cameraTest = {'sentences': [], 'tags' : []}\n",
    "contSents = 0\n",
    "for count, row in dfCameraTest.iterrows():\n",
    "    if (row[0] != \"\" and count > 0):\n",
    "        cameraTest['sentences'].append(sent)\n",
    "        cameraTest['tags'].append(tags)\n",
    "        tags = []\n",
    "        sent = []\n",
    "        contSents = contSents + 1\n",
    "    sent.append(row['Word'].lower())\n",
    "    tags.append(row['Tag'])\n",
    "cameraTest['sentences'].append(sent)\n",
    "cameraTest['tags'].append(tags)"
   ]
  },
  {
   "cell_type": "markdown",
   "id": "5f7adbd5-b31b-406a-a7dd-d21d76036095",
   "metadata": {},
   "source": [
    "## Livros"
   ]
  },
  {
   "cell_type": "code",
   "execution_count": 10,
   "id": "83bd474e-099e-4f84-a7c3-5c75be5b2eb2",
   "metadata": {},
   "outputs": [],
   "source": [
    "dfLivroTest = pd.read_csv('../07_Keras/data/domain_livro_IOB_test.csv', sep='\\t', quoting=3, keep_default_na=False)\n",
    "dfLivroTrain = pd.read_csv('../07_Keras/data/domain_livro_IOB_train.csv', sep='\\t', quoting=3, keep_default_na=False)\n",
    "\n",
    "contSents = 0\n",
    "for count, row in dfLivroTrain.iterrows():\n",
    "    if (row[0] != \"\" and count > 0):\n",
    "        contSents = contSents + 1\n",
    "contSents = contSents + 1\n",
    "\n",
    "contTrain = round(contSents * 0.9)\n",
    "\n",
    "sent = []\n",
    "tags = []\n",
    "contSents = 0\n",
    "for count, row in dfLivroTrain.iterrows():\n",
    "    if (row[0] != \"\" and count > 0):\n",
    "        if contSents < contTrain:\n",
    "            training['sentences'].append(sent)\n",
    "            training['tags'].append(tags)\n",
    "        else:\n",
    "            validation['sentences'].append(sent)\n",
    "            validation['tags'].append(tags)\n",
    "\n",
    "        tags = []\n",
    "        sent = []\n",
    "        contSents = contSents + 1\n",
    "    sent.append(row['Word'].lower())\n",
    "    tags.append(row['Tag'])\n",
    "        \n",
    "validation['sentences'].append(sent)\n",
    "validation['tags'].append(tags)\n",
    "\n",
    "livroTest = {'sentences': [], 'tags' : []}\n",
    "sent = []\n",
    "tags = []\n",
    "contSents = 0\n",
    "for count, row in dfLivroTest.iterrows():\n",
    "    if (row[0] != \"\" and count > 0):\n",
    "        livroTest['sentences'].append(sent)\n",
    "        livroTest['tags'].append(tags)\n",
    "        tags = []\n",
    "        sent = []\n",
    "        contSents = contSents + 1\n",
    "    sent.append(row['Word'].lower())\n",
    "    tags.append(row['Tag'])\n",
    "livroTest['sentences'].append(sent)\n",
    "livroTest['tags'].append(tags)"
   ]
  },
  {
   "cell_type": "markdown",
   "id": "42141b5d-7165-4ea1-871a-67eee11f53e1",
   "metadata": {},
   "source": [
    "## Smartphones"
   ]
  },
  {
   "cell_type": "code",
   "execution_count": 11,
   "id": "e5342b92-f075-4a05-91d0-8da865c488af",
   "metadata": {},
   "outputs": [],
   "source": [
    "dfSmartphoneTest = pd.read_csv('../07_Keras/data/domain_smartphone_IOB_test.csv', sep='\\t', quoting=3, keep_default_na=False)\n",
    "dfSmartphoneTrain = pd.read_csv('../07_Keras/data/domain_smartphone_IOB_train.csv', sep='\\t', quoting=3, keep_default_na=False)\n",
    "\n",
    "contSents = 0\n",
    "for count, row in dfSmartphoneTrain.iterrows():\n",
    "    if (row[0] != \"\" and count > 0):\n",
    "        contSents = contSents + 1\n",
    "contSents = contSents + 1\n",
    "\n",
    "contTrain = round(contSents * 0.9)\n",
    "\n",
    "sent = []\n",
    "tags = []\n",
    "contSents = 0\n",
    "for count, row in dfSmartphoneTrain.iterrows():\n",
    "    if (row[0] != \"\" and count > 0):\n",
    "        if contSents < contTrain:\n",
    "            training['sentences'].append(sent)\n",
    "            training['tags'].append(tags)\n",
    "        else:\n",
    "            validation['sentences'].append(sent)\n",
    "            validation['tags'].append(tags)\n",
    "\n",
    "        tags = []\n",
    "        sent = []\n",
    "        contSents = contSents + 1\n",
    "    sent.append(row['Word'].lower())\n",
    "    tags.append(row['Tag'])\n",
    "        \n",
    "validation['sentences'].append(sent)\n",
    "validation['tags'].append(tags)\n",
    "\n",
    "smartphoneTest = {'sentences': [], 'tags' : []}\n",
    "sent = []\n",
    "tags = []\n",
    "contSents = 0\n",
    "for count, row in dfSmartphoneTest.iterrows():\n",
    "    if (row[0] != \"\" and count > 0):\n",
    "        smartphoneTest['sentences'].append(sent)\n",
    "        smartphoneTest['tags'].append(tags)\n",
    "        tags = []\n",
    "        sent = []\n",
    "        contSents = contSents + 1\n",
    "    sent.append(row['Word'].lower())\n",
    "    tags.append(row['Tag'])\n",
    "smartphoneTest['sentences'].append(sent)\n",
    "smartphoneTest['tags'].append(tags)"
   ]
  },
  {
   "cell_type": "markdown",
   "id": "a3703ac0-0d62-467a-80f9-d69a7f7e1b04",
   "metadata": {},
   "source": [
    "### Hotel"
   ]
  },
  {
   "cell_type": "code",
   "execution_count": 12,
   "id": "2eef736c-60d3-49a9-8fb6-f57e59b727bb",
   "metadata": {},
   "outputs": [],
   "source": [
    "dfHotelTest = pd.read_csv('../07_Keras/data/domain_hotel_IOB_test.csv', sep='\\t', quoting=3, keep_default_na=False)\n",
    "dfHotelTrain = pd.read_csv('../07_Keras/data/domain_hotel_IOB_train.csv', sep='\\t', quoting=3, keep_default_na=False)\n",
    "\n",
    "contSents = 0\n",
    "for count, row in dfHotelTrain.iterrows():\n",
    "    if (row[0] != \"\" and count > 0):\n",
    "        contSents = contSents + 1\n",
    "contSents = contSents + 1\n",
    "\n",
    "contTrain = round(contSents * 0.9)\n",
    "\n",
    "sent = []\n",
    "tags = []\n",
    "contSents = 0\n",
    "for count, row in dfHotelTrain.iterrows():\n",
    "    if (row[0] != \"\" and count > 0):\n",
    "        if contSents < contTrain:\n",
    "            training['sentences'].append(sent)\n",
    "            training['tags'].append(tags)\n",
    "        else:\n",
    "            validation['sentences'].append(sent)\n",
    "            validation['tags'].append(tags)\n",
    "\n",
    "        tags = []\n",
    "        sent = []\n",
    "        contSents = contSents + 1\n",
    "    sent.append(row['Word'].lower())\n",
    "    tags.append(row['Tag'])\n",
    "        \n",
    "validation['sentences'].append(sent)\n",
    "validation['tags'].append(tags)\n",
    "\n",
    "hotelTest = {'sentences': [], 'tags' : []}\n",
    "sent = []\n",
    "tags = []\n",
    "contSents = 0\n",
    "for count, row in dfHotelTest.iterrows():\n",
    "    if (row[0] != \"\" and count > 0):\n",
    "        hotelTest['sentences'].append(sent)\n",
    "        hotelTest['tags'].append(tags)\n",
    "        tags = []\n",
    "        sent = []\n",
    "        contSents = contSents + 1\n",
    "    sent.append(row['Word'].lower())\n",
    "    tags.append(row['Tag'])\n",
    "hotelTest['sentences'].append(sent)\n",
    "hotelTest['tags'].append(tags)"
   ]
  },
  {
   "cell_type": "code",
   "execution_count": 13,
   "id": "27f1fffc-0e71-4393-9afc-5b73c772fe5a",
   "metadata": {},
   "outputs": [
    {
     "name": "stdout",
     "output_type": "stream",
     "text": [
      "1230\n",
      "136\n",
      "81\n",
      "88\n",
      "106\n"
     ]
    }
   ],
   "source": [
    "print(len(training['sentences']))\n",
    "print(len(validation['sentences']))\n",
    "\n",
    "print(len(cameraTest['sentences']))\n",
    "print(len(livroTest['sentences']))\n",
    "print(len(smartphoneTest['sentences']))"
   ]
  },
  {
   "cell_type": "markdown",
   "id": "9c6fc118-4438-4b26-adfa-05b5d0f8e0c8",
   "metadata": {},
   "source": [
    "## Bertimbau"
   ]
  },
  {
   "cell_type": "code",
   "execution_count": 14,
   "id": "46a13de3-2fe5-4a01-bda6-2e5d90e28f2e",
   "metadata": {},
   "outputs": [],
   "source": [
    "transformer = 'neuralmind/bert-base-portuguese-cased'"
   ]
  },
  {
   "cell_type": "code",
   "execution_count": 15,
   "id": "828a7e96-65e6-4db7-bac2-95c2640abf52",
   "metadata": {},
   "outputs": [],
   "source": [
    "# hyperparameters for network\n",
    "dropout = 0.1\n",
    "# hyperparameters for training\n",
    "training_hyperparameters = {\n",
    "    'epochs' : 40,\n",
    "    'warmup_steps' : 500,                                                   \n",
    "    'train_batch_size': 13,\n",
    "    'learning_rate': 0.0001\n",
    "}"
   ]
  },
  {
   "cell_type": "code",
   "execution_count": 16,
   "id": "db747e8c-a023-4b24-9f5d-9f28fab8b5ad",
   "metadata": {},
   "outputs": [
    {
     "name": "stdout",
     "output_type": "stream",
     "text": [
      "Device automatically set to: cpu\n"
     ]
    },
    {
     "name": "stderr",
     "output_type": "stream",
     "text": [
      "Some weights of the model checkpoint at neuralmind/bert-base-portuguese-cased were not used when initializing BertModel: ['cls.seq_relationship.bias', 'cls.predictions.decoder.weight', 'cls.predictions.bias', 'cls.predictions.transform.dense.bias', 'cls.predictions.transform.dense.weight', 'cls.predictions.transform.LayerNorm.weight', 'cls.predictions.transform.LayerNorm.bias', 'cls.seq_relationship.weight']\n",
      "- This IS expected if you are initializing BertModel from the checkpoint of a model trained on another task or with another architecture (e.g. initializing a BertForSequenceClassification model from a BertForPreTraining model).\n",
      "- This IS NOT expected if you are initializing BertModel from the checkpoint of a model that you expect to be exactly identical (initializing a BertForSequenceClassification model from a BertForSequenceClassification model).\n"
     ]
    }
   ],
   "source": [
    "from NERDA.models import NERDA\n",
    "model = NERDA(\n",
    "    dataset_training = training,\n",
    "    dataset_validation = validation,\n",
    "    tag_scheme = tag_scheme, \n",
    "    tag_outside = 'O',\n",
    "    transformer = transformer,\n",
    "    dropout = dropout,\n",
    "    hyperparameters = training_hyperparameters\n",
    ")"
   ]
  },
  {
   "cell_type": "code",
   "execution_count": 17,
   "id": "804d12a1-7dc0-402e-b7b1-277625126abb",
   "metadata": {},
   "outputs": [
    {
     "name": "stdout",
     "output_type": "stream",
     "text": [
      "\n",
      " Epoch 1 / 40\n"
     ]
    },
    {
     "name": "stderr",
     "output_type": "stream",
     "text": [
      "100%|████████████████████████████████████████████████████████████████████████████████████████████████████████████████████████████████████████████████████████████████████████████| 95/95 [07:24<00:00,  4.68s/it]\n",
      "100%|████████████████████████████████████████████████████████████████████████████████████████████████████████████████████████████████████████████████████████████████████████████| 17/17 [00:18<00:00,  1.06s/it]\n"
     ]
    },
    {
     "name": "stdout",
     "output_type": "stream",
     "text": [
      "Train Loss = 0.48635165487465104 Valid Loss = 0.287363663315773\n",
      "\n",
      " Epoch 2 / 40\n"
     ]
    },
    {
     "name": "stderr",
     "output_type": "stream",
     "text": [
      "100%|████████████████████████████████████████████████████████████████████████████████████████████████████████████████████████████████████████████████████████████████████████████| 95/95 [07:41<00:00,  4.86s/it]\n",
      "100%|████████████████████████████████████████████████████████████████████████████████████████████████████████████████████████████████████████████████████████████████████████████| 17/17 [00:17<00:00,  1.01s/it]\n"
     ]
    },
    {
     "name": "stdout",
     "output_type": "stream",
     "text": [
      "Train Loss = 0.23877426166283458 Valid Loss = 0.1659946286064737\n",
      "\n",
      " Epoch 3 / 40\n"
     ]
    },
    {
     "name": "stderr",
     "output_type": "stream",
     "text": [
      "100%|████████████████████████████████████████████████████████████████████████████████████████████████████████████████████████████████████████████████████████████████████████████| 95/95 [21:42<00:00, 13.71s/it]\n",
      "100%|████████████████████████████████████████████████████████████████████████████████████████████████████████████████████████████████████████████████████████████████████████████| 17/17 [01:39<00:00,  5.84s/it]\n"
     ]
    },
    {
     "name": "stdout",
     "output_type": "stream",
     "text": [
      "Train Loss = 0.15932558261250196 Valid Loss = 0.150762328549343\n",
      "\n",
      " Epoch 4 / 40\n"
     ]
    },
    {
     "name": "stderr",
     "output_type": "stream",
     "text": [
      "100%|████████████████████████████████████████████████████████████████████████████████████████████████████████████████████████████████████████████████████████████████████████████| 95/95 [33:09<00:00, 20.95s/it]\n",
      "100%|████████████████████████████████████████████████████████████████████████████████████████████████████████████████████████████████████████████████████████████████████████████| 17/17 [00:28<00:00,  1.70s/it]\n"
     ]
    },
    {
     "name": "stdout",
     "output_type": "stream",
     "text": [
      "Train Loss = 0.11040731880225634 Valid Loss = 0.1543573021669598\n",
      "\n",
      " Epoch 5 / 40\n"
     ]
    },
    {
     "name": "stderr",
     "output_type": "stream",
     "text": [
      "100%|████████████████████████████████████████████████████████████████████████████████████████████████████████████████████████████████████████████████████████████████████████████| 95/95 [48:46<00:00, 30.80s/it]\n",
      "100%|████████████████████████████████████████████████████████████████████████████████████████████████████████████████████████████████████████████████████████████████████████████| 17/17 [02:23<00:00,  8.45s/it]\n"
     ]
    },
    {
     "name": "stdout",
     "output_type": "stream",
     "text": [
      "Train Loss = 0.08177794857244743 Valid Loss = 0.15379467803765745\n",
      "\n",
      " Epoch 6 / 40\n"
     ]
    },
    {
     "name": "stderr",
     "output_type": "stream",
     "text": [
      "100%|████████████████████████████████████████████████████████████████████████████████████████████████████████████████████████████████████████████████████████████████████████████| 95/95 [42:28<00:00, 26.83s/it]\n",
      "100%|████████████████████████████████████████████████████████████████████████████████████████████████████████████████████████████████████████████████████████████████████████████| 17/17 [00:30<00:00,  1.78s/it]\n"
     ]
    },
    {
     "name": "stdout",
     "output_type": "stream",
     "text": [
      "Train Loss = 0.06463043103974901 Valid Loss = 0.19899903851396897\n",
      "\n",
      " Epoch 7 / 40\n"
     ]
    },
    {
     "name": "stderr",
     "output_type": "stream",
     "text": [
      "100%|████████████████████████████████████████████████████████████████████████████████████████████████████████████████████████████████████████████████████████████████████████████| 95/95 [12:29<00:00,  7.89s/it]\n",
      "100%|████████████████████████████████████████████████████████████████████████████████████████████████████████████████████████████████████████████████████████████████████████████| 17/17 [00:27<00:00,  1.62s/it]\n"
     ]
    },
    {
     "name": "stdout",
     "output_type": "stream",
     "text": [
      "Train Loss = 0.048298346417907034 Valid Loss = 0.2757445148685399\n",
      "\n",
      " Epoch 8 / 40\n"
     ]
    },
    {
     "name": "stderr",
     "output_type": "stream",
     "text": [
      "100%|████████████████████████████████████████████████████████████████████████████████████████████████████████████████████████████████████████████████████████████████████████████| 95/95 [08:42<00:00,  5.50s/it]\n",
      "100%|████████████████████████████████████████████████████████████████████████████████████████████████████████████████████████████████████████████████████████████████████████████| 17/17 [00:17<00:00,  1.05s/it]\n"
     ]
    },
    {
     "name": "stdout",
     "output_type": "stream",
     "text": [
      "Train Loss = 0.04039748598772444 Valid Loss = 0.2131302556132569\n",
      "\n",
      " Epoch 9 / 40\n"
     ]
    },
    {
     "name": "stderr",
     "output_type": "stream",
     "text": [
      "100%|████████████████████████████████████████████████████████████████████████████████████████████████████████████████████████████████████████████████████████████████████████████| 95/95 [07:51<00:00,  4.97s/it]\n",
      "100%|████████████████████████████████████████████████████████████████████████████████████████████████████████████████████████████████████████████████████████████████████████████| 17/17 [00:17<00:00,  1.00s/it]\n"
     ]
    },
    {
     "name": "stdout",
     "output_type": "stream",
     "text": [
      "Train Loss = 0.02666643564221694 Valid Loss = 0.20726543796413086\n",
      "\n",
      " Epoch 10 / 40\n"
     ]
    },
    {
     "name": "stderr",
     "output_type": "stream",
     "text": [
      "100%|████████████████████████████████████████████████████████████████████████████████████████████████████████████████████████████████████████████████████████████████████████████| 95/95 [07:34<00:00,  4.79s/it]\n",
      "100%|████████████████████████████████████████████████████████████████████████████████████████████████████████████████████████████████████████████████████████████████████████████| 17/17 [00:18<00:00,  1.10s/it]\n"
     ]
    },
    {
     "name": "stdout",
     "output_type": "stream",
     "text": [
      "Train Loss = 0.01869744823688004 Valid Loss = 0.2130545702050714\n",
      "\n",
      " Epoch 11 / 40\n"
     ]
    },
    {
     "name": "stderr",
     "output_type": "stream",
     "text": [
      "100%|████████████████████████████████████████████████████████████████████████████████████████████████████████████████████████████████████████████████████████████████████████████| 95/95 [07:48<00:00,  4.93s/it]\n",
      "100%|████████████████████████████████████████████████████████████████████████████████████████████████████████████████████████████████████████████████████████████████████████████| 17/17 [00:16<00:00,  1.00it/s]\n"
     ]
    },
    {
     "name": "stdout",
     "output_type": "stream",
     "text": [
      "Train Loss = 0.010076643399109965 Valid Loss = 0.25282111983088884\n",
      "\n",
      " Epoch 12 / 40\n"
     ]
    },
    {
     "name": "stderr",
     "output_type": "stream",
     "text": [
      "100%|████████████████████████████████████████████████████████████████████████████████████████████████████████████████████████████████████████████████████████████████████████████| 95/95 [07:48<00:00,  4.93s/it]\n",
      "100%|████████████████████████████████████████████████████████████████████████████████████████████████████████████████████████████████████████████████████████████████████████████| 17/17 [00:17<00:00,  1.03s/it]\n"
     ]
    },
    {
     "name": "stdout",
     "output_type": "stream",
     "text": [
      "Train Loss = 0.006455213017148995 Valid Loss = 0.25015660068568063\n",
      "\n",
      " Epoch 13 / 40\n"
     ]
    },
    {
     "name": "stderr",
     "output_type": "stream",
     "text": [
      "100%|████████████████████████████████████████████████████████████████████████████████████████████████████████████████████████████████████████████████████████████████████████████| 95/95 [07:44<00:00,  4.89s/it]\n",
      "100%|████████████████████████████████████████████████████████████████████████████████████████████████████████████████████████████████████████████████████████████████████████████| 17/17 [00:18<00:00,  1.12s/it]\n"
     ]
    },
    {
     "name": "stdout",
     "output_type": "stream",
     "text": [
      "Train Loss = 0.004744313078117557 Valid Loss = 0.295099453014486\n",
      "\n",
      " Epoch 14 / 40\n"
     ]
    },
    {
     "name": "stderr",
     "output_type": "stream",
     "text": [
      "100%|████████████████████████████████████████████████████████████████████████████████████████████████████████████████████████████████████████████████████████████████████████████| 95/95 [07:54<00:00,  4.99s/it]\n",
      "100%|████████████████████████████████████████████████████████████████████████████████████████████████████████████████████████████████████████████████████████████████████████████| 17/17 [00:17<00:00,  1.01s/it]\n"
     ]
    },
    {
     "name": "stdout",
     "output_type": "stream",
     "text": [
      "Train Loss = 0.0053078928711137886 Valid Loss = 0.2835983331589138\n",
      "\n",
      " Epoch 15 / 40\n"
     ]
    },
    {
     "name": "stderr",
     "output_type": "stream",
     "text": [
      "100%|████████████████████████████████████████████████████████████████████████████████████████████████████████████████████████████████████████████████████████████████████████████| 95/95 [07:50<00:00,  4.95s/it]\n",
      "100%|████████████████████████████████████████████████████████████████████████████████████████████████████████████████████████████████████████████████████████████████████████████| 17/17 [00:18<00:00,  1.11s/it]\n"
     ]
    },
    {
     "name": "stdout",
     "output_type": "stream",
     "text": [
      "Train Loss = 0.004069457451604601 Valid Loss = 0.28793426055242033\n",
      "\n",
      " Epoch 16 / 40\n"
     ]
    },
    {
     "name": "stderr",
     "output_type": "stream",
     "text": [
      "100%|████████████████████████████████████████████████████████████████████████████████████████████████████████████████████████████████████████████████████████████████████████████| 95/95 [07:45<00:00,  4.89s/it]\n",
      "100%|████████████████████████████████████████████████████████████████████████████████████████████████████████████████████████████████████████████████████████████████████████████| 17/17 [00:17<00:00,  1.01s/it]\n"
     ]
    },
    {
     "name": "stdout",
     "output_type": "stream",
     "text": [
      "Train Loss = 0.004982020747143236 Valid Loss = 0.283920498455272\n",
      "\n",
      " Epoch 17 / 40\n"
     ]
    },
    {
     "name": "stderr",
     "output_type": "stream",
     "text": [
      "100%|████████████████████████████████████████████████████████████████████████████████████████████████████████████████████████████████████████████████████████████████████████████| 95/95 [07:51<00:00,  4.96s/it]\n",
      "100%|████████████████████████████████████████████████████████████████████████████████████████████████████████████████████████████████████████████████████████████████████████████| 17/17 [00:18<00:00,  1.06s/it]\n"
     ]
    },
    {
     "name": "stdout",
     "output_type": "stream",
     "text": [
      "Train Loss = 0.003476040959388851 Valid Loss = 0.28558534887783665\n",
      "\n",
      " Epoch 18 / 40\n"
     ]
    },
    {
     "name": "stderr",
     "output_type": "stream",
     "text": [
      "100%|████████████████████████████████████████████████████████████████████████████████████████████████████████████████████████████████████████████████████████████████████████████| 95/95 [07:38<00:00,  4.83s/it]\n",
      "100%|████████████████████████████████████████████████████████████████████████████████████████████████████████████████████████████████████████████████████████████████████████████| 17/17 [00:19<00:00,  1.17s/it]\n"
     ]
    },
    {
     "name": "stdout",
     "output_type": "stream",
     "text": [
      "Train Loss = 0.002328905747976693 Valid Loss = 0.3064444729072206\n",
      "\n",
      " Epoch 19 / 40\n"
     ]
    },
    {
     "name": "stderr",
     "output_type": "stream",
     "text": [
      "100%|████████████████████████████████████████████████████████████████████████████████████████████████████████████████████████████████████████████████████████████████████████████| 95/95 [07:35<00:00,  4.80s/it]\n",
      "100%|████████████████████████████████████████████████████████████████████████████████████████████████████████████████████████████████████████████████████████████████████████████| 17/17 [00:16<00:00,  1.00it/s]\n"
     ]
    },
    {
     "name": "stdout",
     "output_type": "stream",
     "text": [
      "Train Loss = 0.0012830695075344441 Valid Loss = 0.3088372156900518\n",
      "\n",
      " Epoch 20 / 40\n"
     ]
    },
    {
     "name": "stderr",
     "output_type": "stream",
     "text": [
      "100%|████████████████████████████████████████████████████████████████████████████████████████████████████████████████████████████████████████████████████████████████████████████| 95/95 [07:37<00:00,  4.82s/it]\n",
      "100%|████████████████████████████████████████████████████████████████████████████████████████████████████████████████████████████████████████████████████████████████████████████| 17/17 [00:17<00:00,  1.05s/it]\n"
     ]
    },
    {
     "name": "stdout",
     "output_type": "stream",
     "text": [
      "Train Loss = 0.0015052189155157019 Valid Loss = 0.31390322131269116\n",
      "\n",
      " Epoch 21 / 40\n"
     ]
    },
    {
     "name": "stderr",
     "output_type": "stream",
     "text": [
      "100%|████████████████████████████████████████████████████████████████████████████████████████████████████████████████████████████████████████████████████████████████████████████| 95/95 [07:45<00:00,  4.90s/it]\n",
      "100%|████████████████████████████████████████████████████████████████████████████████████████████████████████████████████████████████████████████████████████████████████████████| 17/17 [00:17<00:00,  1.00s/it]\n"
     ]
    },
    {
     "name": "stdout",
     "output_type": "stream",
     "text": [
      "Train Loss = 0.0011099888593123883 Valid Loss = 0.32956256410654855\n",
      "\n",
      " Epoch 22 / 40\n"
     ]
    },
    {
     "name": "stderr",
     "output_type": "stream",
     "text": [
      "100%|████████████████████████████████████████████████████████████████████████████████████████████████████████████████████████████████████████████████████████████████████████████| 95/95 [07:43<00:00,  4.88s/it]\n",
      "100%|████████████████████████████████████████████████████████████████████████████████████████████████████████████████████████████████████████████████████████████████████████████| 17/17 [00:18<00:00,  1.10s/it]\n"
     ]
    },
    {
     "name": "stdout",
     "output_type": "stream",
     "text": [
      "Train Loss = 0.0009697402539849894 Valid Loss = 0.31296518182053285\n",
      "\n",
      " Epoch 23 / 40\n"
     ]
    },
    {
     "name": "stderr",
     "output_type": "stream",
     "text": [
      "100%|████████████████████████████████████████████████████████████████████████████████████████████████████████████████████████████████████████████████████████████████████████████| 95/95 [07:49<00:00,  4.94s/it]\n",
      "100%|████████████████████████████████████████████████████████████████████████████████████████████████████████████████████████████████████████████████████████████████████████████| 17/17 [00:20<00:00,  1.19s/it]\n"
     ]
    },
    {
     "name": "stdout",
     "output_type": "stream",
     "text": [
      "Train Loss = 0.0012252064572270396 Valid Loss = 0.2999606610221021\n",
      "\n",
      " Epoch 24 / 40\n"
     ]
    },
    {
     "name": "stderr",
     "output_type": "stream",
     "text": [
      "100%|████████████████████████████████████████████████████████████████████████████████████████████████████████████████████████████████████████████████████████████████████████████| 95/95 [07:44<00:00,  4.89s/it]\n",
      "100%|████████████████████████████████████████████████████████████████████████████████████████████████████████████████████████████████████████████████████████████████████████████| 17/17 [00:17<00:00,  1.01s/it]\n"
     ]
    },
    {
     "name": "stdout",
     "output_type": "stream",
     "text": [
      "Train Loss = 0.0012089373680952888 Valid Loss = 0.31964492710197673\n",
      "\n",
      " Epoch 25 / 40\n"
     ]
    },
    {
     "name": "stderr",
     "output_type": "stream",
     "text": [
      "100%|████████████████████████████████████████████████████████████████████████████████████████████████████████████████████████████████████████████████████████████████████████████| 95/95 [07:44<00:00,  4.88s/it]\n",
      "100%|████████████████████████████████████████████████████████████████████████████████████████████████████████████████████████████████████████████████████████████████████████████| 17/17 [00:18<00:00,  1.09s/it]\n"
     ]
    },
    {
     "name": "stdout",
     "output_type": "stream",
     "text": [
      "Train Loss = 0.0009175341793467707 Valid Loss = 0.3302226268193301\n",
      "\n",
      " Epoch 26 / 40\n"
     ]
    },
    {
     "name": "stderr",
     "output_type": "stream",
     "text": [
      "100%|████████████████████████████████████████████████████████████████████████████████████████████████████████████████████████████████████████████████████████████████████████████| 95/95 [07:40<00:00,  4.85s/it]\n",
      "100%|████████████████████████████████████████████████████████████████████████████████████████████████████████████████████████████████████████████████████████████████████████████| 17/17 [00:17<00:00,  1.04s/it]\n"
     ]
    },
    {
     "name": "stdout",
     "output_type": "stream",
     "text": [
      "Train Loss = 0.001549794244362458 Valid Loss = 0.29053419236751166\n",
      "\n",
      " Epoch 27 / 40\n"
     ]
    },
    {
     "name": "stderr",
     "output_type": "stream",
     "text": [
      "100%|████████████████████████████████████████████████████████████████████████████████████████████████████████████████████████████████████████████████████████████████████████████| 95/95 [07:55<00:00,  5.01s/it]\n",
      "100%|████████████████████████████████████████████████████████████████████████████████████████████████████████████████████████████████████████████████████████████████████████████| 17/17 [00:17<00:00,  1.04s/it]\n"
     ]
    },
    {
     "name": "stdout",
     "output_type": "stream",
     "text": [
      "Train Loss = 0.0010288948861431747 Valid Loss = 0.3132254100021194\n",
      "\n",
      " Epoch 28 / 40\n"
     ]
    },
    {
     "name": "stderr",
     "output_type": "stream",
     "text": [
      "100%|████████████████████████████████████████████████████████████████████████████████████████████████████████████████████████████████████████████████████████████████████████████| 95/95 [07:45<00:00,  4.90s/it]\n",
      "100%|████████████████████████████████████████████████████████████████████████████████████████████████████████████████████████████████████████████████████████████████████████████| 17/17 [00:18<00:00,  1.08s/it]\n"
     ]
    },
    {
     "name": "stdout",
     "output_type": "stream",
     "text": [
      "Train Loss = 0.0010094539692401764 Valid Loss = 0.31857455609475865\n",
      "\n",
      " Epoch 29 / 40\n"
     ]
    },
    {
     "name": "stderr",
     "output_type": "stream",
     "text": [
      "100%|████████████████████████████████████████████████████████████████████████████████████████████████████████████████████████████████████████████████████████████████████████████| 95/95 [07:48<00:00,  4.93s/it]\n",
      "100%|████████████████████████████████████████████████████████████████████████████████████████████████████████████████████████████████████████████████████████████████████████████| 17/17 [00:19<00:00,  1.13s/it]\n"
     ]
    },
    {
     "name": "stdout",
     "output_type": "stream",
     "text": [
      "Train Loss = 0.0005029674066463485 Valid Loss = 0.33851444458260255\n",
      "\n",
      " Epoch 30 / 40\n"
     ]
    },
    {
     "name": "stderr",
     "output_type": "stream",
     "text": [
      "100%|████████████████████████████████████████████████████████████████████████████████████████████████████████████████████████████████████████████████████████████████████████████| 95/95 [07:44<00:00,  4.89s/it]\n",
      "100%|████████████████████████████████████████████████████████████████████████████████████████████████████████████████████████████████████████████████████████████████████████████| 17/17 [00:17<00:00,  1.04s/it]\n"
     ]
    },
    {
     "name": "stdout",
     "output_type": "stream",
     "text": [
      "Train Loss = 0.0011677993266570603 Valid Loss = 0.32986747824093876\n",
      "\n",
      " Epoch 31 / 40\n"
     ]
    },
    {
     "name": "stderr",
     "output_type": "stream",
     "text": [
      "100%|████████████████████████████████████████████████████████████████████████████████████████████████████████████████████████████████████████████████████████████████████████████| 95/95 [07:45<00:00,  4.90s/it]\n",
      "100%|████████████████████████████████████████████████████████████████████████████████████████████████████████████████████████████████████████████████████████████████████████████| 17/17 [00:18<00:00,  1.10s/it]\n"
     ]
    },
    {
     "name": "stdout",
     "output_type": "stream",
     "text": [
      "Train Loss = 0.0011774859867153666 Valid Loss = 0.3302136806442457\n",
      "\n",
      " Epoch 32 / 40\n"
     ]
    },
    {
     "name": "stderr",
     "output_type": "stream",
     "text": [
      "100%|████████████████████████████████████████████████████████████████████████████████████████████████████████████████████████████████████████████████████████████████████████████| 95/95 [07:48<00:00,  4.93s/it]\n",
      "100%|████████████████████████████████████████████████████████████████████████████████████████████████████████████████████████████████████████████████████████████████████████████| 17/17 [00:16<00:00,  1.00it/s]\n"
     ]
    },
    {
     "name": "stdout",
     "output_type": "stream",
     "text": [
      "Train Loss = 0.001022472204854957 Valid Loss = 0.3401842020890292\n",
      "\n",
      " Epoch 33 / 40\n"
     ]
    },
    {
     "name": "stderr",
     "output_type": "stream",
     "text": [
      "100%|████████████████████████████████████████████████████████████████████████████████████████████████████████████████████████████████████████████████████████████████████████████| 95/95 [07:44<00:00,  4.89s/it]\n",
      "100%|████████████████████████████████████████████████████████████████████████████████████████████████████████████████████████████████████████████████████████████████████████████| 17/17 [00:18<00:00,  1.07s/it]\n"
     ]
    },
    {
     "name": "stdout",
     "output_type": "stream",
     "text": [
      "Train Loss = 0.0004174539521428462 Valid Loss = 0.3468690957216656\n",
      "\n",
      " Epoch 34 / 40\n"
     ]
    },
    {
     "name": "stderr",
     "output_type": "stream",
     "text": [
      "100%|████████████████████████████████████████████████████████████████████████████████████████████████████████████████████████████████████████████████████████████████████████████| 95/95 [07:43<00:00,  4.87s/it]\n",
      "100%|████████████████████████████████████████████████████████████████████████████████████████████████████████████████████████████████████████████████████████████████████████████| 17/17 [00:17<00:00,  1.01s/it]\n"
     ]
    },
    {
     "name": "stdout",
     "output_type": "stream",
     "text": [
      "Train Loss = 0.0003284916992829255 Valid Loss = 0.35295165812267976\n",
      "\n",
      " Epoch 35 / 40\n"
     ]
    },
    {
     "name": "stderr",
     "output_type": "stream",
     "text": [
      "100%|████████████████████████████████████████████████████████████████████████████████████████████████████████████████████████████████████████████████████████████████████████████| 95/95 [07:49<00:00,  4.95s/it]\n",
      "100%|████████████████████████████████████████████████████████████████████████████████████████████████████████████████████████████████████████████████████████████████████████████| 17/17 [00:19<00:00,  1.12s/it]\n"
     ]
    },
    {
     "name": "stdout",
     "output_type": "stream",
     "text": [
      "Train Loss = 0.0004689491088165117 Valid Loss = 0.35549748513628454\n",
      "\n",
      " Epoch 36 / 40\n"
     ]
    },
    {
     "name": "stderr",
     "output_type": "stream",
     "text": [
      "100%|████████████████████████████████████████████████████████████████████████████████████████████████████████████████████████████████████████████████████████████████████████████| 95/95 [07:42<00:00,  4.87s/it]\n",
      "100%|████████████████████████████████████████████████████████████████████████████████████████████████████████████████████████████████████████████████████████████████████████████| 17/17 [00:18<00:00,  1.09s/it]\n"
     ]
    },
    {
     "name": "stdout",
     "output_type": "stream",
     "text": [
      "Train Loss = 0.0005359933470332946 Valid Loss = 0.33010246604681015\n",
      "\n",
      " Epoch 37 / 40\n"
     ]
    },
    {
     "name": "stderr",
     "output_type": "stream",
     "text": [
      "100%|████████████████████████████████████████████████████████████████████████████████████████████████████████████████████████████████████████████████████████████████████████████| 95/95 [07:49<00:00,  4.94s/it]\n",
      "100%|████████████████████████████████████████████████████████████████████████████████████████████████████████████████████████████████████████████████████████████████████████████| 17/17 [00:16<00:00,  1.02it/s]\n"
     ]
    },
    {
     "name": "stdout",
     "output_type": "stream",
     "text": [
      "Train Loss = 0.0003355795047307191 Valid Loss = 0.3378608327578096\n",
      "\n",
      " Epoch 38 / 40\n"
     ]
    },
    {
     "name": "stderr",
     "output_type": "stream",
     "text": [
      "100%|████████████████████████████████████████████████████████████████████████████████████████████████████████████████████████████████████████████████████████████████████████████| 95/95 [07:26<00:00,  4.70s/it]\n",
      "100%|████████████████████████████████████████████████████████████████████████████████████████████████████████████████████████████████████████████████████████████████████████████| 17/17 [00:17<00:00,  1.02s/it]\n"
     ]
    },
    {
     "name": "stdout",
     "output_type": "stream",
     "text": [
      "Train Loss = 0.0005171186718239608 Valid Loss = 0.3372495117432931\n",
      "\n",
      " Epoch 39 / 40\n"
     ]
    },
    {
     "name": "stderr",
     "output_type": "stream",
     "text": [
      "100%|████████████████████████████████████████████████████████████████████████████████████████████████████████████████████████████████████████████████████████████████████████████| 95/95 [07:25<00:00,  4.68s/it]\n",
      "100%|████████████████████████████████████████████████████████████████████████████████████████████████████████████████████████████████████████████████████████████████████████████| 17/17 [00:16<00:00,  1.01it/s]\n"
     ]
    },
    {
     "name": "stdout",
     "output_type": "stream",
     "text": [
      "Train Loss = 0.0004493965863060255 Valid Loss = 0.3370998317704481\n",
      "\n",
      " Epoch 40 / 40\n"
     ]
    },
    {
     "name": "stderr",
     "output_type": "stream",
     "text": [
      "100%|████████████████████████████████████████████████████████████████████████████████████████████████████████████████████████████████████████████████████████████████████████████| 95/95 [07:27<00:00,  4.71s/it]\n",
      "100%|████████████████████████████████████████████████████████████████████████████████████████████████████████████████████████████████████████████████████████████████████████████| 17/17 [00:16<00:00,  1.00it/s]"
     ]
    },
    {
     "name": "stdout",
     "output_type": "stream",
     "text": [
      "Train Loss = 0.0002849374727750393 Valid Loss = 0.33734343025614233\n",
      "CPU times: user 1d 21h 50min 45s, sys: 30min 39s, total: 1d 22h 21min 24s\n",
      "Wall time: 7h 25min 50s\n"
     ]
    },
    {
     "name": "stderr",
     "output_type": "stream",
     "text": [
      "\n"
     ]
    },
    {
     "data": {
      "text/plain": [
       "'Model trained successfully'"
      ]
     },
     "execution_count": 17,
     "metadata": {},
     "output_type": "execute_result"
    }
   ],
   "source": [
    "%%time\n",
    "model.train()"
   ]
  },
  {
   "cell_type": "code",
   "execution_count": null,
   "id": "0886270d-d454-4d01-92c2-4051dba2a564",
   "metadata": {},
   "outputs": [],
   "source": []
  },
  {
   "cell_type": "code",
   "execution_count": 18,
   "id": "3982d96c-cfe6-4bd4-a52f-5aa74006d485",
   "metadata": {},
   "outputs": [],
   "source": [
    "def result2aspecList(y_pred, X_test):\n",
    "    aspectsList = []\n",
    "    aspect = []\n",
    "    stopwords = nltk.corpus.stopwords.words('portuguese')\n",
    "    for sent, sent_pred in zip(X_test, y_pred):\n",
    "        #print(len(sent),len(sent_pred))\n",
    "        for token, tag in zip(sent, sent_pred):\n",
    "            if tag != 'O':\n",
    "                #print(tag, token)\n",
    "                #print(tag, token['word.lower()'])\n",
    "                if tag == 'B-asp' and aspect:\n",
    "                    auxAspect = \" \".join(aspect).lower()\n",
    "                    if (auxAspect not in stopwords and len(auxAspect) > 1):\n",
    "                        aspectsList.append(auxAspect)\n",
    "                    aspect = []\n",
    "                if token not in [',',':']:\n",
    "                    aspect.append(token.lower())\n",
    "\n",
    "    aspectsList = list(set(aspectsList))\n",
    "    aspectsList.sort()    \n",
    "    return aspectsList"
   ]
  },
  {
   "cell_type": "code",
   "execution_count": null,
   "id": "fe1ca226-346f-4c8d-9893-fb00e16c1f28",
   "metadata": {},
   "outputs": [],
   "source": []
  },
  {
   "cell_type": "markdown",
   "id": "20f18cf9-a39b-4bb7-87b1-3a178d361f64",
   "metadata": {},
   "source": [
    "### Cameras"
   ]
  },
  {
   "cell_type": "code",
   "execution_count": 19,
   "id": "a178934e-103c-45c4-8c1f-005781d41501",
   "metadata": {},
   "outputs": [],
   "source": [
    "# carregando tipos\n",
    "domain = \"camera\"\n",
    "tiposAll = pd.read_csv('../data/tipologia/categorias_iacs.csv', sep=',', quoting=0, keep_default_na=False)\n",
    "tipos = tiposAll.loc[tiposAll['domain'] == domain]"
   ]
  },
  {
   "cell_type": "code",
   "execution_count": 20,
   "id": "78581200-2995-426c-9ead-d2170d23d4e6",
   "metadata": {},
   "outputs": [
    {
     "data": {
      "text/html": [
       "<div>\n",
       "<style scoped>\n",
       "    .dataframe tbody tr th:only-of-type {\n",
       "        vertical-align: middle;\n",
       "    }\n",
       "\n",
       "    .dataframe tbody tr th {\n",
       "        vertical-align: top;\n",
       "    }\n",
       "\n",
       "    .dataframe thead th {\n",
       "        text-align: right;\n",
       "    }\n",
       "</style>\n",
       "<table border=\"1\" class=\"dataframe\">\n",
       "  <thead>\n",
       "    <tr style=\"text-align: right;\">\n",
       "      <th></th>\n",
       "      <th>Level</th>\n",
       "      <th>F1-Score</th>\n",
       "      <th>Precision</th>\n",
       "      <th>Recall</th>\n",
       "    </tr>\n",
       "  </thead>\n",
       "  <tbody>\n",
       "    <tr>\n",
       "      <th>0</th>\n",
       "      <td>B-asp</td>\n",
       "      <td>0.397959</td>\n",
       "      <td>0.364486</td>\n",
       "      <td>0.438202</td>\n",
       "    </tr>\n",
       "    <tr>\n",
       "      <th>1</th>\n",
       "      <td>I-asp</td>\n",
       "      <td>0.311688</td>\n",
       "      <td>0.342857</td>\n",
       "      <td>0.285714</td>\n",
       "    </tr>\n",
       "    <tr>\n",
       "      <th>0</th>\n",
       "      <td>AVG_MICRO</td>\n",
       "      <td>0.373626</td>\n",
       "      <td>NaN</td>\n",
       "      <td>NaN</td>\n",
       "    </tr>\n",
       "    <tr>\n",
       "      <th>0</th>\n",
       "      <td>AVG_MICRO</td>\n",
       "      <td>0.354824</td>\n",
       "      <td>NaN</td>\n",
       "      <td>NaN</td>\n",
       "    </tr>\n",
       "  </tbody>\n",
       "</table>\n",
       "</div>"
      ],
      "text/plain": [
       "       Level  F1-Score  Precision    Recall\n",
       "0      B-asp  0.397959   0.364486  0.438202\n",
       "1      I-asp  0.311688   0.342857  0.285714\n",
       "0  AVG_MICRO  0.373626        NaN       NaN\n",
       "0  AVG_MICRO  0.354824        NaN       NaN"
      ]
     },
     "execution_count": 20,
     "metadata": {},
     "output_type": "execute_result"
    }
   ],
   "source": [
    "model.evaluate_performance(cameraTest)"
   ]
  },
  {
   "cell_type": "code",
   "execution_count": 21,
   "id": "66c8032a-5b28-42e3-88bc-5e92614473eb",
   "metadata": {},
   "outputs": [],
   "source": [
    "y_pred = model.predict(cameraTest['sentences'])"
   ]
  },
  {
   "cell_type": "code",
   "execution_count": 22,
   "id": "a6ad15a4-8053-4ca6-b61b-31bd49649466",
   "metadata": {},
   "outputs": [
    {
     "data": {
      "text/plain": [
       "{'totalAspects': 104,\n",
       " 'pred': 60,\n",
       " 'tp': 56,\n",
       " 'fp': 35,\n",
       " 'fn': 48,\n",
       " 'precisao': 0.6153846153846154,\n",
       " 'precisaoLaplace': 0.6129032258064516,\n",
       " 'revocacao': 0.5384615384615384,\n",
       " 'medidaf': 0.5743589743589744,\n",
       " 'totalExplicitos': 91,\n",
       " 'explicitosOk': 24,\n",
       " 'pExplicitos': 0.26373626373626374,\n",
       " 'explicitsList': ['bateria',\n",
       "  'cartão de memória',\n",
       "  'flash',\n",
       "  'menu',\n",
       "  'memória',\n",
       "  'zoom',\n",
       "  'lente',\n",
       "  'acessórios',\n",
       "  'preço',\n",
       "  'produto',\n",
       "  'investimento',\n",
       "  'funções',\n",
       "  'praticidade',\n",
       "  'botão',\n",
       "  'câmera',\n",
       "  'fotografia',\n",
       "  'máquina',\n",
       "  'camera',\n",
       "  'fotos',\n",
       "  'resolução',\n",
       "  'visor',\n",
       "  'manuseio',\n",
       "  'recursos',\n",
       "  'qualidade de imagem'],\n",
       " 'totalImplicitos': 13,\n",
       " 'implicitosOk': 1,\n",
       " 'pImplicitos': 0.07692307692307693,\n",
       " 'implicitsList': ['compacta'],\n",
       " 'tipos': {'Qualification': {'Adjective': 4}}}"
      ]
     },
     "execution_count": 22,
     "metadata": {},
     "output_type": "execute_result"
    }
   ],
   "source": [
    "aspectsCamera = result2aspecList(y_pred, cameraTest['sentences'])\n",
    "resCamera = calculaMetricas(\n",
    "    aspectsCamera, \n",
    "    aspectsTest['datasets']['camera'], \n",
    "    tipos,\n",
    "    lemma=False, \n",
    "    output=False)\n",
    "resCamera"
   ]
  },
  {
   "cell_type": "code",
   "execution_count": 23,
   "id": "d92c606e-f3de-45f7-aaaa-63d89937b4b3",
   "metadata": {},
   "outputs": [],
   "source": [
    "xml = dicttoxml(resCamera, attr_type=False, custom_root='resultados')\n",
    "with open('../resultados/bert_bertimbau_alldomain_'+domain+'.xml', 'w') as file:\n",
    "    dom = parseString(xml)\n",
    "    file.write(dom.toprettyxml())    "
   ]
  },
  {
   "cell_type": "markdown",
   "id": "106cf519-8722-4918-a8a5-adad84a890b1",
   "metadata": {},
   "source": [
    "## Livros"
   ]
  },
  {
   "cell_type": "code",
   "execution_count": 24,
   "id": "ed0b7ce5-5dc7-4294-9264-98a29e2861ec",
   "metadata": {},
   "outputs": [],
   "source": [
    "# carregando tipos\n",
    "domain = \"livro\"\n",
    "tiposAll = pd.read_csv('../data/tipologia/categorias_iacs.csv', sep=',', quoting=0, keep_default_na=False)\n",
    "tipos = tiposAll.loc[tiposAll['domain'] == domain]"
   ]
  },
  {
   "cell_type": "code",
   "execution_count": 25,
   "id": "4f994c97-0ce1-4471-bc0e-d32849beff6e",
   "metadata": {},
   "outputs": [
    {
     "data": {
      "text/html": [
       "<div>\n",
       "<style scoped>\n",
       "    .dataframe tbody tr th:only-of-type {\n",
       "        vertical-align: middle;\n",
       "    }\n",
       "\n",
       "    .dataframe tbody tr th {\n",
       "        vertical-align: top;\n",
       "    }\n",
       "\n",
       "    .dataframe thead th {\n",
       "        text-align: right;\n",
       "    }\n",
       "</style>\n",
       "<table border=\"1\" class=\"dataframe\">\n",
       "  <thead>\n",
       "    <tr style=\"text-align: right;\">\n",
       "      <th></th>\n",
       "      <th>Level</th>\n",
       "      <th>F1-Score</th>\n",
       "      <th>Precision</th>\n",
       "      <th>Recall</th>\n",
       "    </tr>\n",
       "  </thead>\n",
       "  <tbody>\n",
       "    <tr>\n",
       "      <th>0</th>\n",
       "      <td>B-asp</td>\n",
       "      <td>0.742138</td>\n",
       "      <td>0.797297</td>\n",
       "      <td>0.694118</td>\n",
       "    </tr>\n",
       "    <tr>\n",
       "      <th>1</th>\n",
       "      <td>I-asp</td>\n",
       "      <td>0.153846</td>\n",
       "      <td>0.500000</td>\n",
       "      <td>0.090909</td>\n",
       "    </tr>\n",
       "    <tr>\n",
       "      <th>0</th>\n",
       "      <td>AVG_MICRO</td>\n",
       "      <td>0.697674</td>\n",
       "      <td>NaN</td>\n",
       "      <td>NaN</td>\n",
       "    </tr>\n",
       "    <tr>\n",
       "      <th>0</th>\n",
       "      <td>AVG_MICRO</td>\n",
       "      <td>0.447992</td>\n",
       "      <td>NaN</td>\n",
       "      <td>NaN</td>\n",
       "    </tr>\n",
       "  </tbody>\n",
       "</table>\n",
       "</div>"
      ],
      "text/plain": [
       "       Level  F1-Score  Precision    Recall\n",
       "0      B-asp  0.742138   0.797297  0.694118\n",
       "1      I-asp  0.153846   0.500000  0.090909\n",
       "0  AVG_MICRO  0.697674        NaN       NaN\n",
       "0  AVG_MICRO  0.447992        NaN       NaN"
      ]
     },
     "execution_count": 25,
     "metadata": {},
     "output_type": "execute_result"
    }
   ],
   "source": [
    "model.evaluate_performance(livroTest)"
   ]
  },
  {
   "cell_type": "code",
   "execution_count": 26,
   "id": "80e73435-a811-49a9-9679-c5839b595a4e",
   "metadata": {},
   "outputs": [],
   "source": [
    "y_pred = model.predict(livroTest['sentences'])"
   ]
  },
  {
   "cell_type": "code",
   "execution_count": 27,
   "id": "c524d9aa-ba15-40ad-afbe-d368d6b963cf",
   "metadata": {},
   "outputs": [
    {
     "data": {
      "text/plain": [
       "{'totalAspects': 87,\n",
       " 'pred': 29,\n",
       " 'tp': 55,\n",
       " 'fp': 9,\n",
       " 'fn': 32,\n",
       " 'precisao': 0.859375,\n",
       " 'precisaoLaplace': 0.8484848484848485,\n",
       " 'revocacao': 0.632183908045977,\n",
       " 'medidaf': 0.7284768211920529,\n",
       " 'totalExplicitos': 82,\n",
       " 'explicitosOk': 19,\n",
       " 'pExplicitos': 0.23170731707317074,\n",
       " 'explicitsList': ['história',\n",
       "  'escritoras',\n",
       "  'trama',\n",
       "  'narrativa',\n",
       "  'leitura',\n",
       "  'historia',\n",
       "  'personagens',\n",
       "  'livro',\n",
       "  'fim',\n",
       "  'começo',\n",
       "  'palavra',\n",
       "  'situaçoês',\n",
       "  'início',\n",
       "  'estilo',\n",
       "  'personagem',\n",
       "  'final',\n",
       "  'obra',\n",
       "  'narrador',\n",
       "  'romance'],\n",
       " 'totalImplicitos': 5,\n",
       " 'implicitosOk': 1,\n",
       " 'pImplicitos': 0.2,\n",
       " 'implicitsList': ['escreve'],\n",
       " 'tipos': {'Event': {'Verb': 1}}}"
      ]
     },
     "execution_count": 27,
     "metadata": {},
     "output_type": "execute_result"
    }
   ],
   "source": [
    "aspectsLivro = result2aspecList(y_pred, livroTest['sentences'])\n",
    "resLivro = calculaMetricas(\n",
    "    aspectsLivro, \n",
    "    aspectsTest['datasets'][domain], \n",
    "    tipos,\n",
    "    output=False)\n",
    "resLivro"
   ]
  },
  {
   "cell_type": "code",
   "execution_count": 28,
   "id": "789550ff-c49f-48fd-adae-6cc47e2d746c",
   "metadata": {},
   "outputs": [],
   "source": [
    "xml = dicttoxml(resLivro, attr_type=False, custom_root='resultados')\n",
    "with open('../resultados/bert_bertimbau_alldomain_'+domain+'.xml', 'w') as file:\n",
    "    dom = parseString(xml)\n",
    "    file.write(dom.toprettyxml())"
   ]
  },
  {
   "cell_type": "markdown",
   "id": "6f9aa79e-3392-44b4-bf5d-16c09db2fcb7",
   "metadata": {},
   "source": [
    "## Smartphones"
   ]
  },
  {
   "cell_type": "code",
   "execution_count": 29,
   "id": "ea65414d-ebaa-462e-b977-883311134eaf",
   "metadata": {},
   "outputs": [],
   "source": [
    "# carregando tipos\n",
    "domain = \"smartphone\"\n",
    "tiposAll = pd.read_csv('../data/tipologia/categorias_iacs.csv', sep=',', quoting=0, keep_default_na=False)\n",
    "tipos = tiposAll.loc[tiposAll['domain'] == domain]"
   ]
  },
  {
   "cell_type": "code",
   "execution_count": 30,
   "id": "9f6995c6-766b-4b85-a106-0f8f065dc79d",
   "metadata": {},
   "outputs": [
    {
     "data": {
      "text/html": [
       "<div>\n",
       "<style scoped>\n",
       "    .dataframe tbody tr th:only-of-type {\n",
       "        vertical-align: middle;\n",
       "    }\n",
       "\n",
       "    .dataframe tbody tr th {\n",
       "        vertical-align: top;\n",
       "    }\n",
       "\n",
       "    .dataframe thead th {\n",
       "        text-align: right;\n",
       "    }\n",
       "</style>\n",
       "<table border=\"1\" class=\"dataframe\">\n",
       "  <thead>\n",
       "    <tr style=\"text-align: right;\">\n",
       "      <th></th>\n",
       "      <th>Level</th>\n",
       "      <th>F1-Score</th>\n",
       "      <th>Precision</th>\n",
       "      <th>Recall</th>\n",
       "    </tr>\n",
       "  </thead>\n",
       "  <tbody>\n",
       "    <tr>\n",
       "      <th>0</th>\n",
       "      <td>B-asp</td>\n",
       "      <td>0.441261</td>\n",
       "      <td>0.445087</td>\n",
       "      <td>0.4375</td>\n",
       "    </tr>\n",
       "    <tr>\n",
       "      <th>1</th>\n",
       "      <td>I-asp</td>\n",
       "      <td>0.359551</td>\n",
       "      <td>0.410256</td>\n",
       "      <td>0.3200</td>\n",
       "    </tr>\n",
       "    <tr>\n",
       "      <th>0</th>\n",
       "      <td>AVG_MICRO</td>\n",
       "      <td>0.424658</td>\n",
       "      <td>NaN</td>\n",
       "      <td>NaN</td>\n",
       "    </tr>\n",
       "    <tr>\n",
       "      <th>0</th>\n",
       "      <td>AVG_MICRO</td>\n",
       "      <td>0.400406</td>\n",
       "      <td>NaN</td>\n",
       "      <td>NaN</td>\n",
       "    </tr>\n",
       "  </tbody>\n",
       "</table>\n",
       "</div>"
      ],
      "text/plain": [
       "       Level  F1-Score  Precision  Recall\n",
       "0      B-asp  0.441261   0.445087  0.4375\n",
       "1      I-asp  0.359551   0.410256  0.3200\n",
       "0  AVG_MICRO  0.424658        NaN     NaN\n",
       "0  AVG_MICRO  0.400406        NaN     NaN"
      ]
     },
     "execution_count": 30,
     "metadata": {},
     "output_type": "execute_result"
    }
   ],
   "source": [
    "model.evaluate_performance(smartphoneTest)"
   ]
  },
  {
   "cell_type": "code",
   "execution_count": 31,
   "id": "dc06256b-08ee-4c37-b844-c744fa6c0246",
   "metadata": {},
   "outputs": [],
   "source": [
    "y_pred = model.predict(smartphoneTest['sentences'])"
   ]
  },
  {
   "cell_type": "code",
   "execution_count": 32,
   "id": "f458f4ad-07e0-4d5a-a06a-0b10a3c41aee",
   "metadata": {},
   "outputs": [
    {
     "data": {
      "text/plain": [
       "{'totalAspects': 158,\n",
       " 'pred': 83,\n",
       " 'tp': 84,\n",
       " 'fp': 42,\n",
       " 'fn': 74,\n",
       " 'precisao': 0.6666666666666666,\n",
       " 'precisaoLaplace': 0.6640625,\n",
       " 'revocacao': 0.5316455696202531,\n",
       " 'medidaf': 0.5915492957746478,\n",
       " 'totalExplicitos': 134,\n",
       " 'explicitosOk': 38,\n",
       " 'pExplicitos': 0.2835820895522388,\n",
       " 'explicitsList': ['smartphone',\n",
       "  'celular',\n",
       "  'durabilidade',\n",
       "  'designer',\n",
       "  'preço',\n",
       "  'produto',\n",
       "  'funções',\n",
       "  'e-mail',\n",
       "  'marca',\n",
       "  'recursos',\n",
       "  'bateria',\n",
       "  'menu',\n",
       "  'touch',\n",
       "  'camera digital',\n",
       "  'qualidade de som',\n",
       "  'internet',\n",
       "  'wifi',\n",
       "  'funcionalidades',\n",
       "  'volume de áudio',\n",
       "  'aparelho',\n",
       "  'design',\n",
       "  'fabricante',\n",
       "  'qualidade das fotos',\n",
       "  'memoria',\n",
       "  'wi-fi',\n",
       "  'gps',\n",
       "  'recurso',\n",
       "  'tamanho',\n",
       "  'fotos',\n",
       "  'visor',\n",
       "  'nokia',\n",
       "  'custo-benefício',\n",
       "  'memoria interna',\n",
       "  'modelo',\n",
       "  'display',\n",
       "  'câmera',\n",
       "  'camera',\n",
       "  'sd de memória'],\n",
       " 'totalImplicitos': 24,\n",
       " 'implicitosOk': 3,\n",
       " 'pImplicitos': 0.125,\n",
       " 'implicitsList': ['lento', 'trava', 'prático'],\n",
       " 'tipos': {'Qualification': {'Adjective': 3}, 'Event': {'Verb': 2}}}"
      ]
     },
     "execution_count": 32,
     "metadata": {},
     "output_type": "execute_result"
    }
   ],
   "source": [
    "aspectsSmartphone = result2aspecList(y_pred, smartphoneTest['sentences'])\n",
    "resSmartphone = calculaMetricas(\n",
    "    aspectsSmartphone, \n",
    "    aspectsTest['datasets'][domain], \n",
    "    tipos,\n",
    "    lemma=False, output=False)\n",
    "resSmartphone"
   ]
  },
  {
   "cell_type": "code",
   "execution_count": 33,
   "id": "5a93aec5-ec7b-48ff-b288-bd575904594d",
   "metadata": {},
   "outputs": [],
   "source": [
    "xml = dicttoxml(resSmartphone, attr_type=False, custom_root='resultados')\n",
    "with open('../resultados/bert_bertimbau_alldomain_'+domain+'.xml', 'w') as file:\n",
    "    dom = parseString(xml)\n",
    "    file.write(dom.toprettyxml())"
   ]
  },
  {
   "cell_type": "markdown",
   "id": "70e2df78-cb93-4289-9a24-0e22c66dd998",
   "metadata": {},
   "source": [
    "## Hotel"
   ]
  },
  {
   "cell_type": "code",
   "execution_count": 34,
   "id": "bc4ed5f3-54ac-4247-aae0-96d4d62411e3",
   "metadata": {},
   "outputs": [],
   "source": [
    "# carregando tipos\n",
    "domain = \"hotel\"\n",
    "tiposAll = pd.read_csv('../data/tipologia/categorias_iacs.csv', sep=',', quoting=0, keep_default_na=False)\n",
    "tipos = tiposAll.loc[tiposAll['domain'] == domain]"
   ]
  },
  {
   "cell_type": "code",
   "execution_count": 35,
   "id": "b4c79921-62b5-48bf-bf95-b3a98dc2dcaa",
   "metadata": {},
   "outputs": [
    {
     "data": {
      "text/html": [
       "<div>\n",
       "<style scoped>\n",
       "    .dataframe tbody tr th:only-of-type {\n",
       "        vertical-align: middle;\n",
       "    }\n",
       "\n",
       "    .dataframe tbody tr th {\n",
       "        vertical-align: top;\n",
       "    }\n",
       "\n",
       "    .dataframe thead th {\n",
       "        text-align: right;\n",
       "    }\n",
       "</style>\n",
       "<table border=\"1\" class=\"dataframe\">\n",
       "  <thead>\n",
       "    <tr style=\"text-align: right;\">\n",
       "      <th></th>\n",
       "      <th>Level</th>\n",
       "      <th>F1-Score</th>\n",
       "      <th>Precision</th>\n",
       "      <th>Recall</th>\n",
       "    </tr>\n",
       "  </thead>\n",
       "  <tbody>\n",
       "    <tr>\n",
       "      <th>0</th>\n",
       "      <td>B-asp</td>\n",
       "      <td>0.780612</td>\n",
       "      <td>0.794805</td>\n",
       "      <td>0.766917</td>\n",
       "    </tr>\n",
       "    <tr>\n",
       "      <th>1</th>\n",
       "      <td>I-asp</td>\n",
       "      <td>0.477612</td>\n",
       "      <td>0.744186</td>\n",
       "      <td>0.351648</td>\n",
       "    </tr>\n",
       "    <tr>\n",
       "      <th>0</th>\n",
       "      <td>AVG_MICRO</td>\n",
       "      <td>0.736383</td>\n",
       "      <td>NaN</td>\n",
       "      <td>NaN</td>\n",
       "    </tr>\n",
       "    <tr>\n",
       "      <th>0</th>\n",
       "      <td>AVG_MICRO</td>\n",
       "      <td>0.629112</td>\n",
       "      <td>NaN</td>\n",
       "      <td>NaN</td>\n",
       "    </tr>\n",
       "  </tbody>\n",
       "</table>\n",
       "</div>"
      ],
      "text/plain": [
       "       Level  F1-Score  Precision    Recall\n",
       "0      B-asp  0.780612   0.794805  0.766917\n",
       "1      I-asp  0.477612   0.744186  0.351648\n",
       "0  AVG_MICRO  0.736383        NaN       NaN\n",
       "0  AVG_MICRO  0.629112        NaN       NaN"
      ]
     },
     "execution_count": 35,
     "metadata": {},
     "output_type": "execute_result"
    }
   ],
   "source": [
    "model.evaluate_performance(hotelTest)"
   ]
  },
  {
   "cell_type": "code",
   "execution_count": 36,
   "id": "ca8b92db-2d3b-4517-8039-618b4e916ffb",
   "metadata": {},
   "outputs": [],
   "source": [
    "y_pred = model.predict(hotelTest['sentences'])"
   ]
  },
  {
   "cell_type": "code",
   "execution_count": 37,
   "id": "4bda30cf-8e89-4d50-bc0c-727481993e06",
   "metadata": {},
   "outputs": [
    {
     "data": {
      "text/plain": [
       "{'totalAspects': 518,\n",
       " 'pred': 127,\n",
       " 'tp': 374,\n",
       " 'fp': 43,\n",
       " 'fn': 144,\n",
       " 'precisao': 0.8968824940047961,\n",
       " 'precisaoLaplace': 0.8949880668257757,\n",
       " 'revocacao': 0.722007722007722,\n",
       " 'medidaf': 0.8,\n",
       " 'totalExplicitos': 292,\n",
       " 'explicitosOk': 40,\n",
       " 'pExplicitos': 0.136986301369863,\n",
       " 'explicitsList': ['lojas',\n",
       "  'gerência',\n",
       "  'funcionário',\n",
       "  'piscina',\n",
       "  'shopping',\n",
       "  'localização',\n",
       "  'preço',\n",
       "  'chuveiro',\n",
       "  'garagem',\n",
       "  'tv',\n",
       "  'apartamento',\n",
       "  'portaria',\n",
       "  'telefone',\n",
       "  'quarto',\n",
       "  'limpeza',\n",
       "  'pia',\n",
       "  'internet',\n",
       "  'instalações',\n",
       "  'estabelecimento',\n",
       "  'hotel',\n",
       "  'atendimento',\n",
       "  'padrão',\n",
       "  'conforto',\n",
       "  'estacionamento',\n",
       "  'cozinha',\n",
       "  'rua',\n",
       "  'corredor',\n",
       "  'rodoviária',\n",
       "  'elevador',\n",
       "  'serviço de quarto',\n",
       "  'cidade',\n",
       "  'aparência',\n",
       "  'recepção',\n",
       "  'serviço',\n",
       "  'frigobar',\n",
       "  'funcionários',\n",
       "  'aeroporto',\n",
       "  'lavanderia',\n",
       "  'carpete',\n",
       "  'porteiro'],\n",
       " 'totalImplicitos': 226,\n",
       " 'implicitosOk': 56,\n",
       " 'pImplicitos': 0.24778761061946902,\n",
       " 'implicitsList': ['manchada',\n",
       "  'localizado no centro',\n",
       "  'piscina',\n",
       "  'localização',\n",
       "  'café',\n",
       "  'localizado',\n",
       "  'chuveiro',\n",
       "  'sujo',\n",
       "  'valor',\n",
       "  'proximidade',\n",
       "  'banheiro',\n",
       "  'limpo',\n",
       "  'imundas',\n",
       "  'transfer',\n",
       "  'estrutura',\n",
       "  'silencio',\n",
       "  'cheirando a mofo',\n",
       "  'apartamento',\n",
       "  'cobertores',\n",
       "  'atendentes',\n",
       "  'telefone',\n",
       "  'quarto',\n",
       "  'cama',\n",
       "  'limpeza',\n",
       "  'ar condicionado',\n",
       "  'wifi',\n",
       "  'apartamentos',\n",
       "  'limpos',\n",
       "  'barulho',\n",
       "  'atendimento',\n",
       "  'wi-fi',\n",
       "  'aquecedor',\n",
       "  'caro',\n",
       "  'coberto',\n",
       "  'perto',\n",
       "  'imunda',\n",
       "  'próximo',\n",
       "  'banheiros',\n",
       "  'limpas',\n",
       "  'estacionamento',\n",
       "  'barato',\n",
       "  'cozinha',\n",
       "  'no centro',\n",
       "  'sujeira',\n",
       "  'box',\n",
       "  'elevador',\n",
       "  'cortina',\n",
       "  'encontra-se estrategicamente dentro do centro financeiro',\n",
       "  'recepcionistas',\n",
       "  'custo',\n",
       "  'fica bem no centro',\n",
       "  'cheiro de mofo',\n",
       "  'recepcionista',\n",
       "  'sujos',\n",
       "  'carpete',\n",
       "  'proximo'],\n",
       " 'tipos': {'Qualification': {'Adjective': 40,\n",
       "   'Nominal form': 1,\n",
       "   'Equivalence': 2},\n",
       "  'Feature': {'Equivalence': 28, 'Part-of': 51, 'Is-a': 7},\n",
       "  'Contextual': {'Related': 9, 'Location': 6},\n",
       "  'Event': {'Non-verbal form': 2}}}"
      ]
     },
     "execution_count": 37,
     "metadata": {},
     "output_type": "execute_result"
    }
   ],
   "source": [
    "aspectsHotel = result2aspecList(y_pred, hotelTest['sentences'])\n",
    "resHotel = calculaMetricas(\n",
    "    aspectsHotel, \n",
    "    aspectsTest['datasets'][domain], \n",
    "    tipos,\n",
    "    lemma=False, output=False)\n",
    "resHotel"
   ]
  },
  {
   "cell_type": "code",
   "execution_count": 38,
   "id": "0181a1a4-fd7a-47bd-9e22-b135a53443a7",
   "metadata": {},
   "outputs": [],
   "source": [
    "xml = dicttoxml(resHotel, attr_type=False, custom_root='resultados')\n",
    "with open('../resultados/bert_bertimbau_alldomain_'+domain+'.xml', 'w') as file:\n",
    "    dom = parseString(xml)\n",
    "    file.write(dom.toprettyxml())"
   ]
  }
 ],
 "metadata": {
  "kernelspec": {
   "display_name": "doutorado",
   "language": "python",
   "name": "doutorado"
  },
  "language_info": {
   "codemirror_mode": {
    "name": "ipython",
    "version": 3
   },
   "file_extension": ".py",
   "mimetype": "text/x-python",
   "name": "python",
   "nbconvert_exporter": "python",
   "pygments_lexer": "ipython3",
   "version": "3.9.2"
  }
 },
 "nbformat": 4,
 "nbformat_minor": 5
}

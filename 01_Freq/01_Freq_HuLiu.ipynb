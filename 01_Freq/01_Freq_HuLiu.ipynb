{
 "cells": [
  {
   "cell_type": "markdown",
   "metadata": {},
   "source": [
    "# FREQ Baseline (sintagmas)"
   ]
  },
  {
   "cell_type": "code",
   "execution_count": 19,
   "metadata": {},
   "outputs": [],
   "source": [
    "import pickle\n",
    "from collections import Counter\n",
    "import re\n",
    "import ipy_table\n",
    "import nltk\n",
    "import os\n",
    "import numpy as np\n",
    "import pandas as pd\n",
    "import spacy\n",
    "import random\n",
    "from spacy.pipeline import Sentencizer\n",
    "import json\n",
    "from matplotlib import pyplot\n",
    "import xmltodict\n",
    "from dicttoxml import dicttoxml\n",
    "from xml.dom.minidom import parseString"
   ]
  },
  {
   "cell_type": "code",
   "execution_count": 5,
   "metadata": {},
   "outputs": [
    {
     "name": "stdout",
     "output_type": "stream",
     "text": [
      "Loading functions...\n"
     ]
    }
   ],
   "source": [
    "%run ../funcoes.py"
   ]
  },
  {
   "cell_type": "code",
   "execution_count": 6,
   "metadata": {},
   "outputs": [
    {
     "name": "stdout",
     "output_type": "stream",
     "text": [
      "['sentencizer', 'tok2vec', 'morphologizer', 'parser', 'attribute_ruler', 'lemmatizer', 'ner']\n"
     ]
    }
   ],
   "source": [
    "# spacy model\n",
    "nlp = spacy.load(\"pt_core_news_lg\")\n",
    "\n",
    "sentencizer = nlp.create_pipe(\"sentencizer\")\n",
    "punct = [x for x in sentencizer.punct_chars]\n",
    "punct.append('...')\n",
    "punct.append('..')\n",
    "config = {\"punct_chars\": punct}\n",
    "\n",
    "#sentencizer = Sentencizer(punct_chars=punct)\n",
    "nlp.add_pipe(\"sentencizer\", first=True, config=config)\n",
    "\n",
    "print(nlp.pipe_names)"
   ]
  },
  {
   "cell_type": "code",
   "execution_count": 7,
   "metadata": {},
   "outputs": [],
   "source": [
    "# vargas datasets\n",
    "with open('../data/aspects_hotel.dat', \"rb\") as f: implicitHotel = pickle.load(f)\n",
    "with open('../data/aspects_camera.dat', \"rb\") as f: implicitCamera = pickle.load(f)\n",
    "with open('../data/aspects_livro.dat', \"rb\") as f: implicitLivro = pickle.load(f)\n",
    "with open('../data/aspects_smartphone.dat', \"rb\") as f: implicitSmartphone = pickle.load(f)"
   ]
  },
  {
   "cell_type": "code",
   "execution_count": 8,
   "metadata": {},
   "outputs": [],
   "source": [
    "vargasDatasets= {\n",
    "    'camera'     : implicitCamera,\n",
    "    'livro'      : implicitLivro,\n",
    "    'smartphone' : implicitSmartphone,\n",
    "    'hotel'      : implicitHotel\n",
    "}\n",
    "datasets = [ 'camera', 'livro', 'smartphone', 'hotel' ]"
   ]
  },
  {
   "cell_type": "code",
   "execution_count": 9,
   "metadata": {},
   "outputs": [
    {
     "name": "stdout",
     "output_type": "stream",
     "text": [
      "[57, 2, 27, 37, 5, 34, 51, 43, 6, 56, 8, 14, 15, 17, 47, 1, 7, 40]\n",
      "[38, 23, 54, 11, 16, 20, 55, 58, 33, 19, 9, 36, 31, 45, 30, 49, 3, 21, 50, 4, 29, 10, 59, 22, 41, 24, 0, 44, 25, 52, 18, 28, 39, 26, 48, 12, 35, 42, 32, 53, 13, 46]\n"
     ]
    }
   ],
   "source": [
    "a = list(range(0,60))\n",
    "random.Random(42).shuffle(a)\n",
    "treinamento = a[:42] # 70%\n",
    "teste = a[42:]       # 30%\n",
    "print(teste)\n",
    "print(treinamento)"
   ]
  },
  {
   "cell_type": "code",
   "execution_count": 10,
   "metadata": {},
   "outputs": [
    {
     "name": "stdout",
     "output_type": "stream",
     "text": [
      "len 60\n",
      "len teste: 18 42\n",
      "[57, 2, 27, 37, 5, 34, 51, 43, 6, 56, 8, 14, 15, 17, 47, 1, 7, 40]\n",
      "[38, 23, 54, 11, 16, 20, 55, 58, 33, 19, 9, 36, 31, 45, 30, 49, 3, 21, 50, 4, 29, 10, 59, 22, 41, 24, 0, 44, 25, 52, 18, 28, 39, 26, 48, 12, 35, 42, 32, 53, 13, 46]\n"
     ]
    }
   ],
   "source": [
    "a = list(range(0,60))\n",
    "print(\"len\",len(a))\n",
    "random.Random(42).shuffle(a)\n",
    "treinamentoA = a[:42] # 70%\n",
    "testeA = a[42:]       # 30%\n",
    "print(\"len teste:\",len(testeA),len(treinamentoA))\n",
    "print(testeA)\n",
    "print(treinamentoA)"
   ]
  },
  {
   "cell_type": "code",
   "execution_count": 11,
   "metadata": {},
   "outputs": [
    {
     "name": "stdout",
     "output_type": "stream",
     "text": [
      "len 140\n",
      "len teste: 42 98\n",
      "[73, 164, 169, 87, 79, 172, 103, 114, 178, 80, 171, 157, 60, 163, 194, 135, 195, 199, 113, 129, 149, 143, 151, 85, 131, 63, 137, 124, 89, 115, 83, 67, 68, 168, 82, 86, 95, 117, 122, 130, 66, 88]\n",
      "[188, 144, 198, 69, 123, 76, 136, 161, 109, 170, 61, 192, 162, 187, 185, 160, 175, 91, 78, 125, 81, 148, 189, 96, 152, 112, 99, 90, 182, 110, 92, 180, 134, 158, 116, 111, 181, 174, 62, 196, 183, 126, 74, 177, 120, 165, 121, 138, 132, 176, 147, 127, 94, 141, 100, 98, 64, 101, 159, 119, 153, 77, 102, 193, 154, 107, 167, 142, 166, 191, 146, 155, 173, 145, 179, 186, 150, 190, 84, 133, 106, 139, 140, 97, 197, 70, 156, 75, 128, 118, 65, 93, 184, 104, 105, 72, 108, 71]\n"
     ]
    }
   ],
   "source": [
    "b = list(range(60,200))\n",
    "print(\"len\",len(b))\n",
    "random.Random(42).shuffle(b)\n",
    "treinamentoB = b[:98] # 70%\n",
    "testeB = b[98:]       # 30%\n",
    "print(\"len teste:\",len(testeB),len(treinamentoB))\n",
    "print(testeB)\n",
    "print(treinamentoB)"
   ]
  },
  {
   "cell_type": "code",
   "execution_count": 12,
   "metadata": {},
   "outputs": [
    {
     "name": "stdout",
     "output_type": "stream",
     "text": [
      "len teste: 60 140\n",
      "[57, 2, 27, 37, 5, 34, 51, 43, 6, 56, 8, 14, 15, 17, 47, 1, 7, 40, 73, 164, 169, 87, 79, 172, 103, 114, 178, 80, 171, 157, 60, 163, 194, 135, 195, 199, 113, 129, 149, 143, 151, 85, 131, 63, 137, 124, 89, 115, 83, 67, 68, 168, 82, 86, 95, 117, 122, 130, 66, 88]\n",
      "[38, 23, 54, 11, 16, 20, 55, 58, 33, 19, 9, 36, 31, 45, 30, 49, 3, 21, 50, 4, 29, 10, 59, 22, 41, 24, 0, 44, 25, 52, 18, 28, 39, 26, 48, 12, 35, 42, 32, 53, 13, 46, 188, 144, 198, 69, 123, 76, 136, 161, 109, 170, 61, 192, 162, 187, 185, 160, 175, 91, 78, 125, 81, 148, 189, 96, 152, 112, 99, 90, 182, 110, 92, 180, 134, 158, 116, 111, 181, 174, 62, 196, 183, 126, 74, 177, 120, 165, 121, 138, 132, 176, 147, 127, 94, 141, 100, 98, 64, 101, 159, 119, 153, 77, 102, 193, 154, 107, 167, 142, 166, 191, 146, 155, 173, 145, 179, 186, 150, 190, 84, 133, 106, 139, 140, 97, 197, 70, 156, 75, 128, 118, 65, 93, 184, 104, 105, 72, 108, 71]\n"
     ]
    }
   ],
   "source": [
    "treinamento = treinamentoA + treinamentoB\n",
    "teste = testeA + testeB\n",
    "print(\"len teste:\",len(teste),len(treinamento))\n",
    "print(teste)\n",
    "print(treinamento)"
   ]
  },
  {
   "cell_type": "code",
   "execution_count": 13,
   "metadata": {},
   "outputs": [
    {
     "name": "stdout",
     "output_type": "stream",
     "text": [
      "camera\n",
      "0  1  2  3  4  5  6  7  8  9  10  11  12  13  14  15  16  17  18  19  20  21  22  23  24  25  26  27  28  29  30  31  32  33  34  35  36  37  38  39  40  41  42  43  44  45  46  47  48  49  50  51  52  53  54  55  56  57  58  59  \n",
      "livro\n",
      "0  1  2  3  4  5  6  7  8  9  10  11  12  13  14  15  16  17  18  19  20  21  22  23  24  25  26  27  28  29  30  31  32  33  34  35  36  37  38  39  40  41  42  43  44  45  46  47  48  49  50  51  52  53  54  55  56  57  58  59  \n",
      "smartphone\n",
      "0  1  2  3  4  5  6  7  8  9  10  11  12  13  14  15  16  17  18  19  20  21  22  23  24  25  26  27  28  29  30  31  32  33  34  35  36  37  38  39  40  41  42  43  44  45  46  47  48  49  50  51  52  53  54  55  56  57  58  59  \n",
      "hotel\n",
      "0  1  2  3  4  5  6  7  8  9  10  11  12  13  14  15  16  17  18  19  20  21  22  23  24  25  26  27  28  29  30  31  32  33  34  35  36  37  38  39  40  41  42  43  44  45  46  47  48  49  50  51  52  53  54  55  56  57  58  59  60  61  62  63  64  65  66  67  68  69  70  71  72  73  74  75  76  77  78  79  80  81  82  83  84  85  86  87  88  89  90  91  92  93  94  95  96  97  98  99  100  101  102  103  104  105  106  107  108  109  110  111  112  113  114  115  116  117  118  119  120  121  122  123  124  125  126  127  128  129  130  131  132  133  134  135  136  137  138  139  140  141  142  143  144  145  146  147  148  149  150  151  152  153  154  155  156  157  158  159  160  161  162  163  164  165  166  167  168  169  170  171  172  173  174  175  176  177  178  179  180  181  182  183  184  185  186  187  188  189  190  191  192  193  \n"
     ]
    }
   ],
   "source": [
    "aspectsTest = {\n",
    "    'camera'     : {'aspects' : [], 'implicits' : [], 'explicits' : [], 'aspectsLemma' : [], 'implicitsLemma' : [], 'explicitsLemma' : []},\n",
    "    'livro'      : {'aspects' : [], 'implicits' : [], 'explicits' : [], 'aspectsLemma' : [], 'implicitsLemma' : [], 'explicitsLemma' : []},\n",
    "    'smartphone' : {'aspects' : [], 'implicits' : [], 'explicits' : [], 'aspectsLemma' : [], 'implicitsLemma' : [], 'explicitsLemma' : []},\n",
    "    'hotel'      : {'aspects' : [], 'implicits' : [], 'explicits' : [], 'aspectsLemma' : [], 'implicitsLemma' : [], 'explicitsLemma' : []},\n",
    "}\n",
    "aspectsTrain = {\n",
    "    'camera'     : {'aspects' : [], 'implicits' : [], 'explicits' : [], 'aspectsLemma' : [], 'implicitsLemma' : [], 'explicitsLemma' : []},\n",
    "    'livro'      : {'aspects' : [], 'implicits' : [], 'explicits' : [], 'aspectsLemma' : [], 'implicitsLemma' : [], 'explicitsLemma' : []},\n",
    "    'smartphone' : {'aspects' : [], 'implicits' : [], 'explicits' : [], 'aspectsLemma' : [], 'implicitsLemma' : [], 'explicitsLemma' : []},\n",
    "    'hotel'      : {'aspects' : [], 'implicits' : [], 'explicits' : [], 'aspectsLemma' : [], 'implicitsLemma' : [], 'explicitsLemma' : []},\n",
    "}\n",
    "aspectsAll = {\n",
    "    'camera'     : {'aspects' : [], 'implicits' : [], 'explicits' : [], 'aspectsLemma' : [], 'implicitsLemma' : [], 'explicitsLemma' : []},\n",
    "    'livro'      : {'aspects' : [], 'implicits' : [], 'explicits' : [], 'aspectsLemma' : [], 'implicitsLemma' : [], 'explicitsLemma' : []},\n",
    "    'smartphone' : {'aspects' : [], 'implicits' : [], 'explicits' : [], 'aspectsLemma' : [], 'implicitsLemma' : [], 'explicitsLemma' : []},\n",
    "    'hotel'      : {'aspects' : [], 'implicits' : [], 'explicits' : [], 'aspectsLemma' : [], 'implicitsLemma' : [], 'explicitsLemma' : []},\n",
    "}\n",
    "for dataset in datasets:\n",
    "    print(dataset)\n",
    "    for irev, rev in enumerate((vargasDatasets[dataset])):\n",
    "        for cont in rev['conteudo']:\n",
    "            aspectsAll[dataset]['aspects'] += cont['aspects']\n",
    "            aspectsAll[dataset]['implicits'] += cont['implicit']\n",
    "            aspectsAll[dataset]['explicits'] += cont['explicit']\n",
    "            aspectsAll[dataset]['aspectsLemma'] += cont['aspectsLemma']\n",
    "            aspectsAll[dataset]['implicitsLemma'] += cont['implicitLemma']\n",
    "            aspectsAll[dataset]['explicitsLemma'] += cont['explicitLemma']\n",
    "        if irev in teste:\n",
    "            print(irev,' ',end='')\n",
    "            for cont in rev['conteudo']:\n",
    "                aspectsTest[dataset]['aspects'] += cont['aspects']\n",
    "                aspectsTest[dataset]['implicits'] += cont['implicit']\n",
    "                aspectsTest[dataset]['explicits'] += cont['explicit']\n",
    "                aspectsTest[dataset]['aspectsLemma'] += cont['aspectsLemma']\n",
    "                aspectsTest[dataset]['implicitsLemma'] += cont['implicitLemma']\n",
    "                aspectsTest[dataset]['explicitsLemma'] += cont['explicitLemma']\n",
    "        else:\n",
    "            print(irev,' ',end='')\n",
    "            for cont in rev['conteudo']:\n",
    "                aspectsTrain[dataset]['aspects'] += cont['aspects']\n",
    "                aspectsTrain[dataset]['implicits'] += cont['implicit']\n",
    "                aspectsTrain[dataset]['explicits'] += cont['explicit']\n",
    "                aspectsTrain[dataset]['aspectsLemma'] += cont['aspectsLemma']\n",
    "                aspectsTrain[dataset]['implicitsLemma'] += cont['implicitLemma']\n",
    "                aspectsTrain[dataset]['explicitsLemma'] += cont['explicitLemma']\n",
    "    print()"
   ]
  },
  {
   "cell_type": "code",
   "execution_count": 14,
   "metadata": {},
   "outputs": [
    {
     "data": {
      "text/plain": [
       "{'titulo': 'review 1',\n",
       " 'conteudo': [{'linha': 'Vale a pena cada centavo investido nesta máquina. O que gostei: Excelente qualidade da imagem; Bonita; Fácil manuseio. O que não gostei: Acessórios somente da Sony',\n",
       "   'aspects': ['máquina',\n",
       "    'cada centavo investido',\n",
       "    'manuseio',\n",
       "    'qualidade da imagem',\n",
       "    'bonita',\n",
       "    'acessórios'],\n",
       "   'aspectsLemma': ['máquina',\n",
       "    'cada centavo investir',\n",
       "    'manusear',\n",
       "    'qualidade da imagem',\n",
       "    'bonito',\n",
       "    'acessório'],\n",
       "   'implicit': ['cada centavo investido', 'bonita'],\n",
       "   'implicitLemma': ['cada centavo investir', 'bonito'],\n",
       "   'explicit': ['máquina', 'manuseio', 'qualidade da imagem', 'acessórios'],\n",
       "   'explicitLemma': ['máquina',\n",
       "    'manusear',\n",
       "    'qualidade da imagem',\n",
       "    'acessório'],\n",
       "   'spacy': Vale a pena cada centavo investido nesta máquina. O que gostei: Excelente qualidade da imagem; Bonita; Fácil manuseio. O que não gostei: Acessórios somente da Sony}]}"
      ]
     },
     "execution_count": 14,
     "metadata": {},
     "output_type": "execute_result"
    }
   ],
   "source": [
    "implicitCamera[0]"
   ]
  },
  {
   "cell_type": "code",
   "execution_count": 15,
   "metadata": {},
   "outputs": [],
   "source": [
    "nounsList = {\n",
    "    'camera' : [],\n",
    "    'livro' : [],\n",
    "    'smartphone' : [],\n",
    "    'hotel'   :[]\n",
    "}\n",
    "tokensCont = {\n",
    "    'camera' : 0,\n",
    "    'livro' : 0,\n",
    "    'smartphone' : 0,\n",
    "    'hotel'    : 0\n",
    "}\n",
    "poss = []\n",
    "for dataset in datasets:\n",
    "    for rev in vargasDatasets[dataset]:\n",
    "        for cont in rev['conteudo']:\n",
    "            for sent in cont['spacy'].sents:\n",
    "                for word in sent:\n",
    "                    poss.append(word.pos_)\n",
    "                    if word.pos_ != 'PUNCT':\n",
    "                        tokensCont[dataset] += 1\n",
    "                    if word.pos_ == 'NOUN':\n",
    "                        nounsList[dataset].append(word.lemma_)"
   ]
  },
  {
   "cell_type": "code",
   "execution_count": 16,
   "metadata": {},
   "outputs": [
    {
     "data": {
      "text/plain": [
       "{'ADJ',\n",
       " 'ADP',\n",
       " 'ADV',\n",
       " 'AUX',\n",
       " 'CCONJ',\n",
       " 'DET',\n",
       " 'INTJ',\n",
       " 'NOUN',\n",
       " 'NUM',\n",
       " 'PRON',\n",
       " 'PROPN',\n",
       " 'PUNCT',\n",
       " 'SCONJ',\n",
       " 'SPACE',\n",
       " 'SYM',\n",
       " 'VERB',\n",
       " 'X'}"
      ]
     },
     "execution_count": 16,
     "metadata": {},
     "output_type": "execute_result"
    }
   ],
   "source": [
    "set(poss)"
   ]
  },
  {
   "cell_type": "code",
   "execution_count": 17,
   "metadata": {},
   "outputs": [
    {
     "data": {
      "text/plain": [
       "{'camera': 3997, 'livro': 5515, 'smartphone': 6210, 'hotel': 13940}"
      ]
     },
     "execution_count": 17,
     "metadata": {},
     "output_type": "execute_result"
    }
   ],
   "source": [
    "tokensCont"
   ]
  },
  {
   "cell_type": "markdown",
   "metadata": {},
   "source": [
    "## Buscar corte no conjunto de testes"
   ]
  },
  {
   "cell_type": "code",
   "execution_count": 30,
   "metadata": {},
   "outputs": [
    {
     "name": "stdout",
     "output_type": "stream",
     "text": [
      "0.001\n",
      "0.002\n",
      "0.003\n",
      "0.004\n",
      "0.005\n",
      "0.006\n",
      "0.007\n",
      "0.008\n",
      "0.009\n",
      "0.01\n"
     ]
    }
   ],
   "source": [
    "for cut in np.arange(0.001, 0.011, 0.001):\n",
    "    cut = round(cut,3)\n",
    "    print(cut)"
   ]
  },
  {
   "cell_type": "code",
   "execution_count": 31,
   "metadata": {},
   "outputs": [
    {
     "name": "stdout",
     "output_type": "stream",
     "text": [
      "camera\n",
      "39.97\n",
      "aspects ['qualidade', 'foto']\n",
      "gold: 352 pred: 2 tp: 1 fp: 1 fn: 351\n",
      "---\n",
      "precisão        :  0.5\n",
      "revocação       :  0.002840909090909091\n",
      "medida f        :  0.005649717514124295\n",
      "---\n",
      "total explicits :  299\n",
      "explicits ok    :  0\n",
      "% explicits ok  :  0.0\n",
      "---\n",
      "total implicits :  53\n",
      "implicits ok    :  1\n",
      "% implicits ok  :  1.89\n",
      "livro\n",
      "55.15\n",
      "aspects ['livrar']\n",
      "gold: 330 pred: 1 tp: 0 fp: 1 fn: 330\n",
      "---\n",
      "precisão        :  0.0\n",
      "revocação       :  0.0\n",
      "medida f        :  0\n",
      "---\n",
      "total explicits :  304\n",
      "explicits ok    :  0\n",
      "% explicits ok  :  0.0\n",
      "---\n",
      "total implicits :  26\n",
      "implicits ok    :  0\n",
      "% implicits ok  :  0.0\n",
      "smartphone\n",
      "62.1\n",
      "aspects []\n",
      "gold: 455 pred: 0 tp: 0 fp: 0 fn: 455\n",
      "---\n",
      "precisão        :  0\n",
      "revocação       :  0.0\n",
      "medida f        :  0\n",
      "---\n",
      "total explicits :  387\n",
      "explicits ok    :  0\n",
      "% explicits ok  :  0.0\n",
      "---\n",
      "total implicits :  68\n",
      "implicits ok    :  0\n",
      "% implicits ok  :  0.0\n",
      "hotel\n",
      "139.4\n",
      "aspects ['hotel']\n",
      "gold: 1655 pred: 1 tp: 149 fp: 0 fn: 1506\n",
      "---\n",
      "precisão        :  1.0\n",
      "revocação       :  0.09003021148036254\n",
      "medida f        :  0.16518847006651885\n",
      "---\n",
      "total explicits :  999\n",
      "explicits ok    :  1\n",
      "% explicits ok  :  0.1\n",
      "---\n",
      "total implicits :  656\n",
      "implicits ok    :  0\n",
      "% implicits ok  :  0.0\n"
     ]
    }
   ],
   "source": [
    "candidateAspects = {'camera' : [], 'livro' : [], 'smartphone' : [], 'hotel' : []}\n",
    "for dataset in datasets:\n",
    "    print(dataset)\n",
    "    cut = tokensCont[dataset] * 0.01\n",
    "    print(cut)\n",
    "    \n",
    "    contNouns = Counter(nounsList[dataset])\n",
    "    #print(contNouns)\n",
    "    aspects = [x for x in contNouns if contNouns[x] >= cut ]\n",
    "    candidateAspects[dataset] = aspects\n",
    "    print('aspects',aspects)\n",
    "    metricas = calculaMetricas(aspects, aspectsAll[dataset], output=True)"
   ]
  },
  {
   "cell_type": "code",
   "execution_count": 32,
   "metadata": {},
   "outputs": [],
   "source": [
    "!rm teste.json"
   ]
  },
  {
   "cell_type": "code",
   "execution_count": 25,
   "metadata": {},
   "outputs": [
    {
     "data": {
      "text/plain": [
       "['preço',\n",
       " 'funções',\n",
       " 'manuseio',\n",
       " 'sony',\n",
       " 'bateria',\n",
       " 'botão',\n",
       " 'resolução',\n",
       " 'facil de usar',\n",
       " 'fotos',\n",
       " 'video',\n",
       " 'câmera',\n",
       " 'câmera semiprofissional',\n",
       " 'praticidade',\n",
       " 'compacta',\n",
       " 'câmera',\n",
       " 'preço',\n",
       " 'recursos',\n",
       " 'qualidade das fotos',\n",
       " 'vídeos',\n",
       " 'flash',\n",
       " 'prazo de entrega',\n",
       " 'máquina',\n",
       " 'fz35',\n",
       " 'facilidade de uso',\n",
       " 'design',\n",
       " 'filma em hd',\n",
       " 'qualidade das fotos',\n",
       " 'qualidades dos filmes',\n",
       " 'consumo de energia',\n",
       " 'conectividade',\n",
       " 'camara',\n",
       " 'fotos',\n",
       " 'tamanho',\n",
       " 'produto',\n",
       " 'câmera digital olympus',\n",
       " 'menu',\n",
       " 'bateria',\n",
       " 'cartão de memória',\n",
       " 'câmera',\n",
       " 'custo-benefício',\n",
       " 'volume',\n",
       " 'peso',\n",
       " 'camera',\n",
       " 'recursos',\n",
       " 'manuseio',\n",
       " 'assistencia tecnica',\n",
       " 'câmera',\n",
       " 'produto',\n",
       " 'qualidade de imagem',\n",
       " 'bateria',\n",
       " 'compacta',\n",
       " 'custo',\n",
       " 'preço',\n",
       " 'qualidade de imagem',\n",
       " 'navegação nas fotos',\n",
       " 'memória',\n",
       " 'zoom',\n",
       " 'câmera',\n",
       " 'recursos de configuração',\n",
       " 'qualidade de imagens',\n",
       " 'qualidade das fotos',\n",
       " 'qualidade dos videos',\n",
       " 'manual de instruções',\n",
       " 'memória interna',\n",
       " 'preço',\n",
       " 'fácil de usar',\n",
       " 'compacta',\n",
       " 'produto',\n",
       " 'qualidade de imagem',\n",
       " 'acessórios',\n",
       " 'nightshot',\n",
       " 'display',\n",
       " 'ultrazoom',\n",
       " 'rápida',\n",
       " 'presets',\n",
       " 'máquina',\n",
       " 'produto',\n",
       " 'investimento',\n",
       " 'recursos',\n",
       " 'praticidade',\n",
       " 'menu',\n",
       " 'fácil manuseio',\n",
       " 'imagens',\n",
       " 'versátil',\n",
       " 'fotografia',\n",
       " 'compacta',\n",
       " 'flash',\n",
       " 'visor',\n",
       " 'tela',\n",
       " 'armazenamento',\n",
       " 'zoom',\n",
       " 'foco',\n",
       " 'recursos de edição',\n",
       " 'processador',\n",
       " 'câmera',\n",
       " 'preço',\n",
       " 'recursos',\n",
       " 'vídeo',\n",
       " 'medidas',\n",
       " 'memória',\n",
       " 'zoom',\n",
       " 'lente',\n",
       " 'redução de olhos vermelhos',\n",
       " 'reconhecimento facial']"
      ]
     },
     "execution_count": 25,
     "metadata": {},
     "output_type": "execute_result"
    }
   ],
   "source": [
    "aspectsTest['camera']['aspects']"
   ]
  },
  {
   "cell_type": "code",
   "execution_count": 32,
   "metadata": {},
   "outputs": [],
   "source": [
    "def freqBaseline(arquivo='result.json', w2v=False, trainOnly=True, cutValue=False, selDatasets=False):\n",
    "    if not selDatasets:\n",
    "        selDatasets = datasets\n",
    "    if os.path.exists(arquivo):\n",
    "        os.remove(arquivo)    \n",
    "    nounsList = { \n",
    "        'camera' : [],\n",
    "        'livro' : [],\n",
    "        'smartphone' : [],\n",
    "        'hotel' : [],\n",
    "    }\n",
    "    testNounsList = {\n",
    "        'camera' : [],\n",
    "        'livro' : [],\n",
    "        'smartphone' : [],\n",
    "        'hotel' : [],\n",
    "    }\n",
    "    tokensCont = {\n",
    "        'camera' : 0,\n",
    "        'livro' : 0,\n",
    "        'smartphone' : 0,\n",
    "        'hotel' : 0,\n",
    "    }\n",
    "    sentsCont = {\n",
    "        'camera' : 0,\n",
    "        'livro' : 0,\n",
    "        'smartphone' : 0,\n",
    "        'hotel' : 0        \n",
    "    }\n",
    "    rets = []\n",
    "    contextCentroids = {}\n",
    "    # contagem de substantivos e palavras\n",
    "    for dataset in selDatasets:\n",
    "        for irev, rev in enumerate(vargasDatasets[dataset]):\n",
    "            if (trainOnly and irev in teste): continue\n",
    "            for cont in rev['conteudo']:\n",
    "                for sent in cont['spacy'].sents:\n",
    "                    sentsCont[dataset] += 1\n",
    "                    for word in sent:\n",
    "                        poss.append(word.pos_)\n",
    "                        if word.pos_ != 'PUNCT':\n",
    "                            tokensCont[dataset] += 1\n",
    "                        if word.pos_ == 'NOUN':\n",
    "                            nounsList[dataset].append(word.lemma_.lower())\n",
    "                            if irev in teste:\n",
    "                                testNounsList[dataset].append(word.lemma_.lower())\n",
    "        if w2v:\n",
    "            # centroides contextulizada word2vec\n",
    "            contNouns = Counter(nounsList[dataset])\n",
    "            contextWords = [x[0] for x in contNouns.most_common(10)]\n",
    "            # Convertendo palavras para vetores\n",
    "            contextVectors = []\n",
    "            for word in contextWords:\n",
    "                    if word == \"quartar\": word = \"quarto\"\n",
    "                    contextVectors.append(emb[word])\n",
    "            # Calculando centroide dos vetores\n",
    "            contextCentroids[dataset] = nx.mean(contextVectors, axis=0)\n",
    "    # aplicando corte entre 0% e 1% com incremento de 0.01\n",
    "    stepI = 0.0001\n",
    "    if cutValue:\n",
    "        startI = cutValue/100\n",
    "        stopI = startI + stepI / 10\n",
    "    else:\n",
    "        startI = 0\n",
    "        stopI = 0.1001\n",
    "    for dataset in selDatasets:\n",
    "        domain = dataset\n",
    "        # carregando tipos\n",
    "        tiposAll = pd.read_csv('../data/tipologia/categorias_iacs.csv', sep=',', quoting=0, keep_default_na=False)\n",
    "        tipos = tiposAll.loc[tiposAll['domain'] == domain]        \n",
    "        # ferquencia de corte       \n",
    "        for i in np.arange(startI, stopI, stepI):\n",
    "            i = round(i,4)\n",
    "            # corte definido pela quantidade de frases\n",
    "            cut = sentsCont[dataset] * i\n",
    "            contNouns = Counter(nounsList[dataset])\n",
    "            if w2v:\n",
    "                aspectosCandidatos = [x for x in contNouns if contNouns[x] >= cut and contextDetection(x, contextCentroids[dataset], 'pt')]\n",
    "            else:\n",
    "                aspectosCandidatos = [x for x in contNouns if contNouns[x] >= cut]\n",
    "            if trainOnly:\n",
    "                ret = calculaMetricas(\n",
    "                    aspectosCandidatos, \n",
    "                    aspectsTrain[dataset], \n",
    "                    tipos,\n",
    "                    lemma=True, \n",
    "                    output=False\n",
    "                )\n",
    "            else:\n",
    "                aspectosCandidatos = [x for x in aspectosCandidatos if x in testNounsList[dataset]]\n",
    "                aspectsTest2 = { \n",
    "                    dataset : { \n",
    "                        'aspects' : {'item' : aspectsTest[dataset]['aspects'] },\n",
    "                        'aspectsLemma' : {'item' : aspectsTest[dataset]['aspectsLemma'] },\n",
    "                        'implicitsLemma' : {'item' : aspectsTest[dataset]['implicitsLemma'] },\n",
    "                        'explicitsLemma' : {'item' : aspectsTest[dataset]['explicitsLemma'] },\n",
    "                    } }\n",
    "                ret = calculaMetricas(\n",
    "                    aspectosCandidatos, \n",
    "                    aspectsTest2[dataset], \n",
    "                    tipos,\n",
    "                    lemma=True, \n",
    "                    output=False\n",
    "                )\n",
    "            # gerando resultado em xml\n",
    "            xml = dicttoxml(ret, attr_type=False, custom_root='resultados')\n",
    "            xmlArq = arquivo.split('.')[0]\n",
    "            with open('../resultados/'+xmlArq+'_'+str(i)+'_'+domain+'.xml', 'w') as file:\n",
    "                dom = parseString(xml)\n",
    "                file.write(dom.toprettyxml())                    \n",
    "            # gerando resultado em json\n",
    "            ret['dataset'] = dataset\n",
    "            ret['cut'] = i\n",
    "            rets.append(ret)\n",
    "            with open(arquivo, 'a') as fp:\n",
    "                json.dump(ret, fp)\n",
    "                fp.write(\"\\n\")\n",
    "    return rets"
   ]
  },
  {
   "cell_type": "code",
   "execution_count": 56,
   "metadata": {},
   "outputs": [
    {
     "data": {
      "text/plain": [
       "[{'totalAspects': 104,\n",
       "  'pred': 76,\n",
       "  'tp': 58,\n",
       "  'fp': 45,\n",
       "  'fn': 46,\n",
       "  'precisao': 0.5631067961165048,\n",
       "  'precisaoLaplace': 0.5619047619047619,\n",
       "  'revocacao': 0.5576923076923077,\n",
       "  'medidaf': 0.5603864734299517,\n",
       "  'totalExplicitos': 91,\n",
       "  'explicitosOk': 31,\n",
       "  'pExplicitos': 0.34065934065934067,\n",
       "  'totalImplicitos': 13,\n",
       "  'implicitosOk': 0,\n",
       "  'pImplicitos': 0.0,\n",
       "  'dataset': 'camera',\n",
       "  'cut': 0.0053}]"
      ]
     },
     "execution_count": 56,
     "metadata": {},
     "output_type": "execute_result"
    }
   ],
   "source": [
    "res = freqBaseline('teste.json', w2v=False, cutValue=0.53, trainOnly=False, selDatasets=['camera'])\n",
    "res"
   ]
  },
  {
   "cell_type": "code",
   "execution_count": 57,
   "metadata": {},
   "outputs": [],
   "source": [
    "#!wc -l teste.json"
   ]
  },
  {
   "cell_type": "code",
   "execution_count": 58,
   "metadata": {},
   "outputs": [],
   "source": [
    "#!tail teste.json"
   ]
  },
  {
   "cell_type": "code",
   "execution_count": 59,
   "metadata": {},
   "outputs": [],
   "source": [
    "def freqCharts(arquivo):\n",
    "    resultados = []\n",
    "    for dataset in datasets:\n",
    "        precisionResults = []\n",
    "        recallResults = []\n",
    "        fResults = []\n",
    "        impResults = []\n",
    "        expResults = []\n",
    "        confResults = []\n",
    "        maxF = 0\n",
    "        maxCut = 0\n",
    "        for i in np.arange(0, 0.1001, 0.0001):\n",
    "            cut = round(i,4)\n",
    "            pcut = round(i*100,2)\n",
    "            with open(arquivo) as fp:\n",
    "                for cnt, line in enumerate(fp):\n",
    "                    if len(line) > 1:\n",
    "                        resultado = json.loads(line)\n",
    "                        if (resultado['dataset'] == dataset and resultado['cut'] == cut):\n",
    "                            precisionResults.append(resultado['precisao'])\n",
    "                            recallResults.append(resultado['revocacao'])\n",
    "                            fResults.append(resultado['medidaf'])\n",
    "                            impResults.append(resultado['pImplicitos'])\n",
    "                            expResults.append(resultado['pExplicitos'])\n",
    "                            confResults.append(pcut)\n",
    "                            if resultado['medidaf'] > maxF:\n",
    "                                maxF = resultado['medidaf']\n",
    "                                maxCut = pcut\n",
    "                                maxRes = resultado\n",
    "        pyplot.plot(confResults, fResults, label='F-measure')\n",
    "        pyplot.plot(confResults, impResults, label='Implicits')\n",
    "        pyplot.plot(confResults, precisionResults, label='Precision')\n",
    "        pyplot.plot(confResults, recallResults, label='Recall')\n",
    "        pyplot.xlabel('Porcentagem corte')\n",
    "        pyplot.title(f'Corpus: {dataset} - Med. F: {maxF:.2f} - Implícitos: {maxRes[\"pImplicitos\"]*100:.2f} - Corte: {maxCut:.2f}')\n",
    "        pyplot.legend(bbox_to_anchor=(1.05, 1), loc='upper left')\n",
    "        pyplot.show()\n",
    "        resultados.append(maxRes)\n",
    "    return resultados"
   ]
  },
  {
   "cell_type": "markdown",
   "metadata": {},
   "source": [
    "## Freq Baseline"
   ]
  },
  {
   "cell_type": "code",
   "execution_count": 60,
   "metadata": {},
   "outputs": [],
   "source": [
    "res = freqBaseline('resultFreq.json')"
   ]
  },
  {
   "cell_type": "code",
   "execution_count": 61,
   "metadata": {},
   "outputs": [],
   "source": [
    "import numpy as np"
   ]
  },
  {
   "cell_type": "code",
   "execution_count": 62,
   "metadata": {},
   "outputs": [
    {
     "data": {
      "text/plain": [
       "1001"
      ]
     },
     "execution_count": 62,
     "metadata": {},
     "output_type": "execute_result"
    }
   ],
   "source": [
    "cont = 0\n",
    "for i in np.arange(0, 0.1001, 0.0001):\n",
    "    cont = cont + 1\n",
    "cont"
   ]
  },
  {
   "cell_type": "code",
   "execution_count": 63,
   "metadata": {},
   "outputs": [
    {
     "name": "stdout",
     "output_type": "stream",
     "text": [
      "4004 resultFreq.json\n"
     ]
    }
   ],
   "source": [
    "!wc -l resultFreq.json"
   ]
  },
  {
   "cell_type": "code",
   "execution_count": 64,
   "metadata": {},
   "outputs": [
    {
     "data": {
      "image/png": "[encoded data removed]",
      "text/plain": [
       "<Figure size 432x288 with 1 Axes>"
      ]
     },
     "metadata": {
      "needs_background": "light"
     },
     "output_type": "display_data"
    },
    {
     "data": {
      "image/png": "[encoded data removed]",
      "text/plain": [
       "<Figure size 432x288 with 1 Axes>"
      ]
     },
     "metadata": {
      "needs_background": "light"
     },
     "output_type": "display_data"
    },
    {
     "data": {
      "image/png": "[encoded data removed]",
      "text/plain": [
       "<Figure size 432x288 with 1 Axes>"
      ]
     },
     "metadata": {
      "needs_background": "light"
     },
     "output_type": "display_data"
    },
    {
     "data": {
      "image/png": "[encoded data removed]",
      "text/plain": [
       "<Figure size 432x288 with 1 Axes>"
      ]
     },
     "metadata": {
      "needs_background": "light"
     },
     "output_type": "display_data"
    }
   ],
   "source": [
    "resultados = freqCharts('resultFreq.json')"
   ]
  },
  {
   "cell_type": "code",
   "execution_count": null,
   "metadata": {},
   "outputs": [],
   "source": []
  },
  {
   "cell_type": "code",
   "execution_count": 33,
   "metadata": {},
   "outputs": [
    {
     "data": {
      "text/plain": [
       "[{'totalAspects': 518,\n",
       "  'pred': 133,\n",
       "  'tp': 266,\n",
       "  'fp': 94,\n",
       "  'fn': 252,\n",
       "  'precisao': 0.7388888888888889,\n",
       "  'precisaoLaplace': 0.7375690607734806,\n",
       "  'revocacao': 0.5135135135135135,\n",
       "  'medidaf': 0.6059225512528473,\n",
       "  'totalExplicitos': 292,\n",
       "  'explicitosOk': 30,\n",
       "  'pExplicitos': 0.10273972602739725,\n",
       "  'explicitsList': ['shopping',\n",
       "   'funcionário',\n",
       "   'telefonar',\n",
       "   'toalha',\n",
       "   'tv',\n",
       "   'cidade',\n",
       "   'corredor',\n",
       "   'recepção',\n",
       "   'loja',\n",
       "   'carpete',\n",
       "   'localização',\n",
       "   'quartar',\n",
       "   'aeroporto',\n",
       "   'preço',\n",
       "   'chuveiro',\n",
       "   'ruir',\n",
       "   'apartamento',\n",
       "   'hotel',\n",
       "   'confortar',\n",
       "   'internet',\n",
       "   'estacionamento',\n",
       "   'portar',\n",
       "   'atendimento',\n",
       "   'cozinhar',\n",
       "   'instalação',\n",
       "   'serviço',\n",
       "   'limpeza',\n",
       "   'rodoviário',\n",
       "   'elevador',\n",
       "   'escada'],\n",
       "  'totalImplicitos': 226,\n",
       "  'implicitosOk': 26,\n",
       "  'pImplicitos': 0.11504424778761062,\n",
       "  'implicitsList': ['prédio',\n",
       "   'telefonar',\n",
       "   'café',\n",
       "   'comido',\n",
       "   'academiar',\n",
       "   'carpete',\n",
       "   'mofar',\n",
       "   'estruturar',\n",
       "   'localização',\n",
       "   'proximidade',\n",
       "   'quartar',\n",
       "   'box',\n",
       "   'banheiro',\n",
       "   'cheirar',\n",
       "   'chuveiro',\n",
       "   'custar',\n",
       "   'apartamento',\n",
       "   'recepcionista',\n",
       "   'estacionamento',\n",
       "   'atendimento',\n",
       "   'valor',\n",
       "   'cozinhar',\n",
       "   'limpeza',\n",
       "   'barulhar',\n",
       "   'elevador',\n",
       "   'cama'],\n",
       "  'tipos': {'Feature': {'Part-of': 37, 'Is-a': 4, 'Equivalence': 12},\n",
       "   'Contextual': {'Related': 0},\n",
       "   'Qualification': {'Nominal form': 1, 'Equivalence': 1},\n",
       "   'Event': {'Non-verbal form': 2}},\n",
       "  'dataset': 'hotel',\n",
       "  'cut': 0.0044}]"
      ]
     },
     "execution_count": 33,
     "metadata": {},
     "output_type": "execute_result"
    }
   ],
   "source": [
    "# resultados com tipologia\n",
    "freqBaseline('freq.json', w2v=False, cutValue=1.05, trainOnly=False, selDatasets=['camera'])\n",
    "freqBaseline('freq.json', w2v=False, cutValue=0.83, trainOnly=False, selDatasets=['livro'])\n",
    "freqBaseline('freq.json', w2v=False, cutValue=0.40, trainOnly=False, selDatasets=['smartphone'])\n",
    "freqBaseline('freq.json', w2v=False, cutValue=0.44, trainOnly=False, selDatasets=['hotel'])"
   ]
  },
  {
   "cell_type": "code",
   "execution_count": null,
   "metadata": {},
   "outputs": [],
   "source": []
  },
  {
   "cell_type": "code",
   "execution_count": 65,
   "metadata": {},
   "outputs": [],
   "source": [
    "resultados = []\n",
    "resultados.append(freqBaseline('teste.json', w2v=False, cutValue=1.05, trainOnly=False, selDatasets=['camera'])[0])\n",
    "resultados.append(freqBaseline('teste.json', w2v=False, cutValue=0.83, trainOnly=False, selDatasets=['livro'])[0])\n",
    "resultados.append(freqBaseline('teste.json', w2v=False, cutValue=0.40, trainOnly=False, selDatasets=['smartphone'])[0])\n",
    "resultados.append(freqBaseline('teste.json', w2v=False, cutValue=0.44, trainOnly=False, selDatasets=['hotel'])[0])"
   ]
  },
  {
   "cell_type": "code",
   "execution_count": 66,
   "metadata": {},
   "outputs": [
    {
     "name": "stdout",
     "output_type": "stream",
     "text": [
      "Câmera     &  1,05 &  0,65 & 0,48 & 0,55 & 26,37 & 0,00 \\\\\n",
      "Livro      &  0,83 &  0,56 & 0,64 & 0,60 & 21,95 & 0,00 \\\\\n",
      "Smartphone &  0,40 &  0,45 & 0,52 & 0,48 & 27,61 & 4,17 \\\\\n",
      "Hotel      &  0,44 &  0,74 & 0,51 & 0,61 & 10,27 & 11,50 \\\\\n"
     ]
    }
   ],
   "source": [
    "print(f'Câmera     &  {resultados[0][\"cut\"]*100:.2f} &  {resultados[0][\"precisao\"]:.2f} & {resultados[0][\"revocacao\"]:.2f} & {resultados[0][\"medidaf\"]:.2f} & {resultados[0][\"pExplicitos\"]*100:.2f} & {resultados[0][\"pImplicitos\"]*100:.2f} \\\\\\\\'.replace('.',','))\n",
    "print(f'Livro      &  {resultados[1][\"cut\"]*100:.2f} &  {resultados[1][\"precisao\"]:.2f} & {resultados[1][\"revocacao\"]:.2f} & {resultados[1][\"medidaf\"]:.2f} & {resultados[1][\"pExplicitos\"]*100:.2f} & {resultados[1][\"pImplicitos\"]*100:.2f} \\\\\\\\'.replace('.',','))\n",
    "print(f'Smartphone &  {resultados[2][\"cut\"]*100:.2f} &  {resultados[2][\"precisao\"]:.2f} & {resultados[2][\"revocacao\"]:.2f} & {resultados[2][\"medidaf\"]:.2f} & {resultados[2][\"pExplicitos\"]*100:.2f} & {resultados[2][\"pImplicitos\"]*100:.2f} \\\\\\\\'.replace('.',','))\n",
    "print(f'Hotel      &  {resultados[3][\"cut\"]*100:.2f} &  {resultados[3][\"precisao\"]:.2f} & {resultados[3][\"revocacao\"]:.2f} & {resultados[3][\"medidaf\"]:.2f} & {resultados[3][\"pExplicitos\"]*100:.2f} & {resultados[3][\"pImplicitos\"]*100:.2f} \\\\\\\\'.replace('.',','))"
   ]
  },
  {
   "cell_type": "code",
   "execution_count": null,
   "metadata": {},
   "outputs": [],
   "source": []
  },
  {
   "cell_type": "markdown",
   "metadata": {},
   "source": [
    "## Freq Baseline com Word2Vec"
   ]
  },
  {
   "cell_type": "code",
   "execution_count": 76,
   "metadata": {},
   "outputs": [],
   "source": [
    "resultados = freqBaseline('resultFreqW2V.json', w2v=True)"
   ]
  },
  {
   "cell_type": "code",
   "execution_count": 77,
   "metadata": {},
   "outputs": [
    {
     "data": {
      "image/png": "[encoded data removed]",
      "text/plain": [
       "<Figure size 432x288 with 1 Axes>"
      ]
     },
     "metadata": {
      "needs_background": "light"
     },
     "output_type": "display_data"
    },
    {
     "data": {
      "image/png": "[encoded data removed]",
      "text/plain": [
       "<Figure size 432x288 with 1 Axes>"
      ]
     },
     "metadata": {
      "needs_background": "light"
     },
     "output_type": "display_data"
    },
    {
     "data": {
      "image/png": "[encoded data removed]",
      "text/plain": [
       "<Figure size 432x288 with 1 Axes>"
      ]
     },
     "metadata": {
      "needs_background": "light"
     },
     "output_type": "display_data"
    },
    {
     "data": {
      "image/png": "[encoded data removed]",
      "text/plain": [
       "<Figure size 432x288 with 1 Axes>"
      ]
     },
     "metadata": {
      "needs_background": "light"
     },
     "output_type": "display_data"
    }
   ],
   "source": [
    "resultados = freqCharts('resultFreqW2V.json')"
   ]
  },
  {
   "cell_type": "code",
   "execution_count": 39,
   "metadata": {},
   "outputs": [
    {
     "data": {
      "text/plain": [
       "[{'totalAspects': 518,\n",
       "  'pred': 157,\n",
       "  'tp': 270,\n",
       "  'fp': 106,\n",
       "  'fn': 248,\n",
       "  'precisao': 0.7180851063829787,\n",
       "  'precisaoLaplace': 0.716931216931217,\n",
       "  'revocacao': 0.5212355212355212,\n",
       "  'medidaf': 0.6040268456375838,\n",
       "  'totalExplicitos': 292,\n",
       "  'explicitosOk': 35,\n",
       "  'pExplicitos': 0.11986301369863013,\n",
       "  'explicitsList': ['shopping',\n",
       "   'telefonar',\n",
       "   'funcionário',\n",
       "   'tomar',\n",
       "   'estabelecimento',\n",
       "   'toalha',\n",
       "   'corredor',\n",
       "   'recepção',\n",
       "   'gerente',\n",
       "   'loja',\n",
       "   'carpete',\n",
       "   'lavanderia',\n",
       "   'garagem',\n",
       "   'localização',\n",
       "   'quartar',\n",
       "   'aeroporto',\n",
       "   'preço',\n",
       "   'chuveiro',\n",
       "   'horário',\n",
       "   'apartamento',\n",
       "   'hotel',\n",
       "   'internet',\n",
       "   'estacionamento',\n",
       "   'torneira',\n",
       "   'atendimento',\n",
       "   'padrão',\n",
       "   'cozinhar',\n",
       "   'instalação',\n",
       "   'serviço',\n",
       "   'limpeza',\n",
       "   'piscina',\n",
       "   'rodoviário',\n",
       "   'elevador',\n",
       "   'turista',\n",
       "   'escada'],\n",
       "  'totalImplicitos': 226,\n",
       "  'implicitosOk': 33,\n",
       "  'pImplicitos': 0.14601769911504425,\n",
       "  'implicitsList': ['prédio',\n",
       "   'telefonar',\n",
       "   'tomar',\n",
       "   'café',\n",
       "   'aquecedor',\n",
       "   'carpete',\n",
       "   'jantar',\n",
       "   'estruturar',\n",
       "   'localização',\n",
       "   'cobrir',\n",
       "   'proximidade',\n",
       "   'quartar',\n",
       "   'atendentes',\n",
       "   'box',\n",
       "   'banheiro',\n",
       "   'chuveiro',\n",
       "   'custar',\n",
       "   'infraestrutura',\n",
       "   'apartamento',\n",
       "   'localizaçao',\n",
       "   'recepcionista',\n",
       "   'lixar',\n",
       "   'estacionamento',\n",
       "   'torneira',\n",
       "   'higiene',\n",
       "   'wi-fi',\n",
       "   'atendimento',\n",
       "   'cobertor',\n",
       "   'cozinhar',\n",
       "   'limpeza',\n",
       "   'piscina',\n",
       "   'elevador',\n",
       "   'cama'],\n",
       "  'tipos': {'Feature': {'Part-of': 45, 'Equivalence': 13, 'Is-a': 4},\n",
       "   'Contextual': {'Related': 0},\n",
       "   'Qualification': {'Nominal form': 1, 'Equivalence': 1},\n",
       "   'Event': {'Non-verbal form': 2}},\n",
       "  'dataset': 'hotel',\n",
       "  'cut': 0.0015}]"
      ]
     },
     "execution_count": 39,
     "metadata": {},
     "output_type": "execute_result"
    }
   ],
   "source": [
    "# resultados com tipologia\n",
    "freqBaseline('freqw2v.json', w2v=True, cutValue=0.53, trainOnly=False, selDatasets=['camera'])\n",
    "freqBaseline('freqw2v.json', w2v=True, cutValue=0.42, trainOnly=False, selDatasets=['livro'])\n",
    "freqBaseline('freqw2v.json', w2v=True, cutValue=0.40, trainOnly=False, selDatasets=['smartphone'])\n",
    "freqBaseline('freqw2v.json', w2v=True, cutValue=0.15, trainOnly=False, selDatasets=['hotel'])"
   ]
  },
  {
   "cell_type": "code",
   "execution_count": null,
   "metadata": {},
   "outputs": [],
   "source": []
  },
  {
   "cell_type": "code",
   "execution_count": 79,
   "metadata": {},
   "outputs": [],
   "source": [
    "resultados = []\n",
    "resultados.append(freqBaseline('teste.json', w2v=True, cutValue=0.53, trainOnly=False, selDatasets=['camera'])[0])\n",
    "resultados.append(freqBaseline('teste.json', w2v=True, cutValue=0.42, trainOnly=False, selDatasets=['livro'])[0])\n",
    "resultados.append(freqBaseline('teste.json', w2v=True, cutValue=0.40, trainOnly=False, selDatasets=['smartphone'])[0])\n",
    "resultados.append(freqBaseline('teste.json', w2v=True, cutValue=0.15, trainOnly=False, selDatasets=['hotel'])[0])"
   ]
  },
  {
   "cell_type": "code",
   "execution_count": 80,
   "metadata": {},
   "outputs": [
    {
     "name": "stdout",
     "output_type": "stream",
     "text": [
      "Câmera     &  0,53 &  0,70 & 0,55 & 0,61 & 32,97 & 0,00 \\\\\n",
      "Livro      &  0,42 &  0,69 & 0,59 & 0,63 & 15,85 & 0,00 \\\\\n",
      "Smartphone &  0,40 &  0,56 & 0,47 & 0,51 & 25,37 & 0,00 \\\\\n",
      "Hotel      &  0,15 &  0,72 & 0,52 & 0,60 & 11,99 & 14,60 \\\\\n"
     ]
    }
   ],
   "source": [
    "print(f'Câmera     &  {resultados[0][\"cut\"]*100:.2f} &  {resultados[0][\"precisao\"]:.2f} & {resultados[0][\"revocacao\"]:.2f} & {resultados[0][\"medidaf\"]:.2f} & {resultados[0][\"pExplicitos\"]*100:.2f} & {resultados[0][\"pImplicitos\"]*100:.2f} \\\\\\\\'.replace('.',','))\n",
    "print(f'Livro      &  {resultados[1][\"cut\"]*100:.2f} &  {resultados[1][\"precisao\"]:.2f} & {resultados[1][\"revocacao\"]:.2f} & {resultados[1][\"medidaf\"]:.2f} & {resultados[1][\"pExplicitos\"]*100:.2f} & {resultados[1][\"pImplicitos\"]*100:.2f} \\\\\\\\'.replace('.',','))\n",
    "print(f'Smartphone &  {resultados[2][\"cut\"]*100:.2f} &  {resultados[2][\"precisao\"]:.2f} & {resultados[2][\"revocacao\"]:.2f} & {resultados[2][\"medidaf\"]:.2f} & {resultados[2][\"pExplicitos\"]*100:.2f} & {resultados[2][\"pImplicitos\"]*100:.2f} \\\\\\\\'.replace('.',','))\n",
    "print(f'Hotel      &  {resultados[3][\"cut\"]*100:.2f} &  {resultados[3][\"precisao\"]:.2f} & {resultados[3][\"revocacao\"]:.2f} & {resultados[3][\"medidaf\"]:.2f} & {resultados[3][\"pExplicitos\"]*100:.2f} & {resultados[3][\"pImplicitos\"]*100:.2f} \\\\\\\\'.replace('.',','))"
   ]
  },
  {
   "cell_type": "code",
   "execution_count": null,
   "metadata": {},
   "outputs": [],
   "source": []
  },
  {
   "cell_type": "code",
   "execution_count": null,
   "metadata": {},
   "outputs": [],
   "source": []
  },
  {
   "cell_type": "code",
   "execution_count": null,
   "metadata": {},
   "outputs": [],
   "source": []
  },
  {
   "cell_type": "markdown",
   "metadata": {},
   "source": [
    "## Funções"
   ]
  },
  {
   "cell_type": "code",
   "execution_count": null,
   "metadata": {},
   "outputs": [],
   "source": []
  },
  {
   "cell_type": "code",
   "execution_count": 145,
   "metadata": {},
   "outputs": [],
   "source": [
    "def teste(dataset, gold, prediction, size, titulo, debugFlag=True, tipo='micro', csv=False):\n",
    "\n",
    "    determinantes = [ \"o\" , \"a\" , \"os\" , \"as\" , \"um\" , \"uma\" , \"uns\" , \"umas\"\n",
    "             \"meu\" , \"teu\" , \"seu\" , \"minha\" , \"tua\" , \"sua\" , \"meus\" , \n",
    "             \"teus\" , \"seus\" , \"minhas\" , \"tuas\" , \"suas\" , \"nosso\" , \n",
    "             \"vosso\" , \"seu\" , \"nossa\" , \"vossa\" , \"sua\" , \"nossos\" , \n",
    "             \"vossos\" , \"seus\" , \"nossas\" , \"vossas\" , \"suas\" , \"este\" , \n",
    "             \"esse\" , \"aquele\" , \"esta\" , \"essa\" , \"aquela\" , \"estes\" , \n",
    "             \"esses\" , \"aqueles\" , \"estas\" , \"essas\" , \"aquelas\" , \"isto\" , \n",
    "             \"isso\" , \"aquilo\" , \"todo\" , \"algum\" , \"nenhum\" , \"outro\" , \n",
    "             \"muito\" , \"pouco\" , \"tanto\" , \"qualquer\" , \"toda\" , \"alguma\" , \n",
    "             \"nenhuma\" , \"outra\" , \"muita\" , \"pouca\" , \"tanta\" , \"qualquer\" , \n",
    "             \"todos\" , \"alguns\" , \"nenhuns\" , \"outros\" , \"muitos\" , \"poucos\" , \n",
    "             \"tantos\" , \"quaisquer\" , \"todas\" , \"algumas\" , \"nenhumas\" , \n",
    "             \"outras\" , \"muitas\" , \"poucas\" , \"tantas\" , \"quaisquer\" , \"tudo\" , \n",
    "             \"nada\" , \"cada\" , \"ninguém\" , \"alguém\" , \"qual\" , \"quanto\" , \n",
    "             \"quanta\" , \"quais\" , \"quantos\" , \"quantas\" , \"que\" , \"quem\" , \n",
    "             \"um\" , \"dois\" , \"três\" , \"quatro\" , \"cinco\" , \"seis\" , \"sete\" , \n",
    "             \"oito\" , \"nove\" , \"primeiro\" , \"segundo\" , \"terceiro\" , \"quarto\" ]\n",
    "\n",
    "    PIK = 'data/reliOpinativo2.dat'\n",
    "    with open(PIK, \"rb\") as f: reli2 = pickle.load(f)\n",
    "    \n",
    "    #print(\"gold: %s\" % len(gold))\n",
    "    #print(gold[:20])\n",
    "    #print()\n",
    "    \n",
    "    gold3 = []\n",
    "    for text in reli2:\n",
    "        #print(text)\n",
    "        reg = []\n",
    "        asps = []\n",
    "        for aspect in text['aspects']:\n",
    "            if aspect['target'].lower() in asps : continue\n",
    "            reg.append((aspect['target'].lower(),int(aspect['from']),int(aspect['to'])))\n",
    "            asps.append(aspect['target'].lower())\n",
    "        #print(reg)\n",
    "        gold3.append(reg)\n",
    "        \n",
    "        #text['frase'] = text['frase'].lower()\n",
    "        # gold\n",
    "        #sentence_opinions = []\n",
    "        #target = text['target'].lower()\n",
    "        #start = int(text['from'])\n",
    "        #end = int(text['to'])\n",
    "        # evaluation explicit says to discart NULL values\n",
    "        #sentence_opinions.append((target, start, end))\n",
    "        #test_gold.append(sentence_opinions)    \n",
    "    \n",
    "    #print(\"gold3: %s\" % len(gold3))\n",
    "    #print(gold3[:20])\n",
    "    #print()\n",
    "    gold = gold3\n",
    "    #print(gold)\n",
    "    \n",
    "    \n",
    "    gold2 = []\n",
    "    for x in gold:\n",
    "        for i in x:\n",
    "            if i[0] not in determinantes and len(i[0]) > 2:\n",
    "                term = \" \".join([ x for x in i[0].split(\" \") if x not in determinantes and len(x) > 2])\n",
    "                gold2.append(term)\n",
    "    gold2 = set(gold2)\n",
    "\n",
    "    \n",
    "    prediction2 = []\n",
    "    for x in prediction:\n",
    "        for i in x:\n",
    "            if i[0] not in determinantes and len(i[0]) > 2:\n",
    "                term = \" \".join([ x for x in i[0].split(\" \") if x not in determinantes and len(x) > 2])\n",
    "                prediction2.append(term)\n",
    "    prediction2 = set(prediction2)\n",
    "    \n",
    "    \n",
    "    tp = len(gold2.intersection(prediction2))\n",
    "    fp = len(prediction2 -  gold2)\n",
    "    fn = len(gold2 - prediction2)\n",
    "    if debugFlag:\n",
    "        print(\"tp: %s fp: %s fn: %s  gold len: %s pred len: %s\" % (tp, fp, fn, len(gold2), len(prediction2)))\n",
    "    \n",
    "    \n",
    "    if (tp + fp) == 0:\n",
    "        precision2 = 0\n",
    "    else:\n",
    "        precision2 = (tp / ( tp + fp))*100\n",
    "\n",
    "    if (tp + fn) == 0:\n",
    "        recall2 = 0\n",
    "    else:\n",
    "        recall2 = (tp / ( tp + fn))*100\n",
    "\n",
    "    if (precision2 + recall2) == 0:\n",
    "        fmeasure2 = 0\n",
    "    else:\n",
    "        fmeasure2 = 2 * (( precision2 * recall2) / (precision2 + recall2))\n",
    "    \n",
    "    #print(\"\\n%s\" % titulo)\n",
    "    if tipo == \"normal\":\n",
    "        print(\"\\tNormal:\\n\\t\\tPrecision:\\t%3.2f %%\\n\\t\\tRecall:\\t\\t%3.2f %%\\n\\t\\tF-measure:\\t%3.2f %%\" % (precision2, recall2, fmeasure2))\n",
    "   \n",
    "     # Micro-averaged Precision\n",
    "    correct = 0\n",
    "    total = 0\n",
    "    #gold = list(set(gold))\n",
    "    if debugFlag:\n",
    "        print(\"gold: %s\\tpred: %s\\tdataset: %s\" % (len(gold),len(prediction),len(reli2)))\n",
    "    \n",
    "    for index in range(len(reli2)):\n",
    "        correct += len([x for x in gold[index] if x in prediction[index]])\n",
    "        total += len(prediction[index])\n",
    "    precision = 100 * correct / total\n",
    "\n",
    "    # Micro-averaged Recall\n",
    "    correct = 0\n",
    "    total = 0\n",
    "    for index in range(len(reli2)):\n",
    "        correct += len([x for x in gold[index] if x in prediction[index]])\n",
    "        total += len(gold[index])\n",
    "\n",
    "    recall = 100* correct / total\n",
    "    #print('Recall: {:.2f}%'.format(recall))    \n",
    "\n",
    "    if (precision + recall) != 0 :\n",
    "        fmeasure = ((2 * precision * recall) / (precision + recall))\n",
    "    else:\n",
    "        fmeasure = 0\n",
    "\n",
    "    if tipo == \"micro\":\n",
    "        if csv:\n",
    "            print(\"%3.2f;%3.2f;%3.2f\" % (precision, recall, fmeasure))\n",
    "        else:\n",
    "            print(\"\\tMicro Averaged:\\n\\t\\tPrecision:\\t%3.2f %%\\n\\t\\tRecall:\\t\\t%3.2f %%\\n\\t\\tF-measure:\\t%3.2f %%\" % (precision, recall, fmeasure))\n",
    "    \n",
    "    # formating table\n",
    "    i=1\n",
    "    data = [['i','Gold Standard', 'Predicted', 'Sentence']]\n",
    "    for index, (gold, pred) in enumerate(list(zip(gold, prediction))[:size]):\n",
    "        sentence = reli2[index]['frase']\n",
    "        data.append([i,gold, pred, sentence])\n",
    "        i=i+1\n",
    "    ipy_table.make_table(data)\n",
    "    ipy_table.set_global_style(wrap=True)\n",
    "    ipy_table.apply_theme('basic')\n",
    "    \n",
    "    return ipy_table\n",
    "\n",
    "\n",
    "#titulo = \"FREQ Baseline without stopword removal\"\n",
    "#teste(test_gold, prediction, 20, titulo).render()"
   ]
  },
  {
   "cell_type": "markdown",
   "metadata": {},
   "source": [
    "## Word2Vec auxiliary functions"
   ]
  },
  {
   "cell_type": "code",
   "execution_count": 16,
   "metadata": {
    "collapsed": true,
    "jupyter": {
     "outputs_hidden": true
    }
   },
   "outputs": [],
   "source": [
    "# loading modules\n",
    "from gensim.models import Word2Vec\n",
    "import numpy as nx\n",
    "from sklearn.metrics.pairwise import cosine_similarity\n",
    "\n",
    "# Modelos\n",
    "\n",
    "#vectors-600-skipngram-UNK_1-it-1: Tiago Pardo\n"
   ]
  },
  {
   "cell_type": "code",
   "execution_count": 67,
   "metadata": {
    "collapsed": true,
    "jupyter": {
     "outputs_hidden": true
    }
   },
   "outputs": [],
   "source": [
    "# loading testing engilsh model\n",
    "#enemb = Word2Vec.load('../word2vec/models/wiki.en.word2vec.model')\n",
    "#enemb.most_similar(\"queen\")"
   ]
  },
  {
   "cell_type": "code",
   "execution_count": 18,
   "metadata": {
    "collapsed": true,
    "jupyter": {
     "outputs_hidden": true
    }
   },
   "outputs": [],
   "source": [
    "def retCommonWords(gsents):\n",
    "    gNouns = []\n",
    "    for sent in gsents:\n",
    "        for w in sent:\n",
    "            if w[1] == 'NN' or w[1] == 'NNS' or w[1] == 'NNP' or w[1] == 'NNPS':\n",
    "                gNouns.append(w[0].lower())\n",
    "\n",
    "\n",
    "    print(len(gNouns))\n",
    "    #print(brown_tagged_sents[:10])\n",
    "\n",
    "\n",
    "    bNounsCounter = Counter(gNouns)\n",
    "    #print(bNounsCounter.most_common(20))\n",
    "    #print()\n",
    "    commonWordsEN = [ w[0] for w in bNounsCounter.most_common(100) if not w[0] == 'af' and len(w[0]) > 3 and w[0].isalpha()][:20]\n",
    "    print(commonWordsEN)\n",
    "    print(len(commonWordsEN))"
   ]
  },
  {
   "cell_type": "code",
   "execution_count": 19,
   "metadata": {},
   "outputs": [
    {
     "name": "stdout",
     "output_type": "stream",
     "text": [
      "207580\n",
      "['time', 'years', 'people', 'world', 'life', 'year', 'work', 'state', 'place', 'part', 'course', 'number', 'fact', 'water', 'hand', 'school', 'head', 'night', 'eyes', 'system']\n",
      "20\n"
     ]
    }
   ],
   "source": [
    "from nltk.corpus import brown\n",
    "brown_tagged_sents = brown.tagged_sents()\n",
    "retCommonWords(brown_tagged_sents)"
   ]
  },
  {
   "cell_type": "code",
   "execution_count": 20,
   "metadata": {},
   "outputs": [
    {
     "name": "stdout",
     "output_type": "stream",
     "text": [
      "28867\n",
      "['company', 'year', 'market', 'stock', 'president', 'trading', 'program', 'share', 'years', 'shares', 'york', 'prices', 'government', 'business', 'sales', 'japan', 'board', 'index', 'price', 'futures']\n",
      "20\n"
     ]
    }
   ],
   "source": [
    "from nltk.corpus import treebank \n",
    "gsents = treebank.tagged_sents()\n",
    "retCommonWords(gsents)"
   ]
  },
  {
   "cell_type": "code",
   "execution_count": 21,
   "metadata": {},
   "outputs": [
    {
     "name": "stdout",
     "output_type": "stream",
     "text": [
      "78682\n",
      "['company', 'year', 'market', 'share', 'stock', 'sales', 'years', 'business', 'president', 'shares', 'trading', 'quarter', 'cents', 'investors', 'group', 'york', 'bank', 'price', 'earnings', 'people']\n",
      "20\n"
     ]
    }
   ],
   "source": [
    "from nltk.corpus import conll2000\n",
    "gsents = conll2000.tagged_sents()\n",
    "retCommonWords(gsents)"
   ]
  },
  {
   "cell_type": "code",
   "execution_count": 22,
   "metadata": {},
   "outputs": [
    {
     "name": "stdout",
     "output_type": "stream",
     "text": [
      "[['[', 'Emma', 'by', 'Jane', 'Austen', '1816', ']'], ['VOLUME', 'I'], ['CHAPTER', 'I'], ['Emma', 'Woodhouse', ',', 'handsome', ',', 'clever', ',', 'and', 'rich', ',', 'with', 'a', 'comfortable', 'home', 'and', 'happy', 'disposition', ',', 'seemed', 'to', 'unite', 'some', 'of', 'the', 'best', 'blessings', 'of', 'existence', ';', 'and', 'had', 'lived', 'nearly', 'twenty', '-', 'one', 'years', 'in', 'the', 'world', 'with', 'very', 'little', 'to', 'distress', 'or', 'vex', 'her', '.'], ['She', 'was', 'the', 'youngest', 'of', 'the', 'two', 'daughters', 'of', 'a', 'most', 'affectionate', ',', 'indulgent', 'father', ';', 'and', 'had', ',', 'in', 'consequence', 'of', 'her', 'sister', \"'\", 's', 'marriage', ',', 'been', 'mistress', 'of', 'his', 'house', 'from', 'a', 'very', 'early', 'period', '.'], ['Her', 'mother', 'had', 'died', 'too', 'long', 'ago', 'for', 'her', 'to', 'have', 'more', 'than', 'an', 'indistinct', 'remembrance', 'of', 'her', 'caresses', ';', 'and', 'her', 'place', 'had', 'been', 'supplied', 'by', 'an', 'excellent', 'woman', 'as', 'governess', ',', 'who', 'had', 'fallen', 'little', 'short', 'of', 'a', 'mother', 'in', 'affection', '.'], ['Sixteen', 'years', 'had', 'Miss', 'Taylor', 'been', 'in', 'Mr', '.', 'Woodhouse', \"'\", 's', 'family', ',', 'less', 'as', 'a', 'governess', 'than', 'a', 'friend', ',', 'very', 'fond', 'of', 'both', 'daughters', ',', 'but', 'particularly', 'of', 'Emma', '.'], ['Between', '_them_', 'it', 'was', 'more', 'the', 'intimacy', 'of', 'sisters', '.'], ['Even', 'before', 'Miss', 'Taylor', 'had', 'ceased', 'to', 'hold', 'the', 'nominal', 'office', 'of', 'governess', ',', 'the', 'mildness', 'of', 'her', 'temper', 'had', 'hardly', 'allowed', 'her', 'to', 'impose', 'any', 'restraint', ';', 'and', 'the', 'shadow', 'of', 'authority', 'being', 'now', 'long', 'passed', 'away', ',', 'they', 'had', 'been', 'living', 'together', 'as', 'friend', 'and', 'friend', 'very', 'mutually', 'attached', ',', 'and', 'Emma', 'doing', 'just', 'what', 'she', 'liked', ';', 'highly', 'esteeming', 'Miss', 'Taylor', \"'\", 's', 'judgment', ',', 'but', 'directed', 'chiefly', 'by', 'her', 'own', '.'], ['The', 'real', 'evils', ',', 'indeed', ',', 'of', 'Emma', \"'\", 's', 'situation', 'were', 'the', 'power', 'of', 'having', 'rather', 'too', 'much', 'her', 'own', 'way', ',', 'and', 'a', 'disposition', 'to', 'think', 'a', 'little', 'too', 'well', 'of', 'herself', ';', 'these', 'were', 'the', 'disadvantages', 'which', 'threatened', 'alloy', 'to', 'her', 'many', 'enjoyments', '.'], ['The', 'danger', ',', 'however', ',', 'was', 'at', 'present', 'so', 'unperceived', ',', 'that', 'they', 'did', 'not', 'by', 'any', 'means', 'rank', 'as', 'misfortunes', 'with', 'her', '.'], ['Sorrow', 'came', '--', 'a', 'gentle', 'sorrow', '--', 'but', 'not', 'at', 'all', 'in', 'the', 'shape', 'of', 'any', 'disagreeable', 'consciousness', '.--', 'Miss', 'Taylor', 'married', '.'], ['It', 'was', 'Miss', 'Taylor', \"'\", 's', 'loss', 'which', 'first', 'brought', 'grief', '.'], ['It', 'was', 'on', 'the', 'wedding', '-', 'day', 'of', 'this', 'beloved', 'friend', 'that', 'Emma', 'first', 'sat', 'in', 'mournful', 'thought', 'of', 'any', 'continuance', '.'], ['The', 'wedding', 'over', ',', 'and', 'the', 'bride', '-', 'people', 'gone', ',', 'her', 'father', 'and', 'herself', 'were', 'left', 'to', 'dine', 'together', ',', 'with', 'no', 'prospect', 'of', 'a', 'third', 'to', 'cheer', 'a', 'long', 'evening', '.'], ['Her', 'father', 'composed', 'himself', 'to', 'sleep', 'after', 'dinner', ',', 'as', 'usual', ',', 'and', 'she', 'had', 'then', 'only', 'to', 'sit', 'and', 'think', 'of', 'what', 'she', 'had', 'lost', '.'], ['The', 'event', 'had', 'every', 'promise', 'of', 'happiness', 'for', 'her', 'friend', '.'], ['Mr', '.', 'Weston', 'was', 'a', 'man', 'of', 'unexceptionable', 'character', ',', 'easy', 'fortune', ',', 'suitable', 'age', ',', 'and', 'pleasant', 'manners', ';', 'and', 'there', 'was', 'some', 'satisfaction', 'in', 'considering', 'with', 'what', 'self', '-', 'denying', ',', 'generous', 'friendship', 'she', 'had', 'always', 'wished', 'and', 'promoted', 'the', 'match', ';', 'but', 'it', 'was', 'a', 'black', 'morning', \"'\", 's', 'work', 'for', 'her', '.'], ['The', 'want', 'of', 'Miss', 'Taylor', 'would', 'be', 'felt', 'every', 'hour', 'of', 'every', 'day', '.'], ['She', 'recalled', 'her', 'past', 'kindness', '--', 'the', 'kindness', ',', 'the', 'affection', 'of', 'sixteen', 'years', '--', 'how', 'she', 'had', 'taught', 'and', 'how', 'she', 'had', 'played', 'with', 'her', 'from', 'five', 'years', 'old', '--', 'how', 'she', 'had', 'devoted', 'all', 'her', 'powers', 'to', 'attach', 'and', 'amuse', 'her', 'in', 'health', '--', 'and', 'how', 'nursed', 'her', 'through', 'the', 'various', 'illnesses', 'of', 'childhood', '.']]\n"
     ]
    }
   ],
   "source": [
    "from nltk.corpus import gutenberg\n",
    "gsents = gutenberg.sents()\n",
    "print(gsents[:20])\n",
    "#retCommonWords(gsents)"
   ]
  },
  {
   "cell_type": "code",
   "execution_count": 202,
   "metadata": {},
   "outputs": [
    {
     "name": "stdout",
     "output_type": "stream",
     "text": [
      "ls: não foi possível acessar '../../word2vec/models/nilc/': Arquivo ou diretório inexistente\n"
     ]
    }
   ],
   "source": [
    "!ls ../../word2vec/models/nilc/"
   ]
  },
  {
   "cell_type": "code",
   "execution_count": 36,
   "metadata": {},
   "outputs": [],
   "source": [
    "# modelo em portugues\n",
    "\n",
    "from gensim.models import Word2Vec\n",
    "import numpy as nx\n",
    "from sklearn.metrics.pairwise import cosine_similarity\n",
    "\n",
    "# Modelos\n",
    "\n",
    "#vectors-600-skipngram-UNK_1-it-1: Tiago Pardo\n",
    "#emb = Word2Vec.load('../word2vec/models/nilc/vectors-600-skipngram-UNK_1-it-1')\n",
    "\n",
    "from gensim.models import KeyedVectors\n",
    "emb = KeyedVectors.load_word2vec_format('../../word2vec/models/nilc/skip_s1000.txt', unicode_errors=\"ignore\")    \n",
    "    \n",
    "#from gensim.models import KeyedVectors\n",
    "#model = KeyedVectors.load_word2vec_format('../word2vec/models/nilc/wang2vec/embeddings_wang2vec_skip_s600.txt', unicode_errors=\"ignore\")\n",
    "    \n",
    "    \n",
    "# wiki.pt.word2vec.model : wikipedia 600\n",
    "#emb = Word2Vec.load(\"wiki/wiki.pt.word2vec.model\") \n",
    "\n",
    "# wiki/model_bak/wiki.pt.word2vec.model : wikipedia 300\n",
    "#emb = Word2Vec.load(\"wiki/model_bak/wiki.pt.word2vec.model\")"
   ]
  },
  {
   "cell_type": "code",
   "execution_count": 37,
   "metadata": {},
   "outputs": [
    {
     "name": "stdout",
     "output_type": "stream",
     "text": [
      "20\n"
     ]
    }
   ],
   "source": [
    "# common words machado (site)\n",
    "commonWords = ['coisa', 'casa', 'tempo', 'vez', 'olho', \n",
    "               'dia', 'homem', 'moço', 'moça', 'senhor', \n",
    "               'senhora', 'ano', 'mão', 'palavra', 'filho', \n",
    "               'filha', 'noite', 'carta', 'amigo', 'amiga']\n",
    "\n",
    "# mac morpho\n",
    "commonWords = ['editoria',  'página',  'paulo',  'brasil',  'anos',  \n",
    "               'governo',  'presidente',  'milhões',  'dois',  'país',  \n",
    "               'três',  'mercado',  'pessoas',  'folha',  'tempo',  \n",
    "               'dias', 'parte', 'programa', 'empresa', 'trabalho']\n",
    "\n",
    "# floresta\n",
    "commonWords = ['nacional', 'passado', 'política', 'internacional', 'passada', \n",
    "               'mundial', 'brasileira', 'social', 'público', 'portuguesa', \n",
    "               'português', 'político', 'especial', 'anterior', 'local', \n",
    "               'eleitoral', 'pública', 'total', 'final', 'comercial' ]\n",
    "\n",
    "# machado nltk\n",
    "commonWords = ['casa', 'tempo', 'coisa', 'olhos', 'dois', \n",
    "               'homem', 'vida', 'duas', 'anos', 'moça', \n",
    "               'amor', 'dias', 'noite', 'coração', 'verdade', \n",
    "               'coisas', 'vezes', 'mulher', 'palavras', 'idéia']\n",
    "print(len(commonWords))\n",
    "\n",
    "# Convertendo palavras para vetores\n",
    "commonVectors = []\n",
    "for word in commonWords:\n",
    "        commonVectors.append(emb[word])\n",
    "\n",
    "# Calculando centroide dos vetores\n",
    "commonCentroid = nx.mean(commonVectors, axis=0)"
   ]
  },
  {
   "cell_type": "code",
   "execution_count": 118,
   "metadata": {},
   "outputs": [
    {
     "name": "stdout",
     "output_type": "stream",
     "text": [
      "20\n"
     ]
    }
   ],
   "source": [
    "#emb.most_similar(commonCentroid)\n",
    "# tradução machado\n",
    "commonWordsEn = ['house', 'time', 'thing', 'eyes', 'two',\n",
    "                'man', 'life', 'two', 'years', 'girl',\n",
    "                'love', 'days', 'night', 'heart', 'truth',\n",
    "                'things', 'times', 'woman', 'words', 'idea']\n",
    "# gutenberg\n",
    "commonWordsEn = ['lord', 'thou', 'thee', 'house', 'king', 'people', \n",
    "                 'time', 'israel', 'hand', 'father', 'children', 'land', \n",
    "                 'things', 'thing', 'earth', 'place', \n",
    "                 'heart', 'head', 'hath', 'name']\n",
    "# brown news\n",
    "commonWordsEn = ['year', 'years', 'time', 'state', 'week', \n",
    "                 'members', 'home', 'school', 'program', 'night', \n",
    "                 'meeting', 'president', 'people', 'government', \n",
    "                 'administration', 'city', 'sales', 'game', 'cent', 'board']\n",
    "# brown geral\n",
    "commonWordsEn = ['time', 'man', 'years', 'way', 'people', 'men', \n",
    "                 'world', 'life', 'year', 'day', 'work', 'state', \n",
    "                 'place', 'part', 'course', 'number', 'fact', \n",
    "                 'water', 'school', 'hand']\n",
    "#commonWordsEn = ['time' , 'year' , 'people' , 'way' , 'day' , \n",
    "#                 'man' , 'thing' , 'woman' , 'life' , 'child' ,\n",
    "#                 'world' , 'school' , 'state' , 'family' , 'student' ,\n",
    "#                 'group' , 'country' , 'problem' , 'hand' , 'part' ]\n",
    "\n",
    "# english common words not used here\n",
    "#commonVectorsEN = []\n",
    "#for word in commonWordsEn:\n",
    "#        commonVectorsEN.append(enemb[word])\n",
    "#\n",
    "## Calculando centroide dos vetores\n",
    "#commonCentroidEN = nx.mean(commonVectorsEN, axis=0)\n",
    "##enemb.most_similar(commonCentroidEN)\n",
    "#print(len(commonWordsEn))"
   ]
  },
  {
   "cell_type": "code",
   "execution_count": 38,
   "metadata": {},
   "outputs": [],
   "source": [
    "# compara palavra com centroide comum e contextualizada\n",
    "def contextDetection(word, contextCentroid, idioma='pt'):\n",
    "        if word == \"quartar\": word = \"quarto\"\n",
    "        try:\n",
    "            if idioma == 'en':\n",
    "                embWord = enemb[word].reshape(1,-1)\n",
    "                # distancia entre vetor palavra e centroides\n",
    "                r2 = cosine_similarity(embWord, contextCentroidEN.reshape(1,-1))\n",
    "                r1 = cosine_similarity(embWord, commonCentroidEN.reshape(1,-1))\n",
    "            else:\n",
    "                embWord = emb[word].reshape(1,-1)\n",
    "                # distancia entre vetor palavra e centroides\n",
    "                r2 = cosine_similarity(embWord, contextCentroid.reshape(1,-1))\n",
    "                r1 = cosine_similarity(embWord, commonCentroid.reshape(1,-1))\n",
    "\n",
    "            common = r1[0][0]\n",
    "            context = r2[0][0]\n",
    "            #return ((context - common)>0.05)\n",
    "            return (context > common)       \n",
    "        except KeyError:\n",
    "            #print('erro')\n",
    "            return False"
   ]
  },
  {
   "cell_type": "code",
   "execution_count": null,
   "metadata": {},
   "outputs": [],
   "source": []
  },
  {
   "cell_type": "code",
   "execution_count": 120,
   "metadata": {},
   "outputs": [
    {
     "name": "stdout",
     "output_type": "stream",
     "text": [
      "[('livro', 1273), ('história', 355), ('leitura', 188), ('personagens', 153), ('romance', 114), ('personagem', 95), ('livros', 93), ('final', 85), ('crepúsculo', 85), ('vida', 84)]\n"
     ]
    }
   ],
   "source": [
    "# calculo centroide contextualizada\n",
    "dataset='reli'\n",
    "PIK = 'data/'+dataset+'Tagged.dat'\n",
    "with open(PIK, \"rb\") as f: reli = pickle.load(f)\n",
    "\n",
    "stopwords = nltk.corpus.stopwords.words('portuguese')\n",
    "nouns = []\n",
    "nounTags = ['n', 'NN', 'NNS', 'NNP', 'NNPS', 'N', 'NPROP']\n",
    "for text in reli:\n",
    "    for w in text['tagged']:\n",
    "        #print(w)\n",
    "        if w[1] in nounTags and w[0].isalpha() and w[0] not in stopwords and len(w[0]) > 3:\n",
    "            nouns.append(w[0].lower())\n",
    "                                     \n",
    "\n",
    "nounsCounter = Counter(nouns)\n",
    "print(nounsCounter.most_common(10))\n",
    "\n",
    "contextVectors = []\n",
    "for word in nounsCounter.most_common(10):\n",
    "        contextVectors.append(emb[word[0]])\n",
    "\n",
    "# Calculando centroide dos vetores\n",
    "contextCentroid = nx.mean(contextVectors, axis=0)\n",
    "\n"
   ]
  },
  {
   "cell_type": "code",
   "execution_count": 122,
   "metadata": {},
   "outputs": [
    {
     "name": "stdout",
     "output_type": "stream",
     "text": [
      "livro: context\n",
      "página: context\n",
      "lacraia: non context\n",
      "personagem: context\n",
      "casa: non context\n",
      "carro: non context\n",
      "literatura: context\n"
     ]
    }
   ],
   "source": [
    "wordsTest = ['livro', 'página', 'lacraia', 'personagem', 'casa', 'carro', 'literatura']\n",
    "\n",
    "for w in wordsTest:\n",
    "    print(\"%s: \" % w , end=\"\")\n",
    "    if contextDetection(w, 'pt'):\n",
    "        print(\"context\")\n",
    "    else:\n",
    "        print(\"non context\")"
   ]
  },
  {
   "cell_type": "markdown",
   "metadata": {},
   "source": [
    "## Hu & Liu Function"
   ]
  },
  {
   "cell_type": "code",
   "execution_count": 81,
   "metadata": {},
   "outputs": [
    {
     "data": {
      "text/plain": [
       "['camera', 'livro', 'smartphone', 'hotel']"
      ]
     },
     "execution_count": 81,
     "metadata": {},
     "output_type": "execute_result"
    }
   ],
   "source": [
    "datasets"
   ]
  },
  {
   "cell_type": "code",
   "execution_count": 56,
   "metadata": {},
   "outputs": [],
   "source": [
    "# used on compactness \n",
    "def tdist(text, p1, p2):\n",
    "    dist = -1\n",
    "    for w in text:\n",
    "        if w == p2 and dist > -1:\n",
    "            break\n",
    "        if dist > -1 and w != p2 and w.isalpha():\n",
    "            dist += 1\n",
    "        if w == p1:\n",
    "            dist = 0\n",
    "    return(dist)\n",
    "\n",
    "def huLiu(dataset, idioma='pt', cutValue=0.01, infW2V=False, W2V=False, sintagmasFlag=False, \n",
    "          debugFlag=True, \n",
    "          auxDataSet=False,\n",
    "          trainOnly=True,\n",
    "          tipoTeste=\"micro\", csv=False, arquivo='uga.json'\n",
    "         ):\n",
    "    from nltk.tokenize import word_tokenize\n",
    "\n",
    "    if csv:\n",
    "        print(\"%s;\" % cutValue, end='')\n",
    "    else:\n",
    "        if debugFlag:\n",
    "            print(\"Dataset: [%s]\" % dataset , end='')\n",
    "            print(\"  cutValue: [%s]\" % cutValue , end='')    \n",
    "            print(\"  Sintagmas: [%s]\" % sintagmasFlag , end='')\n",
    "            print(\"  auxDataSet: [%s]\" % auxDataSet , end='')\n",
    "            print(\"  word2vec: [%s]\" % W2V , end='')\n",
    "            print(\"  infW2V: [%s]\" % infW2V)    \n",
    "\n",
    "    if idioma == 'pt':\n",
    "        stopwords = nltk.corpus.stopwords.words('portuguese')\n",
    "    else:\n",
    "        stopwords = nltk.corpus.stopwords.words('english')\n",
    "    \n",
    "    if sintagmasFlag:\n",
    "        PIK = 'data/'+dataset+'Sintagmas.dat'\n",
    "        with open(PIK, \"rb\") as f: sintagmas = pickle.load(f)\n",
    "        sintagmas = [ sintagma for sintagma in sintagmas if len(sintagma) > 3 ]\n",
    "        \n",
    "    if idioma == 'pt':\n",
    "        determinantes = [ \"o\" , \"a\" , \"os\" , \"as\" , \"um\" , \"uma\" , \"uns\" , \"umas\" ,\n",
    "                         \"meu\" , \"teu\" , \"seu\" , \"minha\" , \"tua\" , \"sua\" , \"meus\" , \n",
    "                         \"teus\" , \"seus\" , \"minhas\" , \"tuas\" , \"suas\" , \"nosso\" , \n",
    "                         \"vosso\" , \"seu\" , \"nossa\" , \"vossa\" , \"sua\" , \"nossos\" , \n",
    "                         \"vossos\" , \"seus\" , \"nossas\" , \"vossas\" , \"suas\" , \"este\" , \n",
    "                         \"esse\" , \"aquele\" , \"esta\" , \"essa\" , \"aquela\" , \"estes\" , \n",
    "                         \"esses\" , \"aqueles\" , \"estas\" , \"essas\" , \"aquelas\" , \"isto\" , \n",
    "                         \"isso\" , \"aquilo\" , \"todo\" , \"algum\" , \"nenhum\" , \"outro\" , \n",
    "                         \"muito\" , \"pouco\" , \"tanto\" , \"qualquer\" , \"toda\" , \"alguma\" , \n",
    "                         \"nenhuma\" , \"outra\" , \"muita\" , \"pouca\" , \"tanta\" , \"qualquer\" , \n",
    "                         \"todos\" , \"alguns\" , \"nenhuns\" , \"outros\" , \"muitos\" , \"poucos\" , \n",
    "                         \"tantos\" , \"quaisquer\" , \"todas\" , \"algumas\" , \"nenhumas\" , \n",
    "                         \"outras\" , \"muitas\" , \"poucas\" , \"tantas\" , \"quaisquer\" , \"tudo\" , \n",
    "                         \"nada\" , \"cada\" , \"ninguém\" , \"alguém\" , \"qual\" , \"quanto\" , \n",
    "                         \"quanta\" , \"quais\" , \"quantos\" , \"quantas\" , \"que\" , \"quem\" , \n",
    "                         \"um\" , \"dois\" , \"três\" , \"quatro\" , \"cinco\" , \"seis\" , \"sete\" , \n",
    "                         \"oito\" , \"nove\" , \"primeiro\" , \"segundo\" , \"terceiro\" , \"quarto\" ]\n",
    "    else:\n",
    "        determinantes = [ \"the\" , \"a\" , \"an\" , \"another\" , \"no\" , \"the\" , \"no\" , \"another\" ,\n",
    "                         \"some\" , \"any\" , \"my\" , \"our\" , \"their\" , \"her\" , \"his\" , \"its\" ,\n",
    "                         \"another\" , \"one\", \"two\" , \"three\" , \"four\" , \"five\" , \"six\" , \n",
    "                         \"seven\" , \"eight\" , \"nine\" , \"ten\" , \"each\" , \"every\" , \"certain\" ,\n",
    "                         \"its\" , \"another\" , \"this\" , \"that\" ]\n",
    "    # substantivos\n",
    "    nouns = []\n",
    "    sents = []\n",
    "    taggedSents = []\n",
    "    frases = []\n",
    "    nounTags = ['n', 'NN', 'NNS', 'NNP', 'NNPS', 'N', 'NPROP', 'PROPN', 'NOUN']\n",
    "    adjTags = ['adj', 'ADJ', 'JJ', 'JJR', 'JJS']\n",
    "    # aux dataset\n",
    "    if auxDataSet:\n",
    "        with open(auxDataSet, \"rb\") as f: auxDS = pickle.load(f)\n",
    "        auxNouns = []\n",
    "        for text in auxDS:\n",
    "            for w in text['tagged']:\n",
    "                word2vec = False\n",
    "                if word2vec:\n",
    "                    if (w[1] in nounTags \n",
    "                        and w[0].isalpha() \n",
    "                        and w[0] not in stopwords \n",
    "                        and len(w[0]) > 3 \n",
    "                        and contextDetection(w[0].lower(), contextCentroids, idioma)):\n",
    "                        auxNouns.append(w[0].lower())\n",
    "                else:\n",
    "                    if (w[1] in nounTags \n",
    "                        and w[0].isalpha() \n",
    "                        and w[0] not in stopwords \n",
    "                        and len(w[0]) > 3):\n",
    "                        auxNouns.append(w[0].lower())\n",
    "        if debugFlag:\n",
    "            print(\"aux nouns: %s\" % len(auxNouns))\n",
    "            \n",
    "            \n",
    "            \n",
    "            \n",
    "    # leitura do corpus\n",
    "    tokensCont = 0\n",
    "    sentAspects = []\n",
    "    sentImplicits = []\n",
    "    sentExplicits = []\n",
    "    frasesTeste = []\n",
    "    for irev, rev in enumerate(vargasDatasets[dataset]):\n",
    "        if (trainOnly and irev in teste): continue\n",
    "        for cont in rev['conteudo']:\n",
    "            for sent in cont['spacy'].sents:\n",
    "                sentWords = []\n",
    "                taggedWords = []\n",
    "                for word in sent:\n",
    "                    sentWords.append(word.lemma_.lower())\n",
    "                    taggedWords.append((word.lemma_.lower(),word.pos_))\n",
    "                    poss.append(word.pos_)\n",
    "                    if word.pos_ != 'PUNCT':\n",
    "                        tokensCont += 1\n",
    "                    if word.pos_ in nounTags:\n",
    "                        nouns.append(word.lemma_.lower())\n",
    "                # aspects\n",
    "                aspects = [x.lower() for x in cont['aspectsLemma'] if x in sentWords ]\n",
    "                sentAspects.append(aspects)\n",
    "                # implicits\n",
    "                aspects = [x.lower() for x in cont['implicitLemma'] if x in sentWords ]\n",
    "                sentImplicits.append(aspects)\n",
    "                # explicits\n",
    "                aspects = [x.lower() for x in cont['explicitLemma'] if x in sentWords ]\n",
    "                sentExplicits.append(aspects)\n",
    "                # tokens\n",
    "                sents.append(sentWords)\n",
    "                # tagged tokens\n",
    "                taggedSents.append(taggedWords)\n",
    "                # complete sent\n",
    "                frases.append(sent.text)\n",
    "                if irev in teste:\n",
    "                    frasesTeste.append(sent.text)\n",
    "    if debugFlag:\n",
    "        print('frases:',frases[:2])\n",
    "        print('aspect:',sentAspects[:2])\n",
    "        print('implic:',sentImplicits[:5])\n",
    "        print('explic:',sentExplicits[:5])\n",
    "        print('tagged:',taggedSents[:2])\n",
    "        print('tokens:',sents[:2])\n",
    "    \n",
    "    if (W2V or infW2V):\n",
    "        # centroides contextulizada word2vec\n",
    "        contNouns = Counter(nouns)\n",
    "        contextWords = [x[0] for x in contNouns.most_common(10)]\n",
    "        # Convertendo palavras para vetores\n",
    "        contextVectors = []\n",
    "        for word in contextWords:\n",
    "            if word == \"quartar\": word = \"quarto\"\n",
    "            contextVectors.append(emb[word])\n",
    "        # Calculando centroide dos vetores\n",
    "        contextCentroids = nx.mean(contextVectors, axis=0)\n",
    "    \n",
    "    #for text in reli:\n",
    "    #    sents.append(word_tokenize(text['frase']))\n",
    "    #    for w in text['tagged']:\n",
    "    #        if ((w[1] in nounTags) \n",
    "    #            and w[0].isalpha() \n",
    "    #            and w[0].lower() not in determinantes \n",
    "    #            and len(w[0]) > 3):\n",
    "    #            nouns.append(w[0].lower())\n",
    "    ##nounsCounter = Counter(nouns)\n",
    "\n",
    "    if auxDataSet:\n",
    "        nouns += auxNouns\n",
    "    \n",
    "\n",
    "    \n",
    "    cut = len(frases) * cutValue\n",
    "    #if auxDataSet:\n",
    "    #    cut = (len(reli) + len(auxDS)) * cutValue\n",
    "    # cutting nouns\n",
    "    nounsCounter = Counter(nouns)\n",
    "    nouns = [w[0] for w in nounsCounter.most_common() if w[1] >= cut]    \n",
    "    \n",
    "    if W2V:\n",
    "        nouns = [ i for i in nouns if contextDetection(i.lower(), contextCentroids, idioma) ]\n",
    "    \n",
    "    nouns = set(nouns)\n",
    "\n",
    "    # sintagmas\n",
    "    if sintagmasFlag:\n",
    "        sintagmasEnc = []\n",
    "        for sintagma in sintagmas:\n",
    "            sint = \"_\".join([ x for x in sintagma.split(\" \") if x not in determinantes and len(x) > 2])\n",
    "            sint2 = \"\".join([l for l in sint if l.isalpha() or l == '_'])\n",
    "            sintagmasEnc.append(sint2)\n",
    "    # tuplas e triplas\n",
    "    bigrams = []\n",
    "    trigrams = []\n",
    "    cand = []\n",
    "    for frase, text, taggedSent in zip(frases, sents, taggedSents):\n",
    "        terms = [w[0] for w in taggedSent if w[1] in nounTags and w[0] in nouns]\n",
    "        bigrams += [terms[i] + \"_\" + terms[i+1] for i in range(len(terms)-1)]\n",
    "        trigrams += [terms[i] + \"_\" + terms[i+1] + \"_\" + terms[i+2] for i in range(len(terms)-2)]\n",
    "    bigrams = set(bigrams)\n",
    "    trigrams = set(trigrams)\n",
    "    if sintagmasFlag:\n",
    "        sintagmasEnc = set(sintagmasEnc)\n",
    "    # juntando candidatos\n",
    "    if sintagmasFlag:\n",
    "        candidates = {t:{'psupport':0,'noncompact':0} for t in (nouns | bigrams | trigrams | sintagmasEnc)}\n",
    "    else:\n",
    "        candidates = {t:{'psupport':0,'noncompact':0} for t in (nouns | bigrams | trigrams )}\n",
    "    if debugFlag:\n",
    "        print(\"Quantidade de substantivos: %s\" % len(nouns))\n",
    "        print(\"Quantidade de tuplas: %s\" % len(bigrams))\n",
    "        print(\"Quantidade de triplas: %s\" % len(trigrams))\n",
    "        if sintagmasFlag:\n",
    "            print(\"Quantidade de sintagmas: %s\" % len(sintagmasEnc))\n",
    "        print(\"Total de candidatos: %s\" % len(candidates))\n",
    "\n",
    "    # calculo p-support\n",
    "    for frase, text, taggedSent in zip(frases, sents, taggedSents):\n",
    "        terms = [w[0] for w in taggedSent if w[1] in nounTags and w[0] in nouns]\n",
    "        bigrams = [terms[i] + \"_\" + terms[i+1] for i in range(len(terms)-1)]\n",
    "        trigrams = [terms[i] + \"_\" + terms[i+1] + \"_\" + terms[i+2] for i in range(len(terms)-2)]\n",
    "        for t in trigrams:\n",
    "            candidates[t]['psupport'] += 1\n",
    "        for b in bigrams:\n",
    "            if not [t for t in trigrams if b in t ] :\n",
    "                candidates[b]['psupport'] += 1\n",
    "        for u in terms:\n",
    "            if not [t for t in trigrams if u in t ] and not [t for t in bigrams if u in t ]:\n",
    "                if u in candidates:\n",
    "                    candidates[u]['psupport'] += 1\n",
    "                #else:\n",
    "                #    candidates[u] = {'psupport':1,'noncompact':0}\n",
    "\n",
    "    # calculo non compact        \n",
    "    for frase, text, taggedSent in zip(frases, sents, taggedSents):\n",
    "        terms = [w[0] for w in taggedSent if w[1] in nounTags and w[0] in nouns]\n",
    "        bigrams = [(terms[i], terms[i+1]) for i in range(len(terms)-1)]\n",
    "        trigrams = [(terms[i], terms[i+1], terms[i+2]) for i in range(len(terms)-2)]\n",
    "        for b in bigrams:\n",
    "            dist = tdist(text,b[0],b[1])\n",
    "            if dist > 3:\n",
    "                candidates[b[0]+'_'+b[1]]['noncompact'] += 1\n",
    "        for t in trigrams:\n",
    "            dist1 = tdist(text,t[0],t[1])\n",
    "            dist2 = tdist(text,t[1],t[2])\n",
    "            if dist1 > 3 or dist2 > 3:\n",
    "                candidates[t[0]+'_'+t[1]+'_'+t[2]]['noncompact'] += 1\n",
    "\n",
    "    # non compact prunning \n",
    "    excluir = []\n",
    "    for c in  candidates:\n",
    "        if candidates[c]['noncompact'] > 1:\n",
    "            excluir.append(c)\n",
    "    for c in excluir:\n",
    "        candidates.pop(c)\n",
    "    if debugFlag:\n",
    "        print(\"Canditados após corte noncompact: %s\" % len(candidates))\n",
    "\n",
    "    # p-support prunning\n",
    "    excluir = []\n",
    "    for c in candidates:\n",
    "        if candidates[c]['psupport'] < 3:\n",
    "            for x in candidates:\n",
    "                if c in x and x != c:\n",
    "                    #print(\"achou: %s em %s\" % (c,x))\n",
    "                    excluir.append(c)\n",
    "                    break\n",
    "    for c in list(set(excluir)):\n",
    "        candidates.pop(c)\n",
    "    if debugFlag:\n",
    "        print(\"Canditados após corte psupport: %s\" % len(candidates))\n",
    "\n",
    "    # opinion adjectives\n",
    "    candidatos = [ c.replace(\"_\", \" \") for c in candidates ]\n",
    "    nouns = []\n",
    "    #sents = []\n",
    "    opinionAdjectives = []\n",
    "    for taggedTokens, frase, tokens in zip(taggedSents, frases, sents):\n",
    "        frase = frase.lower()\n",
    "        candidatosEncontrados = [ candidato for candidato in candidatos if candidato in frase ]\n",
    "        excluir = []\n",
    "        for candidato in candidatosEncontrados:\n",
    "            cand = candidato.split(\" \")\n",
    "            for c in cand:\n",
    "                if not c in tokens:\n",
    "                    excluir.append(cand[0])\n",
    "        candidatosEncontrados = list(set(candidatosEncontrados) - set(excluir))\n",
    "        if not candidatosEncontrados: continue\n",
    "        adjetivos = [ token[0].lower() for token in taggedTokens if token[1] in adjTags ]\n",
    "        if not adjetivos: continue\n",
    "        adjs = []\n",
    "        for candidato in candidatosEncontrados:\n",
    "            for termo in nltk.word_tokenize(candidato):\n",
    "                if termo not in tokens:\n",
    "                    continue\n",
    "                tIndex = tokens.index(termo)\n",
    "                minDist = 999\n",
    "                for adj in adjetivos:\n",
    "                    if adj not in tokens:\n",
    "                        continue\n",
    "                    adjIndex = tokens.index(adj)\n",
    "                    dist = abs(tIndex - adjIndex)\n",
    "                    if dist < minDist:\n",
    "                        minDist = dist\n",
    "                        adjetivo = adj\n",
    "            adjs.append(adjetivo)\n",
    "            opinionAdjectives.append(adjetivo)\n",
    "    opinionAdjectives = list(set(opinionAdjectives))\n",
    "    \n",
    "    if debugFlag:\n",
    "        print(\"opinion adjectives: %s\" % len(opinionAdjectives))\n",
    "\n",
    "    # identifying infrequent features\n",
    "    infrequentList = []\n",
    "    for taggedTokens, frase, tokens, sentAspectList in zip(taggedSents, frases, sents, sentAspects):\n",
    "        frase = frase.lower()\n",
    "        candidatosEncontrados = [ candidato for candidato in candidatos if candidato in frase ] \n",
    "        excluir = []\n",
    "        for candidato in candidatosEncontrados:\n",
    "            cand = candidato.split(\" \")\n",
    "            for c in cand:\n",
    "                if not c in tokens:\n",
    "                    excluir.append(cand[0])\n",
    "        candidatosEncontrados = list(set(candidatosEncontrados) - set(excluir))\n",
    "        if candidatosEncontrados: continue\n",
    "        adjetivosEncontrados = list(set(tokens).intersection( set(opinionAdjectives)))\n",
    "        if not adjetivosEncontrados: continue\n",
    "        nouns = [ token[0].lower() for token in taggedTokens if token[1] in nounTags ]\n",
    "        if not nouns: continue\n",
    "        fNouns = []\n",
    "        for adj in adjetivosEncontrados:\n",
    "            adjIndex = tokens.index(adj)\n",
    "            minDist = 999\n",
    "            for noun in nouns:\n",
    "                if not noun.isalpha(): continue\n",
    "                nounIndex = tokens.index(noun)\n",
    "                dist = abs(nounIndex - adjIndex)\n",
    "                if dist < minDist:\n",
    "                    minDist = dist\n",
    "                    fNoun = noun\n",
    "            fNouns.append(fNoun)\n",
    "        infrequentList += fNouns\n",
    "    infrequentList = list(set(infrequentList))\n",
    "    \n",
    "    infrequent = [ i for i in infrequentList if len(i) > 3 ]\n",
    "    if debugFlag:\n",
    "        print(\"Infrequen aspects: %s\" % len(infrequent))\n",
    "        infrequent.sort()\n",
    "        print(infrequent)\n",
    "    if infW2V:\n",
    "        infrequent = [ i for i in infrequentList if len(i) > 3 and contextDetection(i.lower(), contextCentroids, idioma) ]\n",
    "    if debugFlag:\n",
    "        print(\"Infrequen after pruning aspects: %s\" % len(infrequent))\n",
    "    # loading dataset again ???\n",
    "    #PIK = 'data/'+ dataset + 'Tagged.dat'\n",
    "    #with open(PIK, \"rb\") as f: reli = pickle.load(f)\n",
    "     # validando\n",
    "    #aspects = candidatos + infrequent\n",
    "    aspects = candidatos\n",
    "    #if debugFlag:\n",
    "    #    print('aspects:',aspects)\n",
    "    test_gold = list()\n",
    "    prediction = list()\n",
    "    implicitsOk  = 0\n",
    "    explicitsOk  = 0\n",
    "    infrequenteOk = 0\n",
    "    totalImplicits = 0\n",
    "    totalExplicits = 0\n",
    "    totalAspects = 0\n",
    "    totalInfrequente = 0\n",
    "    truePositive = 0\n",
    "    falsePositive = 0\n",
    "    falseNegative = 0\n",
    "    \n",
    "    infrequentList2 = []\n",
    "    for taggedTokens, frase, tokens, sentAspectList, implicitsList, explicitsList in zip(taggedSents, frases, sents, sentAspects, sentImplicits, sentExplicits):\n",
    "        frase = frase.lower()\n",
    "        # predicted\n",
    "        predictedSentAspects = [ x for x in aspects if x in tokens ]\n",
    "        totalAspects += len(sentAspectList)\n",
    "        totalImplicits += len(implicitsList)\n",
    "        totalExplicits += len(explicitsList)\n",
    "        # frases sem aspectos\n",
    "        infTargets_list = []\n",
    "        if len(predictedSentAspects) == 0:\n",
    "            adjetivosEncontrados = [ token[0].lower() for token in taggedTokens if token[1] in adjTags and token[0] in opinionAdjectives ]\n",
    "            nounsEncontrados = [ token[0].lower() for token in taggedTokens if token[1] in nounTags ]\n",
    "            fNouns = []\n",
    "            w2vNouns = []\n",
    "            w2vNoun = False\n",
    "            if adjetivosEncontrados and nounsEncontrados:\n",
    "                for adj in adjetivosEncontrados:\n",
    "                    if adj not in tokens:\n",
    "                        print(tokens)\n",
    "                        print(adj)\n",
    "                        print()\n",
    "                        continue                    \n",
    "                    adjIndex = tokens.index(adj)\n",
    "                    minDist = 999\n",
    "                    minw2vDist = 999\n",
    "                    for noun in nounsEncontrados:\n",
    "                        if not noun.isalpha(): continue\n",
    "                        if noun not in tokens:\n",
    "                            print(tokens)\n",
    "                            print(noun)\n",
    "                            print()\n",
    "                            continue\n",
    "                        nounIndex = tokens.index(noun)\n",
    "                        dist = abs(nounIndex - adjIndex)\n",
    "                        if dist < minDist:\n",
    "                            minDist = dist\n",
    "                            fNoun = noun\n",
    "                        if infW2V:\n",
    "                            if dist < minw2vDist and contextDetection(noun, contextCentroids, idioma):\n",
    "                                minw2vDist = dist\n",
    "                                w2vNoun = noun\n",
    "                    if infW2V and w2vNoun:\n",
    "                        fNouns.append(w2vNoun)\n",
    "                    else:\n",
    "                        fNouns.append(fNoun)\n",
    "            infTargets_list = list(set(fNouns))\n",
    "            infrequentList2 += infTargets_list\n",
    "\n",
    "        allPredicted = predictedSentAspects + infTargets_list\n",
    "        truePositive += len([x for x in allPredicted if x in sentAspectList])\n",
    "        falsePositive += len([x for x in allPredicted if x not in sentAspectList])\n",
    "        falseNegative += len([x for x in sentAspectList if x not in allPredicted])\n",
    "        implicitsOk += len([x for x in predictedSentAspects+infTargets_list if x in implicitsList])\n",
    "        explicitsOk += len([x for x in predictedSentAspects+infTargets_list if x in explicitsList])\n",
    "        infrequenteOk += len([x for x in infTargets_list if x in sentAspectList])\n",
    "        totalInfrequente += len(infTargets_list)\n",
    "\n",
    "    infrequentList2 = [ i for i in infrequentList2 if len(i) > 3 ] \n",
    "    infrequentList2 = list(set(infrequentList2))\n",
    "    infrequentList2.sort()\n",
    "    \n",
    "       \n",
    "    if debugFlag:\n",
    "        print(\"gold: %s\\tpred: %s\\tdataset: %s\" % (len(test_gold),len(prediction),len(sents)))\n",
    "        print('infreq 2:',len(infrequentList2),infrequentList2)\n",
    "    \n",
    "    \n",
    "    aspectosEncontrados = candidatos + infrequent + infrequentList2\n",
    "    aspectosEncontrados = list(set(aspectosEncontrados))\n",
    "    aspectosEncontrados.sort()\n",
    "\n",
    "    domain = dataset\n",
    "    # carregando tipos\n",
    "    tiposAll = pd.read_csv('../data/tipologia/categorias_iacs.csv', sep=',', quoting=0, keep_default_na=False)\n",
    "    tipos = tiposAll.loc[tiposAll['domain'] == domain]        \n",
    "    if trainOnly:\n",
    "        # verificando aspectos encontrados no conjunto de treinamento\n",
    "        # corrigindo formato aspectsTest\n",
    "        aspectsTrain2 = { \n",
    "            dataset : { \n",
    "                'aspects'        : {'item' : aspectsTrain[dataset]['aspects'] },\n",
    "                'aspectsLemma'   : {'item' : aspectsTrain[dataset]['aspectsLemma'] },\n",
    "                'implicitsLemma' : {'item' : aspectsTrain[dataset]['implicitsLemma'] },\n",
    "                'explicitsLemma' : {'item' : aspectsTrain[dataset]['explicitsLemma'] },\n",
    "                'implicits'      : {'item' : aspectsTrain[dataset]['implicits'] },\n",
    "                'explicits'      : {'item' : aspectsTrain[dataset]['explicits'] },\n",
    "            }\n",
    "        }    \n",
    "        aspectosTreino = []\n",
    "        for aspecto in aspectosEncontrados:\n",
    "            for frase in frases:\n",
    "                if aspecto in frase and aspecto not in aspectosTreino:\n",
    "                    aspectosTreino.append(aspecto)\n",
    "        ret = calculaMetricas(\n",
    "            aspectosTreino, \n",
    "            aspectsTrain2[dataset], \n",
    "            tipos,\n",
    "            lemma=False, \n",
    "            output=False\n",
    "        )\n",
    "    else:\n",
    "        # validar no conjunto de testes\n",
    "        # corrigindo formato aspectsTest\n",
    "        aspectsTest2 = { \n",
    "            dataset : { \n",
    "                'aspects'        : {'item' : aspectsTest[dataset]['aspects'] },\n",
    "                'aspectsLemma'   : {'item' : aspectsTest[dataset]['aspectsLemma'] },\n",
    "                'implicitsLemma' : {'item' : aspectsTest[dataset]['implicitsLemma'] },\n",
    "                'explicitsLemma' : {'item' : aspectsTest[dataset]['explicitsLemma'] },\n",
    "                'implicits'      : {'item' : aspectsTest[dataset]['implicits'] },\n",
    "                'explicits'      : {'item' : aspectsTest[dataset]['explicits'] },\n",
    "            }\n",
    "        }    \n",
    "        # verificando aspectos encontrados no conjunto de testes\n",
    "        aspectosTeste = []\n",
    "        for aspecto in aspectosEncontrados:\n",
    "            for frase in frasesTeste:\n",
    "                if aspecto in frase and aspecto not in aspectosTeste:\n",
    "                    aspectosTeste.append(aspecto)\n",
    "        ret = calculaMetricas(\n",
    "            aspectosTeste, \n",
    "            aspectsTest2[dataset], \n",
    "            tipos,\n",
    "            lemma=False, \n",
    "            output=False\n",
    "        )\n",
    "    ret['dataset'] = dataset\n",
    "    ret['cut'] = cutValue\n",
    "    ret['infW2V'] = infW2V\n",
    "    ret['W2V'] = W2V\n",
    "    \n",
    "    # gerando resultado em xml\n",
    "    xml = dicttoxml(ret, attr_type=False, custom_root='resultados')\n",
    "    xmlArq = arquivo.split('.')[0]\n",
    "    with open('../resultados/'+xmlArq+'_'+str(cutValue)+'_'+domain+'.xml', 'w') as file:\n",
    "        dom = parseString(xml)\n",
    "        file.write(dom.toprettyxml())                    \n",
    "    # gerando resultado em json\n",
    "    with open(arquivo, 'a') as fp:\n",
    "        json.dump(ret, fp)\n",
    "        fp.write(\"\\n\")\n",
    "    return ret"
   ]
  },
  {
   "cell_type": "code",
   "execution_count": 59,
   "metadata": {},
   "outputs": [],
   "source": [
    "def huliuCharts(arquivo, W2V=False, infW2V=False):\n",
    "    resultados = []\n",
    "    for dataset in datasets:\n",
    "        precisionResults = []\n",
    "        recallResults = []\n",
    "        fResults = []\n",
    "        impResults = []\n",
    "        expResults = []\n",
    "        confResults = []\n",
    "        maxF = 0\n",
    "        maxCut = 0\n",
    "        for i in np.arange(0, 0.1001, 0.0001):\n",
    "            cut = round(i,4)\n",
    "            pcut = round(i*100,2)\n",
    "            with open(arquivo) as fp:\n",
    "                for cnt, line in enumerate(fp):\n",
    "                    if len(line) > 1:\n",
    "                        resultado = json.loads(line)\n",
    "                        if (resultado['dataset'] == dataset and resultado['cut'] == cut):\n",
    "                            precisionResults.append(resultado['precisao'])\n",
    "                            recallResults.append(resultado['revocacao'])\n",
    "                            fResults.append(resultado['medidaf'])\n",
    "                            impResults.append(resultado['pImplicitos'])\n",
    "                            expResults.append(resultado['pExplicitos'])\n",
    "                            confResults.append(pcut)\n",
    "                            if resultado['medidaf'] > maxF:\n",
    "                                maxF = resultado['medidaf']\n",
    "                                maxCut = pcut\n",
    "                                maxRes = resultado\n",
    "        pyplot.plot(confResults, fResults, label='F-measure')\n",
    "        pyplot.plot(confResults, impResults, label='Implicits')\n",
    "        pyplot.plot(confResults, precisionResults, label='Precision')\n",
    "        pyplot.plot(confResults, recallResults, label='Recall')\n",
    "        pyplot.xlabel('Porcentagem corte')\n",
    "        pyplot.title(f'Corpus: {dataset} - Med. F: {maxF:.2f} - Implícitos: {maxRes[\"pImplicitos\"]*100:.2f} - Corte: {maxCut:.2f}')\n",
    "        pyplot.legend(bbox_to_anchor=(1.05, 1), loc='upper left')\n",
    "        arqnome = \"charts/\" + arquivo[:-5] + dataset + '.png'\n",
    "        pyplot.savefig(arqnome, bbox_inches = \"tight\")\n",
    "        pyplot.show()\n",
    "        pyplot.close()\n",
    "        resultados.append(maxRes)\n",
    "        \n",
    "    # validando no conjunto de testes\n",
    "    resultados2 = []\n",
    "    resultados2.append(huLiu('camera',     idioma='pt', cutValue=resultados[0][\"cut\"], debugFlag=False, trainOnly=False, W2V=W2V, infW2V=infW2V))\n",
    "    resultados2.append(huLiu('livro',      idioma='pt', cutValue=resultados[1][\"cut\"], debugFlag=False, trainOnly=False, W2V=W2V, infW2V=infW2V))\n",
    "    resultados2.append(huLiu('smartphone', idioma='pt', cutValue=resultados[2][\"cut\"], debugFlag=False, trainOnly=False, W2V=W2V, infW2V=infW2V))\n",
    "    tblName = arquivo[:-5]\n",
    "    latex = '\\\\begin{table}[!htb]\\n'\n",
    "    latex += '\\centering\\n'\n",
    "    latex += '\\caption{Hu \\& Liu: Vargas Datasets}\\n'\n",
    "    latex += '\\label{tab:'+tblName+'}\\n'\n",
    "    latex += '\\\\begin{tabular}{lcccccc}\\n'\n",
    "    latex += '    \\hline\\n'\n",
    "    latex += '    Dataset &  \\% Corte & Prec. & Rev. & F & \\% Exp. & \\% Imp.   \\\\\\\\ \\hline\\n'\n",
    "    latex += f'Câmera     &  {resultados2[0][\"cut\"]*100:.2f} &  {resultados2[0][\"precisao\"]:.2f} & {resultados2[0][\"revocacao\"]:.2f} & {resultados2[0][\"medidaf\"]:.2f} & {resultados2[0][\"pExplicitos\"]*100:.2f} & {resultados2[0][\"pImplicitos\"]*100:.2f} \\\\\\\\\\n'.replace('.',',')\n",
    "    latex += f'Livro      &  {resultados2[1][\"cut\"]*100:.2f} &  {resultados2[1][\"precisao\"]:.2f} & {resultados2[1][\"revocacao\"]:.2f} & {resultados2[1][\"medidaf\"]:.2f} & {resultados2[1][\"pExplicitos\"]*100:.2f} & {resultados2[1][\"pImplicitos\"]*100:.2f} \\\\\\\\\\n'.replace('.',',')\n",
    "    latex += f'Smartphone &  {resultados2[2][\"cut\"]*100:.2f} &  {resultados2[2][\"precisao\"]:.2f} & {resultados2[2][\"revocacao\"]:.2f} & {resultados2[2][\"medidaf\"]:.2f} & {resultados2[2][\"pExplicitos\"]*100:.2f} & {resultados2[2][\"pImplicitos\"]*100:.2f} \\\\\\\\ \\\\hline\\n'.replace('.',',')\n",
    "    latex += '\\end{tabular}\\n'\n",
    "    latex += '\\end{table}\\n'\n",
    "    arqnome = \"charts/\" + arquivo[:-5] + 'Table.tex'\n",
    "    with open(arqnome, 'w') as fp:\n",
    "        fp.write(latex)\n",
    "    print(latex)        \n",
    "    return resultados"
   ]
  },
  {
   "cell_type": "markdown",
   "metadata": {},
   "source": [
    "## Hu e Liu"
   ]
  },
  {
   "cell_type": "code",
   "execution_count": 60,
   "metadata": {},
   "outputs": [
    {
     "data": {
      "image/png": "[encoded data removed]",
      "text/plain": [
       "<Figure size 432x288 with 1 Axes>"
      ]
     },
     "metadata": {
      "needs_background": "light"
     },
     "output_type": "display_data"
    },
    {
     "data": {
      "image/png": "[encoded data removed]",
      "text/plain": [
       "<Figure size 432x288 with 1 Axes>"
      ]
     },
     "metadata": {
      "needs_background": "light"
     },
     "output_type": "display_data"
    },
    {
     "data": {
      "image/png": "[encoded data removed]",
      "text/plain": [
       "<Figure size 432x288 with 1 Axes>"
      ]
     },
     "metadata": {
      "needs_background": "light"
     },
     "output_type": "display_data"
    },
    {
     "data": {
      "image/png": "[encoded data removed]",
      "text/plain": [
       "<Figure size 432x288 with 1 Axes>"
      ]
     },
     "metadata": {
      "needs_background": "light"
     },
     "output_type": "display_data"
    },
    {
     "name": "stdout",
     "output_type": "stream",
     "text": [
      "\\begin{table}[!htb]\n",
      "\\centering\n",
      "\\caption{Hu \\& Liu: Vargas Datasets}\n",
      "\\label{tab:huLiu}\n",
      "\\begin{tabular}{lcccccc}\n",
      "    \\hline\n",
      "    Dataset &  \\% Corte & Prec. & Rev. & F & \\% Exp. & \\% Imp.   \\\\ \\hline\n",
      "Câmera     &  1,58 &  0,71 & 0,23 & 0,35 & 9,89 & 0,00 \\\\\n",
      "Livro      &  1,66 &  0,68 & 0,44 & 0,53 & 9,76 & 0,00 \\\\\n",
      "Smartphone &  1,60 &  0,74 & 0,33 & 0,46 & 11,94 & 8,33 \\\\ \\hline\n",
      "\\end{tabular}\n",
      "\\end{table}\n",
      "\n"
     ]
    }
   ],
   "source": [
    "arquivo = \"huLiu.json\"\n",
    "if os.path.exists(arquivo):\n",
    "    os.remove(arquivo)\n",
    "resultados = []\n",
    "# aplicando corte entre 0% e 1% com incremento de 0.01\n",
    "for dataset in datasets:\n",
    "    for i in np.arange(0, 0.1001, 0.0001):\n",
    "        i = round(i,4)\n",
    "        res = huLiu(dataset, idioma='pt', cutValue=i, debugFlag=False, arquivo=arquivo)\n",
    "        resultados.append(res)\n",
    "num_lines = sum(1 for line in open(arquivo))\n",
    "resHuLiu = huliuCharts(arquivo)"
   ]
  },
  {
   "cell_type": "code",
   "execution_count": 64,
   "metadata": {},
   "outputs": [
    {
     "data": {
      "text/plain": [
       "{'totalAspects': 518,\n",
       " 'pred': 96,\n",
       " 'tp': 237,\n",
       " 'fp': 65,\n",
       " 'fn': 281,\n",
       " 'precisao': 0.7847682119205298,\n",
       " 'precisaoLaplace': 0.7828947368421053,\n",
       " 'revocacao': 0.4575289575289575,\n",
       " 'medidaf': 0.5780487804878048,\n",
       " 'totalExplicitos': 292,\n",
       " 'explicitosOk': 21,\n",
       " 'pExplicitos': 0.07191780821917808,\n",
       " 'explicitsList': ['funcionário',\n",
       "  'toalha',\n",
       "  'cidade',\n",
       "  'corredor',\n",
       "  'recepção',\n",
       "  'carpete',\n",
       "  'instalações',\n",
       "  'localização',\n",
       "  'aeroporto',\n",
       "  'preço',\n",
       "  'quarto',\n",
       "  'chuveiro',\n",
       "  'apartamento',\n",
       "  'hotel',\n",
       "  'conforto',\n",
       "  'internet',\n",
       "  'funcionários',\n",
       "  'atendimento',\n",
       "  'serviço',\n",
       "  'limpeza',\n",
       "  'elevador'],\n",
       " 'totalImplicitos': 226,\n",
       " 'implicitosOk': 18,\n",
       " 'pImplicitos': 0.07964601769911504,\n",
       " 'implicitsList': ['café',\n",
       "  'aquecedor',\n",
       "  'carpete',\n",
       "  'transfer',\n",
       "  'proximo',\n",
       "  'localização',\n",
       "  'sujo',\n",
       "  'banheiro',\n",
       "  'quarto',\n",
       "  'chuveiro',\n",
       "  'apartamento',\n",
       "  'barato',\n",
       "  'chiqueiro',\n",
       "  'atendimento',\n",
       "  'limpeza',\n",
       "  'elevador',\n",
       "  'cama',\n",
       "  'banheiros'],\n",
       " 'tipos': {'Feature': {'Is-a': 5, 'Part-of': 30, 'Equivalence': 9},\n",
       "  'Contextual': {'Related': 1},\n",
       "  'Qualification': {'Adjective': 8, 'Equivalence': 1},\n",
       "  'Event': {'Non-verbal form': 2}},\n",
       " 'dataset': 'hotel',\n",
       " 'cut': 0.0015,\n",
       " 'infW2V': False,\n",
       " 'W2V': False}"
      ]
     },
     "execution_count": 64,
     "metadata": {},
     "output_type": "execute_result"
    }
   ],
   "source": [
    "# resultados com tipologia\n",
    "huLiu('camera',     idioma='pt', cutValue=0.0158, debugFlag=False, arquivo='huliu.json', trainOnly=False)\n",
    "huLiu('livro',      idioma='pt', cutValue=0.0166, debugFlag=False, arquivo='huliu.json', trainOnly=False)\n",
    "huLiu('smartphone', idioma='pt', cutValue=0.0160, debugFlag=False, arquivo='huliu.json', trainOnly=False)\n",
    "huLiu('hotel',      idioma='pt', cutValue=0.0015, debugFlag=False, arquivo='huliu.json', trainOnly=False)"
   ]
  },
  {
   "cell_type": "markdown",
   "metadata": {},
   "source": [
    "## Hu Liu Word2Vec"
   ]
  },
  {
   "cell_type": "code",
   "execution_count": 93,
   "metadata": {},
   "outputs": [
    {
     "name": "stdout",
     "output_type": "stream",
     "text": [
      "4004\n"
     ]
    },
    {
     "data": {
      "image/png": "[encoded data removed]",
      "text/plain": [
       "<Figure size 432x288 with 1 Axes>"
      ]
     },
     "metadata": {
      "needs_background": "light"
     },
     "output_type": "display_data"
    },
    {
     "data": {
      "image/png": "[encoded data removed]",
      "text/plain": [
       "<Figure size 432x288 with 1 Axes>"
      ]
     },
     "metadata": {
      "needs_background": "light"
     },
     "output_type": "display_data"
    },
    {
     "data": {
      "image/png": "[encoded data removed]",
      "text/plain": [
       "<Figure size 432x288 with 1 Axes>"
      ]
     },
     "metadata": {
      "needs_background": "light"
     },
     "output_type": "display_data"
    },
    {
     "data": {
      "image/png": "[encoded data removed]",
      "text/plain": [
       "<Figure size 432x288 with 1 Axes>"
      ]
     },
     "metadata": {
      "needs_background": "light"
     },
     "output_type": "display_data"
    },
    {
     "name": "stdout",
     "output_type": "stream",
     "text": [
      "\\begin{table}[!htb]\n",
      "\\centering\n",
      "\\caption{Hu \\& Liu: Vargas Datasets}\n",
      "\\label{tab:huLiuW2V}\n",
      "\\begin{tabular}{lcccccc}\n",
      "    \\hline\n",
      "    Dataset &  \\% Corte & Prec. & Rev. & F & \\% Exp. & \\% Imp.   \\\\ \\hline\n",
      "Câmera     &  3,15 &  0,71 & 0,23 & 0,35 & 9,89 & 0,00 \\\\\n",
      "Livro      &  1,66 &  0,70 & 0,43 & 0,53 & 8,54 & 0,00 \\\\\n",
      "Smartphone &  0,00 &  0,64 & 0,30 & 0,41 & 11,94 & 8,33 \\\\ \\hline\n",
      "\\end{tabular}\n",
      "\\end{table}\n",
      "\n"
     ]
    }
   ],
   "source": [
    "arquivo = 'huLiuW2V.json'\n",
    "if os.path.exists(arquivo):\n",
    "    os.remove(arquivo)\n",
    "resultados = []\n",
    "# aplicando corte entre 0% e 1% com incremento de 0.01\n",
    "for dataset in datasets:\n",
    "    for i in np.arange(0, 0.1001, 0.0001):\n",
    "        i = round(i,4)\n",
    "        res = huLiu(dataset, idioma='pt', cutValue=i, debugFlag=False, W2V=True, arquivo=arquivo)\n",
    "        resultados.append(res)\n",
    "num_lines = sum(1 for line in open(arquivo))\n",
    "print(num_lines)\n",
    "resHuLiuW2V = huliuCharts(arquivo, W2V=True)"
   ]
  },
  {
   "cell_type": "code",
   "execution_count": 65,
   "metadata": {},
   "outputs": [
    {
     "data": {
      "text/plain": [
       "{'totalAspects': 518,\n",
       " 'pred': 101,\n",
       " 'tp': 243,\n",
       " 'fp': 66,\n",
       " 'fn': 275,\n",
       " 'precisao': 0.7864077669902912,\n",
       " 'precisaoLaplace': 0.7845659163987139,\n",
       " 'revocacao': 0.4691119691119691,\n",
       " 'medidaf': 0.5876662636033858,\n",
       " 'totalExplicitos': 292,\n",
       " 'explicitosOk': 23,\n",
       " 'pExplicitos': 0.07876712328767123,\n",
       " 'explicitsList': ['funcionário',\n",
       "  'toalha',\n",
       "  'cidade',\n",
       "  'corredor',\n",
       "  'recepção',\n",
       "  'gerente',\n",
       "  'carpete',\n",
       "  'instalações',\n",
       "  'localização',\n",
       "  'aeroporto',\n",
       "  'preço',\n",
       "  'quarto',\n",
       "  'chuveiro',\n",
       "  'apartamento',\n",
       "  'hotel',\n",
       "  'conforto',\n",
       "  'internet',\n",
       "  'estacionamento',\n",
       "  'funcionários',\n",
       "  'atendimento',\n",
       "  'serviço',\n",
       "  'limpeza',\n",
       "  'elevador'],\n",
       " 'totalImplicitos': 226,\n",
       " 'implicitosOk': 21,\n",
       " 'pImplicitos': 0.09292035398230089,\n",
       " 'implicitsList': ['café',\n",
       "  'aquecedor',\n",
       "  'carpete',\n",
       "  'transfer',\n",
       "  'proximo',\n",
       "  'localização',\n",
       "  'atendentes',\n",
       "  'sujo',\n",
       "  'banheiro',\n",
       "  'quarto',\n",
       "  'chuveiro',\n",
       "  'apartamento',\n",
       "  'recepcionista',\n",
       "  'barato',\n",
       "  'estacionamento',\n",
       "  'chiqueiro',\n",
       "  'atendimento',\n",
       "  'limpeza',\n",
       "  'elevador',\n",
       "  'cama',\n",
       "  'banheiros'],\n",
       " 'tipos': {'Feature': {'Is-a': 6, 'Part-of': 32, 'Equivalence': 9},\n",
       "  'Contextual': {'Related': 1},\n",
       "  'Qualification': {'Adjective': 8, 'Equivalence': 1},\n",
       "  'Event': {'Non-verbal form': 2}},\n",
       " 'dataset': 'hotel',\n",
       " 'cut': 0.0015,\n",
       " 'infW2V': False,\n",
       " 'W2V': True}"
      ]
     },
     "execution_count": 65,
     "metadata": {},
     "output_type": "execute_result"
    }
   ],
   "source": [
    "# resultados com tipologia\n",
    "huLiu('camera',     idioma='pt', cutValue=0.0315, debugFlag=False, arquivo='huliuw2v.json', trainOnly=False, W2V=True, infW2V=False)\n",
    "huLiu('livro',      idioma='pt', cutValue=0.0166, debugFlag=False, arquivo='huliuw2v.json', trainOnly=False, W2V=True, infW2V=False)\n",
    "huLiu('smartphone', idioma='pt', cutValue=0.0000, debugFlag=False, arquivo='huliuw2v.json', trainOnly=False, W2V=True, infW2V=False)\n",
    "huLiu('hotel',      idioma='pt', cutValue=0.0015, debugFlag=False, arquivo='huliuw2v.json', trainOnly=False, W2V=True, infW2V=False)"
   ]
  },
  {
   "cell_type": "markdown",
   "metadata": {},
   "source": [
    "## Hu Liu Word2Vec nos aspectos infrequentes"
   ]
  },
  {
   "cell_type": "code",
   "execution_count": 94,
   "metadata": {},
   "outputs": [
    {
     "name": "stdout",
     "output_type": "stream",
     "text": [
      "4004\n"
     ]
    },
    {
     "data": {
      "image/png": "[encoded data removed]",
      "text/plain": [
       "<Figure size 432x288 with 1 Axes>"
      ]
     },
     "metadata": {
      "needs_background": "light"
     },
     "output_type": "display_data"
    },
    {
     "data": {
      "image/png": "[encoded data removed]",
      "text/plain": [
       "<Figure size 432x288 with 1 Axes>"
      ]
     },
     "metadata": {
      "needs_background": "light"
     },
     "output_type": "display_data"
    },
    {
     "data": {
      "image/png": "[encoded data removed]",
      "text/plain": [
       "<Figure size 432x288 with 1 Axes>"
      ]
     },
     "metadata": {
      "needs_background": "light"
     },
     "output_type": "display_data"
    },
    {
     "data": {
      "image/png": "[encoded data removed]",
      "text/plain": [
       "<Figure size 432x288 with 1 Axes>"
      ]
     },
     "metadata": {
      "needs_background": "light"
     },
     "output_type": "display_data"
    },
    {
     "name": "stdout",
     "output_type": "stream",
     "text": [
      "\\begin{table}[!htb]\n",
      "\\centering\n",
      "\\caption{Hu \\& Liu: Vargas Datasets}\n",
      "\\label{tab:huLiuinfW2V}\n",
      "\\begin{tabular}{lcccccc}\n",
      "    \\hline\n",
      "    Dataset &  \\% Corte & Prec. & Rev. & F & \\% Exp. & \\% Imp.   \\\\ \\hline\n",
      "Câmera     &  1,58 &  0,78 & 0,27 & 0,40 & 12,09 & 0,00 \\\\\n",
      "Livro      &  1,66 &  0,77 & 0,43 & 0,55 & 8,54 & 0,00 \\\\\n",
      "Smartphone &  6,38 &  0,75 & 0,28 & 0,41 & 11,94 & 4,17 \\\\ \\hline\n",
      "\\end{tabular}\n",
      "\\end{table}\n",
      "\n"
     ]
    }
   ],
   "source": [
    "arquivo = 'huLiuinfW2V.json'\n",
    "if os.path.exists(arquivo):\n",
    "    os.remove(arquivo)\n",
    "resultados = []\n",
    "# aplicando corte entre 0% e 1% com incremento de 0.01\n",
    "for dataset in datasets:\n",
    "    for i in np.arange(0, 0.1001, 0.0001):\n",
    "        i = round(i,4)\n",
    "        res = huLiu(dataset, idioma='pt', cutValue=i, debugFlag=False, infW2V=True, arquivo=arquivo)\n",
    "        resultados.append(res)\n",
    "num_lines = sum(1 for line in open(arquivo))\n",
    "print(num_lines)\n",
    "resHuLiuInfW2V = huliuCharts(arquivo, infW2V=True)"
   ]
  },
  {
   "cell_type": "code",
   "execution_count": 67,
   "metadata": {},
   "outputs": [
    {
     "data": {
      "text/plain": [
       "{'totalAspects': 518,\n",
       " 'pred': 83,\n",
       " 'tp': 235,\n",
       " 'fp': 51,\n",
       " 'fn': 283,\n",
       " 'precisao': 0.8216783216783217,\n",
       " 'precisaoLaplace': 0.8194444444444444,\n",
       " 'revocacao': 0.45366795366795365,\n",
       " 'medidaf': 0.5845771144278606,\n",
       " 'totalExplicitos': 292,\n",
       " 'explicitosOk': 22,\n",
       " 'pExplicitos': 0.07534246575342465,\n",
       " 'explicitsList': ['funcionário',\n",
       "  'toalha',\n",
       "  'corredor',\n",
       "  'recepção',\n",
       "  'carpete',\n",
       "  'instalações',\n",
       "  'localização',\n",
       "  'aeroporto',\n",
       "  'preço',\n",
       "  'quarto',\n",
       "  'chuveiro',\n",
       "  'apartamento',\n",
       "  'hotel',\n",
       "  'conforto',\n",
       "  'internet',\n",
       "  'funcionários',\n",
       "  'torneira',\n",
       "  'atendimento',\n",
       "  'farmácia',\n",
       "  'serviço',\n",
       "  'limpeza',\n",
       "  'elevador'],\n",
       " 'totalImplicitos': 226,\n",
       " 'implicitosOk': 19,\n",
       " 'pImplicitos': 0.084070796460177,\n",
       " 'implicitsList': ['café',\n",
       "  'aquecedor',\n",
       "  'carpete',\n",
       "  'transfer',\n",
       "  'proximo',\n",
       "  'localização',\n",
       "  'sujo',\n",
       "  'banheiro',\n",
       "  'quarto',\n",
       "  'chuveiro',\n",
       "  'apartamento',\n",
       "  'recepcionista',\n",
       "  'torneira',\n",
       "  'chiqueiro',\n",
       "  'atendimento',\n",
       "  'limpeza',\n",
       "  'elevador',\n",
       "  'cama',\n",
       "  'banheiros'],\n",
       " 'tipos': {'Feature': {'Is-a': 6, 'Part-of': 31, 'Equivalence': 9},\n",
       "  'Contextual': {'Related': 1},\n",
       "  'Qualification': {'Adjective': 6, 'Equivalence': 1},\n",
       "  'Event': {'Non-verbal form': 2}},\n",
       " 'dataset': 'hotel',\n",
       " 'cut': 0.0015,\n",
       " 'infW2V': True,\n",
       " 'W2V': False}"
      ]
     },
     "execution_count": 67,
     "metadata": {},
     "output_type": "execute_result"
    }
   ],
   "source": [
    "# resultados com tipologia\n",
    "huLiu('camera',     idioma='pt', cutValue=0.0158, debugFlag=False, arquivo='huliuw2vinf.json', trainOnly=False, W2V=False, infW2V=True)\n",
    "huLiu('livro',      idioma='pt', cutValue=0.0166, debugFlag=False, arquivo='huliuw2vinf.json', trainOnly=False, W2V=False, infW2V=True)\n",
    "huLiu('smartphone', idioma='pt', cutValue=0.0638, debugFlag=False, arquivo='huliuw2vinf.json', trainOnly=False, W2V=False, infW2V=True)\n",
    "huLiu('hotel',      idioma='pt', cutValue=0.0015, debugFlag=False, arquivo='huliuw2vinf.json', trainOnly=False, W2V=False, infW2V=True)"
   ]
  },
  {
   "cell_type": "markdown",
   "metadata": {},
   "source": [
    "## Hu Liu Word2Vec e Word2Vec nos aspectos infrequentes"
   ]
  },
  {
   "cell_type": "code",
   "execution_count": 95,
   "metadata": {},
   "outputs": [
    {
     "name": "stdout",
     "output_type": "stream",
     "text": [
      "resultados 4004\n"
     ]
    },
    {
     "data": {
      "image/png": "[encoded data removed]",
      "text/plain": [
       "<Figure size 432x288 with 1 Axes>"
      ]
     },
     "metadata": {
      "needs_background": "light"
     },
     "output_type": "display_data"
    },
    {
     "data": {
      "image/png": "[encoded data removed]",
      "text/plain": [
       "<Figure size 432x288 with 1 Axes>"
      ]
     },
     "metadata": {
      "needs_background": "light"
     },
     "output_type": "display_data"
    },
    {
     "data": {
      "image/png": "[encoded data removed]",
      "text/plain": [
       "<Figure size 432x288 with 1 Axes>"
      ]
     },
     "metadata": {
      "needs_background": "light"
     },
     "output_type": "display_data"
    },
    {
     "data": {
      "image/png": "[encoded data removed]",
      "text/plain": [
       "<Figure size 432x288 with 1 Axes>"
      ]
     },
     "metadata": {
      "needs_background": "light"
     },
     "output_type": "display_data"
    },
    {
     "name": "stdout",
     "output_type": "stream",
     "text": [
      "\\begin{table}[!htb]\n",
      "\\centering\n",
      "\\caption{Hu \\& Liu: Vargas Datasets}\n",
      "\\label{tab:huLiuW2VinfW2V}\n",
      "\\begin{tabular}{lcccccc}\n",
      "    \\hline\n",
      "    Dataset &  \\% Corte & Prec. & Rev. & F & \\% Exp. & \\% Imp.   \\\\ \\hline\n",
      "Câmera     &  3,15 &  0,77 & 0,26 & 0,39 & 10,99 & 0,00 \\\\\n",
      "Livro      &  1,66 &  0,77 & 0,43 & 0,55 & 8,54 & 0,00 \\\\\n",
      "Smartphone &  0,00 &  0,72 & 0,29 & 0,41 & 11,19 & 4,17 \\\\ \\hline\n",
      "\\end{tabular}\n",
      "\\end{table}\n",
      "\n"
     ]
    }
   ],
   "source": [
    "arquivo = 'huLiuW2VinfW2V.json'\n",
    "if os.path.exists(arquivo):\n",
    "    os.remove(arquivo)\n",
    "resultados = []\n",
    "# aplicando corte entre 0% e 1% com incremento de 0.01\n",
    "for dataset in datasets:\n",
    "    for i in np.arange(0, 0.1001, 0.0001):\n",
    "        i = round(i,4)\n",
    "        res = huLiu(dataset, idioma='pt', cutValue=i, debugFlag=False, W2V=True, infW2V=True, arquivo=arquivo)\n",
    "        resultados.append(res)\n",
    "num_lines = sum(1 for line in open(arquivo))\n",
    "print('resultados',num_lines)\n",
    "resHuLiuW2VInfW2V = huliuCharts(arquivo, W2V=True, infW2V=True)"
   ]
  },
  {
   "cell_type": "code",
   "execution_count": 68,
   "metadata": {},
   "outputs": [
    {
     "data": {
      "text/plain": [
       "{'totalAspects': 518,\n",
       " 'pred': 83,\n",
       " 'tp': 238,\n",
       " 'fp': 49,\n",
       " 'fn': 280,\n",
       " 'precisao': 0.8292682926829268,\n",
       " 'precisaoLaplace': 0.8269896193771626,\n",
       " 'revocacao': 0.4594594594594595,\n",
       " 'medidaf': 0.591304347826087,\n",
       " 'totalExplicitos': 292,\n",
       " 'explicitosOk': 23,\n",
       " 'pExplicitos': 0.07876712328767123,\n",
       " 'explicitsList': ['funcionário',\n",
       "  'toalha',\n",
       "  'corredor',\n",
       "  'recepção',\n",
       "  'gerente',\n",
       "  'carpete',\n",
       "  'instalações',\n",
       "  'localização',\n",
       "  'aeroporto',\n",
       "  'preço',\n",
       "  'quarto',\n",
       "  'chuveiro',\n",
       "  'apartamento',\n",
       "  'hotel',\n",
       "  'conforto',\n",
       "  'internet',\n",
       "  'estacionamento',\n",
       "  'funcionários',\n",
       "  'atendimento',\n",
       "  'farmácia',\n",
       "  'serviço',\n",
       "  'limpeza',\n",
       "  'elevador'],\n",
       " 'totalImplicitos': 226,\n",
       " 'implicitosOk': 20,\n",
       " 'pImplicitos': 0.08849557522123894,\n",
       " 'implicitsList': ['café',\n",
       "  'aquecedor',\n",
       "  'carpete',\n",
       "  'transfer',\n",
       "  'proximo',\n",
       "  'localização',\n",
       "  'atendentes',\n",
       "  'sujo',\n",
       "  'banheiro',\n",
       "  'quarto',\n",
       "  'chuveiro',\n",
       "  'apartamento',\n",
       "  'recepcionista',\n",
       "  'estacionamento',\n",
       "  'chiqueiro',\n",
       "  'atendimento',\n",
       "  'limpeza',\n",
       "  'elevador',\n",
       "  'cama',\n",
       "  'banheiros'],\n",
       " 'tipos': {'Feature': {'Is-a': 6, 'Part-of': 32, 'Equivalence': 9},\n",
       "  'Contextual': {'Related': 1},\n",
       "  'Qualification': {'Adjective': 6, 'Equivalence': 1},\n",
       "  'Event': {'Non-verbal form': 2}},\n",
       " 'dataset': 'hotel',\n",
       " 'cut': 0.0015,\n",
       " 'infW2V': True,\n",
       " 'W2V': True}"
      ]
     },
     "execution_count": 68,
     "metadata": {},
     "output_type": "execute_result"
    }
   ],
   "source": [
    "# resultados com tipologia\n",
    "huLiu('camera',     idioma='pt', cutValue=0.0315, debugFlag=False, arquivo='huliuw2vw2vinf.json', trainOnly=False, W2V=True, infW2V=True)\n",
    "huLiu('livro',      idioma='pt', cutValue=0.0166, debugFlag=False, arquivo='huliuw2vw2vinf.json', trainOnly=False, W2V=True, infW2V=True)\n",
    "huLiu('smartphone', idioma='pt', cutValue=0.0000, debugFlag=False, arquivo='huliuw2vw2vinf.json', trainOnly=False, W2V=True, infW2V=True)\n",
    "huLiu('hotel',      idioma='pt', cutValue=0.0015, debugFlag=False, arquivo='huliuw2vw2vinf.json', trainOnly=False, W2V=True, infW2V=True)"
   ]
  }
 ],
 "metadata": {
  "kernelspec": {
   "display_name": "doutorado",
   "language": "python",
   "name": "doutorado"
  },
  "language_info": {
   "codemirror_mode": {
    "name": "ipython",
    "version": 3
   },
   "file_extension": ".py",
   "mimetype": "text/x-python",
   "name": "python",
   "nbconvert_exporter": "python",
   "pygments_lexer": "ipython3",
   "version": "3.9.2"
  }
 },
 "nbformat": 4,
 "nbformat_minor": 4
}

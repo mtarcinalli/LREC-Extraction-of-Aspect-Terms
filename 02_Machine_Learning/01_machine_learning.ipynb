{
 "cells": [
  {
   "cell_type": "markdown",
   "metadata": {},
   "source": [
    "# Machine Learning Methods"
   ]
  },
  {
   "cell_type": "code",
   "execution_count": 20,
   "metadata": {},
   "outputs": [],
   "source": [
    "import pandas as pd\n",
    "import numpy as np\n",
    "import pickle\n",
    "import random\n",
    "from sklearn.feature_extraction import DictVectorizer\n",
    "from sklearn.feature_extraction.text import HashingVectorizer\n",
    "from sklearn.linear_model import Perceptron\n",
    "from sklearn.model_selection import train_test_split\n",
    "from sklearn.linear_model import SGDClassifier\n",
    "from sklearn.linear_model import PassiveAggressiveClassifier\n",
    "from sklearn.naive_bayes import MultinomialNB\n",
    "from sklearn.metrics import classification_report\n",
    "from sklearn.model_selection import GridSearchCV\n",
    "from sklearn.metrics import make_scorer\n",
    "from tqdm import tqdm\n",
    "import xmltodict\n",
    "from dicttoxml import dicttoxml\n",
    "from xml.dom.minidom import parseString"
   ]
  },
  {
   "cell_type": "code",
   "execution_count": 2,
   "metadata": {},
   "outputs": [
    {
     "name": "stdout",
     "output_type": "stream",
     "text": [
      "Loading functions...\n"
     ]
    }
   ],
   "source": [
    "%run ../funcoes.py"
   ]
  },
  {
   "cell_type": "code",
   "execution_count": 16,
   "metadata": {},
   "outputs": [],
   "source": [
    "f = open(\"data/aspectsTest.xml\",\"r\")\n",
    "xml = f.read()\n",
    "aspectsTest = xmltodict.parse(xml, process_namespaces=True)['datasets']"
   ]
  },
  {
   "cell_type": "markdown",
   "metadata": {},
   "source": [
    "## Pre Processing"
   ]
  },
  {
   "cell_type": "code",
   "execution_count": 6,
   "metadata": {},
   "outputs": [
    {
     "data": {
      "text/plain": [
       "((3386, 1590), (3386,), (1289, 1590), (1289,))"
      ]
     },
     "execution_count": 6,
     "metadata": {},
     "output_type": "execute_result"
    }
   ],
   "source": [
    "dfCamera = pd.read_csv('data/domain_camera_IOB.csv', sep='\\t', quoting=3)\n",
    "dfCameraTest = pd.read_csv('data/domain_camera_IOB_test.csv', sep='\\t', quoting=3)\n",
    "dfCameraTrain = pd.read_csv('data/domain_camera_IOB_train.csv', sep='\\t', quoting=3)\n",
    "\n",
    "dfCamera = dfCamera.fillna(method='ffill')\n",
    "dfCameraTest = dfCameraTest.fillna(method='ffill')\n",
    "dfCameraTrain = dfCameraTrain.fillna(method='ffill')\n",
    "\n",
    "X_camera = dfCamera.drop('Tag', axis=1)\n",
    "X_camera_train = dfCameraTrain.drop('Tag', axis=1)\n",
    "X_camera_test = dfCameraTest.drop('Tag', axis=1)\n",
    "\n",
    "v = DictVectorizer(sparse=False)\n",
    "v.fit(X_camera.to_dict('records'))\n",
    "\n",
    "X_camera = v.transform(X_camera.to_dict('records'))\n",
    "X_camera_train = v.transform(X_camera_train.to_dict('records'))\n",
    "X_camera_test = v.transform(X_camera_test.to_dict('records'))\n",
    "\n",
    "y_camera = dfCamera.Tag.values\n",
    "y_camera_train = dfCameraTrain.Tag.values\n",
    "y_camera_test = dfCameraTest.Tag.values\n",
    "\n",
    "X_camera_train.shape, y_camera_train.shape, X_camera_test.shape, y_camera_test.shape"
   ]
  },
  {
   "cell_type": "code",
   "execution_count": 7,
   "metadata": {},
   "outputs": [
    {
     "data": {
      "text/plain": [
       "['B-asp', 'I-asp', 'O']"
      ]
     },
     "execution_count": 7,
     "metadata": {},
     "output_type": "execute_result"
    }
   ],
   "source": [
    "classes = np.unique(y_camera)\n",
    "classes = classes.tolist()\n",
    "classes"
   ]
  },
  {
   "cell_type": "code",
   "execution_count": 8,
   "metadata": {},
   "outputs": [
    {
     "data": {
      "text/plain": [
       "['B-asp', 'I-asp']"
      ]
     },
     "execution_count": 8,
     "metadata": {},
     "output_type": "execute_result"
    }
   ],
   "source": [
    "new_classes = classes.copy()\n",
    "new_classes.pop()\n",
    "new_classes"
   ]
  },
  {
   "cell_type": "code",
   "execution_count": 9,
   "metadata": {},
   "outputs": [
    {
     "data": {
      "text/plain": [
       "((4743, 2046), (4743,), (1546, 2046), (1546,))"
      ]
     },
     "execution_count": 9,
     "metadata": {},
     "output_type": "execute_result"
    }
   ],
   "source": [
    "dfLivro = pd.read_csv('data/domain_livro_IOB.csv', sep='\\t', quoting=3)\n",
    "dfLivroTest = pd.read_csv('data/domain_livro_IOB_test.csv', sep='\\t', quoting=3)\n",
    "dfLivroTrain = pd.read_csv('data/domain_livro_IOB_train.csv', sep='\\t', quoting=3)\n",
    "\n",
    "dfLivro = dfLivro.fillna(method='ffill')\n",
    "dfLivroTest = dfLivroTest.fillna(method='ffill')\n",
    "dfLivroTrain = dfLivroTrain.fillna(method='ffill')\n",
    "\n",
    "X_livro = dfLivro.drop('Tag', axis=1)\n",
    "X_livro_train = dfLivroTrain.drop('Tag', axis=1)\n",
    "X_livro_test = dfLivroTest.drop('Tag', axis=1)\n",
    "\n",
    "v = DictVectorizer(sparse=False)\n",
    "v.fit(X_livro.to_dict('records'))\n",
    "\n",
    "X_livro = v.transform(X_livro.to_dict('records'))\n",
    "X_livro_train = v.transform(X_livro_train.to_dict('records'))\n",
    "X_livro_test = v.transform(X_livro_test.to_dict('records'))\n",
    "\n",
    "y_livro = dfLivro.Tag.values\n",
    "y_livro_train = dfLivroTrain.Tag.values\n",
    "y_livro_test = dfLivroTest.Tag.values\n",
    "\n",
    "X_livro_train.shape, y_livro_train.shape, X_livro_test.shape, y_livro_test.shape"
   ]
  },
  {
   "cell_type": "code",
   "execution_count": 10,
   "metadata": {},
   "outputs": [
    {
     "data": {
      "text/plain": [
       "((4655, 2207), (4655,), (2523, 2207), (2523,))"
      ]
     },
     "execution_count": 10,
     "metadata": {},
     "output_type": "execute_result"
    }
   ],
   "source": [
    "dfSmartphone = pd.read_csv('data/domain_smartphone_IOB.csv', sep='\\t', quoting=3)\n",
    "dfSmartphoneTest = pd.read_csv('data/domain_smartphone_IOB_test.csv', sep='\\t', quoting=3)\n",
    "dfSmartphoneTrain = pd.read_csv('data/domain_smartphone_IOB_train.csv', sep='\\t', quoting=3)\n",
    "\n",
    "dfSmartphone = dfSmartphone.fillna(method='ffill')\n",
    "dfSmartphoneTest = dfSmartphoneTest.fillna(method='ffill')\n",
    "dfSmartphoneTrain = dfSmartphoneTrain.fillna(method='ffill')\n",
    "\n",
    "X_smartphone = dfSmartphone.drop('Tag', axis=1)\n",
    "X_smartphone_train = dfSmartphoneTrain.drop('Tag', axis=1)\n",
    "X_smartphone_test = dfSmartphoneTest.drop('Tag', axis=1)\n",
    "\n",
    "v = DictVectorizer(sparse=False)\n",
    "v.fit(X_smartphone.to_dict('records'))\n",
    "\n",
    "X_smartphone = v.transform(X_smartphone.to_dict('records'))\n",
    "X_smartphone_train = v.transform(X_smartphone_train.to_dict('records'))\n",
    "X_smartphone_test = v.transform(X_smartphone_test.to_dict('records'))\n",
    "\n",
    "y_smartphone = dfSmartphone.Tag.values\n",
    "y_smartphone_train = dfSmartphoneTrain.Tag.values\n",
    "y_smartphone_test = dfSmartphoneTest.Tag.values\n",
    "\n",
    "X_smartphone_train.shape, y_smartphone_train.shape, X_smartphone_test.shape, y_smartphone_test.shape"
   ]
  },
  {
   "cell_type": "code",
   "execution_count": 11,
   "metadata": {},
   "outputs": [
    {
     "data": {
      "text/plain": [
       "((11402, 3946), (11402,), (4671, 3946), (4671,))"
      ]
     },
     "execution_count": 11,
     "metadata": {},
     "output_type": "execute_result"
    }
   ],
   "source": [
    "dfHotel = pd.read_csv('data/domain_hotel_IOB.csv', sep='\\t', quoting=3)\n",
    "dfHotelTest = pd.read_csv('data/domain_hotel_IOB_test.csv', sep='\\t', quoting=3)\n",
    "dfHotelTrain = pd.read_csv('data/domain_hotel_IOB_train.csv', sep='\\t', quoting=3)\n",
    "\n",
    "dfHotel = dfHotel.fillna(method='ffill')\n",
    "dfHotelTest = dfHotelTest.fillna(method='ffill')\n",
    "dfHotelTrain = dfHotelTrain.fillna(method='ffill')\n",
    "\n",
    "X_hotel = dfHotel.drop('Tag', axis=1)\n",
    "X_hotel_test = dfHotelTest.drop('Tag', axis=1)\n",
    "X_hotel_train = dfHotelTrain.drop('Tag', axis=1)\n",
    "\n",
    "v = DictVectorizer(sparse=False)\n",
    "v.fit(X_hotel.to_dict('records'))\n",
    "\n",
    "X_hotel = v.transform(X_hotel.to_dict('records'))\n",
    "X_hotel_test = v.transform(X_hotel_test.to_dict('records'))\n",
    "X_hotel_train = v.transform(X_hotel_train.to_dict('records'))\n",
    "\n",
    "y_hotel = dfHotel.Tag.values\n",
    "y_hotel_test = dfHotelTest.Tag.values\n",
    "y_hotel_train = dfHotelTrain.Tag.values\n",
    "\n",
    "X_hotel_train.shape, y_hotel_train.shape, X_hotel_test.shape, y_hotel_test.shape"
   ]
  },
  {
   "cell_type": "code",
   "execution_count": 13,
   "metadata": {},
   "outputs": [],
   "source": [
    "def result2aspecList(y_pred, dfTest):\n",
    "    aspectsList = []\n",
    "    aspect = []\n",
    "    for tag, token in zip(y_pred, dfTest['Word']):\n",
    "        if tag != 'O':\n",
    "            if tag == 'B-asp' and aspect:\n",
    "                aspectsList.append(\" \".join(aspect).lower())\n",
    "                aspect = []\n",
    "            aspect.append(token)\n",
    "    aspectsList = list(set(aspectsList))\n",
    "    aspectsList.sort()    \n",
    "    return aspectsList"
   ]
  },
  {
   "cell_type": "markdown",
   "metadata": {},
   "source": [
    "## Perceptron"
   ]
  },
  {
   "cell_type": "code",
   "execution_count": 41,
   "metadata": {},
   "outputs": [],
   "source": [
    "params = {\n",
    "    \"alpha\" : [0.0001, 0.001, 0.01, 0.1],\n",
    "    \"penalty\" : [\"l2\", \"l1\", \"elasticnet\", \"none\"],\n",
    "}\n",
    "model = Perceptron(verbose=0, n_jobs=-1, max_iter=2000)\n",
    "per = GridSearchCV(model, param_grid=params,  n_jobs=-1, scoring='f1_macro')"
   ]
  },
  {
   "cell_type": "markdown",
   "metadata": {},
   "source": [
    "### Camera"
   ]
  },
  {
   "cell_type": "code",
   "execution_count": 90,
   "metadata": {},
   "outputs": [],
   "source": [
    "# carregandao tipos\n",
    "domain='camera'\n",
    "tiposAll = pd.read_csv('../data/tipologia/categorias_iacs.csv', sep=',', quoting=0, keep_default_na=False)\n",
    "tipos = tiposAll.loc[tiposAll['domain'] == domain]"
   ]
  },
  {
   "cell_type": "code",
   "execution_count": 91,
   "metadata": {},
   "outputs": [
    {
     "name": "stdout",
     "output_type": "stream",
     "text": [
      "Best parameters from gridsearch: {'alpha': 0.0001, 'penalty': 'none'}\n",
      "CV score=0.546\n"
     ]
    },
    {
     "data": {
      "text/plain": [
       "{'totalAspects': 104,\n",
       " 'pred': 32,\n",
       " 'tp': 47,\n",
       " 'fp': 11,\n",
       " 'fn': 57,\n",
       " 'precisao': 0.8103448275862069,\n",
       " 'precisaoLaplace': 0.8,\n",
       " 'revocacao': 0.4519230769230769,\n",
       " 'medidaf': 0.5802469135802469,\n",
       " 'totalExplicitos': 91,\n",
       " 'explicitosOk': 20,\n",
       " 'pExplicitos': 0.21978021978021978,\n",
       " 'explicitsList': ['custo-benefício',\n",
       "  'funções',\n",
       "  'investimento',\n",
       "  'visor',\n",
       "  'máquina',\n",
       "  'recursos',\n",
       "  'zoom',\n",
       "  'camera',\n",
       "  'produto',\n",
       "  'lente',\n",
       "  'preço',\n",
       "  'fotos',\n",
       "  'resolução',\n",
       "  'manuseio',\n",
       "  'vídeos',\n",
       "  'tela',\n",
       "  'câmera',\n",
       "  'flash',\n",
       "  'acessórios',\n",
       "  'bateria'],\n",
       " 'totalImplicitos': 13,\n",
       " 'implicitosOk': 1,\n",
       " 'pImplicitos': 0.07692307692307693,\n",
       " 'implicitsList': ['compacta'],\n",
       " 'tipos': {'Qualification': {'Adjective': 4}}}"
      ]
     },
     "execution_count": 91,
     "metadata": {},
     "output_type": "execute_result"
    }
   ],
   "source": [
    "#per = Perceptron(verbose=0, n_jobs=-1, max_iter=1500)\n",
    "per.fit(X_camera_train, y_camera_train)\n",
    "print(\"Best parameters from gridsearch: {}\".format(per.best_params_))\n",
    "print(\"CV score=%0.3f\" % per.best_score_)\n",
    "y_camera_pred=per.predict(X_camera_test)\n",
    "aspectsCamera = result2aspecList(y_camera_pred, dfCameraTest)\n",
    "resCamera = calculaMetricas(\n",
    "    aspectsCamera, \n",
    "    aspectsTest['camera'], \n",
    "    tipos,\n",
    "    lemma=False, \n",
    "    output=False\n",
    ")\n",
    "resCamera"
   ]
  },
  {
   "cell_type": "code",
   "execution_count": 92,
   "metadata": {},
   "outputs": [],
   "source": [
    "xml = dicttoxml(resCamera, attr_type=False, custom_root='resultados')\n",
    "with open('../resultados/perceptron_'+domain+'.xml', 'w') as file:\n",
    "    dom = parseString(xml)\n",
    "    file.write(dom.toprettyxml())    "
   ]
  },
  {
   "cell_type": "markdown",
   "metadata": {},
   "source": [
    "### Livro"
   ]
  },
  {
   "cell_type": "code",
   "execution_count": 45,
   "metadata": {},
   "outputs": [],
   "source": [
    "# carregando tipos\n",
    "domain='livro'\n",
    "tiposAll = pd.read_csv('../data/tipologia/categorias_iacs.csv', sep=',', quoting=0, keep_default_na=False)\n",
    "tipos = tiposAll.loc[tiposAll['domain'] == domain]"
   ]
  },
  {
   "cell_type": "code",
   "execution_count": 46,
   "metadata": {},
   "outputs": [
    {
     "name": "stdout",
     "output_type": "stream",
     "text": [
      "Best parameters from gridsearch: {'alpha': 0.0001, 'penalty': 'elasticnet'}\n",
      "CV score=0.601\n"
     ]
    },
    {
     "data": {
      "text/plain": [
       "{'totalAspects': 87,\n",
       " 'pred': 1,\n",
       " 'tp': 14,\n",
       " 'fp': 0,\n",
       " 'fn': 73,\n",
       " 'precisao': 1.0,\n",
       " 'precisaoLaplace': 0.9375,\n",
       " 'revocacao': 0.16091954022988506,\n",
       " 'medidaf': 0.2772277227722772,\n",
       " 'totalExplicitos': 82,\n",
       " 'explicitosOk': 1,\n",
       " 'pExplicitos': 0.012195121951219513,\n",
       " 'explicitsList': ['livro'],\n",
       " 'totalImplicitos': 5,\n",
       " 'implicitosOk': 0,\n",
       " 'pImplicitos': 0.0,\n",
       " 'implicitsList': [],\n",
       " 'tipos': {}}"
      ]
     },
     "execution_count": 46,
     "metadata": {},
     "output_type": "execute_result"
    }
   ],
   "source": [
    "#per = Perceptron(verbose=0, n_jobs=-1, max_iter=1500)\n",
    "per.fit(X_livro_train, y_livro_train)\n",
    "print(\"Best parameters from gridsearch: {}\".format(per.best_params_))\n",
    "print(\"CV score=%0.3f\" % per.best_score_)\n",
    "y_livro_pred=per.predict(X_livro_test)\n",
    "aspectsListLivro = result2aspecList(y_livro_pred, dfLivroTest)\n",
    "resLivro = calculaMetricas(aspectsListLivro, aspectsTest['livro'], tipos, lemma=False, output=False)\n",
    "resLivro"
   ]
  },
  {
   "cell_type": "code",
   "execution_count": 47,
   "metadata": {},
   "outputs": [],
   "source": [
    "xml = dicttoxml(resLivro, attr_type=False, custom_root='resultados')\n",
    "with open('../resultados/perceptron_'+domain+'.xml', 'w') as file:\n",
    "    dom = parseString(xml)\n",
    "    file.write(dom.toprettyxml())    "
   ]
  },
  {
   "cell_type": "markdown",
   "metadata": {},
   "source": [
    "### Smartphone"
   ]
  },
  {
   "cell_type": "code",
   "execution_count": 48,
   "metadata": {},
   "outputs": [],
   "source": [
    "# carregando tipos\n",
    "domain='smartphone'\n",
    "tiposAll = pd.read_csv('../data/tipologia/categorias_iacs.csv', sep=',', quoting=0, keep_default_na=False)\n",
    "tipos = tiposAll.loc[tiposAll['domain'] == domain]"
   ]
  },
  {
   "cell_type": "code",
   "execution_count": 49,
   "metadata": {},
   "outputs": [
    {
     "name": "stdout",
     "output_type": "stream",
     "text": [
      "Best parameters from gridsearch: {'alpha': 0.0001, 'penalty': 'none'}\n",
      "CV score=0.518\n"
     ]
    },
    {
     "data": {
      "text/plain": [
       "{'totalAspects': 158,\n",
       " 'pred': 56,\n",
       " 'tp': 73,\n",
       " 'fp': 20,\n",
       " 'fn': 85,\n",
       " 'precisao': 0.7849462365591398,\n",
       " 'precisaoLaplace': 0.7789473684210526,\n",
       " 'revocacao': 0.4620253164556962,\n",
       " 'medidaf': 0.5816733067729084,\n",
       " 'totalExplicitos': 134,\n",
       " 'explicitosOk': 29,\n",
       " 'pExplicitos': 0.21641791044776118,\n",
       " 'explicitsList': ['design',\n",
       "  'praticidade',\n",
       "  'custo-benefício',\n",
       "  'marca',\n",
       "  'aparelho',\n",
       "  'camera digital',\n",
       "  'wi-fi',\n",
       "  'funções',\n",
       "  'memoria interna',\n",
       "  'sinal',\n",
       "  'visor',\n",
       "  'recursos',\n",
       "  'camera',\n",
       "  'produto',\n",
       "  'tamanho',\n",
       "  'fabricante',\n",
       "  'nokia',\n",
       "  'memoria',\n",
       "  'motorola',\n",
       "  'mp3',\n",
       "  'modelo',\n",
       "  'preço',\n",
       "  'celular',\n",
       "  'manuseio',\n",
       "  'touch',\n",
       "  'menu',\n",
       "  'botões',\n",
       "  'memória interna',\n",
       "  'bateria'],\n",
       " 'totalImplicitos': 24,\n",
       " 'implicitosOk': 7,\n",
       " 'pImplicitos': 0.2916666666666667,\n",
       " 'implicitsList': ['pesado',\n",
       "  'bonito',\n",
       "  'pequeno',\n",
       "  'moderno',\n",
       "  'prático',\n",
       "  'trava',\n",
       "  'leve'],\n",
       " 'tipos': {'Qualification': {'Adjective': 6}, 'Event': {'Verb': 2}}}"
      ]
     },
     "execution_count": 49,
     "metadata": {},
     "output_type": "execute_result"
    }
   ],
   "source": [
    "#per = Perceptron(verbose=0, n_jobs=-1, max_iter=1500)\n",
    "per.fit(X_smartphone_train, y_smartphone_train)\n",
    "print(\"Best parameters from gridsearch: {}\".format(per.best_params_))\n",
    "print(\"CV score=%0.3f\" % per.best_score_)\n",
    "y_smartphone_pred=per.predict(X_smartphone_test)\n",
    "aspectsListSmartphone = result2aspecList(y_smartphone_pred, dfSmartphoneTest)\n",
    "resSmartphone = calculaMetricas(aspectsListSmartphone, aspectsTest['smartphone'], tipos, lemma=False, output=False)\n",
    "resSmartphone"
   ]
  },
  {
   "cell_type": "code",
   "execution_count": 50,
   "metadata": {},
   "outputs": [],
   "source": [
    "domain='smartphone'\n",
    "xml = dicttoxml(resSmartphone, attr_type=False, custom_root='resultados')\n",
    "with open('../resultados/perceptron_'+domain+'.xml', 'w') as file:\n",
    "    dom = parseString(xml)\n",
    "    file.write(dom.toprettyxml())    "
   ]
  },
  {
   "cell_type": "markdown",
   "metadata": {},
   "source": [
    "### Hotel "
   ]
  },
  {
   "cell_type": "code",
   "execution_count": 54,
   "metadata": {},
   "outputs": [],
   "source": [
    "# carregando tipos\n",
    "domain='hotel'\n",
    "tiposAll = pd.read_csv('../data/tipologia/categorias_iacs.csv', sep=',', quoting=0, keep_default_na=False)\n",
    "tipos = tiposAll.loc[tiposAll['domain'] == domain]"
   ]
  },
  {
   "cell_type": "code",
   "execution_count": 55,
   "metadata": {},
   "outputs": [
    {
     "name": "stdout",
     "output_type": "stream",
     "text": [
      "Best parameters from gridsearch: {'alpha': 0.0001, 'penalty': 'none'}\n",
      "CV score=0.648\n"
     ]
    },
    {
     "data": {
      "text/plain": [
       "{'totalAspects': 518,\n",
       " 'pred': 85,\n",
       " 'tp': 331,\n",
       " 'fp': 23,\n",
       " 'fn': 187,\n",
       " 'precisao': 0.9350282485875706,\n",
       " 'precisaoLaplace': 0.9325842696629213,\n",
       " 'revocacao': 0.638996138996139,\n",
       " 'medidaf': 0.7591743119266056,\n",
       " 'totalExplicitos': 292,\n",
       " 'explicitosOk': 33,\n",
       " 'pExplicitos': 0.11301369863013698,\n",
       " 'explicitsList': ['localização',\n",
       "  'estabelecimento',\n",
       "  'apartamento',\n",
       "  'lavanderia',\n",
       "  'limpeza',\n",
       "  'piscina',\n",
       "  'elevador',\n",
       "  'lojas',\n",
       "  'estacionamento',\n",
       "  'shopping',\n",
       "  'pia',\n",
       "  'frigobar',\n",
       "  'carpete',\n",
       "  'portaria',\n",
       "  'funcionários',\n",
       "  'preço',\n",
       "  'tv',\n",
       "  'rua',\n",
       "  'recepção',\n",
       "  'aeroporto',\n",
       "  'padrão',\n",
       "  'cozinha',\n",
       "  'aparência',\n",
       "  'cidade',\n",
       "  'conforto',\n",
       "  'chuveiro',\n",
       "  'hotel',\n",
       "  'instalações',\n",
       "  'serviço',\n",
       "  'quarto',\n",
       "  'atendimento',\n",
       "  'rodoviária',\n",
       "  'telefone'],\n",
       " 'totalImplicitos': 226,\n",
       " 'implicitosOk': 41,\n",
       " 'pImplicitos': 0.18141592920353983,\n",
       " 'implicitsList': ['localização',\n",
       "  'perto',\n",
       "  'recepcionistas',\n",
       "  'cama',\n",
       "  'apartamento',\n",
       "  'sujos',\n",
       "  'barulho',\n",
       "  'limpeza',\n",
       "  'room service',\n",
       "  'piscina',\n",
       "  'estrutura',\n",
       "  'elevador',\n",
       "  'ar condicionado',\n",
       "  'estacionamento',\n",
       "  'coberto',\n",
       "  'comida',\n",
       "  'transfer',\n",
       "  'carpete',\n",
       "  'proximo',\n",
       "  'custo',\n",
       "  'limpos',\n",
       "  'wi-fi',\n",
       "  'limpo',\n",
       "  'cozinha',\n",
       "  'atendentes',\n",
       "  'proximidade',\n",
       "  'chuveiro',\n",
       "  'localizaçao',\n",
       "  'sujo',\n",
       "  'banheiros',\n",
       "  'limpas',\n",
       "  'recepcionista',\n",
       "  'box',\n",
       "  'apartamentos',\n",
       "  'próximo',\n",
       "  'quarto',\n",
       "  'atendimento',\n",
       "  'aquecedor',\n",
       "  'banheiro',\n",
       "  'caro',\n",
       "  'telefone'],\n",
       " 'tipos': {'Feature': {'Equivalence': 16, 'Is-a': 7, 'Part-of': 49},\n",
       "  'Qualification': {'Adjective': 35, 'Equivalence': 1, 'Nominal form': 1},\n",
       "  'Contextual': {'Related': 3},\n",
       "  'Event': {'Non-verbal form': 2}}}"
      ]
     },
     "execution_count": 55,
     "metadata": {},
     "output_type": "execute_result"
    }
   ],
   "source": [
    "#per = Perceptron(verbose=0, n_jobs=-1, max_iter=1500)\n",
    "per.fit(X_hotel_train, y_hotel_train)\n",
    "print(\"Best parameters from gridsearch: {}\".format(per.best_params_))\n",
    "print(\"CV score=%0.3f\" % per.best_score_)\n",
    "y_hotel_pred=per.predict(X_hotel_test)\n",
    "aspectsListHotel = result2aspecList(y_hotel_pred, dfHotelTest)\n",
    "resHotel = calculaMetricas(aspectsListHotel, aspectsTest['hotel'], tipos, lemma=False, output=False)\n",
    "resHotel"
   ]
  },
  {
   "cell_type": "code",
   "execution_count": 56,
   "metadata": {},
   "outputs": [],
   "source": [
    "xml = dicttoxml(resHotel, attr_type=False, custom_root='resultados')\n",
    "with open('../resultados/perceptron_'+domain+'.xml', 'w') as file:\n",
    "    dom = parseString(xml)\n",
    "    file.write(dom.toprettyxml())    "
   ]
  },
  {
   "cell_type": "markdown",
   "metadata": {},
   "source": [
    "### Resultados"
   ]
  },
  {
   "cell_type": "code",
   "execution_count": 29,
   "metadata": {},
   "outputs": [
    {
     "name": "stdout",
     "output_type": "stream",
     "text": [
      "Câmera     & Perceptron & 0,81 & 0,45 & 0,58 & 21,98 & 7,69 \\\\\n",
      "Livro      & Perceptron & 1,00 & 0,16 & 0,28 & 1,22 & 0,00 \\\\\n",
      "Smartphone & Perceptron & 0,78 & 0,46 & 0,58 & 21,64 & 29,17 \\\\\n"
     ]
    }
   ],
   "source": [
    "resultados = []\n",
    "resultados.append(resCamera)\n",
    "resultados.append(resLivro)\n",
    "resultados.append(resSmartphone)\n",
    "\n",
    "print(f'Câmera     & Perceptron & {resultados[0][\"precisao\"]:.2f} & {resultados[0][\"revocacao\"]:.2f} & {resultados[0][\"medidaf\"]:.2f} & {resultados[0][\"pExplicitos\"]*100:.2f} & {resultados[0][\"pImplicitos\"]*100:.2f} \\\\\\\\'.replace('.',','))\n",
    "print(f'Livro      & Perceptron & {resultados[1][\"precisao\"]:.2f} & {resultados[1][\"revocacao\"]:.2f} & {resultados[1][\"medidaf\"]:.2f} & {resultados[1][\"pExplicitos\"]*100:.2f} & {resultados[1][\"pImplicitos\"]*100:.2f} \\\\\\\\'.replace('.',','))\n",
    "print(f'Smartphone & Perceptron & {resultados[2][\"precisao\"]:.2f} & {resultados[2][\"revocacao\"]:.2f} & {resultados[2][\"medidaf\"]:.2f} & {resultados[2][\"pExplicitos\"]*100:.2f} & {resultados[2][\"pImplicitos\"]*100:.2f} \\\\\\\\'.replace('.',','))"
   ]
  },
  {
   "cell_type": "code",
   "execution_count": 178,
   "metadata": {},
   "outputs": [
    {
     "name": "stdout",
     "output_type": "stream",
     "text": [
      "Câmera     & Perceptron & 0,62 & 0,42 & 0,50 & 16,48 & 15,38 \\\\\n",
      "Livro      & Perceptron & 0,94 & 0,53 & 0,68 & 14,63 & 0,00 \\\\\n",
      "Smartphone & Perceptron & 0,81 & 0,41 & 0,55 & 17,91 & 25,00 \\\\\n"
     ]
    }
   ],
   "source": [
    "resultados = []\n",
    "resultados.append(resCamera)\n",
    "resultados.append(resLivro)\n",
    "resultados.append(resSmartphone)\n",
    "\n",
    "print(f'Câmera     & Perceptron & {resultados[0][\"precisao\"]:.2f} & {resultados[0][\"revocacao\"]:.2f} & {resultados[0][\"medidaf\"]:.2f} & {resultados[0][\"pExplicitos\"]*100:.2f} & {resultados[0][\"pImplicitos\"]*100:.2f} \\\\\\\\'.replace('.',','))\n",
    "print(f'Livro      & Perceptron & {resultados[1][\"precisao\"]:.2f} & {resultados[1][\"revocacao\"]:.2f} & {resultados[1][\"medidaf\"]:.2f} & {resultados[1][\"pExplicitos\"]*100:.2f} & {resultados[1][\"pImplicitos\"]*100:.2f} \\\\\\\\'.replace('.',','))\n",
    "print(f'Smartphone & Perceptron & {resultados[2][\"precisao\"]:.2f} & {resultados[2][\"revocacao\"]:.2f} & {resultados[2][\"medidaf\"]:.2f} & {resultados[2][\"pExplicitos\"]*100:.2f} & {resultados[2][\"pImplicitos\"]*100:.2f} \\\\\\\\'.replace('.',','))"
   ]
  },
  {
   "cell_type": "markdown",
   "metadata": {},
   "source": [
    "## Linear classifiers with SGD training"
   ]
  },
  {
   "cell_type": "code",
   "execution_count": 93,
   "metadata": {},
   "outputs": [],
   "source": [
    "params = {\n",
    "    \"loss\" : [\"hinge\", \"log\", \"squared_hinge\", \"modified_huber\"],\n",
    "    \"alpha\" : [0.0001, 0.001, 0.01, 0.1],\n",
    "    \"penalty\" : [\"l2\", \"l1\", \"none\"],\n",
    "}\n",
    "model = SGDClassifier(max_iter=4000)\n",
    "sgd_gs = GridSearchCV(model, param_grid=params,  n_jobs=-1, scoring='f1_macro')"
   ]
  },
  {
   "cell_type": "markdown",
   "metadata": {},
   "source": [
    "### Camera"
   ]
  },
  {
   "cell_type": "code",
   "execution_count": 94,
   "metadata": {},
   "outputs": [],
   "source": [
    "# carregando tipos\n",
    "domain='camera'\n",
    "tiposAll = pd.read_csv('../data/tipologia/categorias_iacs.csv', sep=',', quoting=0, keep_default_na=False)\n",
    "tipos = tiposAll.loc[tiposAll['domain'] == domain]"
   ]
  },
  {
   "cell_type": "code",
   "execution_count": 95,
   "metadata": {},
   "outputs": [
    {
     "name": "stderr",
     "output_type": "stream",
     "text": [
      "/dados/usuarios/mateus/projetos/absa/16_Doutorado_Implicit/doutorado16/lib/python3.9/site-packages/sklearn/linear_model/_stochastic_gradient.py:696: ConvergenceWarning: Maximum number of iteration reached before convergence. Consider increasing max_iter to improve the fit.\n",
      "  warnings.warn(\n",
      "/dados/usuarios/mateus/projetos/absa/16_Doutorado_Implicit/doutorado16/lib/python3.9/site-packages/sklearn/linear_model/_stochastic_gradient.py:696: ConvergenceWarning: Maximum number of iteration reached before convergence. Consider increasing max_iter to improve the fit.\n",
      "  warnings.warn(\n",
      "/dados/usuarios/mateus/projetos/absa/16_Doutorado_Implicit/doutorado16/lib/python3.9/site-packages/sklearn/linear_model/_stochastic_gradient.py:696: ConvergenceWarning: Maximum number of iteration reached before convergence. Consider increasing max_iter to improve the fit.\n",
      "  warnings.warn(\n",
      "/dados/usuarios/mateus/projetos/absa/16_Doutorado_Implicit/doutorado16/lib/python3.9/site-packages/sklearn/linear_model/_stochastic_gradient.py:696: ConvergenceWarning: Maximum number of iteration reached before convergence. Consider increasing max_iter to improve the fit.\n",
      "  warnings.warn(\n",
      "/dados/usuarios/mateus/projetos/absa/16_Doutorado_Implicit/doutorado16/lib/python3.9/site-packages/sklearn/linear_model/_stochastic_gradient.py:696: ConvergenceWarning: Maximum number of iteration reached before convergence. Consider increasing max_iter to improve the fit.\n",
      "  warnings.warn(\n",
      "/dados/usuarios/mateus/projetos/absa/16_Doutorado_Implicit/doutorado16/lib/python3.9/site-packages/sklearn/linear_model/_stochastic_gradient.py:696: ConvergenceWarning: Maximum number of iteration reached before convergence. Consider increasing max_iter to improve the fit.\n",
      "  warnings.warn(\n",
      "/dados/usuarios/mateus/projetos/absa/16_Doutorado_Implicit/doutorado16/lib/python3.9/site-packages/sklearn/linear_model/_stochastic_gradient.py:696: ConvergenceWarning: Maximum number of iteration reached before convergence. Consider increasing max_iter to improve the fit.\n",
      "  warnings.warn(\n",
      "/dados/usuarios/mateus/projetos/absa/16_Doutorado_Implicit/doutorado16/lib/python3.9/site-packages/sklearn/linear_model/_stochastic_gradient.py:696: ConvergenceWarning: Maximum number of iteration reached before convergence. Consider increasing max_iter to improve the fit.\n",
      "  warnings.warn(\n",
      "/dados/usuarios/mateus/projetos/absa/16_Doutorado_Implicit/doutorado16/lib/python3.9/site-packages/sklearn/linear_model/_stochastic_gradient.py:696: ConvergenceWarning: Maximum number of iteration reached before convergence. Consider increasing max_iter to improve the fit.\n",
      "  warnings.warn(\n",
      "/dados/usuarios/mateus/projetos/absa/16_Doutorado_Implicit/doutorado16/lib/python3.9/site-packages/sklearn/linear_model/_stochastic_gradient.py:696: ConvergenceWarning: Maximum number of iteration reached before convergence. Consider increasing max_iter to improve the fit.\n",
      "  warnings.warn(\n",
      "/dados/usuarios/mateus/projetos/absa/16_Doutorado_Implicit/doutorado16/lib/python3.9/site-packages/sklearn/linear_model/_stochastic_gradient.py:696: ConvergenceWarning: Maximum number of iteration reached before convergence. Consider increasing max_iter to improve the fit.\n",
      "  warnings.warn(\n",
      "/dados/usuarios/mateus/projetos/absa/16_Doutorado_Implicit/doutorado16/lib/python3.9/site-packages/sklearn/linear_model/_stochastic_gradient.py:696: ConvergenceWarning: Maximum number of iteration reached before convergence. Consider increasing max_iter to improve the fit.\n",
      "  warnings.warn(\n",
      "/dados/usuarios/mateus/projetos/absa/16_Doutorado_Implicit/doutorado16/lib/python3.9/site-packages/sklearn/linear_model/_stochastic_gradient.py:696: ConvergenceWarning: Maximum number of iteration reached before convergence. Consider increasing max_iter to improve the fit.\n",
      "  warnings.warn(\n",
      "/dados/usuarios/mateus/projetos/absa/16_Doutorado_Implicit/doutorado16/lib/python3.9/site-packages/sklearn/linear_model/_stochastic_gradient.py:696: ConvergenceWarning: Maximum number of iteration reached before convergence. Consider increasing max_iter to improve the fit.\n",
      "  warnings.warn(\n",
      "/dados/usuarios/mateus/projetos/absa/16_Doutorado_Implicit/doutorado16/lib/python3.9/site-packages/sklearn/linear_model/_stochastic_gradient.py:696: ConvergenceWarning: Maximum number of iteration reached before convergence. Consider increasing max_iter to improve the fit.\n",
      "  warnings.warn(\n",
      "/dados/usuarios/mateus/projetos/absa/16_Doutorado_Implicit/doutorado16/lib/python3.9/site-packages/sklearn/linear_model/_stochastic_gradient.py:696: ConvergenceWarning: Maximum number of iteration reached before convergence. Consider increasing max_iter to improve the fit.\n",
      "  warnings.warn(\n",
      "/dados/usuarios/mateus/projetos/absa/16_Doutorado_Implicit/doutorado16/lib/python3.9/site-packages/sklearn/linear_model/_stochastic_gradient.py:696: ConvergenceWarning: Maximum number of iteration reached before convergence. Consider increasing max_iter to improve the fit.\n",
      "  warnings.warn(\n",
      "/dados/usuarios/mateus/projetos/absa/16_Doutorado_Implicit/doutorado16/lib/python3.9/site-packages/sklearn/linear_model/_stochastic_gradient.py:696: ConvergenceWarning: Maximum number of iteration reached before convergence. Consider increasing max_iter to improve the fit.\n",
      "  warnings.warn(\n",
      "/dados/usuarios/mateus/projetos/absa/16_Doutorado_Implicit/doutorado16/lib/python3.9/site-packages/sklearn/linear_model/_stochastic_gradient.py:696: ConvergenceWarning: Maximum number of iteration reached before convergence. Consider increasing max_iter to improve the fit.\n",
      "  warnings.warn(\n",
      "/dados/usuarios/mateus/projetos/absa/16_Doutorado_Implicit/doutorado16/lib/python3.9/site-packages/sklearn/linear_model/_stochastic_gradient.py:696: ConvergenceWarning: Maximum number of iteration reached before convergence. Consider increasing max_iter to improve the fit.\n",
      "  warnings.warn(\n",
      "/dados/usuarios/mateus/projetos/absa/16_Doutorado_Implicit/doutorado16/lib/python3.9/site-packages/sklearn/linear_model/_stochastic_gradient.py:696: ConvergenceWarning: Maximum number of iteration reached before convergence. Consider increasing max_iter to improve the fit.\n",
      "  warnings.warn(\n",
      "/dados/usuarios/mateus/projetos/absa/16_Doutorado_Implicit/doutorado16/lib/python3.9/site-packages/sklearn/linear_model/_stochastic_gradient.py:696: ConvergenceWarning: Maximum number of iteration reached before convergence. Consider increasing max_iter to improve the fit.\n",
      "  warnings.warn(\n",
      "/dados/usuarios/mateus/projetos/absa/16_Doutorado_Implicit/doutorado16/lib/python3.9/site-packages/sklearn/linear_model/_stochastic_gradient.py:696: ConvergenceWarning: Maximum number of iteration reached before convergence. Consider increasing max_iter to improve the fit.\n",
      "  warnings.warn(\n",
      "/dados/usuarios/mateus/projetos/absa/16_Doutorado_Implicit/doutorado16/lib/python3.9/site-packages/sklearn/linear_model/_stochastic_gradient.py:696: ConvergenceWarning: Maximum number of iteration reached before convergence. Consider increasing max_iter to improve the fit.\n",
      "  warnings.warn(\n",
      "/dados/usuarios/mateus/projetos/absa/16_Doutorado_Implicit/doutorado16/lib/python3.9/site-packages/sklearn/linear_model/_stochastic_gradient.py:696: ConvergenceWarning: Maximum number of iteration reached before convergence. Consider increasing max_iter to improve the fit.\n",
      "  warnings.warn(\n",
      "/dados/usuarios/mateus/projetos/absa/16_Doutorado_Implicit/doutorado16/lib/python3.9/site-packages/sklearn/linear_model/_stochastic_gradient.py:696: ConvergenceWarning: Maximum number of iteration reached before convergence. Consider increasing max_iter to improve the fit.\n",
      "  warnings.warn(\n",
      "/dados/usuarios/mateus/projetos/absa/16_Doutorado_Implicit/doutorado16/lib/python3.9/site-packages/sklearn/linear_model/_stochastic_gradient.py:696: ConvergenceWarning: Maximum number of iteration reached before convergence. Consider increasing max_iter to improve the fit.\n",
      "  warnings.warn(\n",
      "/dados/usuarios/mateus/projetos/absa/16_Doutorado_Implicit/doutorado16/lib/python3.9/site-packages/sklearn/linear_model/_stochastic_gradient.py:696: ConvergenceWarning: Maximum number of iteration reached before convergence. Consider increasing max_iter to improve the fit.\n",
      "  warnings.warn(\n",
      "/dados/usuarios/mateus/projetos/absa/16_Doutorado_Implicit/doutorado16/lib/python3.9/site-packages/sklearn/linear_model/_stochastic_gradient.py:696: ConvergenceWarning: Maximum number of iteration reached before convergence. Consider increasing max_iter to improve the fit.\n",
      "  warnings.warn(\n",
      "/dados/usuarios/mateus/projetos/absa/16_Doutorado_Implicit/doutorado16/lib/python3.9/site-packages/sklearn/linear_model/_stochastic_gradient.py:696: ConvergenceWarning: Maximum number of iteration reached before convergence. Consider increasing max_iter to improve the fit.\n",
      "  warnings.warn(\n"
     ]
    },
    {
     "name": "stdout",
     "output_type": "stream",
     "text": [
      "Best parameters from gridsearch: {'alpha': 0.0001, 'loss': 'hinge', 'penalty': 'l2'}\n",
      "CV score=0.545\n"
     ]
    },
    {
     "data": {
      "text/plain": [
       "{'totalAspects': 104,\n",
       " 'pred': 33,\n",
       " 'tp': 46,\n",
       " 'fp': 13,\n",
       " 'fn': 58,\n",
       " 'precisao': 0.7796610169491526,\n",
       " 'precisaoLaplace': 0.7704918032786885,\n",
       " 'revocacao': 0.4423076923076923,\n",
       " 'medidaf': 0.5644171779141105,\n",
       " 'totalExplicitos': 91,\n",
       " 'explicitosOk': 19,\n",
       " 'pExplicitos': 0.2087912087912088,\n",
       " 'explicitsList': ['custo-benefício',\n",
       "  'funções',\n",
       "  'investimento',\n",
       "  'visor',\n",
       "  'máquina',\n",
       "  'recursos',\n",
       "  'zoom',\n",
       "  'camera',\n",
       "  'produto',\n",
       "  'lente',\n",
       "  'preço',\n",
       "  'fotos',\n",
       "  'resolução',\n",
       "  'manuseio',\n",
       "  'vídeos',\n",
       "  'câmera',\n",
       "  'flash',\n",
       "  'acessórios',\n",
       "  'bateria'],\n",
       " 'totalImplicitos': 13,\n",
       " 'implicitosOk': 1,\n",
       " 'pImplicitos': 0.07692307692307693,\n",
       " 'implicitsList': ['compacta'],\n",
       " 'tipos': {'Qualification': {'Adjective': 4}}}"
      ]
     },
     "execution_count": 95,
     "metadata": {},
     "output_type": "execute_result"
    }
   ],
   "source": [
    "sgd_gs.fit(X_camera_train, y_camera_train)\n",
    "print(\"Best parameters from gridsearch: {}\".format(sgd_gs.best_params_))\n",
    "print(\"CV score=%0.3f\" % sgd_gs.best_score_)\n",
    "y_camera_pred=sgd_gs.predict(X_camera_test)\n",
    "aspectsCamera = result2aspecList(y_camera_pred, dfCameraTest)\n",
    "resCamera = calculaMetricas(\n",
    "    aspectsCamera, \n",
    "    aspectsTest['camera'], \n",
    "    tipos, \n",
    "    lemma=False, \n",
    "    output=False\n",
    ")\n",
    "resCamera"
   ]
  },
  {
   "cell_type": "code",
   "execution_count": 96,
   "metadata": {},
   "outputs": [],
   "source": [
    "xml = dicttoxml(resCamera, attr_type=False, custom_root='resultados')\n",
    "with open('../resultados/sgd_'+domain+'.xml', 'w') as file:\n",
    "    dom = parseString(xml)\n",
    "    file.write(dom.toprettyxml())    "
   ]
  },
  {
   "cell_type": "markdown",
   "metadata": {},
   "source": [
    "### Livro"
   ]
  },
  {
   "cell_type": "code",
   "execution_count": 97,
   "metadata": {},
   "outputs": [],
   "source": [
    "# carregando tipos\n",
    "domain='livro'\n",
    "tiposAll = pd.read_csv('../data/tipologia/categorias_iacs.csv', sep=',', quoting=0, keep_default_na=False)\n",
    "tipos = tiposAll.loc[tiposAll['domain'] == domain]"
   ]
  },
  {
   "cell_type": "code",
   "execution_count": 98,
   "metadata": {},
   "outputs": [
    {
     "name": "stderr",
     "output_type": "stream",
     "text": [
      "/dados/usuarios/mateus/projetos/absa/16_Doutorado_Implicit/doutorado16/lib/python3.9/site-packages/sklearn/linear_model/_stochastic_gradient.py:696: ConvergenceWarning: Maximum number of iteration reached before convergence. Consider increasing max_iter to improve the fit.\n",
      "  warnings.warn(\n",
      "/dados/usuarios/mateus/projetos/absa/16_Doutorado_Implicit/doutorado16/lib/python3.9/site-packages/sklearn/linear_model/_stochastic_gradient.py:696: ConvergenceWarning: Maximum number of iteration reached before convergence. Consider increasing max_iter to improve the fit.\n",
      "  warnings.warn(\n",
      "/dados/usuarios/mateus/projetos/absa/16_Doutorado_Implicit/doutorado16/lib/python3.9/site-packages/sklearn/linear_model/_stochastic_gradient.py:696: ConvergenceWarning: Maximum number of iteration reached before convergence. Consider increasing max_iter to improve the fit.\n",
      "  warnings.warn(\n",
      "/dados/usuarios/mateus/projetos/absa/16_Doutorado_Implicit/doutorado16/lib/python3.9/site-packages/sklearn/linear_model/_stochastic_gradient.py:696: ConvergenceWarning: Maximum number of iteration reached before convergence. Consider increasing max_iter to improve the fit.\n",
      "  warnings.warn(\n",
      "/dados/usuarios/mateus/projetos/absa/16_Doutorado_Implicit/doutorado16/lib/python3.9/site-packages/sklearn/linear_model/_stochastic_gradient.py:696: ConvergenceWarning: Maximum number of iteration reached before convergence. Consider increasing max_iter to improve the fit.\n",
      "  warnings.warn(\n",
      "/dados/usuarios/mateus/projetos/absa/16_Doutorado_Implicit/doutorado16/lib/python3.9/site-packages/sklearn/linear_model/_stochastic_gradient.py:696: ConvergenceWarning: Maximum number of iteration reached before convergence. Consider increasing max_iter to improve the fit.\n",
      "  warnings.warn(\n",
      "/dados/usuarios/mateus/projetos/absa/16_Doutorado_Implicit/doutorado16/lib/python3.9/site-packages/sklearn/linear_model/_stochastic_gradient.py:696: ConvergenceWarning: Maximum number of iteration reached before convergence. Consider increasing max_iter to improve the fit.\n",
      "  warnings.warn(\n",
      "/dados/usuarios/mateus/projetos/absa/16_Doutorado_Implicit/doutorado16/lib/python3.9/site-packages/sklearn/linear_model/_stochastic_gradient.py:696: ConvergenceWarning: Maximum number of iteration reached before convergence. Consider increasing max_iter to improve the fit.\n",
      "  warnings.warn(\n",
      "/dados/usuarios/mateus/projetos/absa/16_Doutorado_Implicit/doutorado16/lib/python3.9/site-packages/sklearn/linear_model/_stochastic_gradient.py:696: ConvergenceWarning: Maximum number of iteration reached before convergence. Consider increasing max_iter to improve the fit.\n",
      "  warnings.warn(\n",
      "/dados/usuarios/mateus/projetos/absa/16_Doutorado_Implicit/doutorado16/lib/python3.9/site-packages/sklearn/linear_model/_stochastic_gradient.py:696: ConvergenceWarning: Maximum number of iteration reached before convergence. Consider increasing max_iter to improve the fit.\n",
      "  warnings.warn(\n",
      "/dados/usuarios/mateus/projetos/absa/16_Doutorado_Implicit/doutorado16/lib/python3.9/site-packages/sklearn/linear_model/_stochastic_gradient.py:696: ConvergenceWarning: Maximum number of iteration reached before convergence. Consider increasing max_iter to improve the fit.\n",
      "  warnings.warn(\n",
      "/dados/usuarios/mateus/projetos/absa/16_Doutorado_Implicit/doutorado16/lib/python3.9/site-packages/sklearn/linear_model/_stochastic_gradient.py:696: ConvergenceWarning: Maximum number of iteration reached before convergence. Consider increasing max_iter to improve the fit.\n",
      "  warnings.warn(\n",
      "/dados/usuarios/mateus/projetos/absa/16_Doutorado_Implicit/doutorado16/lib/python3.9/site-packages/sklearn/linear_model/_stochastic_gradient.py:696: ConvergenceWarning: Maximum number of iteration reached before convergence. Consider increasing max_iter to improve the fit.\n",
      "  warnings.warn(\n",
      "/dados/usuarios/mateus/projetos/absa/16_Doutorado_Implicit/doutorado16/lib/python3.9/site-packages/sklearn/linear_model/_stochastic_gradient.py:696: ConvergenceWarning: Maximum number of iteration reached before convergence. Consider increasing max_iter to improve the fit.\n",
      "  warnings.warn(\n",
      "/dados/usuarios/mateus/projetos/absa/16_Doutorado_Implicit/doutorado16/lib/python3.9/site-packages/sklearn/linear_model/_stochastic_gradient.py:696: ConvergenceWarning: Maximum number of iteration reached before convergence. Consider increasing max_iter to improve the fit.\n",
      "  warnings.warn(\n",
      "/dados/usuarios/mateus/projetos/absa/16_Doutorado_Implicit/doutorado16/lib/python3.9/site-packages/sklearn/linear_model/_stochastic_gradient.py:696: ConvergenceWarning: Maximum number of iteration reached before convergence. Consider increasing max_iter to improve the fit.\n",
      "  warnings.warn(\n",
      "/dados/usuarios/mateus/projetos/absa/16_Doutorado_Implicit/doutorado16/lib/python3.9/site-packages/sklearn/linear_model/_stochastic_gradient.py:696: ConvergenceWarning: Maximum number of iteration reached before convergence. Consider increasing max_iter to improve the fit.\n",
      "  warnings.warn(\n",
      "/dados/usuarios/mateus/projetos/absa/16_Doutorado_Implicit/doutorado16/lib/python3.9/site-packages/sklearn/linear_model/_stochastic_gradient.py:696: ConvergenceWarning: Maximum number of iteration reached before convergence. Consider increasing max_iter to improve the fit.\n",
      "  warnings.warn(\n",
      "/dados/usuarios/mateus/projetos/absa/16_Doutorado_Implicit/doutorado16/lib/python3.9/site-packages/sklearn/linear_model/_stochastic_gradient.py:696: ConvergenceWarning: Maximum number of iteration reached before convergence. Consider increasing max_iter to improve the fit.\n",
      "  warnings.warn(\n",
      "/dados/usuarios/mateus/projetos/absa/16_Doutorado_Implicit/doutorado16/lib/python3.9/site-packages/sklearn/linear_model/_stochastic_gradient.py:696: ConvergenceWarning: Maximum number of iteration reached before convergence. Consider increasing max_iter to improve the fit.\n",
      "  warnings.warn(\n",
      "/dados/usuarios/mateus/projetos/absa/16_Doutorado_Implicit/doutorado16/lib/python3.9/site-packages/sklearn/linear_model/_stochastic_gradient.py:696: ConvergenceWarning: Maximum number of iteration reached before convergence. Consider increasing max_iter to improve the fit.\n",
      "  warnings.warn(\n",
      "/dados/usuarios/mateus/projetos/absa/16_Doutorado_Implicit/doutorado16/lib/python3.9/site-packages/sklearn/linear_model/_stochastic_gradient.py:696: ConvergenceWarning: Maximum number of iteration reached before convergence. Consider increasing max_iter to improve the fit.\n",
      "  warnings.warn(\n",
      "/dados/usuarios/mateus/projetos/absa/16_Doutorado_Implicit/doutorado16/lib/python3.9/site-packages/sklearn/linear_model/_stochastic_gradient.py:696: ConvergenceWarning: Maximum number of iteration reached before convergence. Consider increasing max_iter to improve the fit.\n",
      "  warnings.warn(\n",
      "/dados/usuarios/mateus/projetos/absa/16_Doutorado_Implicit/doutorado16/lib/python3.9/site-packages/sklearn/linear_model/_stochastic_gradient.py:696: ConvergenceWarning: Maximum number of iteration reached before convergence. Consider increasing max_iter to improve the fit.\n",
      "  warnings.warn(\n",
      "/dados/usuarios/mateus/projetos/absa/16_Doutorado_Implicit/doutorado16/lib/python3.9/site-packages/sklearn/linear_model/_stochastic_gradient.py:696: ConvergenceWarning: Maximum number of iteration reached before convergence. Consider increasing max_iter to improve the fit.\n",
      "  warnings.warn(\n",
      "/dados/usuarios/mateus/projetos/absa/16_Doutorado_Implicit/doutorado16/lib/python3.9/site-packages/sklearn/linear_model/_stochastic_gradient.py:696: ConvergenceWarning: Maximum number of iteration reached before convergence. Consider increasing max_iter to improve the fit.\n",
      "  warnings.warn(\n",
      "/dados/usuarios/mateus/projetos/absa/16_Doutorado_Implicit/doutorado16/lib/python3.9/site-packages/sklearn/linear_model/_stochastic_gradient.py:696: ConvergenceWarning: Maximum number of iteration reached before convergence. Consider increasing max_iter to improve the fit.\n",
      "  warnings.warn(\n",
      "/dados/usuarios/mateus/projetos/absa/16_Doutorado_Implicit/doutorado16/lib/python3.9/site-packages/sklearn/linear_model/_stochastic_gradient.py:696: ConvergenceWarning: Maximum number of iteration reached before convergence. Consider increasing max_iter to improve the fit.\n",
      "  warnings.warn(\n",
      "/dados/usuarios/mateus/projetos/absa/16_Doutorado_Implicit/doutorado16/lib/python3.9/site-packages/sklearn/linear_model/_stochastic_gradient.py:696: ConvergenceWarning: Maximum number of iteration reached before convergence. Consider increasing max_iter to improve the fit.\n",
      "  warnings.warn(\n",
      "/dados/usuarios/mateus/projetos/absa/16_Doutorado_Implicit/doutorado16/lib/python3.9/site-packages/sklearn/linear_model/_stochastic_gradient.py:696: ConvergenceWarning: Maximum number of iteration reached before convergence. Consider increasing max_iter to improve the fit.\n",
      "  warnings.warn(\n",
      "/dados/usuarios/mateus/projetos/absa/16_Doutorado_Implicit/doutorado16/lib/python3.9/site-packages/sklearn/linear_model/_stochastic_gradient.py:696: ConvergenceWarning: Maximum number of iteration reached before convergence. Consider increasing max_iter to improve the fit.\n",
      "  warnings.warn(\n",
      "/dados/usuarios/mateus/projetos/absa/16_Doutorado_Implicit/doutorado16/lib/python3.9/site-packages/sklearn/linear_model/_stochastic_gradient.py:696: ConvergenceWarning: Maximum number of iteration reached before convergence. Consider increasing max_iter to improve the fit.\n",
      "  warnings.warn(\n",
      "/dados/usuarios/mateus/projetos/absa/16_Doutorado_Implicit/doutorado16/lib/python3.9/site-packages/sklearn/linear_model/_stochastic_gradient.py:696: ConvergenceWarning: Maximum number of iteration reached before convergence. Consider increasing max_iter to improve the fit.\n",
      "  warnings.warn(\n",
      "/dados/usuarios/mateus/projetos/absa/16_Doutorado_Implicit/doutorado16/lib/python3.9/site-packages/sklearn/linear_model/_stochastic_gradient.py:696: ConvergenceWarning: Maximum number of iteration reached before convergence. Consider increasing max_iter to improve the fit.\n",
      "  warnings.warn(\n",
      "/dados/usuarios/mateus/projetos/absa/16_Doutorado_Implicit/doutorado16/lib/python3.9/site-packages/sklearn/linear_model/_stochastic_gradient.py:696: ConvergenceWarning: Maximum number of iteration reached before convergence. Consider increasing max_iter to improve the fit.\n",
      "  warnings.warn(\n"
     ]
    },
    {
     "name": "stdout",
     "output_type": "stream",
     "text": [
      "Best parameters from gridsearch: {'alpha': 0.001, 'loss': 'modified_huber', 'penalty': 'none'}\n",
      "CV score=0.592\n"
     ]
    }
   ],
   "source": [
    "sgd_gs.fit(X_livro_train, y_livro_train)\n",
    "print(\"Best parameters from gridsearch: {}\".format(sgd_gs.best_params_))\n",
    "print(\"CV score=%0.3f\" % sgd_gs.best_score_)\n",
    "y_livro_pred=sgd_gs.predict(X_livro_test)\n",
    "aspectsLivro = result2aspecList(y_livro_pred, dfLivroTest)"
   ]
  },
  {
   "cell_type": "code",
   "execution_count": 99,
   "metadata": {},
   "outputs": [
    {
     "data": {
      "text/plain": [
       "{'totalAspects': 87,\n",
       " 'pred': 15,\n",
       " 'tp': 48,\n",
       " 'fp': 1,\n",
       " 'fn': 39,\n",
       " 'precisao': 0.9795918367346939,\n",
       " 'precisaoLaplace': 0.9607843137254902,\n",
       " 'revocacao': 0.5517241379310345,\n",
       " 'medidaf': 0.7058823529411765,\n",
       " 'totalExplicitos': 82,\n",
       " 'explicitosOk': 14,\n",
       " 'pExplicitos': 0.17073170731707318,\n",
       " 'explicitsList': ['começo',\n",
       "  'livro',\n",
       "  'personagem',\n",
       "  'romance',\n",
       "  'história',\n",
       "  'trama',\n",
       "  'personagens',\n",
       "  'historia',\n",
       "  'final',\n",
       "  'obra',\n",
       "  'fim',\n",
       "  'leitura',\n",
       "  'palavra',\n",
       "  'início'],\n",
       " 'totalImplicitos': 5,\n",
       " 'implicitosOk': 0,\n",
       " 'pImplicitos': 0.0,\n",
       " 'implicitsList': [],\n",
       " 'tipos': {}}"
      ]
     },
     "execution_count": 99,
     "metadata": {},
     "output_type": "execute_result"
    }
   ],
   "source": [
    "resLivro = calculaMetricas(\n",
    "    aspectsLivro, \n",
    "    aspectsTest['livro'], \n",
    "    tipos, \n",
    "    lemma=False, \n",
    "    output=False\n",
    ")\n",
    "resLivro"
   ]
  },
  {
   "cell_type": "code",
   "execution_count": 100,
   "metadata": {},
   "outputs": [],
   "source": [
    "xml = dicttoxml(resLivro, attr_type=False, custom_root='resultados')\n",
    "with open('../resultados/sgd_'+domain+'.xml', 'w') as file:\n",
    "    dom = parseString(xml)\n",
    "    file.write(dom.toprettyxml())    "
   ]
  },
  {
   "cell_type": "markdown",
   "metadata": {},
   "source": [
    "### Smartphone"
   ]
  },
  {
   "cell_type": "code",
   "execution_count": 101,
   "metadata": {},
   "outputs": [],
   "source": [
    "# carregando tipos\n",
    "domain='smartphone'\n",
    "tiposAll = pd.read_csv('../data/tipologia/categorias_iacs.csv', sep=',', quoting=0, keep_default_na=False)\n",
    "tipos = tiposAll.loc[tiposAll['domain'] == domain]"
   ]
  },
  {
   "cell_type": "code",
   "execution_count": 102,
   "metadata": {},
   "outputs": [
    {
     "name": "stderr",
     "output_type": "stream",
     "text": [
      "/dados/usuarios/mateus/projetos/absa/16_Doutorado_Implicit/doutorado16/lib/python3.9/site-packages/sklearn/linear_model/_stochastic_gradient.py:696: ConvergenceWarning: Maximum number of iteration reached before convergence. Consider increasing max_iter to improve the fit.\n",
      "  warnings.warn(\n",
      "/dados/usuarios/mateus/projetos/absa/16_Doutorado_Implicit/doutorado16/lib/python3.9/site-packages/sklearn/linear_model/_stochastic_gradient.py:696: ConvergenceWarning: Maximum number of iteration reached before convergence. Consider increasing max_iter to improve the fit.\n",
      "  warnings.warn(\n",
      "/dados/usuarios/mateus/projetos/absa/16_Doutorado_Implicit/doutorado16/lib/python3.9/site-packages/sklearn/linear_model/_stochastic_gradient.py:696: ConvergenceWarning: Maximum number of iteration reached before convergence. Consider increasing max_iter to improve the fit.\n",
      "  warnings.warn(\n",
      "/dados/usuarios/mateus/projetos/absa/16_Doutorado_Implicit/doutorado16/lib/python3.9/site-packages/sklearn/linear_model/_stochastic_gradient.py:696: ConvergenceWarning: Maximum number of iteration reached before convergence. Consider increasing max_iter to improve the fit.\n",
      "  warnings.warn(\n",
      "/dados/usuarios/mateus/projetos/absa/16_Doutorado_Implicit/doutorado16/lib/python3.9/site-packages/sklearn/linear_model/_stochastic_gradient.py:696: ConvergenceWarning: Maximum number of iteration reached before convergence. Consider increasing max_iter to improve the fit.\n",
      "  warnings.warn(\n",
      "/dados/usuarios/mateus/projetos/absa/16_Doutorado_Implicit/doutorado16/lib/python3.9/site-packages/sklearn/linear_model/_stochastic_gradient.py:696: ConvergenceWarning: Maximum number of iteration reached before convergence. Consider increasing max_iter to improve the fit.\n",
      "  warnings.warn(\n",
      "/dados/usuarios/mateus/projetos/absa/16_Doutorado_Implicit/doutorado16/lib/python3.9/site-packages/sklearn/linear_model/_stochastic_gradient.py:696: ConvergenceWarning: Maximum number of iteration reached before convergence. Consider increasing max_iter to improve the fit.\n",
      "  warnings.warn(\n",
      "/dados/usuarios/mateus/projetos/absa/16_Doutorado_Implicit/doutorado16/lib/python3.9/site-packages/sklearn/linear_model/_stochastic_gradient.py:696: ConvergenceWarning: Maximum number of iteration reached before convergence. Consider increasing max_iter to improve the fit.\n",
      "  warnings.warn(\n",
      "/dados/usuarios/mateus/projetos/absa/16_Doutorado_Implicit/doutorado16/lib/python3.9/site-packages/sklearn/linear_model/_stochastic_gradient.py:696: ConvergenceWarning: Maximum number of iteration reached before convergence. Consider increasing max_iter to improve the fit.\n",
      "  warnings.warn(\n",
      "/dados/usuarios/mateus/projetos/absa/16_Doutorado_Implicit/doutorado16/lib/python3.9/site-packages/sklearn/linear_model/_stochastic_gradient.py:696: ConvergenceWarning: Maximum number of iteration reached before convergence. Consider increasing max_iter to improve the fit.\n",
      "  warnings.warn(\n",
      "/dados/usuarios/mateus/projetos/absa/16_Doutorado_Implicit/doutorado16/lib/python3.9/site-packages/sklearn/linear_model/_stochastic_gradient.py:696: ConvergenceWarning: Maximum number of iteration reached before convergence. Consider increasing max_iter to improve the fit.\n",
      "  warnings.warn(\n",
      "/dados/usuarios/mateus/projetos/absa/16_Doutorado_Implicit/doutorado16/lib/python3.9/site-packages/sklearn/linear_model/_stochastic_gradient.py:696: ConvergenceWarning: Maximum number of iteration reached before convergence. Consider increasing max_iter to improve the fit.\n",
      "  warnings.warn(\n",
      "/dados/usuarios/mateus/projetos/absa/16_Doutorado_Implicit/doutorado16/lib/python3.9/site-packages/sklearn/linear_model/_stochastic_gradient.py:696: ConvergenceWarning: Maximum number of iteration reached before convergence. Consider increasing max_iter to improve the fit.\n",
      "  warnings.warn(\n",
      "/dados/usuarios/mateus/projetos/absa/16_Doutorado_Implicit/doutorado16/lib/python3.9/site-packages/sklearn/linear_model/_stochastic_gradient.py:696: ConvergenceWarning: Maximum number of iteration reached before convergence. Consider increasing max_iter to improve the fit.\n",
      "  warnings.warn(\n",
      "/dados/usuarios/mateus/projetos/absa/16_Doutorado_Implicit/doutorado16/lib/python3.9/site-packages/sklearn/linear_model/_stochastic_gradient.py:696: ConvergenceWarning: Maximum number of iteration reached before convergence. Consider increasing max_iter to improve the fit.\n",
      "  warnings.warn(\n",
      "/dados/usuarios/mateus/projetos/absa/16_Doutorado_Implicit/doutorado16/lib/python3.9/site-packages/sklearn/linear_model/_stochastic_gradient.py:696: ConvergenceWarning: Maximum number of iteration reached before convergence. Consider increasing max_iter to improve the fit.\n",
      "  warnings.warn(\n",
      "/dados/usuarios/mateus/projetos/absa/16_Doutorado_Implicit/doutorado16/lib/python3.9/site-packages/sklearn/linear_model/_stochastic_gradient.py:696: ConvergenceWarning: Maximum number of iteration reached before convergence. Consider increasing max_iter to improve the fit.\n",
      "  warnings.warn(\n",
      "/dados/usuarios/mateus/projetos/absa/16_Doutorado_Implicit/doutorado16/lib/python3.9/site-packages/sklearn/linear_model/_stochastic_gradient.py:696: ConvergenceWarning: Maximum number of iteration reached before convergence. Consider increasing max_iter to improve the fit.\n",
      "  warnings.warn(\n",
      "/dados/usuarios/mateus/projetos/absa/16_Doutorado_Implicit/doutorado16/lib/python3.9/site-packages/sklearn/linear_model/_stochastic_gradient.py:696: ConvergenceWarning: Maximum number of iteration reached before convergence. Consider increasing max_iter to improve the fit.\n",
      "  warnings.warn(\n",
      "/dados/usuarios/mateus/projetos/absa/16_Doutorado_Implicit/doutorado16/lib/python3.9/site-packages/sklearn/linear_model/_stochastic_gradient.py:696: ConvergenceWarning: Maximum number of iteration reached before convergence. Consider increasing max_iter to improve the fit.\n",
      "  warnings.warn(\n",
      "/dados/usuarios/mateus/projetos/absa/16_Doutorado_Implicit/doutorado16/lib/python3.9/site-packages/sklearn/linear_model/_stochastic_gradient.py:696: ConvergenceWarning: Maximum number of iteration reached before convergence. Consider increasing max_iter to improve the fit.\n",
      "  warnings.warn(\n",
      "/dados/usuarios/mateus/projetos/absa/16_Doutorado_Implicit/doutorado16/lib/python3.9/site-packages/sklearn/linear_model/_stochastic_gradient.py:696: ConvergenceWarning: Maximum number of iteration reached before convergence. Consider increasing max_iter to improve the fit.\n",
      "  warnings.warn(\n",
      "/dados/usuarios/mateus/projetos/absa/16_Doutorado_Implicit/doutorado16/lib/python3.9/site-packages/sklearn/linear_model/_stochastic_gradient.py:696: ConvergenceWarning: Maximum number of iteration reached before convergence. Consider increasing max_iter to improve the fit.\n",
      "  warnings.warn(\n",
      "/dados/usuarios/mateus/projetos/absa/16_Doutorado_Implicit/doutorado16/lib/python3.9/site-packages/sklearn/linear_model/_stochastic_gradient.py:696: ConvergenceWarning: Maximum number of iteration reached before convergence. Consider increasing max_iter to improve the fit.\n",
      "  warnings.warn(\n",
      "/dados/usuarios/mateus/projetos/absa/16_Doutorado_Implicit/doutorado16/lib/python3.9/site-packages/sklearn/linear_model/_stochastic_gradient.py:696: ConvergenceWarning: Maximum number of iteration reached before convergence. Consider increasing max_iter to improve the fit.\n",
      "  warnings.warn(\n",
      "/dados/usuarios/mateus/projetos/absa/16_Doutorado_Implicit/doutorado16/lib/python3.9/site-packages/sklearn/linear_model/_stochastic_gradient.py:696: ConvergenceWarning: Maximum number of iteration reached before convergence. Consider increasing max_iter to improve the fit.\n",
      "  warnings.warn(\n",
      "/dados/usuarios/mateus/projetos/absa/16_Doutorado_Implicit/doutorado16/lib/python3.9/site-packages/sklearn/linear_model/_stochastic_gradient.py:696: ConvergenceWarning: Maximum number of iteration reached before convergence. Consider increasing max_iter to improve the fit.\n",
      "  warnings.warn(\n",
      "/dados/usuarios/mateus/projetos/absa/16_Doutorado_Implicit/doutorado16/lib/python3.9/site-packages/sklearn/linear_model/_stochastic_gradient.py:696: ConvergenceWarning: Maximum number of iteration reached before convergence. Consider increasing max_iter to improve the fit.\n",
      "  warnings.warn(\n",
      "/dados/usuarios/mateus/projetos/absa/16_Doutorado_Implicit/doutorado16/lib/python3.9/site-packages/sklearn/linear_model/_stochastic_gradient.py:696: ConvergenceWarning: Maximum number of iteration reached before convergence. Consider increasing max_iter to improve the fit.\n",
      "  warnings.warn(\n",
      "/dados/usuarios/mateus/projetos/absa/16_Doutorado_Implicit/doutorado16/lib/python3.9/site-packages/sklearn/linear_model/_stochastic_gradient.py:696: ConvergenceWarning: Maximum number of iteration reached before convergence. Consider increasing max_iter to improve the fit.\n",
      "  warnings.warn(\n",
      "/dados/usuarios/mateus/projetos/absa/16_Doutorado_Implicit/doutorado16/lib/python3.9/site-packages/sklearn/linear_model/_stochastic_gradient.py:696: ConvergenceWarning: Maximum number of iteration reached before convergence. Consider increasing max_iter to improve the fit.\n",
      "  warnings.warn(\n",
      "/dados/usuarios/mateus/projetos/absa/16_Doutorado_Implicit/doutorado16/lib/python3.9/site-packages/sklearn/linear_model/_stochastic_gradient.py:696: ConvergenceWarning: Maximum number of iteration reached before convergence. Consider increasing max_iter to improve the fit.\n",
      "  warnings.warn(\n",
      "/dados/usuarios/mateus/projetos/absa/16_Doutorado_Implicit/doutorado16/lib/python3.9/site-packages/sklearn/linear_model/_stochastic_gradient.py:696: ConvergenceWarning: Maximum number of iteration reached before convergence. Consider increasing max_iter to improve the fit.\n",
      "  warnings.warn(\n",
      "/dados/usuarios/mateus/projetos/absa/16_Doutorado_Implicit/doutorado16/lib/python3.9/site-packages/sklearn/linear_model/_stochastic_gradient.py:696: ConvergenceWarning: Maximum number of iteration reached before convergence. Consider increasing max_iter to improve the fit.\n",
      "  warnings.warn(\n",
      "/dados/usuarios/mateus/projetos/absa/16_Doutorado_Implicit/doutorado16/lib/python3.9/site-packages/sklearn/linear_model/_stochastic_gradient.py:696: ConvergenceWarning: Maximum number of iteration reached before convergence. Consider increasing max_iter to improve the fit.\n",
      "  warnings.warn(\n",
      "/dados/usuarios/mateus/projetos/absa/16_Doutorado_Implicit/doutorado16/lib/python3.9/site-packages/sklearn/linear_model/_stochastic_gradient.py:696: ConvergenceWarning: Maximum number of iteration reached before convergence. Consider increasing max_iter to improve the fit.\n",
      "  warnings.warn(\n",
      "/dados/usuarios/mateus/projetos/absa/16_Doutorado_Implicit/doutorado16/lib/python3.9/site-packages/sklearn/linear_model/_stochastic_gradient.py:696: ConvergenceWarning: Maximum number of iteration reached before convergence. Consider increasing max_iter to improve the fit.\n",
      "  warnings.warn(\n",
      "/dados/usuarios/mateus/projetos/absa/16_Doutorado_Implicit/doutorado16/lib/python3.9/site-packages/sklearn/linear_model/_stochastic_gradient.py:696: ConvergenceWarning: Maximum number of iteration reached before convergence. Consider increasing max_iter to improve the fit.\n",
      "  warnings.warn(\n"
     ]
    },
    {
     "name": "stdout",
     "output_type": "stream",
     "text": [
      "Best parameters from gridsearch: {'alpha': 0.0001, 'loss': 'hinge', 'penalty': 'l2'}\n",
      "CV score=0.539\n"
     ]
    },
    {
     "data": {
      "text/plain": [
       "{'totalAspects': 158,\n",
       " 'pred': 50,\n",
       " 'tp': 65,\n",
       " 'fp': 18,\n",
       " 'fn': 93,\n",
       " 'precisao': 0.7831325301204819,\n",
       " 'precisaoLaplace': 0.7764705882352941,\n",
       " 'revocacao': 0.41139240506329117,\n",
       " 'medidaf': 0.5394190871369295,\n",
       " 'totalExplicitos': 134,\n",
       " 'explicitosOk': 26,\n",
       " 'pExplicitos': 0.19402985074626866,\n",
       " 'explicitsList': ['design',\n",
       "  'praticidade',\n",
       "  'custo-benefício',\n",
       "  'marca',\n",
       "  'aparelho',\n",
       "  'camera digital',\n",
       "  'wi-fi',\n",
       "  'funções',\n",
       "  'sinal',\n",
       "  'visor',\n",
       "  'recursos',\n",
       "  'camera',\n",
       "  'produto',\n",
       "  'fabricante',\n",
       "  'nokia',\n",
       "  'memoria',\n",
       "  'motorola',\n",
       "  'modelo',\n",
       "  'preço',\n",
       "  'celular',\n",
       "  'manuseio',\n",
       "  'touch',\n",
       "  'menu',\n",
       "  'durabilidade',\n",
       "  'botões',\n",
       "  'bateria'],\n",
       " 'totalImplicitos': 24,\n",
       " 'implicitosOk': 6,\n",
       " 'pImplicitos': 0.25,\n",
       " 'implicitsList': ['bonito', 'pequeno', 'moderno', 'prático', 'trava', 'leve'],\n",
       " 'tipos': {'Qualification': {'Adjective': 5}, 'Event': {'Verb': 2}}}"
      ]
     },
     "execution_count": 102,
     "metadata": {},
     "output_type": "execute_result"
    }
   ],
   "source": [
    "sgd_gs.fit(X_smartphone_train, y_smartphone_train)\n",
    "print(\"Best parameters from gridsearch: {}\".format(sgd_gs.best_params_))\n",
    "print(\"CV score=%0.3f\" % sgd_gs.best_score_)\n",
    "y_smartphone_pred=sgd_gs.predict(X_smartphone_test)\n",
    "aspectsSmartphone = result2aspecList(y_smartphone_pred, dfSmartphoneTest)\n",
    "resSmartphone = calculaMetricas(\n",
    "    aspectsSmartphone, \n",
    "    aspectsTest['smartphone'], \n",
    "    tipos, \n",
    "    lemma=False, \n",
    "    output=False\n",
    ")\n",
    "resSmartphone"
   ]
  },
  {
   "cell_type": "code",
   "execution_count": 103,
   "metadata": {},
   "outputs": [],
   "source": [
    "xml = dicttoxml(resSmartphone, attr_type=False, custom_root='resultados')\n",
    "with open('../resultados/sgd_'+domain+'.xml', 'w') as file:\n",
    "    dom = parseString(xml)\n",
    "    file.write(dom.toprettyxml())    "
   ]
  },
  {
   "cell_type": "markdown",
   "metadata": {},
   "source": [
    "### Hotel"
   ]
  },
  {
   "cell_type": "code",
   "execution_count": 104,
   "metadata": {},
   "outputs": [],
   "source": [
    "# carregando tipos\n",
    "domain='hotel'\n",
    "tiposAll = pd.read_csv('../data/tipologia/categorias_iacs.csv', sep=',', quoting=0, keep_default_na=False)\n",
    "tipos = tiposAll.loc[tiposAll['domain'] == domain]"
   ]
  },
  {
   "cell_type": "code",
   "execution_count": 105,
   "metadata": {},
   "outputs": [
    {
     "name": "stderr",
     "output_type": "stream",
     "text": [
      "/dados/usuarios/mateus/projetos/absa/16_Doutorado_Implicit/doutorado16/lib/python3.9/site-packages/sklearn/linear_model/_stochastic_gradient.py:696: ConvergenceWarning: Maximum number of iteration reached before convergence. Consider increasing max_iter to improve the fit.\n",
      "  warnings.warn(\n",
      "/dados/usuarios/mateus/projetos/absa/16_Doutorado_Implicit/doutorado16/lib/python3.9/site-packages/sklearn/linear_model/_stochastic_gradient.py:696: ConvergenceWarning: Maximum number of iteration reached before convergence. Consider increasing max_iter to improve the fit.\n",
      "  warnings.warn(\n",
      "/dados/usuarios/mateus/projetos/absa/16_Doutorado_Implicit/doutorado16/lib/python3.9/site-packages/sklearn/linear_model/_stochastic_gradient.py:696: ConvergenceWarning: Maximum number of iteration reached before convergence. Consider increasing max_iter to improve the fit.\n",
      "  warnings.warn(\n",
      "/dados/usuarios/mateus/projetos/absa/16_Doutorado_Implicit/doutorado16/lib/python3.9/site-packages/sklearn/linear_model/_stochastic_gradient.py:696: ConvergenceWarning: Maximum number of iteration reached before convergence. Consider increasing max_iter to improve the fit.\n",
      "  warnings.warn(\n",
      "/dados/usuarios/mateus/projetos/absa/16_Doutorado_Implicit/doutorado16/lib/python3.9/site-packages/sklearn/linear_model/_stochastic_gradient.py:696: ConvergenceWarning: Maximum number of iteration reached before convergence. Consider increasing max_iter to improve the fit.\n",
      "  warnings.warn(\n",
      "/dados/usuarios/mateus/projetos/absa/16_Doutorado_Implicit/doutorado16/lib/python3.9/site-packages/sklearn/linear_model/_stochastic_gradient.py:696: ConvergenceWarning: Maximum number of iteration reached before convergence. Consider increasing max_iter to improve the fit.\n",
      "  warnings.warn(\n",
      "/dados/usuarios/mateus/projetos/absa/16_Doutorado_Implicit/doutorado16/lib/python3.9/site-packages/sklearn/linear_model/_stochastic_gradient.py:696: ConvergenceWarning: Maximum number of iteration reached before convergence. Consider increasing max_iter to improve the fit.\n",
      "  warnings.warn(\n",
      "/dados/usuarios/mateus/projetos/absa/16_Doutorado_Implicit/doutorado16/lib/python3.9/site-packages/sklearn/linear_model/_stochastic_gradient.py:696: ConvergenceWarning: Maximum number of iteration reached before convergence. Consider increasing max_iter to improve the fit.\n",
      "  warnings.warn(\n",
      "/dados/usuarios/mateus/projetos/absa/16_Doutorado_Implicit/doutorado16/lib/python3.9/site-packages/sklearn/linear_model/_stochastic_gradient.py:696: ConvergenceWarning: Maximum number of iteration reached before convergence. Consider increasing max_iter to improve the fit.\n",
      "  warnings.warn(\n",
      "/dados/usuarios/mateus/projetos/absa/16_Doutorado_Implicit/doutorado16/lib/python3.9/site-packages/sklearn/linear_model/_stochastic_gradient.py:696: ConvergenceWarning: Maximum number of iteration reached before convergence. Consider increasing max_iter to improve the fit.\n",
      "  warnings.warn(\n",
      "/dados/usuarios/mateus/projetos/absa/16_Doutorado_Implicit/doutorado16/lib/python3.9/site-packages/sklearn/linear_model/_stochastic_gradient.py:696: ConvergenceWarning: Maximum number of iteration reached before convergence. Consider increasing max_iter to improve the fit.\n",
      "  warnings.warn(\n",
      "/dados/usuarios/mateus/projetos/absa/16_Doutorado_Implicit/doutorado16/lib/python3.9/site-packages/sklearn/linear_model/_stochastic_gradient.py:696: ConvergenceWarning: Maximum number of iteration reached before convergence. Consider increasing max_iter to improve the fit.\n",
      "  warnings.warn(\n",
      "/dados/usuarios/mateus/projetos/absa/16_Doutorado_Implicit/doutorado16/lib/python3.9/site-packages/sklearn/linear_model/_stochastic_gradient.py:696: ConvergenceWarning: Maximum number of iteration reached before convergence. Consider increasing max_iter to improve the fit.\n",
      "  warnings.warn(\n",
      "/dados/usuarios/mateus/projetos/absa/16_Doutorado_Implicit/doutorado16/lib/python3.9/site-packages/sklearn/linear_model/_stochastic_gradient.py:696: ConvergenceWarning: Maximum number of iteration reached before convergence. Consider increasing max_iter to improve the fit.\n",
      "  warnings.warn(\n",
      "/dados/usuarios/mateus/projetos/absa/16_Doutorado_Implicit/doutorado16/lib/python3.9/site-packages/sklearn/linear_model/_stochastic_gradient.py:696: ConvergenceWarning: Maximum number of iteration reached before convergence. Consider increasing max_iter to improve the fit.\n",
      "  warnings.warn(\n",
      "/dados/usuarios/mateus/projetos/absa/16_Doutorado_Implicit/doutorado16/lib/python3.9/site-packages/sklearn/linear_model/_stochastic_gradient.py:696: ConvergenceWarning: Maximum number of iteration reached before convergence. Consider increasing max_iter to improve the fit.\n",
      "  warnings.warn(\n",
      "/dados/usuarios/mateus/projetos/absa/16_Doutorado_Implicit/doutorado16/lib/python3.9/site-packages/sklearn/linear_model/_stochastic_gradient.py:696: ConvergenceWarning: Maximum number of iteration reached before convergence. Consider increasing max_iter to improve the fit.\n",
      "  warnings.warn(\n",
      "/dados/usuarios/mateus/projetos/absa/16_Doutorado_Implicit/doutorado16/lib/python3.9/site-packages/sklearn/linear_model/_stochastic_gradient.py:696: ConvergenceWarning: Maximum number of iteration reached before convergence. Consider increasing max_iter to improve the fit.\n",
      "  warnings.warn(\n",
      "/dados/usuarios/mateus/projetos/absa/16_Doutorado_Implicit/doutorado16/lib/python3.9/site-packages/sklearn/linear_model/_stochastic_gradient.py:696: ConvergenceWarning: Maximum number of iteration reached before convergence. Consider increasing max_iter to improve the fit.\n",
      "  warnings.warn(\n",
      "/dados/usuarios/mateus/projetos/absa/16_Doutorado_Implicit/doutorado16/lib/python3.9/site-packages/sklearn/linear_model/_stochastic_gradient.py:696: ConvergenceWarning: Maximum number of iteration reached before convergence. Consider increasing max_iter to improve the fit.\n",
      "  warnings.warn(\n",
      "/dados/usuarios/mateus/projetos/absa/16_Doutorado_Implicit/doutorado16/lib/python3.9/site-packages/sklearn/linear_model/_stochastic_gradient.py:696: ConvergenceWarning: Maximum number of iteration reached before convergence. Consider increasing max_iter to improve the fit.\n",
      "  warnings.warn(\n",
      "/dados/usuarios/mateus/projetos/absa/16_Doutorado_Implicit/doutorado16/lib/python3.9/site-packages/sklearn/linear_model/_stochastic_gradient.py:696: ConvergenceWarning: Maximum number of iteration reached before convergence. Consider increasing max_iter to improve the fit.\n",
      "  warnings.warn(\n",
      "/dados/usuarios/mateus/projetos/absa/16_Doutorado_Implicit/doutorado16/lib/python3.9/site-packages/sklearn/linear_model/_stochastic_gradient.py:696: ConvergenceWarning: Maximum number of iteration reached before convergence. Consider increasing max_iter to improve the fit.\n",
      "  warnings.warn(\n",
      "/dados/usuarios/mateus/projetos/absa/16_Doutorado_Implicit/doutorado16/lib/python3.9/site-packages/sklearn/linear_model/_stochastic_gradient.py:696: ConvergenceWarning: Maximum number of iteration reached before convergence. Consider increasing max_iter to improve the fit.\n",
      "  warnings.warn(\n",
      "/dados/usuarios/mateus/projetos/absa/16_Doutorado_Implicit/doutorado16/lib/python3.9/site-packages/sklearn/linear_model/_stochastic_gradient.py:696: ConvergenceWarning: Maximum number of iteration reached before convergence. Consider increasing max_iter to improve the fit.\n",
      "  warnings.warn(\n",
      "/dados/usuarios/mateus/projetos/absa/16_Doutorado_Implicit/doutorado16/lib/python3.9/site-packages/sklearn/linear_model/_stochastic_gradient.py:696: ConvergenceWarning: Maximum number of iteration reached before convergence. Consider increasing max_iter to improve the fit.\n",
      "  warnings.warn(\n",
      "/dados/usuarios/mateus/projetos/absa/16_Doutorado_Implicit/doutorado16/lib/python3.9/site-packages/sklearn/linear_model/_stochastic_gradient.py:696: ConvergenceWarning: Maximum number of iteration reached before convergence. Consider increasing max_iter to improve the fit.\n",
      "  warnings.warn(\n",
      "/dados/usuarios/mateus/projetos/absa/16_Doutorado_Implicit/doutorado16/lib/python3.9/site-packages/sklearn/linear_model/_stochastic_gradient.py:696: ConvergenceWarning: Maximum number of iteration reached before convergence. Consider increasing max_iter to improve the fit.\n",
      "  warnings.warn(\n",
      "/dados/usuarios/mateus/projetos/absa/16_Doutorado_Implicit/doutorado16/lib/python3.9/site-packages/sklearn/linear_model/_stochastic_gradient.py:696: ConvergenceWarning: Maximum number of iteration reached before convergence. Consider increasing max_iter to improve the fit.\n",
      "  warnings.warn(\n",
      "/dados/usuarios/mateus/projetos/absa/16_Doutorado_Implicit/doutorado16/lib/python3.9/site-packages/sklearn/linear_model/_stochastic_gradient.py:696: ConvergenceWarning: Maximum number of iteration reached before convergence. Consider increasing max_iter to improve the fit.\n",
      "  warnings.warn(\n",
      "/dados/usuarios/mateus/projetos/absa/16_Doutorado_Implicit/doutorado16/lib/python3.9/site-packages/sklearn/linear_model/_stochastic_gradient.py:696: ConvergenceWarning: Maximum number of iteration reached before convergence. Consider increasing max_iter to improve the fit.\n",
      "  warnings.warn(\n",
      "/dados/usuarios/mateus/projetos/absa/16_Doutorado_Implicit/doutorado16/lib/python3.9/site-packages/sklearn/linear_model/_stochastic_gradient.py:696: ConvergenceWarning: Maximum number of iteration reached before convergence. Consider increasing max_iter to improve the fit.\n",
      "  warnings.warn(\n"
     ]
    },
    {
     "name": "stdout",
     "output_type": "stream",
     "text": [
      "Best parameters from gridsearch: {'alpha': 0.0001, 'loss': 'modified_huber', 'penalty': 'l2'}\n",
      "CV score=0.635\n"
     ]
    },
    {
     "data": {
      "text/plain": [
       "{'totalAspects': 518,\n",
       " 'pred': 58,\n",
       " 'tp': 300,\n",
       " 'fp': 8,\n",
       " 'fn': 218,\n",
       " 'precisao': 0.974025974025974,\n",
       " 'precisaoLaplace': 0.9709677419354839,\n",
       " 'revocacao': 0.5791505791505791,\n",
       " 'medidaf': 0.7263922518159807,\n",
       " 'totalExplicitos': 292,\n",
       " 'explicitosOk': 32,\n",
       " 'pExplicitos': 0.1095890410958904,\n",
       " 'explicitsList': ['shopping',\n",
       "  'localização',\n",
       "  'recepção',\n",
       "  'estabelecimento',\n",
       "  'aeroporto',\n",
       "  'frigobar',\n",
       "  'padrão',\n",
       "  'serviço',\n",
       "  'apartamento',\n",
       "  'cozinha',\n",
       "  'carpete',\n",
       "  'quarto',\n",
       "  'lavanderia',\n",
       "  'rua',\n",
       "  'atendimento',\n",
       "  'telefone',\n",
       "  'cidade',\n",
       "  'portaria',\n",
       "  'conforto',\n",
       "  'funcionários',\n",
       "  'chuveiro',\n",
       "  'preço',\n",
       "  'limpeza',\n",
       "  'piscina',\n",
       "  'hotel',\n",
       "  'rodoviária',\n",
       "  'elevador',\n",
       "  'lojas',\n",
       "  'tv',\n",
       "  'estacionamento',\n",
       "  'corredor',\n",
       "  'instalações'],\n",
       " 'totalImplicitos': 226,\n",
       " 'implicitosOk': 30,\n",
       " 'pImplicitos': 0.13274336283185842,\n",
       " 'implicitsList': ['comida',\n",
       "  'localização',\n",
       "  'perto',\n",
       "  'limpos',\n",
       "  'transfer',\n",
       "  'wi-fi',\n",
       "  'limpo',\n",
       "  'recepcionistas',\n",
       "  'apartamento',\n",
       "  'cozinha',\n",
       "  'próximo',\n",
       "  'carpete',\n",
       "  'quarto',\n",
       "  'atendimento',\n",
       "  'sujos',\n",
       "  'telefone',\n",
       "  'proximidade',\n",
       "  'chuveiro',\n",
       "  'barulho',\n",
       "  'limpeza',\n",
       "  'sujo',\n",
       "  'piscina',\n",
       "  'banheiros',\n",
       "  'proximo',\n",
       "  'elevador',\n",
       "  'banheiro',\n",
       "  'limpas',\n",
       "  'recepcionista',\n",
       "  'box',\n",
       "  'estacionamento'],\n",
       " 'tipos': {'Feature': {'Is-a': 6, 'Equivalence': 9, 'Part-of': 31},\n",
       "  'Qualification': {'Adjective': 32, 'Nominal form': 1, 'Equivalence': 1},\n",
       "  'Contextual': {'Related': 2},\n",
       "  'Event': {'Non-verbal form': 2}}}"
      ]
     },
     "execution_count": 105,
     "metadata": {},
     "output_type": "execute_result"
    }
   ],
   "source": [
    "sgd_gs.fit(X_hotel_train, y_hotel_train)\n",
    "print(\"Best parameters from gridsearch: {}\".format(sgd_gs.best_params_))\n",
    "print(\"CV score=%0.3f\" % sgd_gs.best_score_)\n",
    "y_hotel_pred=sgd_gs.predict(X_hotel_test)\n",
    "aspectsHotel = result2aspecList(y_hotel_pred, dfHotelTest)\n",
    "resHotel = calculaMetricas(\n",
    "    aspectsHotel, \n",
    "    aspectsTest['hotel'], \n",
    "    tipos, \n",
    "    lemma=False, \n",
    "    output=False\n",
    ")\n",
    "resHotel"
   ]
  },
  {
   "cell_type": "code",
   "execution_count": 106,
   "metadata": {},
   "outputs": [],
   "source": [
    "xml = dicttoxml(resHotel, attr_type=False, custom_root='resultados')\n",
    "with open('../resultados/sgd_'+domain+'.xml', 'w') as file:\n",
    "    dom = parseString(xml)\n",
    "    file.write(dom.toprettyxml())    "
   ]
  },
  {
   "cell_type": "markdown",
   "metadata": {},
   "source": [
    "### Resultados"
   ]
  },
  {
   "cell_type": "code",
   "execution_count": 107,
   "metadata": {},
   "outputs": [
    {
     "name": "stdout",
     "output_type": "stream",
     "text": [
      "Câmera     & SGD & 0,78 & 0,44 & 0,56 & 20,88 & 7,69 \\\\\n",
      "Livro      & SGD & 0,98 & 0,55 & 0,71 & 17,07 & 0,00 \\\\\n",
      "Smartphone & SGD & 0,78 & 0,41 & 0,54 & 19,40 & 25,00 \\\\\n"
     ]
    }
   ],
   "source": [
    "resultados = []\n",
    "resultados.append(resCamera)\n",
    "resultados.append(resLivro)\n",
    "resultados.append(resSmartphone)\n",
    "\n",
    "print(f'Câmera     & SGD & {resultados[0][\"precisao\"]:.2f} & {resultados[0][\"revocacao\"]:.2f} & {resultados[0][\"medidaf\"]:.2f} & {resultados[0][\"pExplicitos\"]*100:.2f} & {resultados[0][\"pImplicitos\"]*100:.2f} \\\\\\\\'.replace('.',','))\n",
    "print(f'Livro      & SGD & {resultados[1][\"precisao\"]:.2f} & {resultados[1][\"revocacao\"]:.2f} & {resultados[1][\"medidaf\"]:.2f} & {resultados[1][\"pExplicitos\"]*100:.2f} & {resultados[1][\"pImplicitos\"]*100:.2f} \\\\\\\\'.replace('.',','))\n",
    "print(f'Smartphone & SGD & {resultados[2][\"precisao\"]:.2f} & {resultados[2][\"revocacao\"]:.2f} & {resultados[2][\"medidaf\"]:.2f} & {resultados[2][\"pExplicitos\"]*100:.2f} & {resultados[2][\"pImplicitos\"]*100:.2f} \\\\\\\\'.replace('.',','))"
   ]
  },
  {
   "cell_type": "markdown",
   "metadata": {},
   "source": [
    "## Naive Bayes classifier for multinomial models"
   ]
  },
  {
   "cell_type": "code",
   "execution_count": 125,
   "metadata": {},
   "outputs": [],
   "source": [
    "params = {\n",
    "    \"alpha\" : [0.0001, 0.001, 0.01, 0.1, 1, 10, 100, 1000]\n",
    "}\n",
    "model = MultinomialNB()\n",
    "nb = GridSearchCV(model, param_grid=params,  n_jobs=-1, scoring='f1_macro')"
   ]
  },
  {
   "cell_type": "markdown",
   "metadata": {},
   "source": [
    "### Cameras"
   ]
  },
  {
   "cell_type": "code",
   "execution_count": 126,
   "metadata": {},
   "outputs": [],
   "source": [
    "# carregando tipos\n",
    "domain='camera'\n",
    "tiposAll = pd.read_csv('../data/tipologia/categorias_iacs.csv', sep=',', quoting=0, keep_default_na=False)\n",
    "tipos = tiposAll.loc[tiposAll['domain'] == domain]"
   ]
  },
  {
   "cell_type": "code",
   "execution_count": 127,
   "metadata": {},
   "outputs": [
    {
     "name": "stdout",
     "output_type": "stream",
     "text": [
      "Best parameters from gridsearch: {'alpha': 1}\n",
      "CV score=0.467\n"
     ]
    },
    {
     "data": {
      "text/plain": [
       "{'totalAspects': 104,\n",
       " 'pred': 149,\n",
       " 'tp': 71,\n",
       " 'fp': 107,\n",
       " 'fn': 33,\n",
       " 'precisao': 0.398876404494382,\n",
       " 'precisaoLaplace': 0.4,\n",
       " 'revocacao': 0.6826923076923077,\n",
       " 'medidaf': 0.5035460992907802,\n",
       " 'totalExplicitos': 91,\n",
       " 'explicitosOk': 38,\n",
       " 'pExplicitos': 0.4175824175824176,\n",
       " 'explicitsList': ['funções',\n",
       "  'botão',\n",
       "  'camera',\n",
       "  'lente',\n",
       "  'resolução',\n",
       "  'peso',\n",
       "  'camara',\n",
       "  'flash',\n",
       "  'acessórios',\n",
       "  'custo-benefício',\n",
       "  'visor',\n",
       "  'recursos',\n",
       "  'zoom',\n",
       "  'produto',\n",
       "  'conectividade',\n",
       "  'presets',\n",
       "  'preço',\n",
       "  'video',\n",
       "  'memória',\n",
       "  'display',\n",
       "  'menu',\n",
       "  'câmera',\n",
       "  'custo',\n",
       "  'bateria',\n",
       "  'investimento',\n",
       "  'máquina',\n",
       "  'imagens',\n",
       "  'armazenamento',\n",
       "  'fotos',\n",
       "  'manuseio',\n",
       "  'design',\n",
       "  'praticidade',\n",
       "  'vídeo',\n",
       "  'processador',\n",
       "  'foco',\n",
       "  'vídeos',\n",
       "  'tela',\n",
       "  'fotografia'],\n",
       " 'totalImplicitos': 13,\n",
       " 'implicitosOk': 4,\n",
       " 'pImplicitos': 0.3076923076923077,\n",
       " 'implicitsList': ['volume', 'medidas', 'versátil', 'compacta'],\n",
       " 'tipos': {'Qualification': {'Nominal form': 0, 'Adjective': 5},\n",
       "  'Feature': {'Attribute': 2}}}"
      ]
     },
     "execution_count": 127,
     "metadata": {},
     "output_type": "execute_result"
    }
   ],
   "source": [
    "nb.fit(X_camera_train, y_camera_train)\n",
    "print(\"Best parameters from gridsearch: {}\".format(nb.best_params_))\n",
    "print(\"CV score=%0.3f\" % nb.best_score_)\n",
    "y_camera_pred=nb.predict(X_camera_test)\n",
    "aspectsCamera = result2aspecList(y_camera_pred, dfCameraTest)\n",
    "resCamera = calculaMetricas(aspectsCamera, aspectsTest['camera'], tipos, lemma=False, output=False)\n",
    "resCamera"
   ]
  },
  {
   "cell_type": "code",
   "execution_count": 128,
   "metadata": {},
   "outputs": [],
   "source": [
    "xml = dicttoxml(resCamera, attr_type=False, custom_root='resultados')\n",
    "with open('../resultados/mnb_'+domain+'.xml', 'w') as file:\n",
    "    dom = parseString(xml)\n",
    "    file.write(dom.toprettyxml())    "
   ]
  },
  {
   "cell_type": "markdown",
   "metadata": {},
   "source": [
    "### Livros"
   ]
  },
  {
   "cell_type": "code",
   "execution_count": 129,
   "metadata": {},
   "outputs": [],
   "source": [
    "# carregando tipos\n",
    "domain='livro'\n",
    "tiposAll = pd.read_csv('../data/tipologia/categorias_iacs.csv', sep=',', quoting=0, keep_default_na=False)\n",
    "tipos = tiposAll.loc[tiposAll['domain'] == domain]"
   ]
  },
  {
   "cell_type": "code",
   "execution_count": 130,
   "metadata": {},
   "outputs": [
    {
     "name": "stdout",
     "output_type": "stream",
     "text": [
      "Best parameters from gridsearch: {'alpha': 1}\n",
      "CV score=0.470\n"
     ]
    },
    {
     "data": {
      "text/plain": [
       "{'totalAspects': 87,\n",
       " 'pred': 143,\n",
       " 'tp': 65,\n",
       " 'fp': 114,\n",
       " 'fn': 22,\n",
       " 'precisao': 0.36312849162011174,\n",
       " 'precisaoLaplace': 0.36464088397790057,\n",
       " 'revocacao': 0.7471264367816092,\n",
       " 'medidaf': 0.48872180451127817,\n",
       " 'totalExplicitos': 82,\n",
       " 'explicitosOk': 28,\n",
       " 'pExplicitos': 0.34146341463414637,\n",
       " 'explicitsList': ['situação',\n",
       "  'obra',\n",
       "  'leituras',\n",
       "  'final',\n",
       "  'fim',\n",
       "  'narrador',\n",
       "  'narrativa',\n",
       "  'crepúsculo',\n",
       "  'personagem',\n",
       "  'crítica',\n",
       "  'começo',\n",
       "  'escritor',\n",
       "  'romance',\n",
       "  'casos',\n",
       "  'personagens',\n",
       "  'suspense',\n",
       "  'livro',\n",
       "  'leitura',\n",
       "  'início',\n",
       "  'trama',\n",
       "  'cenário',\n",
       "  'história',\n",
       "  'historia',\n",
       "  'escritoras',\n",
       "  'palavra',\n",
       "  'estilo',\n",
       "  'detalhe',\n",
       "  'protagonista'],\n",
       " 'totalImplicitos': 5,\n",
       " 'implicitosOk': 1,\n",
       " 'pImplicitos': 0.2,\n",
       " 'implicitsList': ['mocinha'],\n",
       " 'tipos': {'Feature': {'Is-a': 1, 'Equivalence': 0}}}"
      ]
     },
     "execution_count": 130,
     "metadata": {},
     "output_type": "execute_result"
    }
   ],
   "source": [
    "nb.fit(X_livro_train, y_livro_train)\n",
    "print(\"Best parameters from gridsearch: {}\".format(nb.best_params_))\n",
    "print(\"CV score=%0.3f\" % nb.best_score_)\n",
    "y_livro_pred=nb.predict(X_livro_test)\n",
    "aspectsLivro = result2aspecList(y_livro_pred, dfLivroTest)\n",
    "resLivro = calculaMetricas(aspectsLivro, aspectsTest['livro'], tipos, lemma=False, output=False)\n",
    "resLivro"
   ]
  },
  {
   "cell_type": "code",
   "execution_count": 131,
   "metadata": {},
   "outputs": [],
   "source": [
    "xml = dicttoxml(resLivro, attr_type=False, custom_root='resultados')\n",
    "with open('../resultados/mnb_'+domain+'.xml', 'w') as file:\n",
    "    dom = parseString(xml)\n",
    "    file.write(dom.toprettyxml())    "
   ]
  },
  {
   "cell_type": "markdown",
   "metadata": {},
   "source": [
    "### Smartphones"
   ]
  },
  {
   "cell_type": "code",
   "execution_count": 132,
   "metadata": {},
   "outputs": [],
   "source": [
    "# carregando tipos\n",
    "domain='smartphone'\n",
    "tiposAll = pd.read_csv('../data/tipologia/categorias_iacs.csv', sep=',', quoting=0, keep_default_na=False)\n",
    "tipos = tiposAll.loc[tiposAll['domain'] == domain]"
   ]
  },
  {
   "cell_type": "code",
   "execution_count": 133,
   "metadata": {},
   "outputs": [
    {
     "name": "stdout",
     "output_type": "stream",
     "text": [
      "Best parameters from gridsearch: {'alpha': 0.0001}\n",
      "CV score=0.442\n"
     ]
    },
    {
     "data": {
      "text/plain": [
       "{'totalAspects': 158,\n",
       " 'pred': 150,\n",
       " 'tp': 53,\n",
       " 'fp': 129,\n",
       " 'fn': 105,\n",
       " 'precisao': 0.29120879120879123,\n",
       " 'precisaoLaplace': 0.29347826086956524,\n",
       " 'revocacao': 0.33544303797468356,\n",
       " 'medidaf': 0.31176470588235294,\n",
       " 'totalExplicitos': 134,\n",
       " 'explicitosOk': 18,\n",
       " 'pExplicitos': 0.13432835820895522,\n",
       " 'explicitsList': ['camera digital',\n",
       "  'funções',\n",
       "  'internet',\n",
       "  'sinal',\n",
       "  'visor',\n",
       "  'produto',\n",
       "  'cartão de mémoria',\n",
       "  'modelo',\n",
       "  'preço',\n",
       "  'câmera',\n",
       "  'bateria',\n",
       "  'aparelho',\n",
       "  'wi-fi',\n",
       "  'celular',\n",
       "  'design',\n",
       "  'volume de áudio',\n",
       "  'touch',\n",
       "  'tela'],\n",
       " 'totalImplicitos': 24,\n",
       " 'implicitosOk': 3,\n",
       " 'pImplicitos': 0.125,\n",
       " 'implicitsList': ['fácil de mexer', 'pequeno', 'moderno'],\n",
       " 'tipos': {'Qualification': {'Adjective': 2}, 'Event': {'Verb': 1}}}"
      ]
     },
     "execution_count": 133,
     "metadata": {},
     "output_type": "execute_result"
    }
   ],
   "source": [
    "nb.fit(X_smartphone_train, y_smartphone_train)\n",
    "print(\"Best parameters from gridsearch: {}\".format(nb.best_params_))\n",
    "print(\"CV score=%0.3f\" % nb.best_score_)\n",
    "y_smartphone_pred=nb.predict(X_smartphone_test)\n",
    "aspectsSmartphone = result2aspecList(y_smartphone_pred, dfSmartphoneTest)\n",
    "resSmartphone = calculaMetricas(aspectsSmartphone, aspectsTest['smartphone'], tipos, lemma=False, output=False)\n",
    "resSmartphone"
   ]
  },
  {
   "cell_type": "code",
   "execution_count": 134,
   "metadata": {},
   "outputs": [],
   "source": [
    "xml = dicttoxml(resSmartphone, attr_type=False, custom_root='resultados')\n",
    "with open('../resultados/mnb_'+domain+'.xml', 'w') as file:\n",
    "    dom = parseString(xml)\n",
    "    file.write(dom.toprettyxml())    "
   ]
  },
  {
   "cell_type": "markdown",
   "metadata": {},
   "source": [
    "### Hotel"
   ]
  },
  {
   "cell_type": "code",
   "execution_count": 135,
   "metadata": {},
   "outputs": [],
   "source": [
    "# carregando tipos\n",
    "domain='hotel'\n",
    "tiposAll = pd.read_csv('../data/tipologia/categorias_iacs.csv', sep=',', quoting=0, keep_default_na=False)\n",
    "tipos = tiposAll.loc[tiposAll['domain'] == domain]"
   ]
  },
  {
   "cell_type": "code",
   "execution_count": 136,
   "metadata": {},
   "outputs": [
    {
     "name": "stdout",
     "output_type": "stream",
     "text": [
      "Best parameters from gridsearch: {'alpha': 0.01}\n",
      "CV score=0.491\n"
     ]
    },
    {
     "data": {
      "text/plain": [
       "{'totalAspects': 518,\n",
       " 'pred': 346,\n",
       " 'tp': 291,\n",
       " 'fp': 304,\n",
       " 'fn': 227,\n",
       " 'precisao': 0.4890756302521008,\n",
       " 'precisaoLaplace': 0.48911222780569513,\n",
       " 'revocacao': 0.5617760617760618,\n",
       " 'medidaf': 0.522911051212938,\n",
       " 'totalExplicitos': 292,\n",
       " 'explicitosOk': 20,\n",
       " 'pExplicitos': 0.0684931506849315,\n",
       " 'explicitsList': ['elevador',\n",
       "  'estacionamento',\n",
       "  'telefone',\n",
       "  'localização',\n",
       "  'limpeza',\n",
       "  'shopping',\n",
       "  'padrão',\n",
       "  'chuveiro',\n",
       "  'serviço',\n",
       "  'quarto',\n",
       "  'recepção',\n",
       "  'aeroporto',\n",
       "  'atendimento',\n",
       "  'lojas',\n",
       "  'frigobar',\n",
       "  'cozinha',\n",
       "  'cidade',\n",
       "  'conforto',\n",
       "  'hotel',\n",
       "  'rodoviária'],\n",
       " 'totalImplicitos': 226,\n",
       " 'implicitosOk': 31,\n",
       " 'pImplicitos': 0.13716814159292035,\n",
       " 'implicitsList': ['estrutura',\n",
       "  'elevador',\n",
       "  'estacionamento',\n",
       "  'dormir',\n",
       "  'proximidade',\n",
       "  'box',\n",
       "  'apartamentos',\n",
       "  'telefone',\n",
       "  'localização',\n",
       "  'limpeza',\n",
       "  'transfer',\n",
       "  'localizado no centro',\n",
       "  'limpo',\n",
       "  'chuveiro',\n",
       "  'quarto',\n",
       "  'cheiro de mofo',\n",
       "  'valor',\n",
       "  'custo',\n",
       "  'sujo',\n",
       "  'próximo',\n",
       "  'atendimento',\n",
       "  'perto',\n",
       "  'cama',\n",
       "  'ar condicionado',\n",
       "  'localizado',\n",
       "  'barato',\n",
       "  'cozinha',\n",
       "  'banheiros',\n",
       "  'café',\n",
       "  'banheiro',\n",
       "  'caro'],\n",
       " 'tipos': {'Feature': {'Part-of': 41, 'Equivalence': 27, 'Is-a': 5},\n",
       "  'Event': {'Verb': 1, 'Non-verbal form': 2},\n",
       "  'Qualification': {'Nominal form': 1, 'Equivalence': 1, 'Adjective': 31},\n",
       "  'Contextual': {'Related': 3, 'Location': 0}}}"
      ]
     },
     "execution_count": 136,
     "metadata": {},
     "output_type": "execute_result"
    }
   ],
   "source": [
    "nb.fit(X_hotel_train, y_hotel_train)\n",
    "print(\"Best parameters from gridsearch: {}\".format(nb.best_params_))\n",
    "print(\"CV score=%0.3f\" % nb.best_score_)\n",
    "y_hotel_pred=nb.predict(X_hotel_test)\n",
    "aspectsHotel = result2aspecList(y_hotel_pred, dfHotelTest)\n",
    "resHotel = calculaMetricas(\n",
    "    aspectsHotel, \n",
    "    aspectsTest['hotel'], \n",
    "    tipos, \n",
    "    lemma=False, \n",
    "    output=False)\n",
    "resHotel"
   ]
  },
  {
   "cell_type": "code",
   "execution_count": 137,
   "metadata": {},
   "outputs": [],
   "source": [
    "xml = dicttoxml(resHotel, attr_type=False, custom_root='resultados')\n",
    "with open('../resultados/mnb_'+domain+'.xml', 'w') as file:\n",
    "    dom = parseString(xml)\n",
    "    file.write(dom.toprettyxml())    "
   ]
  },
  {
   "cell_type": "markdown",
   "metadata": {},
   "source": [
    "### Resultados"
   ]
  },
  {
   "cell_type": "code",
   "execution_count": 138,
   "metadata": {},
   "outputs": [
    {
     "name": "stdout",
     "output_type": "stream",
     "text": [
      "Câmera     & NB Multinomial & 0,40 & 0,68 & 0,50 & 41,76 & 30,77 \\\\\n",
      "Livro      & NB Multinomial & 0,36 & 0,75 & 0,49 & 34,15 & 20,00 \\\\\n",
      "Smartphone & NB Multinomial & 0,29 & 0,34 & 0,31 & 13,43 & 12,50 \\\\\n"
     ]
    }
   ],
   "source": [
    "resultados = []\n",
    "resultados.append(resCamera)\n",
    "resultados.append(resLivro)\n",
    "resultados.append(resSmartphone)\n",
    "\n",
    "print(f'Câmera     & NB Multinomial & {resultados[0][\"precisao\"]:.2f} & {resultados[0][\"revocacao\"]:.2f} & {resultados[0][\"medidaf\"]:.2f} & {resultados[0][\"pExplicitos\"]*100:.2f} & {resultados[0][\"pImplicitos\"]*100:.2f} \\\\\\\\'.replace('.',','))\n",
    "print(f'Livro      & NB Multinomial & {resultados[1][\"precisao\"]:.2f} & {resultados[1][\"revocacao\"]:.2f} & {resultados[1][\"medidaf\"]:.2f} & {resultados[1][\"pExplicitos\"]*100:.2f} & {resultados[1][\"pImplicitos\"]*100:.2f} \\\\\\\\'.replace('.',','))\n",
    "print(f'Smartphone & NB Multinomial & {resultados[2][\"precisao\"]:.2f} & {resultados[2][\"revocacao\"]:.2f} & {resultados[2][\"medidaf\"]:.2f} & {resultados[2][\"pExplicitos\"]*100:.2f} & {resultados[2][\"pImplicitos\"]*100:.2f} \\\\\\\\'.replace('.',','))"
   ]
  },
  {
   "cell_type": "markdown",
   "metadata": {},
   "source": [
    "## Passive Aggressive Classifier"
   ]
  },
  {
   "cell_type": "code",
   "execution_count": 139,
   "metadata": {},
   "outputs": [],
   "source": [
    "params = {\n",
    "    'C' : [0.003, 0.01, 0.03, 0.1, 0.3, 1], \n",
    "    'loss': ['hinge', 'squared_hinge'], \n",
    "    }\n",
    " \n",
    "model = PassiveAggressiveClassifier(max_iter=1000)\n",
    "pa = GridSearchCV(model, param_grid=params,  n_jobs=-1, scoring='f1_macro')"
   ]
  },
  {
   "cell_type": "markdown",
   "metadata": {},
   "source": [
    "### Camera"
   ]
  },
  {
   "cell_type": "code",
   "execution_count": 140,
   "metadata": {},
   "outputs": [],
   "source": [
    "# carregando tipos\n",
    "domain='camera'\n",
    "tiposAll = pd.read_csv('../data/tipologia/categorias_iacs.csv', sep=',', quoting=0, keep_default_na=False)\n",
    "tipos = tiposAll.loc[tiposAll['domain'] == domain]"
   ]
  },
  {
   "cell_type": "code",
   "execution_count": 141,
   "metadata": {},
   "outputs": [
    {
     "name": "stdout",
     "output_type": "stream",
     "text": [
      "Best parameters from gridsearch: {'C': 0.1, 'loss': 'hinge'}\n",
      "CV score=0.558\n"
     ]
    },
    {
     "data": {
      "text/plain": [
       "{'totalAspects': 104,\n",
       " 'pred': 33,\n",
       " 'tp': 46,\n",
       " 'fp': 13,\n",
       " 'fn': 58,\n",
       " 'precisao': 0.7796610169491526,\n",
       " 'precisaoLaplace': 0.7704918032786885,\n",
       " 'revocacao': 0.4423076923076923,\n",
       " 'medidaf': 0.5644171779141105,\n",
       " 'totalExplicitos': 91,\n",
       " 'explicitosOk': 19,\n",
       " 'pExplicitos': 0.2087912087912088,\n",
       " 'explicitsList': ['custo-benefício',\n",
       "  'funções',\n",
       "  'investimento',\n",
       "  'visor',\n",
       "  'máquina',\n",
       "  'recursos',\n",
       "  'zoom',\n",
       "  'camera',\n",
       "  'produto',\n",
       "  'lente',\n",
       "  'preço',\n",
       "  'fotos',\n",
       "  'resolução',\n",
       "  'manuseio',\n",
       "  'vídeos',\n",
       "  'câmera',\n",
       "  'flash',\n",
       "  'acessórios',\n",
       "  'bateria'],\n",
       " 'totalImplicitos': 13,\n",
       " 'implicitosOk': 1,\n",
       " 'pImplicitos': 0.07692307692307693,\n",
       " 'implicitsList': ['compacta'],\n",
       " 'tipos': {'Qualification': {'Adjective': 4}}}"
      ]
     },
     "execution_count": 141,
     "metadata": {},
     "output_type": "execute_result"
    }
   ],
   "source": [
    "pa.fit(X_camera_train, y_camera_train)\n",
    "print(\"Best parameters from gridsearch: {}\".format(pa.best_params_))\n",
    "print(\"CV score=%0.3f\" % pa.best_score_)\n",
    "y_camera_pred=pa.predict(X_camera_test)\n",
    "aspectsCamera = result2aspecList(y_camera_pred, dfCameraTest)\n",
    "resCamera = calculaMetricas(\n",
    "    aspectsCamera, \n",
    "    aspectsTest['camera'], \n",
    "    tipos,\n",
    "    lemma=False, \n",
    "    output=False)\n",
    "resCamera"
   ]
  },
  {
   "cell_type": "code",
   "execution_count": 142,
   "metadata": {},
   "outputs": [],
   "source": [
    "xml = dicttoxml(resCamera, attr_type=False, custom_root='resultados')\n",
    "with open('../resultados/passiveagressive_'+domain+'.xml', 'w') as file:\n",
    "    dom = parseString(xml)\n",
    "    file.write(dom.toprettyxml())    "
   ]
  },
  {
   "cell_type": "markdown",
   "metadata": {},
   "source": [
    "### Livro"
   ]
  },
  {
   "cell_type": "code",
   "execution_count": 143,
   "metadata": {},
   "outputs": [],
   "source": [
    "# carregando tipos\n",
    "domain='livro'\n",
    "tiposAll = pd.read_csv('../data/tipologia/categorias_iacs.csv', sep=',', quoting=0, keep_default_na=False)\n",
    "tipos = tiposAll.loc[tiposAll['domain'] == domain]"
   ]
  },
  {
   "cell_type": "code",
   "execution_count": 144,
   "metadata": {},
   "outputs": [
    {
     "name": "stdout",
     "output_type": "stream",
     "text": [
      "Best parameters from gridsearch: {'C': 0.01, 'loss': 'squared_hinge'}\n",
      "CV score=0.593\n"
     ]
    },
    {
     "data": {
      "text/plain": [
       "{'totalAspects': 87,\n",
       " 'pred': 17,\n",
       " 'tp': 50,\n",
       " 'fp': 2,\n",
       " 'fn': 37,\n",
       " 'precisao': 0.9615384615384616,\n",
       " 'precisaoLaplace': 0.9444444444444444,\n",
       " 'revocacao': 0.5747126436781609,\n",
       " 'medidaf': 0.7194244604316546,\n",
       " 'totalExplicitos': 82,\n",
       " 'explicitosOk': 15,\n",
       " 'pExplicitos': 0.18292682926829268,\n",
       " 'explicitsList': ['começo',\n",
       "  'livro',\n",
       "  'personagem',\n",
       "  'romance',\n",
       "  'história',\n",
       "  'trama',\n",
       "  'crítica',\n",
       "  'final',\n",
       "  'historia',\n",
       "  'personagens',\n",
       "  'obra',\n",
       "  'fim',\n",
       "  'leitura',\n",
       "  'palavra',\n",
       "  'início'],\n",
       " 'totalImplicitos': 5,\n",
       " 'implicitosOk': 0,\n",
       " 'pImplicitos': 0.0,\n",
       " 'implicitsList': [],\n",
       " 'tipos': {}}"
      ]
     },
     "execution_count": 144,
     "metadata": {},
     "output_type": "execute_result"
    }
   ],
   "source": [
    "pa.fit(X_livro_train, y_livro_train)\n",
    "print(\"Best parameters from gridsearch: {}\".format(pa.best_params_))\n",
    "print(\"CV score=%0.3f\" % pa.best_score_)\n",
    "y_livro_pred=pa.predict(X_livro_test)\n",
    "aspectsLivro = result2aspecList(y_livro_pred, dfLivroTest)\n",
    "resLivro = calculaMetricas(\n",
    "    aspectsLivro, \n",
    "    aspectsTest['livro'], \n",
    "    tipos,\n",
    "    lemma=False, \n",
    "    output=False)\n",
    "resLivro"
   ]
  },
  {
   "cell_type": "code",
   "execution_count": 145,
   "metadata": {},
   "outputs": [],
   "source": [
    "xml = dicttoxml(resLivro, attr_type=False, custom_root='resultados')\n",
    "with open('../resultados/passiveagressive_'+domain+'.xml', 'w') as file:\n",
    "    dom = parseString(xml)\n",
    "    file.write(dom.toprettyxml())    "
   ]
  },
  {
   "cell_type": "markdown",
   "metadata": {},
   "source": [
    "### Smartphone"
   ]
  },
  {
   "cell_type": "code",
   "execution_count": 146,
   "metadata": {},
   "outputs": [],
   "source": [
    "# carregando tipos\n",
    "domain='smartphone'\n",
    "tiposAll = pd.read_csv('../data/tipologia/categorias_iacs.csv', sep=',', quoting=0, keep_default_na=False)\n",
    "tipos = tiposAll.loc[tiposAll['domain'] == domain]"
   ]
  },
  {
   "cell_type": "code",
   "execution_count": 147,
   "metadata": {},
   "outputs": [
    {
     "name": "stdout",
     "output_type": "stream",
     "text": [
      "Best parameters from gridsearch: {'C': 0.1, 'loss': 'hinge'}\n",
      "CV score=0.535\n"
     ]
    },
    {
     "data": {
      "text/plain": [
       "{'totalAspects': 158,\n",
       " 'pred': 52,\n",
       " 'tp': 68,\n",
       " 'fp': 19,\n",
       " 'fn': 90,\n",
       " 'precisao': 0.7816091954022989,\n",
       " 'precisaoLaplace': 0.7752808988764045,\n",
       " 'revocacao': 0.43037974683544306,\n",
       " 'medidaf': 0.5551020408163265,\n",
       " 'totalExplicitos': 134,\n",
       " 'explicitosOk': 27,\n",
       " 'pExplicitos': 0.20149253731343283,\n",
       " 'explicitsList': ['design',\n",
       "  'praticidade',\n",
       "  'custo-benefício',\n",
       "  'marca',\n",
       "  'aparelho',\n",
       "  'camera digital',\n",
       "  'wi-fi',\n",
       "  'funções',\n",
       "  'sinal',\n",
       "  'visor',\n",
       "  'recursos',\n",
       "  'camera',\n",
       "  'produto',\n",
       "  'tamanho',\n",
       "  'fabricante',\n",
       "  'nokia',\n",
       "  'memoria',\n",
       "  'motorola',\n",
       "  'modelo',\n",
       "  'preço',\n",
       "  'celular',\n",
       "  'manuseio',\n",
       "  'touch',\n",
       "  'menu',\n",
       "  'durabilidade',\n",
       "  'botões',\n",
       "  'bateria'],\n",
       " 'totalImplicitos': 24,\n",
       " 'implicitosOk': 6,\n",
       " 'pImplicitos': 0.25,\n",
       " 'implicitsList': ['bonito', 'pequeno', 'moderno', 'prático', 'trava', 'leve'],\n",
       " 'tipos': {'Qualification': {'Adjective': 5}, 'Event': {'Verb': 2}}}"
      ]
     },
     "execution_count": 147,
     "metadata": {},
     "output_type": "execute_result"
    }
   ],
   "source": [
    "pa.fit(X_smartphone_train, y_smartphone_train)\n",
    "print(\"Best parameters from gridsearch: {}\".format(pa.best_params_))\n",
    "print(\"CV score=%0.3f\" % pa.best_score_)\n",
    "y_smartphone_pred=pa.predict(X_smartphone_test)\n",
    "aspectsSmartphone = result2aspecList(y_smartphone_pred, dfSmartphoneTest)\n",
    "resSmartphone = calculaMetricas(\n",
    "    aspectsSmartphone, \n",
    "    aspectsTest['smartphone'], \n",
    "    tipos,\n",
    "    lemma=False, \n",
    "    output=False)\n",
    "resSmartphone"
   ]
  },
  {
   "cell_type": "code",
   "execution_count": 148,
   "metadata": {},
   "outputs": [],
   "source": [
    "xml = dicttoxml(resSmartphone, attr_type=False, custom_root='resultados')\n",
    "with open('../resultados/passiveagressive_'+domain+'.xml', 'w') as file:\n",
    "    dom = parseString(xml)\n",
    "    file.write(dom.toprettyxml())    "
   ]
  },
  {
   "cell_type": "markdown",
   "metadata": {},
   "source": [
    "### Hotel"
   ]
  },
  {
   "cell_type": "code",
   "execution_count": 149,
   "metadata": {},
   "outputs": [],
   "source": [
    "# carregando tipos\n",
    "domain='hotel'\n",
    "tiposAll = pd.read_csv('../data/tipologia/categorias_iacs.csv', sep=',', quoting=0, keep_default_na=False)\n",
    "tipos = tiposAll.loc[tiposAll['domain'] == domain]"
   ]
  },
  {
   "cell_type": "code",
   "execution_count": 150,
   "metadata": {},
   "outputs": [
    {
     "name": "stdout",
     "output_type": "stream",
     "text": [
      "Best parameters from gridsearch: {'C': 0.3, 'loss': 'hinge'}\n",
      "CV score=0.641\n"
     ]
    },
    {
     "data": {
      "text/plain": [
       "{'totalAspects': 518,\n",
       " 'pred': 68,\n",
       " 'tp': 330,\n",
       " 'fp': 6,\n",
       " 'fn': 188,\n",
       " 'precisao': 0.9821428571428571,\n",
       " 'precisaoLaplace': 0.9792899408284024,\n",
       " 'revocacao': 0.637065637065637,\n",
       " 'medidaf': 0.7728337236533958,\n",
       " 'totalExplicitos': 292,\n",
       " 'explicitosOk': 34,\n",
       " 'pExplicitos': 0.11643835616438356,\n",
       " 'explicitsList': ['shopping',\n",
       "  'localização',\n",
       "  'pia',\n",
       "  'estabelecimento',\n",
       "  'aeroporto',\n",
       "  'recepção',\n",
       "  'frigobar',\n",
       "  'padrão',\n",
       "  'serviço',\n",
       "  'apartamento',\n",
       "  'cozinha',\n",
       "  'carpete',\n",
       "  'quarto',\n",
       "  'lavanderia',\n",
       "  'rua',\n",
       "  'atendimento',\n",
       "  'aparência',\n",
       "  'cidade',\n",
       "  'telefone',\n",
       "  'portaria',\n",
       "  'conforto',\n",
       "  'funcionários',\n",
       "  'chuveiro',\n",
       "  'preço',\n",
       "  'limpeza',\n",
       "  'piscina',\n",
       "  'hotel',\n",
       "  'rodoviária',\n",
       "  'elevador',\n",
       "  'lojas',\n",
       "  'tv',\n",
       "  'estacionamento',\n",
       "  'corredor',\n",
       "  'instalações'],\n",
       " 'totalImplicitos': 226,\n",
       " 'implicitosOk': 40,\n",
       " 'pImplicitos': 0.17699115044247787,\n",
       " 'implicitsList': ['comida',\n",
       "  'localizado',\n",
       "  'localização',\n",
       "  'perto',\n",
       "  'custo',\n",
       "  'limpos',\n",
       "  'transfer',\n",
       "  'wi-fi',\n",
       "  'limpo',\n",
       "  'recepcionistas',\n",
       "  'apartamento',\n",
       "  'cozinha',\n",
       "  'próximo',\n",
       "  'carpete',\n",
       "  'quarto',\n",
       "  'atendimento',\n",
       "  'sujos',\n",
       "  'telefone',\n",
       "  'atendentes',\n",
       "  'proximidade',\n",
       "  'chuveiro',\n",
       "  'barulho',\n",
       "  'localizaçao',\n",
       "  'limpeza',\n",
       "  'sujo',\n",
       "  'room service',\n",
       "  'piscina',\n",
       "  'banheiros',\n",
       "  'barulhentos',\n",
       "  'proximo',\n",
       "  'elevador',\n",
       "  'banheiro',\n",
       "  'limpas',\n",
       "  'recepcionista',\n",
       "  'ar condicionado',\n",
       "  'box',\n",
       "  'apartamentos',\n",
       "  'caro',\n",
       "  'estacionamento',\n",
       "  'coberto'],\n",
       " 'tipos': {'Feature': {'Is-a': 7, 'Equivalence': 26, 'Part-of': 36},\n",
       "  'Qualification': {'Adjective': 35, 'Nominal form': 1, 'Equivalence': 1},\n",
       "  'Contextual': {'Related': 4},\n",
       "  'Event': {'Non-verbal form': 2}}}"
      ]
     },
     "execution_count": 150,
     "metadata": {},
     "output_type": "execute_result"
    }
   ],
   "source": [
    "pa.fit(X_hotel_train, y_hotel_train)\n",
    "print(\"Best parameters from gridsearch: {}\".format(pa.best_params_))\n",
    "print(\"CV score=%0.3f\" % pa.best_score_)\n",
    "y_hotel_pred=pa.predict(X_hotel_test)\n",
    "aspectsHotel = result2aspecList(y_hotel_pred, dfHotelTest)\n",
    "resHotel = calculaMetricas(\n",
    "    aspectsHotel, \n",
    "    aspectsTest['hotel'], \n",
    "    tipos,\n",
    "    lemma=False, \n",
    "    output=False)\n",
    "resHotel"
   ]
  },
  {
   "cell_type": "code",
   "execution_count": 151,
   "metadata": {},
   "outputs": [],
   "source": [
    "xml = dicttoxml(resHotel, attr_type=False, custom_root='resultados')\n",
    "with open('../resultados/passiveagressive_'+domain+'.xml', 'w') as file:\n",
    "    dom = parseString(xml)\n",
    "    file.write(dom.toprettyxml())    "
   ]
  },
  {
   "cell_type": "markdown",
   "metadata": {},
   "source": [
    "### Resultados"
   ]
  },
  {
   "cell_type": "code",
   "execution_count": 152,
   "metadata": {},
   "outputs": [
    {
     "name": "stdout",
     "output_type": "stream",
     "text": [
      "Câmera     & Passive Aggressive & 0,78 & 0,44 & 0,56 & 20,88 & 7,69 \\\\\n",
      "Livro      & Passive Aggressive & 0,96 & 0,57 & 0,72 & 18,29 & 0,00 \\\\\n",
      "Smartphone & Passive Aggressive & 0,78 & 0,43 & 0,56 & 20,15 & 25,00 \\\\\n"
     ]
    }
   ],
   "source": [
    "resultados = []\n",
    "resultados.append(resCamera)\n",
    "resultados.append(resLivro)\n",
    "resultados.append(resSmartphone)\n",
    "\n",
    "print(f'Câmera     & Passive Aggressive & {resultados[0][\"precisao\"]:.2f} & {resultados[0][\"revocacao\"]:.2f} & {resultados[0][\"medidaf\"]:.2f} & {resultados[0][\"pExplicitos\"]*100:.2f} & {resultados[0][\"pImplicitos\"]*100:.2f} \\\\\\\\'.replace('.',','))\n",
    "print(f'Livro      & Passive Aggressive & {resultados[1][\"precisao\"]:.2f} & {resultados[1][\"revocacao\"]:.2f} & {resultados[1][\"medidaf\"]:.2f} & {resultados[1][\"pExplicitos\"]*100:.2f} & {resultados[1][\"pImplicitos\"]*100:.2f} \\\\\\\\'.replace('.',','))\n",
    "print(f'Smartphone & Passive Aggressive & {resultados[2][\"precisao\"]:.2f} & {resultados[2][\"revocacao\"]:.2f} & {resultados[2][\"medidaf\"]:.2f} & {resultados[2][\"pExplicitos\"]*100:.2f} & {resultados[2][\"pImplicitos\"]*100:.2f} \\\\\\\\'.replace('.',','))"
   ]
  },
  {
   "cell_type": "markdown",
   "metadata": {},
   "source": [
    "## Conditional Random Fields (CRFs)"
   ]
  },
  {
   "cell_type": "code",
   "execution_count": 168,
   "metadata": {},
   "outputs": [],
   "source": [
    "import sklearn_crfsuite\n",
    "from sklearn_crfsuite import scorers\n",
    "from sklearn_crfsuite import metrics\n",
    "from collections import Counter\n",
    "import scipy"
   ]
  },
  {
   "cell_type": "code",
   "execution_count": 159,
   "metadata": {},
   "outputs": [],
   "source": [
    "class SentenceGetter(object):\n",
    "    \n",
    "    def __init__(self, data):\n",
    "        self.n_sent = 1\n",
    "        self.data = data\n",
    "        self.empty = False\n",
    "        agg_func = lambda s: [(w, p, t) for w, p, t in zip(s['Word'].values.tolist(), \n",
    "                                                           s['POS'].values.tolist(), \n",
    "                                                           s['Tag'].values.tolist())]\n",
    "        self.grouped = self.data.groupby('Sentence #').apply(agg_func)\n",
    "        self.sentences = [s for s in self.grouped]\n",
    "        \n",
    "    def get_next(self):\n",
    "        try: \n",
    "            s = self.grouped['Sentence: {}'.format(self.n_sent)]\n",
    "            self.n_sent += 1\n",
    "            return s \n",
    "        except:\n",
    "            return None"
   ]
  },
  {
   "cell_type": "code",
   "execution_count": 160,
   "metadata": {},
   "outputs": [],
   "source": [
    "def word2features(sent, i):\n",
    "    word = sent[i][0]\n",
    "    postag = sent[i][1]\n",
    "    \n",
    "    features = {\n",
    "        'bias': 1.0, \n",
    "        'word.lower()': word.lower(), \n",
    "        'word[-3:]': word[-3:],\n",
    "        'word[-2:]': word[-2:],\n",
    "        #'word.isupper()': word.isupper(),\n",
    "        #'word.istitle()': word.istitle(),\n",
    "        #'word.isdigit()': word.isdigit(),\n",
    "        'postag': postag,\n",
    "        'postag[:2]': postag[:2],\n",
    "    }\n",
    "    if i > 0:\n",
    "        word1 = sent[i-1][0]\n",
    "        postag1 = sent[i-1][1]\n",
    "        features.update({\n",
    "            '-1:word.lower()': word1.lower(),\n",
    "            #'-1:word.istitle()': word1.istitle(),\n",
    "            #'-1:word.isupper()': word1.isupper(),\n",
    "            '-1:postag': postag1,\n",
    "            '-1:postag[:2]': postag1[:2],\n",
    "        })\n",
    "    else:\n",
    "        features['BOS'] = True\n",
    "    if i < len(sent)-1:\n",
    "        word1 = sent[i+1][0]\n",
    "        postag1 = sent[i+1][1]\n",
    "        features.update({\n",
    "            '+1:word.lower()': word1.lower(),\n",
    "            #'+1:word.istitle()': word1.istitle(),\n",
    "            #'+1:word.isupper()': word1.isupper(),\n",
    "            '+1:postag': postag1,\n",
    "            '+1:postag[:2]': postag1[:2],\n",
    "        })\n",
    "    else:\n",
    "        features['EOS'] = True\n",
    "    return features\n",
    "\n",
    "def sent2features(sent):\n",
    "    return [word2features(sent, i) for i in range(len(sent))]\n",
    "\n",
    "def sent2labels(sent):\n",
    "    return [label for token, postag, label in sent]\n",
    "\n",
    "def sent2tokens(sent):\n",
    "    return [token for token, postag, label in sent]"
   ]
  },
  {
   "cell_type": "code",
   "execution_count": 161,
   "metadata": {},
   "outputs": [],
   "source": [
    "dfCamera = pd.read_csv('data/domain_camera_IOB.csv', sep='\\t', quoting=3)\n",
    "dfCameraTest = pd.read_csv('data/domain_camera_IOB_test.csv', sep='\\t', quoting=3)\n",
    "dfCameraTrain = pd.read_csv('data/domain_camera_IOB_train.csv', sep='\\t', quoting=3)\n",
    "\n",
    "dfCamera = dfCamera.fillna(method='ffill')\n",
    "dfCameraTest = dfCameraTest.fillna(method='ffill')\n",
    "dfCameraTrain = dfCameraTrain.fillna(method='ffill')\n",
    "\n",
    "getter = SentenceGetter(dfCamera)\n",
    "sentences = getter.sentences\n",
    "X = [sent2features(s) for s in sentences]\n",
    "y = [sent2labels(s) for s in sentences]\n",
    "X_camera_train, X_camera_test, y_camera_train, y_camera_test = train_test_split(X, y, test_size=0.33, random_state=0)\n",
    "\n",
    "getterTrain = SentenceGetter(dfCameraTrain)\n",
    "sentences = getterTrain.sentences\n",
    "X_camera_train = [sent2features(s) for s in sentences]\n",
    "y_camera_train = [sent2labels(s) for s in sentences]\n",
    "\n",
    "getterTest = SentenceGetter(dfCameraTest)\n",
    "sentences = getterTest.sentences\n",
    "X_camera_test = [sent2features(s) for s in sentences]\n",
    "y_camera_test = [sent2labels(s) for s in sentences]"
   ]
  },
  {
   "cell_type": "code",
   "execution_count": 163,
   "metadata": {},
   "outputs": [],
   "source": [
    "dfLivro = pd.read_csv('data/domain_livro_IOB.csv', sep='\\t', quoting=3)\n",
    "dfLivroTest = pd.read_csv('data/domain_livro_IOB_test.csv', sep='\\t', quoting=3)\n",
    "dfLivroTrain = pd.read_csv('data/domain_livro_IOB_train.csv', sep='\\t', quoting=3)\n",
    "\n",
    "dfLivro = dfLivro.fillna(method='ffill')\n",
    "dfLivroTest = dfLivroTest.fillna(method='ffill')\n",
    "dfLivroTrain = dfLivroTrain.fillna(method='ffill')\n",
    "\n",
    "getter = SentenceGetter(dfLivro)\n",
    "sentences = getter.sentences\n",
    "X = [sent2features(s) for s in sentences]\n",
    "y = [sent2labels(s) for s in sentences]\n",
    "X_livro_train, X_livro_test, y_livro_train, y_livro_test = train_test_split(X, y, test_size=0.33, random_state=0)\n",
    "\n",
    "getterTrain = SentenceGetter(dfLivroTrain)\n",
    "sentences = getterTrain.sentences\n",
    "X_livro_train = [sent2features(s) for s in sentences]\n",
    "y_livro_train = [sent2labels(s) for s in sentences]\n",
    "\n",
    "getterTest = SentenceGetter(dfLivroTest)\n",
    "sentences = getterTest.sentences\n",
    "X_livro_test = [sent2features(s) for s in sentences]\n",
    "y_livro_test = [sent2labels(s) for s in sentences]"
   ]
  },
  {
   "cell_type": "code",
   "execution_count": 164,
   "metadata": {},
   "outputs": [],
   "source": [
    "dfSmartphone = pd.read_csv('data/domain_smartphone_IOB.csv', sep='\\t', quoting=3)\n",
    "dfSmartphoneTest = pd.read_csv('data/domain_smartphone_IOB_test.csv', sep='\\t', quoting=3)\n",
    "dfSmartphoneTrain = pd.read_csv('data/domain_smartphone_IOB_train.csv', sep='\\t', quoting=3)\n",
    "\n",
    "dfSmartphone = dfSmartphone.fillna(method='ffill')\n",
    "dfSmartphoneTest = dfSmartphoneTest.fillna(method='ffill')\n",
    "dfSmartphoneTrain = dfSmartphoneTrain.fillna(method='ffill')\n",
    "\n",
    "getter = SentenceGetter(dfSmartphone)\n",
    "sentences = getter.sentences\n",
    "X = [sent2features(s) for s in sentences]\n",
    "y = [sent2labels(s) for s in sentences]\n",
    "X_smartphone_train, X_smartphone_test, y_smartphone_train, y_smartphone_test = train_test_split(X, y, test_size=0.33, random_state=0)\n",
    "\n",
    "getterTrain = SentenceGetter(dfSmartphoneTrain)\n",
    "sentences = getterTrain.sentences\n",
    "X_smartphone_train = [sent2features(s) for s in sentences]\n",
    "y_smartphone_train = [sent2labels(s) for s in sentences]\n",
    "\n",
    "getterTest = SentenceGetter(dfSmartphoneTest)\n",
    "sentences = getterTest.sentences\n",
    "X_smartphone_test = [sent2features(s) for s in sentences]\n",
    "y_smartphone_test = [sent2labels(s) for s in sentences]"
   ]
  },
  {
   "cell_type": "code",
   "execution_count": 165,
   "metadata": {},
   "outputs": [],
   "source": [
    "dfHotel = pd.read_csv('data/domain_hotel_IOB.csv', sep='\\t', quoting=3)\n",
    "dfHotelTest = pd.read_csv('data/domain_hotel_IOB_test.csv', sep='\\t', quoting=3)\n",
    "dfHotelTrain = pd.read_csv('data/domain_hotel_IOB_train.csv', sep='\\t', quoting=3)\n",
    "\n",
    "dfHotel = dfHotel.fillna(method='ffill')\n",
    "dfHotelTest = dfHotelTest.fillna(method='ffill')\n",
    "dfHotelTrain = dfHotelTrain.fillna(method='ffill')\n",
    "\n",
    "getter = SentenceGetter(dfHotel)\n",
    "sentences = getter.sentences\n",
    "X = [sent2features(s) for s in sentences]\n",
    "y = [sent2labels(s) for s in sentences]\n",
    "X_hotel_train, X_hotel_test, y_hotel_train, y_hotel_test = train_test_split(X, y, test_size=0.33, random_state=0)\n",
    "\n",
    "getterTrain = SentenceGetter(dfHotelTrain)\n",
    "sentences = getterTrain.sentences\n",
    "X_hotel_train = [sent2features(s) for s in sentences]\n",
    "y_hotel_train = [sent2labels(s) for s in sentences]\n",
    "\n",
    "getterTest = SentenceGetter(dfHotelTest)\n",
    "sentences = getterTest.sentences\n",
    "X_hotel_test = [sent2features(s) for s in sentences]\n",
    "y_hotel_test = [sent2labels(s) for s in sentences]"
   ]
  },
  {
   "cell_type": "code",
   "execution_count": 166,
   "metadata": {},
   "outputs": [],
   "source": [
    "def crf_result2aspecList(y_pred, X_test):\n",
    "    aspectsList = []\n",
    "    aspect = []\n",
    "    for sent, sent_pred in zip(X_test, y_pred):\n",
    "        #print(len(sent),len(sent_pred))\n",
    "        for token, tag in zip(sent, sent_pred):\n",
    "            if tag != 'O':\n",
    "                #print(tag, token['word.lower()'])\n",
    "                if tag == 'B-asp' and aspect:\n",
    "                    aspectsList.append(\" \".join(aspect).lower())\n",
    "                    aspect = []\n",
    "                aspect.append(token['word.lower()'])\n",
    "\n",
    "    aspectsList = list(set(aspectsList))\n",
    "    aspectsList.sort()    \n",
    "    return aspectsList"
   ]
  },
  {
   "cell_type": "code",
   "execution_count": 169,
   "metadata": {},
   "outputs": [],
   "source": [
    "params = {\n",
    "    'c1': scipy.stats.expon(scale=0.5),\n",
    "    'c2': scipy.stats.expon(scale=0.05),\n",
    "}"
   ]
  },
  {
   "cell_type": "markdown",
   "metadata": {},
   "source": [
    "### Camera"
   ]
  },
  {
   "cell_type": "code",
   "execution_count": 172,
   "metadata": {},
   "outputs": [],
   "source": [
    "# carregando tipos\n",
    "domain='camera'\n",
    "tiposAll = pd.read_csv('../data/tipologia/categorias_iacs.csv', sep=',', quoting=0, keep_default_na=False)\n",
    "tipos = tiposAll.loc[tiposAll['domain'] == domain]"
   ]
  },
  {
   "cell_type": "code",
   "execution_count": 173,
   "metadata": {},
   "outputs": [
    {
     "name": "stderr",
     "output_type": "stream",
     "text": [
      "100%|████████████████████████████████████████████████████████████████████████████████████████████████████████████████████████████████████████████████████████████████████████| 1000/1000 [26:40<00:00,  1.60s/it]\n"
     ]
    },
    {
     "data": {
      "text/plain": [
       "({'totalAspects': 104,\n",
       "  'pred': 46,\n",
       "  'tp': 63,\n",
       "  'fp': 15,\n",
       "  'fn': 41,\n",
       "  'precisao': 0.8076923076923077,\n",
       "  'precisaoLaplace': 0.8,\n",
       "  'revocacao': 0.6057692307692307,\n",
       "  'medidaf': 0.6923076923076924,\n",
       "  'totalExplicitos': 91,\n",
       "  'explicitosOk': 28,\n",
       "  'pExplicitos': 0.3076923076923077,\n",
       "  'explicitsList': ['custo-benefício',\n",
       "   'redução de olhos vermelhos',\n",
       "   'funções',\n",
       "   'investimento',\n",
       "   'visor',\n",
       "   'máquina',\n",
       "   'recursos',\n",
       "   'zoom',\n",
       "   'camera',\n",
       "   'produto',\n",
       "   'manual de instruções',\n",
       "   'navegação nas fotos',\n",
       "   'preço',\n",
       "   'memória',\n",
       "   'cartão de memória',\n",
       "   'resolução',\n",
       "   'fotos',\n",
       "   'vídeos',\n",
       "   'manuseio',\n",
       "   'menu',\n",
       "   'qualidade de imagem',\n",
       "   'qualidade das fotos',\n",
       "   'câmera',\n",
       "   'flash',\n",
       "   'fotografia',\n",
       "   'memória interna',\n",
       "   'custo',\n",
       "   'bateria'],\n",
       "  'totalImplicitos': 13,\n",
       "  'implicitosOk': 3,\n",
       "  'pImplicitos': 0.23076923076923078,\n",
       "  'implicitsList': ['compacta', 'facilidade de uso', 'versátil'],\n",
       "  'tipos': {'Qualification': {'Adjective': 5},\n",
       "   'Event': {'Non-verbal form': 1}}},\n",
       " 0.0008643118597317797,\n",
       " 0.0029161874086375923)"
      ]
     },
     "execution_count": 173,
     "metadata": {},
     "output_type": "execute_result"
    }
   ],
   "source": [
    "c1 = 0.1\n",
    "c2 = 0.2\n",
    "resCamera = {'medidaf': 0}\n",
    "maxC1 = 0\n",
    "maxC1 = 0\n",
    "for x in tqdm(range(0,1000)):\n",
    "    crf = sklearn_crfsuite.CRF(\n",
    "        algorithm='lbfgs',\n",
    "        c1=c1,\n",
    "        c2=params['c2'].rvs(),\n",
    "        max_iterations=1000,\n",
    "        all_possible_transitions=True\n",
    "    )\n",
    "    crf.fit(X_camera_train, y_camera_train)\n",
    "    y_pred = crf.predict(X_camera_test)\n",
    "    aspectsCamera = crf_result2aspecList(y_pred, X_camera_test)\n",
    "    res = calculaMetricas(\n",
    "        aspectsCamera, \n",
    "        aspectsTest['camera'], \n",
    "        tipos,\n",
    "        lemma=False, \n",
    "        output=False)\n",
    "    if res['medidaf'] > resCamera['medidaf']:\n",
    "        resCamera = res\n",
    "        maxC1 = c1\n",
    "        maxC2 = c2\n",
    "    c1 = params['c1'].rvs()\n",
    "    c2 = params['c2'].rvs()\n",
    "resCamera, maxC1, maxC2"
   ]
  },
  {
   "cell_type": "code",
   "execution_count": 174,
   "metadata": {},
   "outputs": [],
   "source": [
    "xml = dicttoxml(resCamera, attr_type=False, custom_root='resultados')\n",
    "with open('../resultados/crf_'+domain+'.xml', 'w') as file:\n",
    "    dom = parseString(xml)\n",
    "    file.write(dom.toprettyxml())    "
   ]
  },
  {
   "cell_type": "markdown",
   "metadata": {},
   "source": [
    "### Livro"
   ]
  },
  {
   "cell_type": "code",
   "execution_count": 175,
   "metadata": {},
   "outputs": [],
   "source": [
    "# carregando tipos\n",
    "domain='livro'\n",
    "tiposAll = pd.read_csv('../data/tipologia/categorias_iacs.csv', sep=',', quoting=0, keep_default_na=False)\n",
    "tipos = tiposAll.loc[tiposAll['domain'] == domain]"
   ]
  },
  {
   "cell_type": "code",
   "execution_count": 176,
   "metadata": {},
   "outputs": [
    {
     "name": "stderr",
     "output_type": "stream",
     "text": [
      "100%|████████████████████████████████████████████████████████████████████████████████████████████████████████████████████████████████████████████████████████████████████████| 1000/1000 [31:57<00:00,  1.92s/it]\n"
     ]
    },
    {
     "data": {
      "text/plain": [
       "({'totalAspects': 87,\n",
       "  'pred': 20,\n",
       "  'tp': 51,\n",
       "  'fp': 4,\n",
       "  'fn': 36,\n",
       "  'precisao': 0.9272727272727272,\n",
       "  'precisaoLaplace': 0.9122807017543859,\n",
       "  'revocacao': 0.5862068965517241,\n",
       "  'medidaf': 0.7183098591549294,\n",
       "  'totalExplicitos': 82,\n",
       "  'explicitosOk': 16,\n",
       "  'pExplicitos': 0.1951219512195122,\n",
       "  'explicitsList': ['personagens',\n",
       "   'obra',\n",
       "   'leitura',\n",
       "   'início',\n",
       "   'trama',\n",
       "   'livro',\n",
       "   'personagem',\n",
       "   'história',\n",
       "   'crítica',\n",
       "   'final',\n",
       "   'historia',\n",
       "   'palavra',\n",
       "   'começo',\n",
       "   'escritor',\n",
       "   'estilo',\n",
       "   'romance'],\n",
       "  'totalImplicitos': 5,\n",
       "  'implicitosOk': 0,\n",
       "  'pImplicitos': 0.0,\n",
       "  'implicitsList': [],\n",
       "  'tipos': {}},\n",
       " 0.10468146861487013,\n",
       " 0.046184793341286)"
      ]
     },
     "execution_count": 176,
     "metadata": {},
     "output_type": "execute_result"
    }
   ],
   "source": [
    "c1 = 0.1\n",
    "c2 = 0.2\n",
    "resLivro = {'medidaf': 0}\n",
    "maxC1 = 0\n",
    "maxC1 = 0\n",
    "for x in tqdm(range(0,1000)):\n",
    "    crf = sklearn_crfsuite.CRF(\n",
    "        algorithm='lbfgs',\n",
    "        c1=c1,\n",
    "        c2=params['c2'].rvs(),\n",
    "        max_iterations=1000,\n",
    "        all_possible_transitions=True\n",
    "    )\n",
    "    crf.fit(X_livro_train, y_livro_train)\n",
    "    y_pred = crf.predict(X_livro_test)\n",
    "    aspectsLivro = crf_result2aspecList(y_pred, X_livro_test)\n",
    "    res = calculaMetricas(\n",
    "        aspectsLivro, \n",
    "        aspectsTest['livro'], \n",
    "        tipos,\n",
    "        lemma=False, \n",
    "        output=False)\n",
    "    if res['medidaf'] > resLivro['medidaf']:\n",
    "        resLivro = res\n",
    "        maxC1 = c1\n",
    "        maxC2 = c2\n",
    "    c1 = params['c1'].rvs()\n",
    "    c2 = params['c2'].rvs()\n",
    "resLivro, maxC1, maxC2"
   ]
  },
  {
   "cell_type": "code",
   "execution_count": 177,
   "metadata": {},
   "outputs": [],
   "source": [
    "xml = dicttoxml(resLivro, attr_type=False, custom_root='resultados')\n",
    "with open('../resultados/crf_'+domain+'.xml', 'w') as file:\n",
    "    dom = parseString(xml)\n",
    "    file.write(dom.toprettyxml())    "
   ]
  },
  {
   "cell_type": "markdown",
   "metadata": {},
   "source": [
    "### Smartphone"
   ]
  },
  {
   "cell_type": "code",
   "execution_count": 178,
   "metadata": {},
   "outputs": [],
   "source": [
    "# carregando tipos\n",
    "domain='smartphone'\n",
    "tiposAll = pd.read_csv('../data/tipologia/categorias_iacs.csv', sep=',', quoting=0, keep_default_na=False)\n",
    "tipos = tiposAll.loc[tiposAll['domain'] == domain]"
   ]
  },
  {
   "cell_type": "code",
   "execution_count": 179,
   "metadata": {},
   "outputs": [
    {
     "name": "stderr",
     "output_type": "stream",
     "text": [
      "100%|████████████████████████████████████████████████████████████████████████████████████████████████████████████████████████████████████████████████████████████████████████| 1000/1000 [47:45<00:00,  2.87s/it]\n"
     ]
    },
    {
     "data": {
      "text/plain": [
       "({'totalAspects': 158,\n",
       "  'pred': 52,\n",
       "  'tp': 72,\n",
       "  'fp': 15,\n",
       "  'fn': 86,\n",
       "  'precisao': 0.8275862068965517,\n",
       "  'precisaoLaplace': 0.8202247191011236,\n",
       "  'revocacao': 0.45569620253164556,\n",
       "  'medidaf': 0.5877551020408163,\n",
       "  'totalExplicitos': 134,\n",
       "  'explicitosOk': 31,\n",
       "  'pExplicitos': 0.23134328358208955,\n",
       "  'explicitsList': ['design',\n",
       "   'volume de áudio',\n",
       "   'praticidade',\n",
       "   'custo-benefício',\n",
       "   'marca',\n",
       "   'aparelho',\n",
       "   'camera digital',\n",
       "   'funções',\n",
       "   'audio',\n",
       "   'memoria interna',\n",
       "   'sinal',\n",
       "   'visor',\n",
       "   'e-mail',\n",
       "   'recursos',\n",
       "   'camera',\n",
       "   'produto',\n",
       "   'fabricante',\n",
       "   'nokia',\n",
       "   'cartão de mémoria',\n",
       "   'motorola',\n",
       "   'preço',\n",
       "   'celular',\n",
       "   'manuseio',\n",
       "   'touch',\n",
       "   'menu',\n",
       "   'tela',\n",
       "   'qualidade do audio',\n",
       "   'câmera',\n",
       "   'botões',\n",
       "   'memória interna',\n",
       "   'bateria'],\n",
       "  'totalImplicitos': 24,\n",
       "  'implicitosOk': 6,\n",
       "  'pImplicitos': 0.25,\n",
       "  'implicitsList': ['bonito',\n",
       "   'pequeno',\n",
       "   'moderno',\n",
       "   'fácil de mexer',\n",
       "   'prático',\n",
       "   'trava'],\n",
       "  'tipos': {'Qualification': {'Adjective': 4}, 'Event': {'Verb': 3}}},\n",
       " 0.12148261325893603,\n",
       " 0.026197284271923624)"
      ]
     },
     "execution_count": 179,
     "metadata": {},
     "output_type": "execute_result"
    }
   ],
   "source": [
    "c1 = 0.1\n",
    "c2 = 0.2\n",
    "resSmartphone = {'medidaf': 0}\n",
    "maxC1 = 0\n",
    "maxC1 = 0\n",
    "for x in tqdm(range(0,1000)):\n",
    "    crf = sklearn_crfsuite.CRF(\n",
    "        algorithm='lbfgs',\n",
    "        c1=c1,\n",
    "        c2=params['c2'].rvs(),\n",
    "        max_iterations=1000,\n",
    "        all_possible_transitions=True\n",
    "    )\n",
    "    crf.fit(X_smartphone_train, y_smartphone_train)\n",
    "    y_pred = crf.predict(X_smartphone_test)\n",
    "    aspectsSmartphone = crf_result2aspecList(y_pred, X_smartphone_test)\n",
    "    res = calculaMetricas(\n",
    "        aspectsSmartphone, \n",
    "        aspectsTest['smartphone'], \n",
    "        tipos,\n",
    "        lemma=False, \n",
    "        output=False)\n",
    "    if res['medidaf'] > resSmartphone['medidaf']:\n",
    "        resSmartphone = res\n",
    "        maxC1 = c1\n",
    "        maxC2 = c2\n",
    "    c1 = params['c1'].rvs()\n",
    "    c2 = params['c2'].rvs()\n",
    "resSmartphone, maxC1, maxC2"
   ]
  },
  {
   "cell_type": "code",
   "execution_count": 180,
   "metadata": {},
   "outputs": [],
   "source": [
    "xml = dicttoxml(resSmartphone, attr_type=False, custom_root='resultados')\n",
    "with open('../resultados/crf_'+domain+'.xml', 'w') as file:\n",
    "    dom = parseString(xml)\n",
    "    file.write(dom.toprettyxml())    "
   ]
  },
  {
   "cell_type": "markdown",
   "metadata": {},
   "source": [
    "### Hotel"
   ]
  },
  {
   "cell_type": "code",
   "execution_count": 181,
   "metadata": {},
   "outputs": [],
   "source": [
    "# carregando tipos\n",
    "domain='hotel'\n",
    "tiposAll = pd.read_csv('../data/tipologia/categorias_iacs.csv', sep=',', quoting=0, keep_default_na=False)\n",
    "tipos = tiposAll.loc[tiposAll['domain'] == domain]"
   ]
  },
  {
   "cell_type": "code",
   "execution_count": 182,
   "metadata": {},
   "outputs": [
    {
     "name": "stderr",
     "output_type": "stream",
     "text": [
      "100%|██████████████████████████████████████████████████████████████████████████████████████████████████████████████████████████████████████████████████████████████████████| 1000/1000 [1:32:12<00:00,  5.53s/it]\n"
     ]
    },
    {
     "data": {
      "text/plain": [
       "({'totalAspects': 518,\n",
       "  'pred': 99,\n",
       "  'tp': 369,\n",
       "  'fp': 23,\n",
       "  'fn': 149,\n",
       "  'precisao': 0.9413265306122449,\n",
       "  'precisaoLaplace': 0.9390862944162437,\n",
       "  'revocacao': 0.7123552123552124,\n",
       "  'medidaf': 0.810989010989011,\n",
       "  'totalExplicitos': 292,\n",
       "  'explicitosOk': 35,\n",
       "  'pExplicitos': 0.11986301369863013,\n",
       "  'explicitsList': ['localização',\n",
       "   'estabelecimento',\n",
       "   'apartamento',\n",
       "   'lavanderia',\n",
       "   'limpeza',\n",
       "   'piscina',\n",
       "   'elevador',\n",
       "   'lojas',\n",
       "   'estacionamento',\n",
       "   'shopping',\n",
       "   'pia',\n",
       "   'frigobar',\n",
       "   'carpete',\n",
       "   'portaria',\n",
       "   'funcionários',\n",
       "   'preço',\n",
       "   'tv',\n",
       "   'corredor',\n",
       "   'rua',\n",
       "   'recepção',\n",
       "   'aeroporto',\n",
       "   'padrão',\n",
       "   'cozinha',\n",
       "   'aparência',\n",
       "   'cidade',\n",
       "   'conforto',\n",
       "   'chuveiro',\n",
       "   'hotel',\n",
       "   'instalações',\n",
       "   'serviço',\n",
       "   'serviço de quarto',\n",
       "   'quarto',\n",
       "   'atendimento',\n",
       "   'rodoviária',\n",
       "   'telefone'],\n",
       "  'totalImplicitos': 226,\n",
       "  'implicitosOk': 53,\n",
       "  'pImplicitos': 0.2345132743362832,\n",
       "  'implicitsList': ['no centro',\n",
       "   'localização',\n",
       "   'perto',\n",
       "   'recepcionistas',\n",
       "   'cama',\n",
       "   'apartamento',\n",
       "   'sujos',\n",
       "   'barulho',\n",
       "   'limpeza',\n",
       "   'room service',\n",
       "   'piscina',\n",
       "   'estrutura',\n",
       "   'elevador',\n",
       "   'ar condicionado',\n",
       "   'estacionamento',\n",
       "   'coberto',\n",
       "   'comida',\n",
       "   'localizado',\n",
       "   'transfer',\n",
       "   'cheiro de mofo',\n",
       "   'box do banheiro',\n",
       "   'carpete',\n",
       "   'localizado no centro',\n",
       "   'valor',\n",
       "   'proximo',\n",
       "   'prédio',\n",
       "   'custo',\n",
       "   'limpos',\n",
       "   'wi-fi',\n",
       "   'encontra-se estrategicamente dentro do centro financeiro',\n",
       "   'limpo',\n",
       "   'cozinha',\n",
       "   'atendentes',\n",
       "   'proximidade',\n",
       "   'chuveiro',\n",
       "   'localizaçao',\n",
       "   'sujo',\n",
       "   'banheiros',\n",
       "   'cheirando a mofo',\n",
       "   'limpas',\n",
       "   'recepcionista',\n",
       "   'box',\n",
       "   'apartamentos',\n",
       "   'próximo',\n",
       "   'quarto',\n",
       "   'atendimento',\n",
       "   'café',\n",
       "   'barulhento',\n",
       "   'chiqueiro',\n",
       "   'aquecedor',\n",
       "   'banheiro',\n",
       "   'caro',\n",
       "   'telefone'],\n",
       "  'tipos': {'Contextual': {'Location': 5, 'Related': 13},\n",
       "   'Feature': {'Equivalence': 29, 'Is-a': 9, 'Part-of': 54},\n",
       "   'Qualification': {'Adjective': 35, 'Equivalence': 1, 'Nominal form': 1},\n",
       "   'Event': {'Non-verbal form': 2}}},\n",
       " 0.0001568787135389122,\n",
       " 0.006231311395170068)"
      ]
     },
     "execution_count": 182,
     "metadata": {},
     "output_type": "execute_result"
    }
   ],
   "source": [
    "c1 = 0.1\n",
    "c2 = 0.2\n",
    "resHotel = {'medidaf': 0}\n",
    "maxC1 = 0\n",
    "maxC1 = 0\n",
    "for x in tqdm(range(0,1000)):\n",
    "    crf = sklearn_crfsuite.CRF(\n",
    "        algorithm='lbfgs',\n",
    "        c1=c1,\n",
    "        c2=params['c2'].rvs(),\n",
    "        max_iterations=1000,\n",
    "        all_possible_transitions=True\n",
    "    )\n",
    "    crf.fit(X_hotel_train, y_hotel_train)\n",
    "    y_pred = crf.predict(X_hotel_test)\n",
    "    aspectsHotel = crf_result2aspecList(y_pred, X_hotel_test)\n",
    "    res = calculaMetricas(\n",
    "        aspectsHotel, \n",
    "        aspectsTest['hotel'], \n",
    "        tipos,\n",
    "        lemma=False, \n",
    "        output=False)\n",
    "    if res['medidaf'] > resHotel['medidaf']:\n",
    "        resHotel = res\n",
    "        maxC1 = c1\n",
    "        maxC2 = c2\n",
    "    c1 = params['c1'].rvs()\n",
    "    c2 = params['c2'].rvs()\n",
    "resHotel, maxC1, maxC2"
   ]
  },
  {
   "cell_type": "code",
   "execution_count": 183,
   "metadata": {},
   "outputs": [],
   "source": [
    "xml = dicttoxml(resHotel, attr_type=False, custom_root='resultados')\n",
    "with open('../resultados/crf_'+domain+'.xml', 'w') as file:\n",
    "    dom = parseString(xml)\n",
    "    file.write(dom.toprettyxml())    "
   ]
  },
  {
   "cell_type": "markdown",
   "metadata": {},
   "source": [
    "### Resultados"
   ]
  },
  {
   "cell_type": "code",
   "execution_count": 184,
   "metadata": {},
   "outputs": [
    {
     "name": "stdout",
     "output_type": "stream",
     "text": [
      "Câmera     & CRF & 0,81 & 0,61 & 0,69 & 30,77 & 23,08 \\\\\n",
      "Livro      & CRF & 0,93 & 0,59 & 0,72 & 19,51 & 0,00 \\\\\n",
      "Smartphone & CRF & 0,83 & 0,46 & 0,59 & 23,13 & 25,00 \\\\\n",
      "Hotel      & CRF & 0,94 & 0,71 & 0,81 & 11,99 & 23,45 \\\\\n"
     ]
    }
   ],
   "source": [
    "resultados = []\n",
    "resultados.append(resCamera)\n",
    "resultados.append(resLivro)\n",
    "resultados.append(resSmartphone)\n",
    "resultados.append(resHotel)\n",
    "\n",
    "print(f'Câmera     & CRF & {resultados[0][\"precisao\"]:.2f} & {resultados[0][\"revocacao\"]:.2f} & {resultados[0][\"medidaf\"]:.2f} & {resultados[0][\"pExplicitos\"]*100:.2f} & {resultados[0][\"pImplicitos\"]*100:.2f} \\\\\\\\'.replace('.',','))\n",
    "print(f'Livro      & CRF & {resultados[1][\"precisao\"]:.2f} & {resultados[1][\"revocacao\"]:.2f} & {resultados[1][\"medidaf\"]:.2f} & {resultados[1][\"pExplicitos\"]*100:.2f} & {resultados[1][\"pImplicitos\"]*100:.2f} \\\\\\\\'.replace('.',','))\n",
    "print(f'Smartphone & CRF & {resultados[2][\"precisao\"]:.2f} & {resultados[2][\"revocacao\"]:.2f} & {resultados[2][\"medidaf\"]:.2f} & {resultados[2][\"pExplicitos\"]*100:.2f} & {resultados[2][\"pImplicitos\"]*100:.2f} \\\\\\\\'.replace('.',','))\n",
    "print(f'Hotel      & CRF & {resultados[3][\"precisao\"]:.2f} & {resultados[3][\"revocacao\"]:.2f} & {resultados[3][\"medidaf\"]:.2f} & {resultados[3][\"pExplicitos\"]*100:.2f} & {resultados[3][\"pImplicitos\"]*100:.2f} \\\\\\\\'.replace('.',','))"
   ]
  }
 ],
 "metadata": {
  "kernelspec": {
   "display_name": "doutorado",
   "language": "python",
   "name": "doutorado"
  },
  "language_info": {
   "codemirror_mode": {
    "name": "ipython",
    "version": 3
   },
   "file_extension": ".py",
   "mimetype": "text/x-python",
   "name": "python",
   "nbconvert_exporter": "python",
   "pygments_lexer": "ipython3",
   "version": "3.9.2"
  }
 },
 "nbformat": 4,
 "nbformat_minor": 4
}
